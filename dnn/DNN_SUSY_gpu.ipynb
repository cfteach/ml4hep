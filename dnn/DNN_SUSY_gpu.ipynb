{
  "cells": [
    {
      "cell_type": "markdown",
      "id": "1e0d735f",
      "metadata": {
        "id": "1e0d735f"
      },
      "source": [
        "# Using Deep Learning to Study SUSY with PyTorch"
      ]
    },
    {
      "cell_type": "markdown",
      "id": "2e082814",
      "metadata": {
        "id": "2e082814"
      },
      "source": [
        "## Learning Goals\n",
        "\n",
        "The goal of this notebook is to introduce the powerful PyTorch framework for building neural networks and use it to analyze the SUSY dataset. After this notebook, the reader should understand the mechanics of PyTorch and how to construct DNNs using this package. In addition, the reader is encouraged to explore the GPU backend available in Pytorch on this dataset.\n"
      ]
    },
    {
      "cell_type": "markdown",
      "id": "a2991902",
      "metadata": {
        "id": "a2991902"
      },
      "source": [
        "## Overview\n",
        "\n",
        "### Description of Data \n",
        "\n",
        "We use Deep Neural Networks to classify the supersymmetry dataset, first introduced by [Baldi et al. in Nature Communication (2015)](https://www.nature.com/articles/ncomms5308). The SUSY data set consists of 5,000,000 Monte-Carlo samples of supersymmetric and non-supersymmetric collisions with  18 features. The signal process is the production of electrically-charged supersymmetric particles which decay to  W bosons and an electrically-neutral supersymmetric particle that is invisible to the detector.\n",
        "\n",
        "**The first  8 features are \"raw\" kinematic features that can be directly measured from collisions. The final  10 features are \"hand constructed\" features** that have been chosen using physical knowledge and are known to be important in distinguishing supersymmetric and non-supersymmetric collision events. More specifically, they are given by the column names below.\n",
        "\n",
        "\n",
        "**low_features=**\\['lepton 1 pT', 'lepton 1 eta', 'lepton 1 phi', 'lepton 2 pT', 'lepton 2 eta', 'lepton 2 phi', \n",
        " 'missing energy magnitude', 'missing energy phi'\\]\n",
        "\n",
        "**high_features=**\\['MET_rel', 'axial MET', 'M_R', 'M_TR_2', 'R', 'MT2','S_R', 'M_Delta_R', 'dPhi_r_b', 'cos(theta_r1)'\\]\n",
        "\n",
        "\n",
        "\n",
        "\n",
        "From https://archive.ics.uci.edu/ml/datasets/SUSY:  the following image displays the signal (a) vs the background (b): the signal involves an hypotethical supersymmetric particle $\\chi^{\\pm}$ and $\\chi^{0}$ (undetected) along with charged leptons $l^{\\pm}$ and neutrinos $\\nu$. \n",
        "The background process involves $W$ bosons decaying in leptons $l^{\\pm}$ and neutrinos $\\nu$. In both cases, the resulting observed particles are two charged leptons, since neutrinos and $\\chi^{0}$ escape undetected.\n",
        "\n",
        "![signal (a) VS background (b)](SUSY.png)\n",
        "\n",
        "The classification task requires distinguishing between these two processes and the missing transverse momentum. Simulated events are generated with MADGRAPH event generator assuming 8 TeV collisions of protons at LHC, with showering and hadronization performed by PYTHIA and detector response simulated by DELPHES. \n",
        "Notice the masses are set to $m_{\\chi^{\\pm}}=$ 200 GeV and $m_{\\chi^{0}}$ = 100 GeV. \n",
        "We focus on fully leptonic decay mode of $W$ bosons, both into $l\\nu$ (final state $l\\nu l\\nu$).\n",
        "\n",
        "We consider events which satisfy the requirements:\n",
        "- exactly two electrons or muons each with $p_{\\perp}>$ 20 GeV and $|\\eta|<$ 2.5\n",
        "- at least 20 GeV of missing transverse mass \n",
        "\n",
        "The basic detector response is used to measure the momentum of each visible particle, basically leptoons, though there may be particle jets induced by radiative processes. \n",
        "A critical quantity if the missing transverse momentum $E_{T}$. \n",
        "\n",
        "High-level features to select signal vs background (cannot have invariant mass here due to undetected particles):\n",
        "\n",
        "- **axial $E_{T}$**: missing transverse energy along the vector defined by the charged leptons \n",
        "\n",
        "- **transverse mass M_{T2}**: estimating the mass of particles produced in pairs and decaying semi-invisibly [17,18]\n",
        "\n",
        "- **$E_{T}^{Rel}$**: $E_{T}$ if $\\Delta \\phi \\leq \\pi /2$,  $E_{T} \\sin{(\\Delta\\phi)}$ if $\\Delta \\phi < \\pi /2$, where $\\Delta\\phi$ is the minimum angle between $E_{T}$ and a jet or lepton \n",
        "\n",
        "- **razor quantities: $\\beta, R$ and $M_{R}$** [19]\n",
        "\n",
        "- **super-razor quantities $\\beta_{R+1}, \\cos{(\\theta_{R+1}), \\Delta\\Phi_{R}^{\\beta}}, M_{\\Delta}^{R}, M_{R}^{T}$ and $\\sqrt{\\hat{s}_{R}}$** [20]\n",
        "\n"
      ]
    },
    {
      "cell_type": "markdown",
      "id": "5046e906",
      "metadata": {
        "id": "5046e906"
      },
      "source": [
        "## Structure and Procedure\n",
        "\n",
        "Constructing a Deep Neural Network to solve ML problems is a multiple-stage process. Quite generally, one can identify the key steps as follows:\n",
        "</br>\n",
        "\n",
        "- step 1: Load and process the data\n",
        "\n",
        "- step 2: Define the model and its architecture\n",
        "\n",
        "- step 3: Choose the optimizer and the cost function\n",
        "\n",
        "- step 4: Train the model\n",
        "\n",
        "- step 5: Evaluate the model performance on the unseen test data\n",
        "\n",
        "- step 6: Modify the hyperparameters to optimize performance for the specific data set\n",
        "\n",
        "</br>\n",
        "Below, we sometimes combine some of these steps together for convenience.\n",
        "Notice that we take a rather different approach, compared to the simpler MNIST Keras notebook. We first define a set of classes and functions and run the actual computation only in the very end."
      ]
    },
    {
      "cell_type": "markdown",
      "id": "f7611972",
      "metadata": {
        "id": "f7611972"
      },
      "source": [
        "## Load and Process the SUSY Data "
      ]
    },
    {
      "cell_type": "markdown",
      "id": "2ec9fc3d",
      "metadata": {
        "id": "2ec9fc3d"
      },
      "source": [
        "The supersymmetry dataset can be downloaded from the UCI Machine Learning repository on https://archive.ics.uci.edu/ml/machine-learning-databases/00279/SUSY.csv.gz. The dataset is quite large. Download the dataset and unzip it in a directory.\n",
        "\n",
        "\n",
        "Loading data in Pytroch is done by creating a user-defined class, which we name **SUSY_Dataset**, and is a child of the **torch.utils.data.Dataset** class. This ensures that all necessary attributes required for the processing of the data during the training and test stages are easily inherited. The \\_\\_init\\_\\_ method of our custom data class should contain the usual code for loading the data, which is problem-specific, and has been discussed for the SUSY data set in previous notebooks. \n",
        "\n",
        "More importantly, the user-defined **data class must override** the **\\_\\_len\\_\\_** and **\\_\\_getitem\\_\\_** methods of the **parent DataSet class**. The former returns the size of the data set, while the latter allows the user to access a particular data point from the set by specifying its index.\n",
        "\n",
        "The **\\_\\_init\\_\\_()** method bulk-converts all NumPy array data to PyTorch tensors. An alternative is to leave the data in memory as NumPy arrays and then convert to batches of data to tensors in the **\\_\\_getitem\\_\\_** method.\n",
        "The `__getitem___` method is crucial to iterate over the dataset. This is defined in the class SUSY_Dataset, which is eventually inherited by the class `torch.utils.data.DataLoader` that defines `train_loader` and `test_loader`. \n",
        "\n",
        "Eventually this allows to loop over the training (testing) data:\n",
        "`for batch_idx, (data, label) in enumerate(train_loader):`\n",
        "\n"
      ]
    },
    {
      "cell_type": "code",
      "execution_count": null,
      "id": "bc2c1a05",
      "metadata": {
        "colab": {
          "base_uri": "https://localhost:8080/"
        },
        "id": "bc2c1a05",
        "outputId": "e9b1b69c-73b5-40b5-dad4-605c607d4308"
      },
      "outputs": [
        {
          "output_type": "stream",
          "name": "stdout",
          "text": [
            "3.7.12\n",
            "Tesla K80 True , cuda:  11.1\n"
          ]
        }
      ],
      "source": [
        "from __future__ import print_function, division\n",
        "import os,sys\n",
        "import numpy as np\n",
        "import torch # pytorch package, allows using GPUs\n",
        "\n",
        "from platform import python_version\n",
        "\n",
        "print(python_version())\n",
        "\n",
        "# fix seed\n",
        "seed=17\n",
        "np.random.seed(seed)\n",
        "torch.manual_seed(seed)\n",
        "\n",
        "torch.cuda.current_device()\n",
        "\n",
        "torch.cuda.device(0)\n",
        "\n",
        "torch.cuda.device_count()\n",
        "\n",
        "print(torch.cuda.get_device_name(0), torch.cuda.is_available(), \", cuda: \", torch.version.cuda)"
      ]
    },
    {
      "cell_type": "code",
      "execution_count": null,
      "id": "f6697c9b",
      "metadata": {
        "id": "f6697c9b"
      },
      "outputs": [],
      "source": [
        "from torchvision import datasets # load data\n",
        "\n",
        "class SUSY_Dataset(torch.utils.data.Dataset):  #https://pytorch.org/docs/stable/data.html\n",
        "    \"\"\"SUSY pytorch dataset.\"\"\"\n",
        "\n",
        "    def __init__(self, data_file, root_dir, dataset_size, train=True, transform=None, high_level_feats=None):\n",
        "        \"\"\"\n",
        "        Args:\n",
        "            csv_file (string): Path to the csv file with annotations.\n",
        "            root_dir (string): Directory with all the images.\n",
        "            train (bool, optional): If set to `True` load training data.\n",
        "            transform (callable, optional): Optional transform to be applied on a sample.\n",
        "            high_level_festures (bool, optional): If set to `True`, working with high-level features only. \n",
        "                                        If set to `False`, working with low-level features only.\n",
        "                                        Default is `None`: working with all features\n",
        "        \"\"\"\n",
        "\n",
        "        import pandas as pd\n",
        "\n",
        "        features=['SUSY','lepton 1 pT', 'lepton 1 eta', 'lepton 1 phi', 'lepton 2 pT', 'lepton 2 eta', 'lepton 2 phi', \n",
        "                'missing energy magnitude', 'missing energy phi', 'MET_rel', 'axial MET', 'M_R', 'M_TR_2', 'R', 'MT2', \n",
        "                'S_R', 'M_Delta_R', 'dPhi_r_b', 'cos(theta_r1)']\n",
        "\n",
        "        low_features=['lepton 1 pT', 'lepton 1 eta', 'lepton 1 phi', 'lepton 2 pT', 'lepton 2 eta', 'lepton 2 phi', \n",
        "                'missing energy magnitude', 'missing energy phi']\n",
        "\n",
        "        high_features=['MET_rel', 'axial MET', 'M_R', 'M_TR_2', 'R', 'MT2','S_R', 'M_Delta_R', 'dPhi_r_b', 'cos(theta_r1)']\n",
        "\n",
        "\n",
        "        #Number of datapoints to work with\n",
        "        df = pd.read_csv(root_dir+data_file, header=None,nrows=dataset_size,engine='python')\n",
        "        df.columns=features\n",
        "        Y = df['SUSY']\n",
        "        X = df[[col for col in df.columns if col!=\"SUSY\"]]\n",
        "\n",
        "        # set training and test data size\n",
        "        train_size=int(0.8*dataset_size)\n",
        "        self.train=train\n",
        "\n",
        "        if self.train:\n",
        "            X=X[:train_size]\n",
        "            Y=Y[:train_size]\n",
        "            print(\"Training on {} examples\".format(train_size))\n",
        "        else:\n",
        "            X=X[train_size:]\n",
        "            Y=Y[train_size:]\n",
        "            print(\"Testing on {} examples\".format(dataset_size-train_size))\n",
        "\n",
        "\n",
        "        self.root_dir = root_dir\n",
        "        self.transform = transform\n",
        "\n",
        "        # make datasets using only the 8 low-level features and 10 high-level features\n",
        "        if high_level_feats is None:\n",
        "            self.data=(X.values.astype(np.float32),Y.values.astype(int))\n",
        "            print(\"Using both high and low level features\")\n",
        "        elif high_level_feats is True:\n",
        "            self.data=(X[high_features].values.astype(np.float32),Y.values.astype(int))\n",
        "            print(\"Using both high-level features only.\")\n",
        "        elif high_level_feats is False:\n",
        "            self.data=(X[low_features].values.astype(np.float32),Y.values.astype(int))\n",
        "            print(\"Using both low-level features only.\")\n",
        "\n",
        "\n",
        "    # override __len__ and __getitem__ of the Dataset() class\n",
        "\n",
        "    def __len__(self):\n",
        "        return len(self.data[1])\n",
        "\n",
        "    def __getitem__(self, idx):\n",
        "\n",
        "        sample=(self.data[0][idx,...],self.data[1][idx])\n",
        "\n",
        "        if self.transform:\n",
        "            sample=self.transform(sample)\n",
        "\n",
        "        return sample"
      ]
    },
    {
      "cell_type": "markdown",
      "id": "0f6a2705",
      "metadata": {
        "id": "0f6a2705"
      },
      "source": [
        "Last, we define a helper function load_data() that accepts as a required argument the set of parameters args, and returns two generators: test_loader and train_loader which readily return mini-batches."
      ]
    },
    {
      "cell_type": "code",
      "execution_count": null,
      "id": "0e76e10f",
      "metadata": {
        "id": "0e76e10f"
      },
      "outputs": [],
      "source": [
        "\n",
        "def load_data(args):\n",
        "\n",
        "    from google.colab import drive \n",
        "    drive.mount('/content/gdrive')\n",
        "\n",
        "    #import pandas as pd\n",
        "    #df_test=pd.read_csv('gdrive/My Drive/ML4HEP_Course/data/datashrunk_SUSY_2.csv')\n",
        "    \n",
        "    data_file='SUSY.csv' #'datashrunk_SUSY_2.csv' #'SUSY.csv'\n",
        "    #root_dir=os.path.expanduser('~')+'/Desktop/ML4HEP/data/'\n",
        "    root_dir='gdrive/My Drive/ML4HEP_Course/data/'\n",
        "\n",
        "    kwargs = {} # CUDA arguments, if enabled\n",
        "    # load and normalise train and test data\n",
        "    train_loader = torch.utils.data.DataLoader(\n",
        "        SUSY_Dataset(data_file,root_dir,args.dataset_size,train=True,high_level_feats=args.high_level_feats),\n",
        "        batch_size=args.batch_size, shuffle=True, **kwargs)\n",
        "\n",
        "    test_loader = torch.utils.data.DataLoader(\n",
        "        SUSY_Dataset(data_file,root_dir,args.dataset_size,train=False,high_level_feats=args.high_level_feats),\n",
        "        batch_size=args.test_batch_size, shuffle=True, **kwargs)\n",
        "\n",
        "    return train_loader, test_loader\n"
      ]
    },
    {
      "cell_type": "markdown",
      "id": "e0e8390c",
      "metadata": {
        "id": "e0e8390c"
      },
      "source": [
        "## Step 2: Define the NN Architecture \n",
        "\n",
        "To construct neural networks with Pytorch, we make another class called model as a child of `Pytorch's nn.Module`  class. The model class initializes the types of layers needed for the deep neural net in its `__init__` method, while the DNN is assembled in a function method called `forward`, which accepts an `autograd.Variable` object and returns the output layer. Using this convention Pytorch will automatically recognize the structure of the DNN, and the `autograd` module will pull the gradients forward and backward using backprop.\n",
        "\n",
        "Our code below is constructed in such a way that one can choose whether to use the high-level and low-level features separately and altogether. This choice determines the size of the fully-connected input layer `fc1`. Therefore the `__init__` method accepts the optional argument `high_level_feats`."
      ]
    },
    {
      "cell_type": "code",
      "execution_count": null,
      "id": "e66c6703",
      "metadata": {
        "id": "e66c6703"
      },
      "outputs": [],
      "source": [
        "import torch.nn as nn # construct NN\n",
        "\n",
        "class model(nn.Module):\n",
        "    def __init__(self,high_level_feats=None):\n",
        "        # inherit attributes and methods of nn.Module\n",
        "        super(model, self).__init__()\n",
        "        #super().__init__()  ##py3 actually only super()\n",
        "\n",
        "        # an affine operation: y = Wx + b\n",
        "        if high_level_feats is None:\n",
        "            self.fc1 = nn.Linear(18, 200) # all features\n",
        "        elif high_level_feats:\n",
        "            self.fc1 = nn.Linear(10, 200) # low-level only\n",
        "        else:\n",
        "            self.fc1 = nn.Linear(8, 200) # high-level only\n",
        "\n",
        "        # Batch Normalization is a regularization scheme that has been quickly adopted by the neural network \n",
        "        # community since its introduction in 2015 (Ioffe 2015)\n",
        "\n",
        "        self.batchnorm1=nn.BatchNorm1d(200, eps=1e-05, momentum=0.1)\n",
        "        self.batchnorm2=nn.BatchNorm1d(100, eps=1e-05, momentum=0.1)\n",
        "\n",
        "        self.fc2 = nn.Linear(200, 100) # see forward function for dimensions\n",
        "        self.fc3 = nn.Linear(100, 2)\n",
        "        \n",
        "        # NOTES\n",
        "        # All we're doing is just defining values for some layers, we're calling them fc1, fc2...etc, \n",
        "        # but you could call them whatever you wanted. The fc just stands for fully connected.\n",
        "        \n",
        "        # Each of our nn.Linear layers expects the first parameter to be the input size, \n",
        "        # and the 2nd parameter is the output size.\n",
        "        # So our first layer takes 18 values if we are using all the 18 features.\n",
        "\n",
        "    def forward(self, x):\n",
        "        '''Defines the feed-forward function for the NN.\n",
        "\n",
        "        A backward function is automatically defined using `torch.autograd`\n",
        "\n",
        "        Parameters\n",
        "        ----------\n",
        "        x : autograd.Tensor\n",
        "            input data\n",
        "\n",
        "        Returns\n",
        "        -------\n",
        "        autograd.Tensor\n",
        "            output layer of NN\n",
        "\n",
        "        '''\n",
        "\n",
        "        # apply rectified linear unit\n",
        "        x = F.relu(self.fc1(x))\n",
        "        # apply dropout\n",
        "        #x=self.batchnorm1(x)\n",
        "        x = F.dropout(x, training=self.training)\n",
        "\n",
        "\n",
        "        # apply rectified linear unit\n",
        "        x = F.relu(self.fc2(x))\n",
        "        # apply dropout\n",
        "        #x=self.batchnorm2(x)\n",
        "        x = F.dropout(x, training=self.training)\n",
        "\n",
        "\n",
        "        # apply affine operation fc2\n",
        "        x = self.fc3(x)\n",
        "        # soft-max layer\n",
        "        x = F.log_softmax(x,dim=1)\n",
        "\n",
        "        return x"
      ]
    },
    {
      "cell_type": "markdown",
      "id": "13ddcf39",
      "metadata": {
        "id": "13ddcf39"
      },
      "source": [
        "### Steps 3+4+5: Choose the Optimizer and the Cost Function. Train and Evaluate the Model\n",
        "\n",
        "Next, we define the function `evaluate_model`. \n",
        "\n",
        "- The first argument, `args`, contains all hyperparameters needed for the DNN (see below). \n",
        "- The second and third arguments are the `train_loader` and the `test_loader` objects, returned by the function `load_data()` we defined in Step 1 above. The evaluate_model function returns the final `test_loss` and `test_accuracy` of the model.\n",
        "\n",
        "First, we initialize a model and call the object `DNN`. In order to define the loss function and the optimizer, we use modules `torch.nn.functional` (imported here as F) and `torch.optim`. As a loss function we choose the **negative log-likelihood**, and stored it under the variable criterion. \n",
        "As usual, we can choose any from a variety of different SGD-based optimizers, but we focus on the traditional SGD.\n",
        "\n",
        "Next, we define two functions: `train()` and `test()`. They are called at the end of `evaluate_model` where we loop over the training epochs to train and test our model.\n",
        "\n",
        "The `train` function accepts an integer called epoch, which is only used to print the training data. We first set the DNN in a train mode using the `train()` method inherited from `nn.Module`. Then we loop over the mini-batches in `train_loader`. We cast the data as pytorch `Variable`, re-set the `optimizer`, perform the forward step by calling the DNN model on the data and computing the loss. The backprop algorithm is then easily done using the `backward()` method of the loss function criterion. We use `optimizer.step` to update the weights of the DNN. Last print the performance for every minibatch. `train` returns the loss on the data.\n",
        "\n",
        "The `test` function is similar to train but its purpose is to test the performance of a trained model. Once we set the DNN model in `eval()` mode, the following steps are similar to those in train. We then compute the `test_loss` and the number of correct predictions, print the results and return them.\n",
        "\n",
        "Notice the `DataLoader` class is designed so that it can be iterated using the enumerate() function, which returns a tuple with the current batch zero-based index value, and the actual batch of data. "
      ]
    },
    {
      "cell_type": "code",
      "execution_count": null,
      "id": "3fe88a00",
      "metadata": {
        "id": "3fe88a00"
      },
      "outputs": [],
      "source": [
        "import torch.nn.functional as F # implements forward and backward definitions of an autograd operation\n",
        "import torch.optim as optim # different update rules such as SGD, Nesterov-SGD, Adam, RMSProp, etc\n",
        "\n",
        "from tqdm import tqdm \n",
        "from tqdm import trange \n",
        "from time import sleep\n",
        "\n",
        "\n",
        "\n",
        "def evaluate_model(args,train_loader,test_loader):\n",
        "    \n",
        "    \n",
        "    \n",
        "    device = torch.device(\"cuda\" if args.no_cuda else \"cpu\")\n",
        "\n",
        "\n",
        "    # create model\n",
        "    DNN = model(high_level_feats=args.high_level_feats).to(device) \n",
        "\n",
        "    # negative log-likelihood (nll) loss for training: takes class labels NOT one-hot vectors!\n",
        "    criterion = F.nll_loss\n",
        "    # define SGD optimizer\n",
        "    optimizer = optim.SGD(DNN.parameters(), lr=args.lr, momentum=args.momentum)\n",
        "    #optimizer = optim.Adam(DNN.parameters(), lr=0.001, betas=(0.9, 0.999))\n",
        "\n",
        "    \n",
        "    \n",
        "    \n",
        "    ################################################\n",
        "\n",
        "    def train(epoch, device):\n",
        "        '''Trains a NN using minibatches.\n",
        "\n",
        "        Parameters\n",
        "        ----------\n",
        "        epoch : int\n",
        "            Training epoch number.\n",
        "\n",
        "        '''\n",
        "\n",
        "        # set model to training mode (affects Dropout and BatchNorm)\n",
        "        DNN.train()\n",
        "        \n",
        "       \n",
        "        \n",
        "        # to handle stream \n",
        "        with tqdm(train_loader, unit=\"batch\") as tepoch:\n",
        "        \n",
        "            # loop over training data\n",
        "            #for batch_idx, (data, label) in enumerate(train_loader):\n",
        "            for batch_idx, (data, label) in enumerate(tepoch):\n",
        "                \n",
        "                tepoch.set_description(f\"Epoch {epoch}\")\n",
        "                \n",
        "                data, label = data.to(device), label.to(device)\n",
        "                \n",
        "                # zero gradient buffers\n",
        "                optimizer.zero_grad()\n",
        "                # compute output of final layer: forward step\n",
        "                output = DNN(data)\n",
        "                # compute loss\n",
        "                loss = criterion(output, label)\n",
        "                # run backprop: backward step\n",
        "                loss.backward()\n",
        "                # update weigths of NN\n",
        "                optimizer.step()\n",
        "\n",
        "                # print loss at current epoch\n",
        "                if batch_idx % args.log_interval == 0:\n",
        "                    print('Train Epoch: {} [{}/{} ({:.0f}%)]\\tLoss: {:.6f}'.format(\n",
        "                        epoch, batch_idx * len(data), len(train_loader.dataset),\n",
        "                        100. * batch_idx / len(train_loader), loss.item() ))\n",
        "\n",
        "\n",
        "                # difference between len(train_loader.dataset) and len(train_loader)\n",
        "\n",
        "                tepoch.set_postfix(loss=loss.item())\n",
        "                sleep(0.1)\n",
        "                \n",
        "            return loss.item()    \n",
        "    \n",
        "    \n",
        "        \n",
        "        \n",
        "    ################################################\n",
        "\n",
        "    def test(device):\n",
        "        '''Tests NN performance.\n",
        "\n",
        "        '''\n",
        "\n",
        "        # evaluate model\n",
        "        DNN.eval()\n",
        "\n",
        "        test_loss = 0 # loss function on test data\n",
        "        correct = 0 # number of correct predictions\n",
        "        # loop over test data\n",
        "        for data, label in test_loader:\n",
        "            # compute model prediction softmax probability\n",
        "            \n",
        "            data, label = data.to(device), label.to(device)\n",
        "            \n",
        "            output = DNN(data)\n",
        "            # compute test loss\n",
        "            test_loss += criterion(output, label, size_average=False).item() # sum up batch loss\n",
        "            # find most likely prediction\n",
        "            pred = output.data.max(1, keepdim=True)[1] # get the index of the max log-probability\n",
        "            # update number of correct predictions\n",
        "            correct += pred.eq(label.data.view_as(pred)).cpu().sum().item()\n",
        "\n",
        "        # print test loss\n",
        "        test_loss /= len(test_loader.dataset)\n",
        "        \n",
        "        print('\\nTest set: Average loss: {:.4f}, Accuracy: {}/{} ({:.3f}%)\\n'.format(\n",
        "            test_loss, correct, len(test_loader.dataset),\n",
        "            100. * correct / len(test_loader.dataset)))\n",
        "        \n",
        "\n",
        "        return test_loss, correct / len(test_loader.dataset)\n",
        "    \n",
        "    ################################################\n",
        "\n",
        "\n",
        "    train_loss=np.zeros((args.epochs,))\n",
        "    test_loss=np.zeros_like(train_loss)\n",
        "    test_accuracy=np.zeros_like(train_loss)\n",
        "\n",
        "    epochs=range(1, args.epochs + 1)\n",
        "    for epoch in epochs:\n",
        "\n",
        "        train_loss[epoch-1] = train(epoch, device)\n",
        "        test_loss[epoch-1], test_accuracy[epoch-1] = test(device)\n",
        "\n",
        "\n",
        "\n",
        "    return test_loss[-1], test_accuracy[-1]    "
      ]
    },
    {
      "cell_type": "markdown",
      "id": "bdd212ad",
      "metadata": {
        "id": "bdd212ad"
      },
      "source": [
        "### Step 6: Modify the Hyperparameters to Optimize Performance of the Model¶\n",
        "\n",
        "To study the performance of the model for a variety of different `data_set_sizes` and `learning_rates`, we do a grid search.\n",
        "Let us define a function grid_search, which accepts the args variable containing all hyper-parameters needed for the problem. After choosing logarithmically-spaced `data_set_sizes` and `learning_rates`, we first loop over all `data_set_sizes`, update the args variable, and call the `load_data` function. We then loop once again over all `learning_rates`, update args and call `evaluate_model`."
      ]
    },
    {
      "cell_type": "code",
      "execution_count": null,
      "id": "517b2269",
      "metadata": {
        "id": "517b2269"
      },
      "outputs": [],
      "source": [
        "def grid_search(args):\n",
        "\n",
        "\n",
        "    # perform grid search over learnign rate and number of hidden neurons\n",
        "    dataset_sizes=[10000, 100000] #np.logspace(2,5,4).astype('int')\n",
        "    learning_rates=np.logspace(-5,-1,3)\n",
        "\n",
        "    # pre-alocate data\n",
        "    test_loss=np.zeros((len(dataset_sizes),len(learning_rates)),dtype=np.float64)\n",
        "    test_accuracy=np.zeros_like(test_loss)\n",
        "\n",
        "    # do grid search\n",
        "    for i, dataset_size in enumerate(dataset_sizes):\n",
        "        # upate data set size parameters\n",
        "        args.dataset_size=dataset_size\n",
        "        args.batch_size=int(0.01*dataset_size)\n",
        "\n",
        "        # load data\n",
        "        train_loader, test_loader = load_data(args)\n",
        "\n",
        "        for j, lr in enumerate(learning_rates):\n",
        "            # update learning rate\n",
        "            args.lr=lr\n",
        "\n",
        "            print(\"\\n training DNN with %5d data points and SGD lr=%0.6f. \\n\" %(dataset_size,lr) )\n",
        "\n",
        "            test_loss[i,j],test_accuracy[i,j] = evaluate_model(args,train_loader,test_loader)\n",
        "\n",
        "\n",
        "    plot_data(learning_rates,dataset_sizes,test_accuracy)\n",
        "    \n",
        "    "
      ]
    },
    {
      "cell_type": "markdown",
      "id": "5a908651",
      "metadata": {
        "id": "5a908651"
      },
      "source": [
        "Last, we use the function `plot_data`, defined below, to plot the results."
      ]
    },
    {
      "cell_type": "code",
      "execution_count": null,
      "id": "df4bad90",
      "metadata": {
        "id": "df4bad90"
      },
      "outputs": [],
      "source": [
        "import matplotlib.pyplot as plt\n",
        "\n",
        "def plot_data(x,y,data):\n",
        "\n",
        "    # plot results\n",
        "    fontsize=16\n",
        "\n",
        "\n",
        "    fig = plt.figure()\n",
        "    ax = fig.add_subplot(111)\n",
        "    cax = ax.matshow(data, interpolation='nearest', vmin=0, vmax=1)\n",
        "    \n",
        "    cbar=fig.colorbar(cax)\n",
        "    cbar.ax.set_ylabel('accuracy (%)',rotation=90,fontsize=fontsize)\n",
        "    cbar.set_ticks([0,.2,.4,0.6,0.8,1.0])\n",
        "    cbar.set_ticklabels(['0%','20%','40%','60%','80%','100%'])\n",
        "\n",
        "    # put text on matrix elements\n",
        "    for i, x_val in enumerate(np.arange(len(x))):\n",
        "        for j, y_val in enumerate(np.arange(len(y))):\n",
        "            c = \"${0:.1f}\\\\%$\".format( 100*data[j,i])  \n",
        "            ax.text(x_val, y_val, c, va='center', ha='center')\n",
        "\n",
        "    # convert axis vaues to to string labels\n",
        "    x=[str(i) for i in x]\n",
        "    y=[str(i) for i in y]\n",
        "\n",
        "\n",
        "    ax.set_xticklabels(['']+x)\n",
        "    ax.set_yticklabels(['']+y)\n",
        "\n",
        "    ax.set_xlabel('$\\\\mathrm{learning\\\\ rate}$',fontsize=fontsize)\n",
        "    ax.set_ylabel('$\\\\mathrm{hidden\\\\ neurons}$',fontsize=fontsize)\n",
        "\n",
        "    plt.tight_layout()\n",
        "\n",
        "    plt.show()"
      ]
    },
    {
      "cell_type": "markdown",
      "id": "43bd9dc9",
      "metadata": {
        "id": "43bd9dc9"
      },
      "source": [
        "### Run Code\n",
        "\n",
        "As we mentioned in the beginning of the notebook, all functions and classes discussed above only specify the procedure but do not actually perform any computations. This allows us to re-use them for different problems.\n",
        "\n",
        "Actually running the training and testing for every point in the grid search is done below. The `argparse` class allows us to conveniently keep track of all hyperparameters, stored in the variable `args` which enters most of the functions we defined above.\n",
        "\n",
        "To run the simulation, we call the function `grid_search`."
      ]
    },
    {
      "cell_type": "markdown",
      "id": "a07e308b",
      "metadata": {
        "id": "a07e308b"
      },
      "source": [
        "# Exercises"
      ]
    },
    {
      "cell_type": "code",
      "execution_count": null,
      "id": "23a280d2",
      "metadata": {
        "id": "23a280d2"
      },
      "outputs": [],
      "source": [
        ""
      ]
    },
    {
      "cell_type": "markdown",
      "id": "0fe30f29",
      "metadata": {
        "id": "0fe30f29"
      },
      "source": [
        "### GPU and CUDA\n",
        "\n",
        "One of the advantages of Pytorch is that it allows to automatically use the CUDA library for fast performance on GPU's. For the sake of clarity, we have omitted this in the above notebook. Go online to check how to put the CUDA commands back into the code above. Hint: study the [Pytorch MNIST tutorial](https://github.com/pytorch/examples/blob/master/mnist/main.py) to see how this works in practice."
      ]
    },
    {
      "cell_type": "code",
      "execution_count": null,
      "id": "faf9bf78",
      "metadata": {
        "colab": {
          "base_uri": "https://localhost:8080/",
          "height": 1000
        },
        "id": "faf9bf78",
        "outputId": "5d9fbd01-cb1c-4465-c353-3bf7e674682e"
      },
      "outputs": [
        {
          "output_type": "stream",
          "name": "stdout",
          "text": [
            "Drive already mounted at /content/gdrive; to attempt to forcibly remount, call drive.mount(\"/content/gdrive\", force_remount=True).\n",
            "Training on 8000 examples\n",
            "Using both high and low level features\n",
            "Testing on 2000 examples\n",
            "Using both high and low level features\n",
            "\n",
            " training DNN with 10000 data points and SGD lr=0.000010. \n",
            "\n"
          ]
        },
        {
          "output_type": "stream",
          "name": "stderr",
          "text": [
            "Epoch 1:   1%|▏         | 1/80 [00:00<00:10,  7.25batch/s, loss=0.699]"
          ]
        },
        {
          "output_type": "stream",
          "name": "stdout",
          "text": [
            "Train Epoch: 1 [0/8000 (0%)]\tLoss: 0.695737\n"
          ]
        },
        {
          "output_type": "stream",
          "name": "stderr",
          "text": [
            "Epoch 1:  14%|█▍        | 11/80 [00:01<00:07,  8.91batch/s, loss=0.703]"
          ]
        },
        {
          "output_type": "stream",
          "name": "stdout",
          "text": [
            "Train Epoch: 1 [1000/8000 (12%)]\tLoss: 0.706014\n"
          ]
        },
        {
          "output_type": "stream",
          "name": "stderr",
          "text": [
            "Epoch 1:  26%|██▋       | 21/80 [00:02<00:06,  8.87batch/s, loss=0.709]"
          ]
        },
        {
          "output_type": "stream",
          "name": "stdout",
          "text": [
            "Train Epoch: 1 [2000/8000 (25%)]\tLoss: 0.693002\n"
          ]
        },
        {
          "output_type": "stream",
          "name": "stderr",
          "text": [
            "Epoch 1:  39%|███▉      | 31/80 [00:03<00:05,  8.91batch/s, loss=0.694]"
          ]
        },
        {
          "output_type": "stream",
          "name": "stdout",
          "text": [
            "Train Epoch: 1 [3000/8000 (38%)]\tLoss: 0.709861\n"
          ]
        },
        {
          "output_type": "stream",
          "name": "stderr",
          "text": [
            "Epoch 1:  51%|█████▏    | 41/80 [00:04<00:04,  8.93batch/s, loss=0.727]"
          ]
        },
        {
          "output_type": "stream",
          "name": "stdout",
          "text": [
            "Train Epoch: 1 [4000/8000 (50%)]\tLoss: 0.687155\n"
          ]
        },
        {
          "output_type": "stream",
          "name": "stderr",
          "text": [
            "Epoch 1:  64%|██████▍   | 51/80 [00:05<00:03,  9.00batch/s, loss=0.66] "
          ]
        },
        {
          "output_type": "stream",
          "name": "stdout",
          "text": [
            "Train Epoch: 1 [5000/8000 (62%)]\tLoss: 0.702012\n"
          ]
        },
        {
          "output_type": "stream",
          "name": "stderr",
          "text": [
            "Epoch 1:  76%|███████▋  | 61/80 [00:06<00:02,  8.75batch/s, loss=0.709]"
          ]
        },
        {
          "output_type": "stream",
          "name": "stdout",
          "text": [
            "Train Epoch: 1 [6000/8000 (75%)]\tLoss: 0.697446\n"
          ]
        },
        {
          "output_type": "stream",
          "name": "stderr",
          "text": [
            "Epoch 1:  89%|████████▉ | 71/80 [00:07<00:01,  8.91batch/s, loss=0.718]"
          ]
        },
        {
          "output_type": "stream",
          "name": "stdout",
          "text": [
            "Train Epoch: 1 [7000/8000 (88%)]\tLoss: 0.712713\n"
          ]
        },
        {
          "output_type": "stream",
          "name": "stderr",
          "text": [
            "Epoch 1: 100%|██████████| 80/80 [00:08<00:00,  8.89batch/s, loss=0.684]\n",
            "/usr/local/lib/python3.7/dist-packages/torch/nn/_reduction.py:42: UserWarning: size_average and reduce args will be deprecated, please use reduction='sum' instead.\n",
            "  warnings.warn(warning.format(ret))\n"
          ]
        },
        {
          "output_type": "stream",
          "name": "stdout",
          "text": [
            "\n",
            "Test set: Average loss: 0.6926, Accuracy: 1056/2000 (52.800%)\n",
            "\n"
          ]
        },
        {
          "output_type": "stream",
          "name": "stderr",
          "text": [
            "Epoch 2:   1%|▏         | 1/80 [00:00<00:09,  8.65batch/s, loss=0.705]"
          ]
        },
        {
          "output_type": "stream",
          "name": "stdout",
          "text": [
            "Train Epoch: 2 [0/8000 (0%)]\tLoss: 0.698672\n"
          ]
        },
        {
          "output_type": "stream",
          "name": "stderr",
          "text": [
            "Epoch 2:  14%|█▍        | 11/80 [00:01<00:07,  8.86batch/s, loss=0.7]  "
          ]
        },
        {
          "output_type": "stream",
          "name": "stdout",
          "text": [
            "Train Epoch: 2 [1000/8000 (12%)]\tLoss: 0.716177\n"
          ]
        },
        {
          "output_type": "stream",
          "name": "stderr",
          "text": [
            "Epoch 2:  26%|██▋       | 21/80 [00:02<00:06,  8.97batch/s, loss=0.703]"
          ]
        },
        {
          "output_type": "stream",
          "name": "stdout",
          "text": [
            "Train Epoch: 2 [2000/8000 (25%)]\tLoss: 0.715654\n"
          ]
        },
        {
          "output_type": "stream",
          "name": "stderr",
          "text": [
            "Epoch 2:  39%|███▉      | 31/80 [00:03<00:05,  8.92batch/s, loss=0.706]"
          ]
        },
        {
          "output_type": "stream",
          "name": "stdout",
          "text": [
            "Train Epoch: 2 [3000/8000 (38%)]\tLoss: 0.711846\n"
          ]
        },
        {
          "output_type": "stream",
          "name": "stderr",
          "text": [
            "Epoch 2:  51%|█████▏    | 41/80 [00:04<00:04,  8.84batch/s, loss=0.697]"
          ]
        },
        {
          "output_type": "stream",
          "name": "stdout",
          "text": [
            "Train Epoch: 2 [4000/8000 (50%)]\tLoss: 0.690598\n"
          ]
        },
        {
          "output_type": "stream",
          "name": "stderr",
          "text": [
            "Epoch 2:  64%|██████▍   | 51/80 [00:05<00:03,  8.98batch/s, loss=0.702]"
          ]
        },
        {
          "output_type": "stream",
          "name": "stdout",
          "text": [
            "Train Epoch: 2 [5000/8000 (62%)]\tLoss: 0.727525\n"
          ]
        },
        {
          "output_type": "stream",
          "name": "stderr",
          "text": [
            "Epoch 2:  76%|███████▋  | 61/80 [00:06<00:02,  8.85batch/s, loss=0.709]"
          ]
        },
        {
          "output_type": "stream",
          "name": "stdout",
          "text": [
            "Train Epoch: 2 [6000/8000 (75%)]\tLoss: 0.689077\n"
          ]
        },
        {
          "output_type": "stream",
          "name": "stderr",
          "text": [
            "Epoch 2:  89%|████████▉ | 71/80 [00:07<00:01,  8.99batch/s, loss=0.682]"
          ]
        },
        {
          "output_type": "stream",
          "name": "stdout",
          "text": [
            "Train Epoch: 2 [7000/8000 (88%)]\tLoss: 0.681673\n"
          ]
        },
        {
          "output_type": "stream",
          "name": "stderr",
          "text": [
            "Epoch 2: 100%|██████████| 80/80 [00:08<00:00,  8.94batch/s, loss=0.694]\n"
          ]
        },
        {
          "output_type": "stream",
          "name": "stdout",
          "text": [
            "\n",
            "Test set: Average loss: 0.6922, Accuracy: 1057/2000 (52.850%)\n",
            "\n"
          ]
        },
        {
          "output_type": "stream",
          "name": "stderr",
          "text": [
            "Epoch 3:   1%|▏         | 1/80 [00:00<00:08,  9.16batch/s, loss=0.73] "
          ]
        },
        {
          "output_type": "stream",
          "name": "stdout",
          "text": [
            "Train Epoch: 3 [0/8000 (0%)]\tLoss: 0.697338\n"
          ]
        },
        {
          "output_type": "stream",
          "name": "stderr",
          "text": [
            "Epoch 3:  14%|█▍        | 11/80 [00:01<00:07,  8.93batch/s, loss=0.73]"
          ]
        },
        {
          "output_type": "stream",
          "name": "stdout",
          "text": [
            "Train Epoch: 3 [1000/8000 (12%)]\tLoss: 0.709971\n"
          ]
        },
        {
          "output_type": "stream",
          "name": "stderr",
          "text": [
            "Epoch 3:  26%|██▋       | 21/80 [00:02<00:06,  9.02batch/s, loss=0.697]"
          ]
        },
        {
          "output_type": "stream",
          "name": "stdout",
          "text": [
            "Train Epoch: 3 [2000/8000 (25%)]\tLoss: 0.714695\n"
          ]
        },
        {
          "output_type": "stream",
          "name": "stderr",
          "text": [
            "Epoch 3:  39%|███▉      | 31/80 [00:03<00:05,  8.82batch/s, loss=0.729]"
          ]
        },
        {
          "output_type": "stream",
          "name": "stdout",
          "text": [
            "Train Epoch: 3 [3000/8000 (38%)]\tLoss: 0.745484\n"
          ]
        },
        {
          "output_type": "stream",
          "name": "stderr",
          "text": [
            "Epoch 3:  51%|█████▏    | 41/80 [00:04<00:04,  8.94batch/s, loss=0.707]"
          ]
        },
        {
          "output_type": "stream",
          "name": "stdout",
          "text": [
            "Train Epoch: 3 [4000/8000 (50%)]\tLoss: 0.702831\n"
          ]
        },
        {
          "output_type": "stream",
          "name": "stderr",
          "text": [
            "Epoch 3:  64%|██████▍   | 51/80 [00:05<00:03,  8.95batch/s, loss=0.7]  "
          ]
        },
        {
          "output_type": "stream",
          "name": "stdout",
          "text": [
            "Train Epoch: 3 [5000/8000 (62%)]\tLoss: 0.718851\n"
          ]
        },
        {
          "output_type": "stream",
          "name": "stderr",
          "text": [
            "Epoch 3:  76%|███████▋  | 61/80 [00:06<00:02,  8.92batch/s, loss=0.7]  "
          ]
        },
        {
          "output_type": "stream",
          "name": "stdout",
          "text": [
            "Train Epoch: 3 [6000/8000 (75%)]\tLoss: 0.693036\n"
          ]
        },
        {
          "output_type": "stream",
          "name": "stderr",
          "text": [
            "Epoch 3:  89%|████████▉ | 71/80 [00:07<00:01,  8.89batch/s, loss=0.667]"
          ]
        },
        {
          "output_type": "stream",
          "name": "stdout",
          "text": [
            "Train Epoch: 3 [7000/8000 (88%)]\tLoss: 0.695395\n"
          ]
        },
        {
          "output_type": "stream",
          "name": "stderr",
          "text": [
            "Epoch 3: 100%|██████████| 80/80 [00:08<00:00,  8.95batch/s, loss=0.696]\n"
          ]
        },
        {
          "output_type": "stream",
          "name": "stdout",
          "text": [
            "\n",
            "Test set: Average loss: 0.6917, Accuracy: 1059/2000 (52.950%)\n",
            "\n"
          ]
        },
        {
          "output_type": "stream",
          "name": "stderr",
          "text": [
            "Epoch 4:   1%|▏         | 1/80 [00:00<00:09,  8.49batch/s, loss=0.704]"
          ]
        },
        {
          "output_type": "stream",
          "name": "stdout",
          "text": [
            "Train Epoch: 4 [0/8000 (0%)]\tLoss: 0.693898\n"
          ]
        },
        {
          "output_type": "stream",
          "name": "stderr",
          "text": [
            "Epoch 4:  14%|█▍        | 11/80 [00:01<00:07,  8.92batch/s, loss=0.695]"
          ]
        },
        {
          "output_type": "stream",
          "name": "stdout",
          "text": [
            "Train Epoch: 4 [1000/8000 (12%)]\tLoss: 0.693162\n"
          ]
        },
        {
          "output_type": "stream",
          "name": "stderr",
          "text": [
            "Epoch 4:  26%|██▋       | 21/80 [00:02<00:06,  8.86batch/s, loss=0.716]"
          ]
        },
        {
          "output_type": "stream",
          "name": "stdout",
          "text": [
            "Train Epoch: 4 [2000/8000 (25%)]\tLoss: 0.678136\n"
          ]
        },
        {
          "output_type": "stream",
          "name": "stderr",
          "text": [
            "Epoch 4:  39%|███▉      | 31/80 [00:03<00:05,  8.70batch/s, loss=0.683]"
          ]
        },
        {
          "output_type": "stream",
          "name": "stdout",
          "text": [
            "Train Epoch: 4 [3000/8000 (38%)]\tLoss: 0.692321\n"
          ]
        },
        {
          "output_type": "stream",
          "name": "stderr",
          "text": [
            "Epoch 4:  51%|█████▏    | 41/80 [00:04<00:04,  8.80batch/s, loss=0.691]"
          ]
        },
        {
          "output_type": "stream",
          "name": "stdout",
          "text": [
            "Train Epoch: 4 [4000/8000 (50%)]\tLoss: 0.737731\n"
          ]
        },
        {
          "output_type": "stream",
          "name": "stderr",
          "text": [
            "Epoch 4:  64%|██████▍   | 51/80 [00:05<00:03,  8.91batch/s, loss=0.694]"
          ]
        },
        {
          "output_type": "stream",
          "name": "stdout",
          "text": [
            "Train Epoch: 4 [5000/8000 (62%)]\tLoss: 0.726019\n"
          ]
        },
        {
          "output_type": "stream",
          "name": "stderr",
          "text": [
            "Epoch 4:  76%|███████▋  | 61/80 [00:06<00:02,  8.92batch/s, loss=0.697]"
          ]
        },
        {
          "output_type": "stream",
          "name": "stdout",
          "text": [
            "Train Epoch: 4 [6000/8000 (75%)]\tLoss: 0.718221\n"
          ]
        },
        {
          "output_type": "stream",
          "name": "stderr",
          "text": [
            "Epoch 4:  89%|████████▉ | 71/80 [00:07<00:01,  8.86batch/s, loss=0.688]"
          ]
        },
        {
          "output_type": "stream",
          "name": "stdout",
          "text": [
            "Train Epoch: 4 [7000/8000 (88%)]\tLoss: 0.701807\n"
          ]
        },
        {
          "output_type": "stream",
          "name": "stderr",
          "text": [
            "Epoch 4: 100%|██████████| 80/80 [00:09<00:00,  8.89batch/s, loss=0.705]\n"
          ]
        },
        {
          "output_type": "stream",
          "name": "stdout",
          "text": [
            "\n",
            "Test set: Average loss: 0.6912, Accuracy: 1060/2000 (53.000%)\n",
            "\n"
          ]
        },
        {
          "output_type": "stream",
          "name": "stderr",
          "text": [
            "Epoch 5:   1%|▏         | 1/80 [00:00<00:08,  9.04batch/s, loss=0.687]"
          ]
        },
        {
          "output_type": "stream",
          "name": "stdout",
          "text": [
            "Train Epoch: 5 [0/8000 (0%)]\tLoss: 0.702744\n"
          ]
        },
        {
          "output_type": "stream",
          "name": "stderr",
          "text": [
            "Epoch 5:  14%|█▍        | 11/80 [00:01<00:07,  8.84batch/s, loss=0.697]"
          ]
        },
        {
          "output_type": "stream",
          "name": "stdout",
          "text": [
            "Train Epoch: 5 [1000/8000 (12%)]\tLoss: 0.692700\n"
          ]
        },
        {
          "output_type": "stream",
          "name": "stderr",
          "text": [
            "Epoch 5:  26%|██▋       | 21/80 [00:02<00:06,  8.84batch/s, loss=0.707]"
          ]
        },
        {
          "output_type": "stream",
          "name": "stdout",
          "text": [
            "Train Epoch: 5 [2000/8000 (25%)]\tLoss: 0.683998\n"
          ]
        },
        {
          "output_type": "stream",
          "name": "stderr",
          "text": [
            "Epoch 5:  39%|███▉      | 31/80 [00:03<00:05,  8.80batch/s, loss=0.708]"
          ]
        },
        {
          "output_type": "stream",
          "name": "stdout",
          "text": [
            "Train Epoch: 5 [3000/8000 (38%)]\tLoss: 0.738065\n"
          ]
        },
        {
          "output_type": "stream",
          "name": "stderr",
          "text": [
            "Epoch 5:  51%|█████▏    | 41/80 [00:04<00:04,  8.98batch/s, loss=0.731]"
          ]
        },
        {
          "output_type": "stream",
          "name": "stdout",
          "text": [
            "Train Epoch: 5 [4000/8000 (50%)]\tLoss: 0.696493\n"
          ]
        },
        {
          "output_type": "stream",
          "name": "stderr",
          "text": [
            "Epoch 5:  64%|██████▍   | 51/80 [00:05<00:03,  8.90batch/s, loss=0.707]"
          ]
        },
        {
          "output_type": "stream",
          "name": "stdout",
          "text": [
            "Train Epoch: 5 [5000/8000 (62%)]\tLoss: 0.704344\n"
          ]
        },
        {
          "output_type": "stream",
          "name": "stderr",
          "text": [
            "Epoch 5:  76%|███████▋  | 61/80 [00:06<00:02,  8.98batch/s, loss=0.708]"
          ]
        },
        {
          "output_type": "stream",
          "name": "stdout",
          "text": [
            "Train Epoch: 5 [6000/8000 (75%)]\tLoss: 0.690161\n"
          ]
        },
        {
          "output_type": "stream",
          "name": "stderr",
          "text": [
            "Epoch 5:  89%|████████▉ | 71/80 [00:07<00:01,  8.84batch/s, loss=0.704]"
          ]
        },
        {
          "output_type": "stream",
          "name": "stdout",
          "text": [
            "Train Epoch: 5 [7000/8000 (88%)]\tLoss: 0.693375\n"
          ]
        },
        {
          "output_type": "stream",
          "name": "stderr",
          "text": [
            "Epoch 5: 100%|██████████| 80/80 [00:08<00:00,  8.92batch/s, loss=0.702]\n"
          ]
        },
        {
          "output_type": "stream",
          "name": "stdout",
          "text": [
            "\n",
            "Test set: Average loss: 0.6908, Accuracy: 1060/2000 (53.000%)\n",
            "\n"
          ]
        },
        {
          "output_type": "stream",
          "name": "stderr",
          "text": [
            "Epoch 6:   1%|▏         | 1/80 [00:00<00:09,  8.77batch/s, loss=0.703]"
          ]
        },
        {
          "output_type": "stream",
          "name": "stdout",
          "text": [
            "Train Epoch: 6 [0/8000 (0%)]\tLoss: 0.728669\n"
          ]
        },
        {
          "output_type": "stream",
          "name": "stderr",
          "text": [
            "Epoch 6:  14%|█▍        | 11/80 [00:01<00:07,  8.91batch/s, loss=0.711]"
          ]
        },
        {
          "output_type": "stream",
          "name": "stdout",
          "text": [
            "Train Epoch: 6 [1000/8000 (12%)]\tLoss: 0.719197\n"
          ]
        },
        {
          "output_type": "stream",
          "name": "stderr",
          "text": [
            "Epoch 6:  26%|██▋       | 21/80 [00:02<00:06,  8.90batch/s, loss=0.675]"
          ]
        },
        {
          "output_type": "stream",
          "name": "stdout",
          "text": [
            "Train Epoch: 6 [2000/8000 (25%)]\tLoss: 0.730428\n"
          ]
        },
        {
          "output_type": "stream",
          "name": "stderr",
          "text": [
            "Epoch 6:  39%|███▉      | 31/80 [00:03<00:05,  8.92batch/s, loss=0.683]"
          ]
        },
        {
          "output_type": "stream",
          "name": "stdout",
          "text": [
            "Train Epoch: 6 [3000/8000 (38%)]\tLoss: 0.687437\n"
          ]
        },
        {
          "output_type": "stream",
          "name": "stderr",
          "text": [
            "Epoch 6:  51%|█████▏    | 41/80 [00:04<00:04,  8.89batch/s, loss=0.693]"
          ]
        },
        {
          "output_type": "stream",
          "name": "stdout",
          "text": [
            "Train Epoch: 6 [4000/8000 (50%)]\tLoss: 0.695771\n"
          ]
        },
        {
          "output_type": "stream",
          "name": "stderr",
          "text": [
            "Epoch 6:  64%|██████▍   | 51/80 [00:05<00:03,  8.99batch/s, loss=0.711]"
          ]
        },
        {
          "output_type": "stream",
          "name": "stdout",
          "text": [
            "Train Epoch: 6 [5000/8000 (62%)]\tLoss: 0.705220\n"
          ]
        },
        {
          "output_type": "stream",
          "name": "stderr",
          "text": [
            "Epoch 6:  76%|███████▋  | 61/80 [00:06<00:02,  8.91batch/s, loss=0.67] "
          ]
        },
        {
          "output_type": "stream",
          "name": "stdout",
          "text": [
            "Train Epoch: 6 [6000/8000 (75%)]\tLoss: 0.698996\n"
          ]
        },
        {
          "output_type": "stream",
          "name": "stderr",
          "text": [
            "Epoch 6:  89%|████████▉ | 71/80 [00:07<00:01,  8.97batch/s, loss=0.732]"
          ]
        },
        {
          "output_type": "stream",
          "name": "stdout",
          "text": [
            "Train Epoch: 6 [7000/8000 (88%)]\tLoss: 0.710389\n"
          ]
        },
        {
          "output_type": "stream",
          "name": "stderr",
          "text": [
            "Epoch 6: 100%|██████████| 80/80 [00:08<00:00,  8.96batch/s, loss=0.702]\n"
          ]
        },
        {
          "output_type": "stream",
          "name": "stdout",
          "text": [
            "\n",
            "Test set: Average loss: 0.6903, Accuracy: 1062/2000 (53.100%)\n",
            "\n"
          ]
        },
        {
          "output_type": "stream",
          "name": "stderr",
          "text": [
            "Epoch 7:   1%|▏         | 1/80 [00:00<00:08,  9.06batch/s, loss=0.716]"
          ]
        },
        {
          "output_type": "stream",
          "name": "stdout",
          "text": [
            "Train Epoch: 7 [0/8000 (0%)]\tLoss: 0.721237\n"
          ]
        },
        {
          "output_type": "stream",
          "name": "stderr",
          "text": [
            "Epoch 7:  14%|█▍        | 11/80 [00:01<00:07,  8.95batch/s, loss=0.667]"
          ]
        },
        {
          "output_type": "stream",
          "name": "stdout",
          "text": [
            "Train Epoch: 7 [1000/8000 (12%)]\tLoss: 0.712393\n"
          ]
        },
        {
          "output_type": "stream",
          "name": "stderr",
          "text": [
            "Epoch 7:  26%|██▋       | 21/80 [00:02<00:06,  8.99batch/s, loss=0.697]"
          ]
        },
        {
          "output_type": "stream",
          "name": "stdout",
          "text": [
            "Train Epoch: 7 [2000/8000 (25%)]\tLoss: 0.704036\n"
          ]
        },
        {
          "output_type": "stream",
          "name": "stderr",
          "text": [
            "Epoch 7:  39%|███▉      | 31/80 [00:03<00:05,  8.94batch/s, loss=0.703]"
          ]
        },
        {
          "output_type": "stream",
          "name": "stdout",
          "text": [
            "Train Epoch: 7 [3000/8000 (38%)]\tLoss: 0.713341\n"
          ]
        },
        {
          "output_type": "stream",
          "name": "stderr",
          "text": [
            "Epoch 7:  51%|█████▏    | 41/80 [00:04<00:04,  8.90batch/s, loss=0.682]"
          ]
        },
        {
          "output_type": "stream",
          "name": "stdout",
          "text": [
            "Train Epoch: 7 [4000/8000 (50%)]\tLoss: 0.668700\n"
          ]
        },
        {
          "output_type": "stream",
          "name": "stderr",
          "text": [
            "Epoch 7:  64%|██████▍   | 51/80 [00:05<00:03,  9.02batch/s, loss=0.669]"
          ]
        },
        {
          "output_type": "stream",
          "name": "stdout",
          "text": [
            "Train Epoch: 7 [5000/8000 (62%)]\tLoss: 0.697954\n"
          ]
        },
        {
          "output_type": "stream",
          "name": "stderr",
          "text": [
            "Epoch 7:  76%|███████▋  | 61/80 [00:06<00:02,  8.89batch/s, loss=0.708]"
          ]
        },
        {
          "output_type": "stream",
          "name": "stdout",
          "text": [
            "Train Epoch: 7 [6000/8000 (75%)]\tLoss: 0.696286\n"
          ]
        },
        {
          "output_type": "stream",
          "name": "stderr",
          "text": [
            "Epoch 7:  89%|████████▉ | 71/80 [00:07<00:01,  8.85batch/s, loss=0.693]"
          ]
        },
        {
          "output_type": "stream",
          "name": "stdout",
          "text": [
            "Train Epoch: 7 [7000/8000 (88%)]\tLoss: 0.706638\n"
          ]
        },
        {
          "output_type": "stream",
          "name": "stderr",
          "text": [
            "Epoch 7: 100%|██████████| 80/80 [00:08<00:00,  8.94batch/s, loss=0.704]\n"
          ]
        },
        {
          "output_type": "stream",
          "name": "stdout",
          "text": [
            "\n",
            "Test set: Average loss: 0.6899, Accuracy: 1063/2000 (53.150%)\n",
            "\n"
          ]
        },
        {
          "output_type": "stream",
          "name": "stderr",
          "text": [
            "Epoch 8:   1%|▏         | 1/80 [00:00<00:09,  8.57batch/s, loss=0.687]"
          ]
        },
        {
          "output_type": "stream",
          "name": "stdout",
          "text": [
            "Train Epoch: 8 [0/8000 (0%)]\tLoss: 0.687505\n"
          ]
        },
        {
          "output_type": "stream",
          "name": "stderr",
          "text": [
            "Epoch 8:  14%|█▍        | 11/80 [00:01<00:07,  8.90batch/s, loss=0.712]"
          ]
        },
        {
          "output_type": "stream",
          "name": "stdout",
          "text": [
            "Train Epoch: 8 [1000/8000 (12%)]\tLoss: 0.720928\n"
          ]
        },
        {
          "output_type": "stream",
          "name": "stderr",
          "text": [
            "Epoch 8:  26%|██▋       | 21/80 [00:02<00:06,  8.92batch/s, loss=0.69] "
          ]
        },
        {
          "output_type": "stream",
          "name": "stdout",
          "text": [
            "Train Epoch: 8 [2000/8000 (25%)]\tLoss: 0.712342\n"
          ]
        },
        {
          "output_type": "stream",
          "name": "stderr",
          "text": [
            "Epoch 8:  39%|███▉      | 31/80 [00:03<00:05,  8.95batch/s, loss=0.708]"
          ]
        },
        {
          "output_type": "stream",
          "name": "stdout",
          "text": [
            "Train Epoch: 8 [3000/8000 (38%)]\tLoss: 0.687373\n"
          ]
        },
        {
          "output_type": "stream",
          "name": "stderr",
          "text": [
            "Epoch 8:  51%|█████▏    | 41/80 [00:04<00:04,  8.93batch/s, loss=0.684]"
          ]
        },
        {
          "output_type": "stream",
          "name": "stdout",
          "text": [
            "Train Epoch: 8 [4000/8000 (50%)]\tLoss: 0.709672\n"
          ]
        },
        {
          "output_type": "stream",
          "name": "stderr",
          "text": [
            "Epoch 8:  64%|██████▍   | 51/80 [00:05<00:03,  8.95batch/s, loss=0.728]"
          ]
        },
        {
          "output_type": "stream",
          "name": "stdout",
          "text": [
            "Train Epoch: 8 [5000/8000 (62%)]\tLoss: 0.687687\n"
          ]
        },
        {
          "output_type": "stream",
          "name": "stderr",
          "text": [
            "Epoch 8:  76%|███████▋  | 61/80 [00:06<00:02,  8.96batch/s, loss=0.673]"
          ]
        },
        {
          "output_type": "stream",
          "name": "stdout",
          "text": [
            "Train Epoch: 8 [6000/8000 (75%)]\tLoss: 0.696316\n"
          ]
        },
        {
          "output_type": "stream",
          "name": "stderr",
          "text": [
            "Epoch 8:  89%|████████▉ | 71/80 [00:07<00:01,  8.69batch/s, loss=0.726]"
          ]
        },
        {
          "output_type": "stream",
          "name": "stdout",
          "text": [
            "Train Epoch: 8 [7000/8000 (88%)]\tLoss: 0.685234\n"
          ]
        },
        {
          "output_type": "stream",
          "name": "stderr",
          "text": [
            "Epoch 8: 100%|██████████| 80/80 [00:08<00:00,  8.90batch/s, loss=0.676]\n"
          ]
        },
        {
          "output_type": "stream",
          "name": "stdout",
          "text": [
            "\n",
            "Test set: Average loss: 0.6895, Accuracy: 1064/2000 (53.200%)\n",
            "\n"
          ]
        },
        {
          "output_type": "stream",
          "name": "stderr",
          "text": [
            "Epoch 9:   1%|▏         | 1/80 [00:00<00:09,  8.52batch/s, loss=0.664]"
          ]
        },
        {
          "output_type": "stream",
          "name": "stdout",
          "text": [
            "Train Epoch: 9 [0/8000 (0%)]\tLoss: 0.709753\n"
          ]
        },
        {
          "output_type": "stream",
          "name": "stderr",
          "text": [
            "Epoch 9:  14%|█▍        | 11/80 [00:01<00:07,  8.91batch/s, loss=0.697]"
          ]
        },
        {
          "output_type": "stream",
          "name": "stdout",
          "text": [
            "Train Epoch: 9 [1000/8000 (12%)]\tLoss: 0.706026\n"
          ]
        },
        {
          "output_type": "stream",
          "name": "stderr",
          "text": [
            "Epoch 9:  26%|██▋       | 21/80 [00:02<00:06,  8.94batch/s, loss=0.666]"
          ]
        },
        {
          "output_type": "stream",
          "name": "stdout",
          "text": [
            "Train Epoch: 9 [2000/8000 (25%)]\tLoss: 0.683757\n"
          ]
        },
        {
          "output_type": "stream",
          "name": "stderr",
          "text": [
            "Epoch 9:  39%|███▉      | 31/80 [00:03<00:05,  8.97batch/s, loss=0.715]"
          ]
        },
        {
          "output_type": "stream",
          "name": "stdout",
          "text": [
            "Train Epoch: 9 [3000/8000 (38%)]\tLoss: 0.706865\n"
          ]
        },
        {
          "output_type": "stream",
          "name": "stderr",
          "text": [
            "Epoch 9:  51%|█████▏    | 41/80 [00:04<00:04,  8.81batch/s, loss=0.694]"
          ]
        },
        {
          "output_type": "stream",
          "name": "stdout",
          "text": [
            "Train Epoch: 9 [4000/8000 (50%)]\tLoss: 0.685096\n"
          ]
        },
        {
          "output_type": "stream",
          "name": "stderr",
          "text": [
            "Epoch 9:  64%|██████▍   | 51/80 [00:05<00:03,  8.91batch/s, loss=0.689]"
          ]
        },
        {
          "output_type": "stream",
          "name": "stdout",
          "text": [
            "Train Epoch: 9 [5000/8000 (62%)]\tLoss: 0.692840\n"
          ]
        },
        {
          "output_type": "stream",
          "name": "stderr",
          "text": [
            "Epoch 9:  76%|███████▋  | 61/80 [00:06<00:02,  8.89batch/s, loss=0.685]"
          ]
        },
        {
          "output_type": "stream",
          "name": "stdout",
          "text": [
            "Train Epoch: 9 [6000/8000 (75%)]\tLoss: 0.694479\n"
          ]
        },
        {
          "output_type": "stream",
          "name": "stderr",
          "text": [
            "Epoch 9:  89%|████████▉ | 71/80 [00:07<00:01,  8.93batch/s, loss=0.737]"
          ]
        },
        {
          "output_type": "stream",
          "name": "stdout",
          "text": [
            "Train Epoch: 9 [7000/8000 (88%)]\tLoss: 0.686439\n"
          ]
        },
        {
          "output_type": "stream",
          "name": "stderr",
          "text": [
            "Epoch 9: 100%|██████████| 80/80 [00:08<00:00,  8.90batch/s, loss=0.705]\n"
          ]
        },
        {
          "output_type": "stream",
          "name": "stdout",
          "text": [
            "\n",
            "Test set: Average loss: 0.6891, Accuracy: 1065/2000 (53.250%)\n",
            "\n"
          ]
        },
        {
          "output_type": "stream",
          "name": "stderr",
          "text": [
            "Epoch 10:   1%|▏         | 1/80 [00:00<00:09,  8.67batch/s, loss=0.726]"
          ]
        },
        {
          "output_type": "stream",
          "name": "stdout",
          "text": [
            "Train Epoch: 10 [0/8000 (0%)]\tLoss: 0.705102\n"
          ]
        },
        {
          "output_type": "stream",
          "name": "stderr",
          "text": [
            "Epoch 10:  14%|█▍        | 11/80 [00:01<00:07,  8.80batch/s, loss=0.698]"
          ]
        },
        {
          "output_type": "stream",
          "name": "stdout",
          "text": [
            "Train Epoch: 10 [1000/8000 (12%)]\tLoss: 0.670841\n"
          ]
        },
        {
          "output_type": "stream",
          "name": "stderr",
          "text": [
            "Epoch 10:  26%|██▋       | 21/80 [00:02<00:06,  8.95batch/s, loss=0.697]"
          ]
        },
        {
          "output_type": "stream",
          "name": "stdout",
          "text": [
            "Train Epoch: 10 [2000/8000 (25%)]\tLoss: 0.689598\n"
          ]
        },
        {
          "output_type": "stream",
          "name": "stderr",
          "text": [
            "Epoch 10:  39%|███▉      | 31/80 [00:03<00:05,  8.94batch/s, loss=0.703]"
          ]
        },
        {
          "output_type": "stream",
          "name": "stdout",
          "text": [
            "Train Epoch: 10 [3000/8000 (38%)]\tLoss: 0.664199\n"
          ]
        },
        {
          "output_type": "stream",
          "name": "stderr",
          "text": [
            "Epoch 10:  51%|█████▏    | 41/80 [00:04<00:04,  8.92batch/s, loss=0.693]"
          ]
        },
        {
          "output_type": "stream",
          "name": "stdout",
          "text": [
            "Train Epoch: 10 [4000/8000 (50%)]\tLoss: 0.682717\n"
          ]
        },
        {
          "output_type": "stream",
          "name": "stderr",
          "text": [
            "Epoch 10:  64%|██████▍   | 51/80 [00:05<00:03,  8.90batch/s, loss=0.699]"
          ]
        },
        {
          "output_type": "stream",
          "name": "stdout",
          "text": [
            "Train Epoch: 10 [5000/8000 (62%)]\tLoss: 0.686033\n"
          ]
        },
        {
          "output_type": "stream",
          "name": "stderr",
          "text": [
            "Epoch 10:  76%|███████▋  | 61/80 [00:06<00:02,  8.90batch/s, loss=0.705]"
          ]
        },
        {
          "output_type": "stream",
          "name": "stdout",
          "text": [
            "Train Epoch: 10 [6000/8000 (75%)]\tLoss: 0.679022\n"
          ]
        },
        {
          "output_type": "stream",
          "name": "stderr",
          "text": [
            "Epoch 10:  89%|████████▉ | 71/80 [00:07<00:01,  8.79batch/s, loss=0.711]"
          ]
        },
        {
          "output_type": "stream",
          "name": "stdout",
          "text": [
            "Train Epoch: 10 [7000/8000 (88%)]\tLoss: 0.712603\n"
          ]
        },
        {
          "output_type": "stream",
          "name": "stderr",
          "text": [
            "Epoch 10: 100%|██████████| 80/80 [00:09<00:00,  8.89batch/s, loss=0.712]\n"
          ]
        },
        {
          "output_type": "stream",
          "name": "stdout",
          "text": [
            "\n",
            "Test set: Average loss: 0.6887, Accuracy: 1066/2000 (53.300%)\n",
            "\n",
            "\n",
            " training DNN with 10000 data points and SGD lr=0.001000. \n",
            "\n"
          ]
        },
        {
          "output_type": "stream",
          "name": "stderr",
          "text": [
            "Epoch 1:   1%|▏         | 1/80 [00:00<00:08,  8.79batch/s, loss=0.688]"
          ]
        },
        {
          "output_type": "stream",
          "name": "stdout",
          "text": [
            "Train Epoch: 1 [0/8000 (0%)]\tLoss: 0.712993\n"
          ]
        },
        {
          "output_type": "stream",
          "name": "stderr",
          "text": [
            "Epoch 1:  14%|█▍        | 11/80 [00:01<00:07,  8.99batch/s, loss=0.709]"
          ]
        },
        {
          "output_type": "stream",
          "name": "stdout",
          "text": [
            "Train Epoch: 1 [1000/8000 (12%)]\tLoss: 0.734325\n"
          ]
        },
        {
          "output_type": "stream",
          "name": "stderr",
          "text": [
            "Epoch 1:  26%|██▋       | 21/80 [00:02<00:06,  9.01batch/s, loss=0.712]"
          ]
        },
        {
          "output_type": "stream",
          "name": "stdout",
          "text": [
            "Train Epoch: 1 [2000/8000 (25%)]\tLoss: 0.699217\n"
          ]
        },
        {
          "output_type": "stream",
          "name": "stderr",
          "text": [
            "Epoch 1:  39%|███▉      | 31/80 [00:03<00:05,  9.00batch/s, loss=0.687]"
          ]
        },
        {
          "output_type": "stream",
          "name": "stdout",
          "text": [
            "Train Epoch: 1 [3000/8000 (38%)]\tLoss: 0.690290\n"
          ]
        },
        {
          "output_type": "stream",
          "name": "stderr",
          "text": [
            "Epoch 1:  51%|█████▏    | 41/80 [00:04<00:04,  8.91batch/s, loss=0.709]"
          ]
        },
        {
          "output_type": "stream",
          "name": "stdout",
          "text": [
            "Train Epoch: 1 [4000/8000 (50%)]\tLoss: 0.693729\n"
          ]
        },
        {
          "output_type": "stream",
          "name": "stderr",
          "text": [
            "Epoch 1:  64%|██████▍   | 51/80 [00:05<00:03,  8.94batch/s, loss=0.688]"
          ]
        },
        {
          "output_type": "stream",
          "name": "stdout",
          "text": [
            "Train Epoch: 1 [5000/8000 (62%)]\tLoss: 0.689311\n"
          ]
        },
        {
          "output_type": "stream",
          "name": "stderr",
          "text": [
            "Epoch 1:  76%|███████▋  | 61/80 [00:06<00:02,  8.91batch/s, loss=0.7]  "
          ]
        },
        {
          "output_type": "stream",
          "name": "stdout",
          "text": [
            "Train Epoch: 1 [6000/8000 (75%)]\tLoss: 0.680891\n"
          ]
        },
        {
          "output_type": "stream",
          "name": "stderr",
          "text": [
            "Epoch 1:  89%|████████▉ | 71/80 [00:07<00:01,  8.94batch/s, loss=0.707]"
          ]
        },
        {
          "output_type": "stream",
          "name": "stdout",
          "text": [
            "Train Epoch: 1 [7000/8000 (88%)]\tLoss: 0.707961\n"
          ]
        },
        {
          "output_type": "stream",
          "name": "stderr",
          "text": [
            "Epoch 1: 100%|██████████| 80/80 [00:08<00:00,  8.97batch/s, loss=0.712]\n"
          ]
        },
        {
          "output_type": "stream",
          "name": "stdout",
          "text": [
            "\n",
            "Test set: Average loss: 0.6816, Accuracy: 1143/2000 (57.150%)\n",
            "\n"
          ]
        },
        {
          "output_type": "stream",
          "name": "stderr",
          "text": [
            "Epoch 2:   1%|▏         | 1/80 [00:00<00:09,  8.24batch/s, loss=0.686]"
          ]
        },
        {
          "output_type": "stream",
          "name": "stdout",
          "text": [
            "Train Epoch: 2 [0/8000 (0%)]\tLoss: 0.690322\n"
          ]
        },
        {
          "output_type": "stream",
          "name": "stderr",
          "text": [
            "Epoch 2:  14%|█▍        | 11/80 [00:01<00:07,  8.89batch/s, loss=0.686]"
          ]
        },
        {
          "output_type": "stream",
          "name": "stdout",
          "text": [
            "Train Epoch: 2 [1000/8000 (12%)]\tLoss: 0.708702\n"
          ]
        },
        {
          "output_type": "stream",
          "name": "stderr",
          "text": [
            "Epoch 2:  26%|██▋       | 21/80 [00:02<00:06,  9.01batch/s, loss=0.674]"
          ]
        },
        {
          "output_type": "stream",
          "name": "stdout",
          "text": [
            "Train Epoch: 2 [2000/8000 (25%)]\tLoss: 0.689929\n"
          ]
        },
        {
          "output_type": "stream",
          "name": "stderr",
          "text": [
            "Epoch 2:  39%|███▉      | 31/80 [00:03<00:05,  8.99batch/s, loss=0.689]"
          ]
        },
        {
          "output_type": "stream",
          "name": "stdout",
          "text": [
            "Train Epoch: 2 [3000/8000 (38%)]\tLoss: 0.701480\n"
          ]
        },
        {
          "output_type": "stream",
          "name": "stderr",
          "text": [
            "Epoch 2:  51%|█████▏    | 41/80 [00:04<00:04,  8.76batch/s, loss=0.679]"
          ]
        },
        {
          "output_type": "stream",
          "name": "stdout",
          "text": [
            "Train Epoch: 2 [4000/8000 (50%)]\tLoss: 0.698332\n"
          ]
        },
        {
          "output_type": "stream",
          "name": "stderr",
          "text": [
            "Epoch 2:  64%|██████▍   | 51/80 [00:05<00:03,  8.94batch/s, loss=0.672]"
          ]
        },
        {
          "output_type": "stream",
          "name": "stdout",
          "text": [
            "Train Epoch: 2 [5000/8000 (62%)]\tLoss: 0.695832\n"
          ]
        },
        {
          "output_type": "stream",
          "name": "stderr",
          "text": [
            "Epoch 2:  76%|███████▋  | 61/80 [00:06<00:02,  8.94batch/s, loss=0.68]"
          ]
        },
        {
          "output_type": "stream",
          "name": "stdout",
          "text": [
            "Train Epoch: 2 [6000/8000 (75%)]\tLoss: 0.679775\n"
          ]
        },
        {
          "output_type": "stream",
          "name": "stderr",
          "text": [
            "Epoch 2:  89%|████████▉ | 71/80 [00:07<00:01,  8.85batch/s, loss=0.702]"
          ]
        },
        {
          "output_type": "stream",
          "name": "stdout",
          "text": [
            "Train Epoch: 2 [7000/8000 (88%)]\tLoss: 0.692451\n"
          ]
        },
        {
          "output_type": "stream",
          "name": "stderr",
          "text": [
            "Epoch 2: 100%|██████████| 80/80 [00:08<00:00,  8.92batch/s, loss=0.675]\n"
          ]
        },
        {
          "output_type": "stream",
          "name": "stdout",
          "text": [
            "\n",
            "Test set: Average loss: 0.6698, Accuracy: 1348/2000 (67.400%)\n",
            "\n"
          ]
        },
        {
          "output_type": "stream",
          "name": "stderr",
          "text": [
            "Epoch 3:   1%|▏         | 1/80 [00:00<00:08,  8.78batch/s, loss=0.685]"
          ]
        },
        {
          "output_type": "stream",
          "name": "stdout",
          "text": [
            "Train Epoch: 3 [0/8000 (0%)]\tLoss: 0.703464\n"
          ]
        },
        {
          "output_type": "stream",
          "name": "stderr",
          "text": [
            "Epoch 3:  14%|█▍        | 11/80 [00:01<00:07,  8.96batch/s, loss=0.655]"
          ]
        },
        {
          "output_type": "stream",
          "name": "stdout",
          "text": [
            "Train Epoch: 3 [1000/8000 (12%)]\tLoss: 0.696183\n"
          ]
        },
        {
          "output_type": "stream",
          "name": "stderr",
          "text": [
            "Epoch 3:  26%|██▋       | 21/80 [00:02<00:06,  8.97batch/s, loss=0.674]"
          ]
        },
        {
          "output_type": "stream",
          "name": "stdout",
          "text": [
            "Train Epoch: 3 [2000/8000 (25%)]\tLoss: 0.686417\n"
          ]
        },
        {
          "output_type": "stream",
          "name": "stderr",
          "text": [
            "Epoch 3:  39%|███▉      | 31/80 [00:03<00:05,  8.94batch/s, loss=0.686]"
          ]
        },
        {
          "output_type": "stream",
          "name": "stdout",
          "text": [
            "Train Epoch: 3 [3000/8000 (38%)]\tLoss: 0.657004\n"
          ]
        },
        {
          "output_type": "stream",
          "name": "stderr",
          "text": [
            "Epoch 3:  51%|█████▏    | 41/80 [00:04<00:04,  9.01batch/s, loss=0.676]"
          ]
        },
        {
          "output_type": "stream",
          "name": "stdout",
          "text": [
            "Train Epoch: 3 [4000/8000 (50%)]\tLoss: 0.668014\n"
          ]
        },
        {
          "output_type": "stream",
          "name": "stderr",
          "text": [
            "Epoch 3:  64%|██████▍   | 51/80 [00:05<00:03,  8.90batch/s, loss=0.668]"
          ]
        },
        {
          "output_type": "stream",
          "name": "stdout",
          "text": [
            "Train Epoch: 3 [5000/8000 (62%)]\tLoss: 0.692557\n"
          ]
        },
        {
          "output_type": "stream",
          "name": "stderr",
          "text": [
            "Epoch 3:  76%|███████▋  | 61/80 [00:06<00:02,  8.96batch/s, loss=0.677]"
          ]
        },
        {
          "output_type": "stream",
          "name": "stdout",
          "text": [
            "Train Epoch: 3 [6000/8000 (75%)]\tLoss: 0.679556\n"
          ]
        },
        {
          "output_type": "stream",
          "name": "stderr",
          "text": [
            "Epoch 3:  89%|████████▉ | 71/80 [00:07<00:01,  8.93batch/s, loss=0.671]"
          ]
        },
        {
          "output_type": "stream",
          "name": "stdout",
          "text": [
            "Train Epoch: 3 [7000/8000 (88%)]\tLoss: 0.653924\n"
          ]
        },
        {
          "output_type": "stream",
          "name": "stderr",
          "text": [
            "Epoch 3: 100%|██████████| 80/80 [00:08<00:00,  8.97batch/s, loss=0.657]\n"
          ]
        },
        {
          "output_type": "stream",
          "name": "stdout",
          "text": [
            "\n",
            "Test set: Average loss: 0.6591, Accuracy: 1466/2000 (73.300%)\n",
            "\n"
          ]
        },
        {
          "output_type": "stream",
          "name": "stderr",
          "text": [
            "Epoch 4:   1%|▏         | 1/80 [00:00<00:08,  8.82batch/s, loss=0.679]"
          ]
        },
        {
          "output_type": "stream",
          "name": "stdout",
          "text": [
            "Train Epoch: 4 [0/8000 (0%)]\tLoss: 0.670919\n"
          ]
        },
        {
          "output_type": "stream",
          "name": "stderr",
          "text": [
            "Epoch 4:  14%|█▍        | 11/80 [00:01<00:07,  8.97batch/s, loss=0.665]"
          ]
        },
        {
          "output_type": "stream",
          "name": "stdout",
          "text": [
            "Train Epoch: 4 [1000/8000 (12%)]\tLoss: 0.667802\n"
          ]
        },
        {
          "output_type": "stream",
          "name": "stderr",
          "text": [
            "Epoch 4:  26%|██▋       | 21/80 [00:02<00:06,  9.00batch/s, loss=0.666]"
          ]
        },
        {
          "output_type": "stream",
          "name": "stdout",
          "text": [
            "Train Epoch: 4 [2000/8000 (25%)]\tLoss: 0.654776\n"
          ]
        },
        {
          "output_type": "stream",
          "name": "stderr",
          "text": [
            "Epoch 4:  39%|███▉      | 31/80 [00:03<00:05,  8.94batch/s, loss=0.663]"
          ]
        },
        {
          "output_type": "stream",
          "name": "stdout",
          "text": [
            "Train Epoch: 4 [3000/8000 (38%)]\tLoss: 0.680828\n"
          ]
        },
        {
          "output_type": "stream",
          "name": "stderr",
          "text": [
            "Epoch 4:  51%|█████▏    | 41/80 [00:04<00:04,  9.00batch/s, loss=0.651]"
          ]
        },
        {
          "output_type": "stream",
          "name": "stdout",
          "text": [
            "Train Epoch: 4 [4000/8000 (50%)]\tLoss: 0.672564\n"
          ]
        },
        {
          "output_type": "stream",
          "name": "stderr",
          "text": [
            "Epoch 4:  64%|██████▍   | 51/80 [00:05<00:03,  8.92batch/s, loss=0.699]"
          ]
        },
        {
          "output_type": "stream",
          "name": "stdout",
          "text": [
            "Train Epoch: 4 [5000/8000 (62%)]\tLoss: 0.638434\n"
          ]
        },
        {
          "output_type": "stream",
          "name": "stderr",
          "text": [
            "Epoch 4:  76%|███████▋  | 61/80 [00:06<00:02,  8.96batch/s, loss=0.649]"
          ]
        },
        {
          "output_type": "stream",
          "name": "stdout",
          "text": [
            "Train Epoch: 4 [6000/8000 (75%)]\tLoss: 0.652624\n"
          ]
        },
        {
          "output_type": "stream",
          "name": "stderr",
          "text": [
            "Epoch 4:  89%|████████▉ | 71/80 [00:07<00:01,  8.95batch/s, loss=0.667]"
          ]
        },
        {
          "output_type": "stream",
          "name": "stdout",
          "text": [
            "Train Epoch: 4 [7000/8000 (88%)]\tLoss: 0.668117\n"
          ]
        },
        {
          "output_type": "stream",
          "name": "stderr",
          "text": [
            "Epoch 4: 100%|██████████| 80/80 [00:08<00:00,  8.97batch/s, loss=0.655]\n"
          ]
        },
        {
          "output_type": "stream",
          "name": "stdout",
          "text": [
            "\n",
            "Test set: Average loss: 0.6486, Accuracy: 1510/2000 (75.500%)\n",
            "\n"
          ]
        },
        {
          "output_type": "stream",
          "name": "stderr",
          "text": [
            "Epoch 5:   1%|▏         | 1/80 [00:00<00:08,  8.83batch/s, loss=0.67] "
          ]
        },
        {
          "output_type": "stream",
          "name": "stdout",
          "text": [
            "Train Epoch: 5 [0/8000 (0%)]\tLoss: 0.649179\n"
          ]
        },
        {
          "output_type": "stream",
          "name": "stderr",
          "text": [
            "Epoch 5:  14%|█▍        | 11/80 [00:01<00:07,  8.90batch/s, loss=0.643]"
          ]
        },
        {
          "output_type": "stream",
          "name": "stdout",
          "text": [
            "Train Epoch: 5 [1000/8000 (12%)]\tLoss: 0.641356\n"
          ]
        },
        {
          "output_type": "stream",
          "name": "stderr",
          "text": [
            "Epoch 5:  26%|██▋       | 21/80 [00:02<00:06,  8.88batch/s, loss=0.643]"
          ]
        },
        {
          "output_type": "stream",
          "name": "stdout",
          "text": [
            "Train Epoch: 5 [2000/8000 (25%)]\tLoss: 0.669435\n"
          ]
        },
        {
          "output_type": "stream",
          "name": "stderr",
          "text": [
            "Epoch 5:  39%|███▉      | 31/80 [00:03<00:05,  8.95batch/s, loss=0.646]"
          ]
        },
        {
          "output_type": "stream",
          "name": "stdout",
          "text": [
            "Train Epoch: 5 [3000/8000 (38%)]\tLoss: 0.660412\n"
          ]
        },
        {
          "output_type": "stream",
          "name": "stderr",
          "text": [
            "Epoch 5:  51%|█████▏    | 41/80 [00:04<00:04,  8.81batch/s, loss=0.686]"
          ]
        },
        {
          "output_type": "stream",
          "name": "stdout",
          "text": [
            "Train Epoch: 5 [4000/8000 (50%)]\tLoss: 0.663565\n"
          ]
        },
        {
          "output_type": "stream",
          "name": "stderr",
          "text": [
            "Epoch 5:  64%|██████▍   | 51/80 [00:05<00:03,  8.87batch/s, loss=0.668]"
          ]
        },
        {
          "output_type": "stream",
          "name": "stdout",
          "text": [
            "Train Epoch: 5 [5000/8000 (62%)]\tLoss: 0.641418\n"
          ]
        },
        {
          "output_type": "stream",
          "name": "stderr",
          "text": [
            "Epoch 5:  76%|███████▋  | 61/80 [00:06<00:02,  8.92batch/s, loss=0.647]"
          ]
        },
        {
          "output_type": "stream",
          "name": "stdout",
          "text": [
            "Train Epoch: 5 [6000/8000 (75%)]\tLoss: 0.660828\n"
          ]
        },
        {
          "output_type": "stream",
          "name": "stderr",
          "text": [
            "Epoch 5:  89%|████████▉ | 71/80 [00:07<00:01,  8.95batch/s, loss=0.643]"
          ]
        },
        {
          "output_type": "stream",
          "name": "stdout",
          "text": [
            "Train Epoch: 5 [7000/8000 (88%)]\tLoss: 0.658549\n"
          ]
        },
        {
          "output_type": "stream",
          "name": "stderr",
          "text": [
            "Epoch 5: 100%|██████████| 80/80 [00:08<00:00,  8.92batch/s, loss=0.675]\n"
          ]
        },
        {
          "output_type": "stream",
          "name": "stdout",
          "text": [
            "\n",
            "Test set: Average loss: 0.6382, Accuracy: 1520/2000 (76.000%)\n",
            "\n"
          ]
        },
        {
          "output_type": "stream",
          "name": "stderr",
          "text": [
            "Epoch 6:   1%|▏         | 1/80 [00:00<00:08,  9.10batch/s, loss=0.657]"
          ]
        },
        {
          "output_type": "stream",
          "name": "stdout",
          "text": [
            "Train Epoch: 6 [0/8000 (0%)]\tLoss: 0.649823\n"
          ]
        },
        {
          "output_type": "stream",
          "name": "stderr",
          "text": [
            "Epoch 6:  14%|█▍        | 11/80 [00:01<00:07,  8.99batch/s, loss=0.65]"
          ]
        },
        {
          "output_type": "stream",
          "name": "stdout",
          "text": [
            "Train Epoch: 6 [1000/8000 (12%)]\tLoss: 0.630169\n"
          ]
        },
        {
          "output_type": "stream",
          "name": "stderr",
          "text": [
            "Epoch 6:  26%|██▋       | 21/80 [00:02<00:06,  8.95batch/s, loss=0.635]"
          ]
        },
        {
          "output_type": "stream",
          "name": "stdout",
          "text": [
            "Train Epoch: 6 [2000/8000 (25%)]\tLoss: 0.676557\n"
          ]
        },
        {
          "output_type": "stream",
          "name": "stderr",
          "text": [
            "Epoch 6:  39%|███▉      | 31/80 [00:03<00:05,  8.95batch/s, loss=0.665]"
          ]
        },
        {
          "output_type": "stream",
          "name": "stdout",
          "text": [
            "Train Epoch: 6 [3000/8000 (38%)]\tLoss: 0.636734\n"
          ]
        },
        {
          "output_type": "stream",
          "name": "stderr",
          "text": [
            "Epoch 6:  51%|█████▏    | 41/80 [00:04<00:04,  8.96batch/s, loss=0.625]"
          ]
        },
        {
          "output_type": "stream",
          "name": "stdout",
          "text": [
            "Train Epoch: 6 [4000/8000 (50%)]\tLoss: 0.656447\n"
          ]
        },
        {
          "output_type": "stream",
          "name": "stderr",
          "text": [
            "Epoch 6:  64%|██████▍   | 51/80 [00:05<00:03,  8.82batch/s, loss=0.608]"
          ]
        },
        {
          "output_type": "stream",
          "name": "stdout",
          "text": [
            "Train Epoch: 6 [5000/8000 (62%)]\tLoss: 0.649971\n"
          ]
        },
        {
          "output_type": "stream",
          "name": "stderr",
          "text": [
            "Epoch 6:  76%|███████▋  | 61/80 [00:06<00:02,  8.83batch/s, loss=0.631]"
          ]
        },
        {
          "output_type": "stream",
          "name": "stdout",
          "text": [
            "Train Epoch: 6 [6000/8000 (75%)]\tLoss: 0.641146\n"
          ]
        },
        {
          "output_type": "stream",
          "name": "stderr",
          "text": [
            "Epoch 6:  89%|████████▉ | 71/80 [00:07<00:01,  8.97batch/s, loss=0.638]"
          ]
        },
        {
          "output_type": "stream",
          "name": "stdout",
          "text": [
            "Train Epoch: 6 [7000/8000 (88%)]\tLoss: 0.655051\n"
          ]
        },
        {
          "output_type": "stream",
          "name": "stderr",
          "text": [
            "Epoch 6: 100%|██████████| 80/80 [00:08<00:00,  8.95batch/s, loss=0.647]\n"
          ]
        },
        {
          "output_type": "stream",
          "name": "stdout",
          "text": [
            "\n",
            "Test set: Average loss: 0.6277, Accuracy: 1527/2000 (76.350%)\n",
            "\n"
          ]
        },
        {
          "output_type": "stream",
          "name": "stderr",
          "text": [
            "Epoch 7:   1%|▏         | 1/80 [00:00<00:09,  8.70batch/s, loss=0.659]"
          ]
        },
        {
          "output_type": "stream",
          "name": "stdout",
          "text": [
            "Train Epoch: 7 [0/8000 (0%)]\tLoss: 0.616217\n"
          ]
        },
        {
          "output_type": "stream",
          "name": "stderr",
          "text": [
            "Epoch 7:  14%|█▍        | 11/80 [00:01<00:07,  9.05batch/s, loss=0.639]"
          ]
        },
        {
          "output_type": "stream",
          "name": "stdout",
          "text": [
            "Train Epoch: 7 [1000/8000 (12%)]\tLoss: 0.631290\n"
          ]
        },
        {
          "output_type": "stream",
          "name": "stderr",
          "text": [
            "Epoch 7:  26%|██▋       | 21/80 [00:02<00:06,  8.99batch/s, loss=0.675]"
          ]
        },
        {
          "output_type": "stream",
          "name": "stdout",
          "text": [
            "Train Epoch: 7 [2000/8000 (25%)]\tLoss: 0.649224\n"
          ]
        },
        {
          "output_type": "stream",
          "name": "stderr",
          "text": [
            "Epoch 7:  39%|███▉      | 31/80 [00:03<00:05,  8.95batch/s, loss=0.645]"
          ]
        },
        {
          "output_type": "stream",
          "name": "stdout",
          "text": [
            "Train Epoch: 7 [3000/8000 (38%)]\tLoss: 0.653951\n"
          ]
        },
        {
          "output_type": "stream",
          "name": "stderr",
          "text": [
            "Epoch 7:  51%|█████▏    | 41/80 [00:04<00:04,  8.97batch/s, loss=0.622]"
          ]
        },
        {
          "output_type": "stream",
          "name": "stdout",
          "text": [
            "Train Epoch: 7 [4000/8000 (50%)]\tLoss: 0.609665\n"
          ]
        },
        {
          "output_type": "stream",
          "name": "stderr",
          "text": [
            "Epoch 7:  64%|██████▍   | 51/80 [00:05<00:03,  9.03batch/s, loss=0.615]"
          ]
        },
        {
          "output_type": "stream",
          "name": "stdout",
          "text": [
            "Train Epoch: 7 [5000/8000 (62%)]\tLoss: 0.651335\n"
          ]
        },
        {
          "output_type": "stream",
          "name": "stderr",
          "text": [
            "Epoch 7:  76%|███████▋  | 61/80 [00:06<00:02,  8.85batch/s, loss=0.599]"
          ]
        },
        {
          "output_type": "stream",
          "name": "stdout",
          "text": [
            "Train Epoch: 7 [6000/8000 (75%)]\tLoss: 0.648639\n"
          ]
        },
        {
          "output_type": "stream",
          "name": "stderr",
          "text": [
            "Epoch 7:  89%|████████▉ | 71/80 [00:07<00:01,  8.98batch/s, loss=0.613]"
          ]
        },
        {
          "output_type": "stream",
          "name": "stdout",
          "text": [
            "Train Epoch: 7 [7000/8000 (88%)]\tLoss: 0.640114\n"
          ]
        },
        {
          "output_type": "stream",
          "name": "stderr",
          "text": [
            "Epoch 7: 100%|██████████| 80/80 [00:08<00:00,  8.97batch/s, loss=0.633]\n"
          ]
        },
        {
          "output_type": "stream",
          "name": "stdout",
          "text": [
            "\n",
            "Test set: Average loss: 0.6177, Accuracy: 1531/2000 (76.550%)\n",
            "\n"
          ]
        },
        {
          "output_type": "stream",
          "name": "stderr",
          "text": [
            "Epoch 8:   1%|▏         | 1/80 [00:00<00:09,  8.77batch/s, loss=0.604]"
          ]
        },
        {
          "output_type": "stream",
          "name": "stdout",
          "text": [
            "Train Epoch: 8 [0/8000 (0%)]\tLoss: 0.624375\n"
          ]
        },
        {
          "output_type": "stream",
          "name": "stderr",
          "text": [
            "Epoch 8:  14%|█▍        | 11/80 [00:01<00:07,  8.93batch/s, loss=0.623]"
          ]
        },
        {
          "output_type": "stream",
          "name": "stdout",
          "text": [
            "Train Epoch: 8 [1000/8000 (12%)]\tLoss: 0.635300\n"
          ]
        },
        {
          "output_type": "stream",
          "name": "stderr",
          "text": [
            "Epoch 8:  26%|██▋       | 21/80 [00:02<00:06,  8.93batch/s, loss=0.642]"
          ]
        },
        {
          "output_type": "stream",
          "name": "stdout",
          "text": [
            "Train Epoch: 8 [2000/8000 (25%)]\tLoss: 0.629342\n"
          ]
        },
        {
          "output_type": "stream",
          "name": "stderr",
          "text": [
            "Epoch 8:  39%|███▉      | 31/80 [00:03<00:05,  9.02batch/s, loss=0.664]"
          ]
        },
        {
          "output_type": "stream",
          "name": "stdout",
          "text": [
            "Train Epoch: 8 [3000/8000 (38%)]\tLoss: 0.615138\n"
          ]
        },
        {
          "output_type": "stream",
          "name": "stderr",
          "text": [
            "Epoch 8:  51%|█████▏    | 41/80 [00:04<00:04,  8.97batch/s, loss=0.639]"
          ]
        },
        {
          "output_type": "stream",
          "name": "stdout",
          "text": [
            "Train Epoch: 8 [4000/8000 (50%)]\tLoss: 0.625212\n"
          ]
        },
        {
          "output_type": "stream",
          "name": "stderr",
          "text": [
            "Epoch 8:  64%|██████▍   | 51/80 [00:05<00:03,  8.94batch/s, loss=0.663]"
          ]
        },
        {
          "output_type": "stream",
          "name": "stdout",
          "text": [
            "Train Epoch: 8 [5000/8000 (62%)]\tLoss: 0.627319\n"
          ]
        },
        {
          "output_type": "stream",
          "name": "stderr",
          "text": [
            "Epoch 8:  76%|███████▋  | 61/80 [00:06<00:02,  8.86batch/s, loss=0.643]"
          ]
        },
        {
          "output_type": "stream",
          "name": "stdout",
          "text": [
            "Train Epoch: 8 [6000/8000 (75%)]\tLoss: 0.668329\n"
          ]
        },
        {
          "output_type": "stream",
          "name": "stderr",
          "text": [
            "Epoch 8:  89%|████████▉ | 71/80 [00:07<00:01,  8.92batch/s, loss=0.644]"
          ]
        },
        {
          "output_type": "stream",
          "name": "stdout",
          "text": [
            "Train Epoch: 8 [7000/8000 (88%)]\tLoss: 0.589883\n"
          ]
        },
        {
          "output_type": "stream",
          "name": "stderr",
          "text": [
            "Epoch 8: 100%|██████████| 80/80 [00:08<00:00,  8.96batch/s, loss=0.633]\n"
          ]
        },
        {
          "output_type": "stream",
          "name": "stdout",
          "text": [
            "\n",
            "Test set: Average loss: 0.6083, Accuracy: 1525/2000 (76.250%)\n",
            "\n"
          ]
        },
        {
          "output_type": "stream",
          "name": "stderr",
          "text": [
            "Epoch 9:   1%|▏         | 1/80 [00:00<00:08,  8.82batch/s, loss=0.677]"
          ]
        },
        {
          "output_type": "stream",
          "name": "stdout",
          "text": [
            "Train Epoch: 9 [0/8000 (0%)]\tLoss: 0.605300\n"
          ]
        },
        {
          "output_type": "stream",
          "name": "stderr",
          "text": [
            "Epoch 9:  14%|█▍        | 11/80 [00:01<00:07,  8.97batch/s, loss=0.672]"
          ]
        },
        {
          "output_type": "stream",
          "name": "stdout",
          "text": [
            "Train Epoch: 9 [1000/8000 (12%)]\tLoss: 0.608158\n"
          ]
        },
        {
          "output_type": "stream",
          "name": "stderr",
          "text": [
            "Epoch 9:  26%|██▋       | 21/80 [00:02<00:06,  8.94batch/s, loss=0.626]"
          ]
        },
        {
          "output_type": "stream",
          "name": "stdout",
          "text": [
            "Train Epoch: 9 [2000/8000 (25%)]\tLoss: 0.622222\n"
          ]
        },
        {
          "output_type": "stream",
          "name": "stderr",
          "text": [
            "Epoch 9:  39%|███▉      | 31/80 [00:03<00:05,  8.99batch/s, loss=0.62] "
          ]
        },
        {
          "output_type": "stream",
          "name": "stdout",
          "text": [
            "Train Epoch: 9 [3000/8000 (38%)]\tLoss: 0.628236\n"
          ]
        },
        {
          "output_type": "stream",
          "name": "stderr",
          "text": [
            "Epoch 9:  51%|█████▏    | 41/80 [00:04<00:04,  8.97batch/s, loss=0.644]"
          ]
        },
        {
          "output_type": "stream",
          "name": "stdout",
          "text": [
            "Train Epoch: 9 [4000/8000 (50%)]\tLoss: 0.645495\n"
          ]
        },
        {
          "output_type": "stream",
          "name": "stderr",
          "text": [
            "Epoch 9:  64%|██████▍   | 51/80 [00:05<00:03,  8.94batch/s, loss=0.632]"
          ]
        },
        {
          "output_type": "stream",
          "name": "stdout",
          "text": [
            "Train Epoch: 9 [5000/8000 (62%)]\tLoss: 0.610696\n"
          ]
        },
        {
          "output_type": "stream",
          "name": "stderr",
          "text": [
            "Epoch 9:  76%|███████▋  | 61/80 [00:06<00:02,  8.94batch/s, loss=0.612]"
          ]
        },
        {
          "output_type": "stream",
          "name": "stdout",
          "text": [
            "Train Epoch: 9 [6000/8000 (75%)]\tLoss: 0.616870\n"
          ]
        },
        {
          "output_type": "stream",
          "name": "stderr",
          "text": [
            "Epoch 9:  89%|████████▉ | 71/80 [00:07<00:01,  8.94batch/s, loss=0.586]"
          ]
        },
        {
          "output_type": "stream",
          "name": "stdout",
          "text": [
            "Train Epoch: 9 [7000/8000 (88%)]\tLoss: 0.624756\n"
          ]
        },
        {
          "output_type": "stream",
          "name": "stderr",
          "text": [
            "Epoch 9: 100%|██████████| 80/80 [00:08<00:00,  8.96batch/s, loss=0.598]\n"
          ]
        },
        {
          "output_type": "stream",
          "name": "stdout",
          "text": [
            "\n",
            "Test set: Average loss: 0.5991, Accuracy: 1521/2000 (76.050%)\n",
            "\n"
          ]
        },
        {
          "output_type": "stream",
          "name": "stderr",
          "text": [
            "Epoch 10:   1%|▏         | 1/80 [00:00<00:08,  8.89batch/s, loss=0.646]"
          ]
        },
        {
          "output_type": "stream",
          "name": "stdout",
          "text": [
            "Train Epoch: 10 [0/8000 (0%)]\tLoss: 0.625283\n"
          ]
        },
        {
          "output_type": "stream",
          "name": "stderr",
          "text": [
            "Epoch 10:  14%|█▍        | 11/80 [00:01<00:07,  8.93batch/s, loss=0.663]"
          ]
        },
        {
          "output_type": "stream",
          "name": "stdout",
          "text": [
            "Train Epoch: 10 [1000/8000 (12%)]\tLoss: 0.610818\n"
          ]
        },
        {
          "output_type": "stream",
          "name": "stderr",
          "text": [
            "Epoch 10:  26%|██▋       | 21/80 [00:02<00:06,  8.88batch/s, loss=0.612]"
          ]
        },
        {
          "output_type": "stream",
          "name": "stdout",
          "text": [
            "Train Epoch: 10 [2000/8000 (25%)]\tLoss: 0.592691\n"
          ]
        },
        {
          "output_type": "stream",
          "name": "stderr",
          "text": [
            "Epoch 10:  39%|███▉      | 31/80 [00:03<00:05,  9.01batch/s, loss=0.634]"
          ]
        },
        {
          "output_type": "stream",
          "name": "stdout",
          "text": [
            "Train Epoch: 10 [3000/8000 (38%)]\tLoss: 0.611676\n"
          ]
        },
        {
          "output_type": "stream",
          "name": "stderr",
          "text": [
            "Epoch 10:  51%|█████▏    | 41/80 [00:04<00:04,  8.95batch/s, loss=0.649]"
          ]
        },
        {
          "output_type": "stream",
          "name": "stdout",
          "text": [
            "Train Epoch: 10 [4000/8000 (50%)]\tLoss: 0.604256\n"
          ]
        },
        {
          "output_type": "stream",
          "name": "stderr",
          "text": [
            "Epoch 10:  64%|██████▍   | 51/80 [00:05<00:03,  8.98batch/s, loss=0.612]"
          ]
        },
        {
          "output_type": "stream",
          "name": "stdout",
          "text": [
            "Train Epoch: 10 [5000/8000 (62%)]\tLoss: 0.588115\n"
          ]
        },
        {
          "output_type": "stream",
          "name": "stderr",
          "text": [
            "Epoch 10:  76%|███████▋  | 61/80 [00:06<00:02,  9.00batch/s, loss=0.61] "
          ]
        },
        {
          "output_type": "stream",
          "name": "stdout",
          "text": [
            "Train Epoch: 10 [6000/8000 (75%)]\tLoss: 0.665431\n"
          ]
        },
        {
          "output_type": "stream",
          "name": "stderr",
          "text": [
            "Epoch 10:  89%|████████▉ | 71/80 [00:07<00:01,  8.87batch/s, loss=0.651]"
          ]
        },
        {
          "output_type": "stream",
          "name": "stdout",
          "text": [
            "Train Epoch: 10 [7000/8000 (88%)]\tLoss: 0.619622\n"
          ]
        },
        {
          "output_type": "stream",
          "name": "stderr",
          "text": [
            "Epoch 10: 100%|██████████| 80/80 [00:08<00:00,  8.95batch/s, loss=0.618]\n"
          ]
        },
        {
          "output_type": "stream",
          "name": "stdout",
          "text": [
            "\n",
            "Test set: Average loss: 0.5900, Accuracy: 1521/2000 (76.050%)\n",
            "\n",
            "\n",
            " training DNN with 10000 data points and SGD lr=0.100000. \n",
            "\n"
          ]
        },
        {
          "output_type": "stream",
          "name": "stderr",
          "text": [
            "Epoch 1:   1%|▏         | 1/80 [00:00<00:09,  8.49batch/s, loss=0.708]"
          ]
        },
        {
          "output_type": "stream",
          "name": "stdout",
          "text": [
            "Train Epoch: 1 [0/8000 (0%)]\tLoss: 0.715639\n"
          ]
        },
        {
          "output_type": "stream",
          "name": "stderr",
          "text": [
            "Epoch 1:  14%|█▍        | 11/80 [00:01<00:07,  8.93batch/s, loss=0.649]"
          ]
        },
        {
          "output_type": "stream",
          "name": "stdout",
          "text": [
            "Train Epoch: 1 [1000/8000 (12%)]\tLoss: 0.628853\n"
          ]
        },
        {
          "output_type": "stream",
          "name": "stderr",
          "text": [
            "Epoch 1:  26%|██▋       | 21/80 [00:02<00:06,  8.91batch/s, loss=0.588]"
          ]
        },
        {
          "output_type": "stream",
          "name": "stdout",
          "text": [
            "Train Epoch: 1 [2000/8000 (25%)]\tLoss: 0.593203\n"
          ]
        },
        {
          "output_type": "stream",
          "name": "stderr",
          "text": [
            "Epoch 1:  39%|███▉      | 31/80 [00:03<00:05,  8.87batch/s, loss=0.57] "
          ]
        },
        {
          "output_type": "stream",
          "name": "stdout",
          "text": [
            "Train Epoch: 1 [3000/8000 (38%)]\tLoss: 0.622898\n"
          ]
        },
        {
          "output_type": "stream",
          "name": "stderr",
          "text": [
            "Epoch 1:  51%|█████▏    | 41/80 [00:04<00:04,  8.93batch/s, loss=0.639]"
          ]
        },
        {
          "output_type": "stream",
          "name": "stdout",
          "text": [
            "Train Epoch: 1 [4000/8000 (50%)]\tLoss: 0.535996\n"
          ]
        },
        {
          "output_type": "stream",
          "name": "stderr",
          "text": [
            "Epoch 1:  64%|██████▍   | 51/80 [00:05<00:03,  8.96batch/s, loss=0.587]"
          ]
        },
        {
          "output_type": "stream",
          "name": "stdout",
          "text": [
            "Train Epoch: 1 [5000/8000 (62%)]\tLoss: 0.578684\n"
          ]
        },
        {
          "output_type": "stream",
          "name": "stderr",
          "text": [
            "Epoch 1:  76%|███████▋  | 61/80 [00:06<00:02,  8.93batch/s, loss=0.462]"
          ]
        },
        {
          "output_type": "stream",
          "name": "stdout",
          "text": [
            "Train Epoch: 1 [6000/8000 (75%)]\tLoss: 0.525705\n"
          ]
        },
        {
          "output_type": "stream",
          "name": "stderr",
          "text": [
            "Epoch 1:  89%|████████▉ | 71/80 [00:07<00:00,  9.02batch/s, loss=0.452]"
          ]
        },
        {
          "output_type": "stream",
          "name": "stdout",
          "text": [
            "Train Epoch: 1 [7000/8000 (88%)]\tLoss: 0.559710\n"
          ]
        },
        {
          "output_type": "stream",
          "name": "stderr",
          "text": [
            "Epoch 1: 100%|██████████| 80/80 [00:08<00:00,  8.94batch/s, loss=0.492]\n"
          ]
        },
        {
          "output_type": "stream",
          "name": "stdout",
          "text": [
            "\n",
            "Test set: Average loss: 0.4645, Accuracy: 1567/2000 (78.350%)\n",
            "\n"
          ]
        },
        {
          "output_type": "stream",
          "name": "stderr",
          "text": [
            "Epoch 2:   1%|▏         | 1/80 [00:00<00:08,  9.08batch/s, loss=0.525]"
          ]
        },
        {
          "output_type": "stream",
          "name": "stdout",
          "text": [
            "Train Epoch: 2 [0/8000 (0%)]\tLoss: 0.538879\n"
          ]
        },
        {
          "output_type": "stream",
          "name": "stderr",
          "text": [
            "Epoch 2:  14%|█▍        | 11/80 [00:01<00:07,  8.95batch/s, loss=0.569]"
          ]
        },
        {
          "output_type": "stream",
          "name": "stdout",
          "text": [
            "Train Epoch: 2 [1000/8000 (12%)]\tLoss: 0.469071\n"
          ]
        },
        {
          "output_type": "stream",
          "name": "stderr",
          "text": [
            "Epoch 2:  26%|██▋       | 21/80 [00:02<00:06,  8.85batch/s, loss=0.526]"
          ]
        },
        {
          "output_type": "stream",
          "name": "stdout",
          "text": [
            "Train Epoch: 2 [2000/8000 (25%)]\tLoss: 0.477934\n"
          ]
        },
        {
          "output_type": "stream",
          "name": "stderr",
          "text": [
            "Epoch 2:  39%|███▉      | 31/80 [00:03<00:05,  8.92batch/s, loss=0.517]"
          ]
        },
        {
          "output_type": "stream",
          "name": "stdout",
          "text": [
            "Train Epoch: 2 [3000/8000 (38%)]\tLoss: 0.594786\n"
          ]
        },
        {
          "output_type": "stream",
          "name": "stderr",
          "text": [
            "Epoch 2:  51%|█████▏    | 41/80 [00:04<00:04,  8.95batch/s, loss=0.514]"
          ]
        },
        {
          "output_type": "stream",
          "name": "stdout",
          "text": [
            "Train Epoch: 2 [4000/8000 (50%)]\tLoss: 0.401429\n"
          ]
        },
        {
          "output_type": "stream",
          "name": "stderr",
          "text": [
            "Epoch 2:  64%|██████▍   | 51/80 [00:05<00:03,  8.94batch/s, loss=0.486]"
          ]
        },
        {
          "output_type": "stream",
          "name": "stdout",
          "text": [
            "Train Epoch: 2 [5000/8000 (62%)]\tLoss: 0.470712\n"
          ]
        },
        {
          "output_type": "stream",
          "name": "stderr",
          "text": [
            "Epoch 2:  76%|███████▋  | 61/80 [00:06<00:02,  8.87batch/s, loss=0.546]"
          ]
        },
        {
          "output_type": "stream",
          "name": "stdout",
          "text": [
            "Train Epoch: 2 [6000/8000 (75%)]\tLoss: 0.472948\n"
          ]
        },
        {
          "output_type": "stream",
          "name": "stderr",
          "text": [
            "Epoch 2:  89%|████████▉ | 71/80 [00:07<00:01,  8.86batch/s, loss=0.528]"
          ]
        },
        {
          "output_type": "stream",
          "name": "stdout",
          "text": [
            "Train Epoch: 2 [7000/8000 (88%)]\tLoss: 0.445586\n"
          ]
        },
        {
          "output_type": "stream",
          "name": "stderr",
          "text": [
            "Epoch 2: 100%|██████████| 80/80 [00:08<00:00,  8.93batch/s, loss=0.535]\n"
          ]
        },
        {
          "output_type": "stream",
          "name": "stdout",
          "text": [
            "\n",
            "Test set: Average loss: 0.4657, Accuracy: 1576/2000 (78.800%)\n",
            "\n"
          ]
        },
        {
          "output_type": "stream",
          "name": "stderr",
          "text": [
            "Epoch 3:   1%|▏         | 1/80 [00:00<00:08,  9.04batch/s, loss=0.466]"
          ]
        },
        {
          "output_type": "stream",
          "name": "stdout",
          "text": [
            "Train Epoch: 3 [0/8000 (0%)]\tLoss: 0.445670\n"
          ]
        },
        {
          "output_type": "stream",
          "name": "stderr",
          "text": [
            "Epoch 3:  14%|█▍        | 11/80 [00:01<00:07,  8.91batch/s, loss=0.462]"
          ]
        },
        {
          "output_type": "stream",
          "name": "stdout",
          "text": [
            "Train Epoch: 3 [1000/8000 (12%)]\tLoss: 0.420488\n"
          ]
        },
        {
          "output_type": "stream",
          "name": "stderr",
          "text": [
            "Epoch 3:  26%|██▋       | 21/80 [00:02<00:06,  9.02batch/s, loss=0.543]"
          ]
        },
        {
          "output_type": "stream",
          "name": "stdout",
          "text": [
            "Train Epoch: 3 [2000/8000 (25%)]\tLoss: 0.534487\n"
          ]
        },
        {
          "output_type": "stream",
          "name": "stderr",
          "text": [
            "Epoch 3:  39%|███▉      | 31/80 [00:03<00:05,  8.90batch/s, loss=0.41] "
          ]
        },
        {
          "output_type": "stream",
          "name": "stdout",
          "text": [
            "Train Epoch: 3 [3000/8000 (38%)]\tLoss: 0.579091\n"
          ]
        },
        {
          "output_type": "stream",
          "name": "stderr",
          "text": [
            "Epoch 3:  51%|█████▏    | 41/80 [00:04<00:04,  8.98batch/s, loss=0.506]"
          ]
        },
        {
          "output_type": "stream",
          "name": "stdout",
          "text": [
            "Train Epoch: 3 [4000/8000 (50%)]\tLoss: 0.506779\n"
          ]
        },
        {
          "output_type": "stream",
          "name": "stderr",
          "text": [
            "Epoch 3:  64%|██████▍   | 51/80 [00:05<00:03,  8.96batch/s, loss=0.465]"
          ]
        },
        {
          "output_type": "stream",
          "name": "stdout",
          "text": [
            "Train Epoch: 3 [5000/8000 (62%)]\tLoss: 0.430612\n"
          ]
        },
        {
          "output_type": "stream",
          "name": "stderr",
          "text": [
            "Epoch 3:  76%|███████▋  | 61/80 [00:06<00:02,  8.95batch/s, loss=0.501]"
          ]
        },
        {
          "output_type": "stream",
          "name": "stdout",
          "text": [
            "Train Epoch: 3 [6000/8000 (75%)]\tLoss: 0.502389\n"
          ]
        },
        {
          "output_type": "stream",
          "name": "stderr",
          "text": [
            "Epoch 3:  89%|████████▉ | 71/80 [00:07<00:01,  8.96batch/s, loss=0.513]"
          ]
        },
        {
          "output_type": "stream",
          "name": "stdout",
          "text": [
            "Train Epoch: 3 [7000/8000 (88%)]\tLoss: 0.419754\n"
          ]
        },
        {
          "output_type": "stream",
          "name": "stderr",
          "text": [
            "Epoch 3: 100%|██████████| 80/80 [00:08<00:00,  8.97batch/s, loss=0.562]\n"
          ]
        },
        {
          "output_type": "stream",
          "name": "stdout",
          "text": [
            "\n",
            "Test set: Average loss: 0.4736, Accuracy: 1536/2000 (76.800%)\n",
            "\n"
          ]
        },
        {
          "output_type": "stream",
          "name": "stderr",
          "text": [
            "Epoch 4:   1%|▏         | 1/80 [00:00<00:09,  8.51batch/s, loss=0.497]"
          ]
        },
        {
          "output_type": "stream",
          "name": "stdout",
          "text": [
            "Train Epoch: 4 [0/8000 (0%)]\tLoss: 0.554545\n"
          ]
        },
        {
          "output_type": "stream",
          "name": "stderr",
          "text": [
            "Epoch 4:  14%|█▍        | 11/80 [00:01<00:07,  8.93batch/s, loss=0.589]"
          ]
        },
        {
          "output_type": "stream",
          "name": "stdout",
          "text": [
            "Train Epoch: 4 [1000/8000 (12%)]\tLoss: 0.533085\n"
          ]
        },
        {
          "output_type": "stream",
          "name": "stderr",
          "text": [
            "Epoch 4:  26%|██▋       | 21/80 [00:02<00:06,  8.94batch/s, loss=0.495]"
          ]
        },
        {
          "output_type": "stream",
          "name": "stdout",
          "text": [
            "Train Epoch: 4 [2000/8000 (25%)]\tLoss: 0.422555\n"
          ]
        },
        {
          "output_type": "stream",
          "name": "stderr",
          "text": [
            "Epoch 4:  39%|███▉      | 31/80 [00:03<00:05,  8.86batch/s, loss=0.332]"
          ]
        },
        {
          "output_type": "stream",
          "name": "stdout",
          "text": [
            "Train Epoch: 4 [3000/8000 (38%)]\tLoss: 0.466441\n"
          ]
        },
        {
          "output_type": "stream",
          "name": "stderr",
          "text": [
            "Epoch 4:  51%|█████▏    | 41/80 [00:04<00:04,  8.90batch/s, loss=0.398]"
          ]
        },
        {
          "output_type": "stream",
          "name": "stdout",
          "text": [
            "Train Epoch: 4 [4000/8000 (50%)]\tLoss: 0.481408\n"
          ]
        },
        {
          "output_type": "stream",
          "name": "stderr",
          "text": [
            "Epoch 4:  64%|██████▍   | 51/80 [00:05<00:03,  8.94batch/s, loss=0.426]"
          ]
        },
        {
          "output_type": "stream",
          "name": "stdout",
          "text": [
            "Train Epoch: 4 [5000/8000 (62%)]\tLoss: 0.410943\n"
          ]
        },
        {
          "output_type": "stream",
          "name": "stderr",
          "text": [
            "Epoch 4:  76%|███████▋  | 61/80 [00:06<00:02,  8.94batch/s, loss=0.505]"
          ]
        },
        {
          "output_type": "stream",
          "name": "stdout",
          "text": [
            "Train Epoch: 4 [6000/8000 (75%)]\tLoss: 0.440118\n"
          ]
        },
        {
          "output_type": "stream",
          "name": "stderr",
          "text": [
            "Epoch 4:  89%|████████▉ | 71/80 [00:07<00:01,  8.96batch/s, loss=0.309]"
          ]
        },
        {
          "output_type": "stream",
          "name": "stdout",
          "text": [
            "Train Epoch: 4 [7000/8000 (88%)]\tLoss: 0.428023\n"
          ]
        },
        {
          "output_type": "stream",
          "name": "stderr",
          "text": [
            "Epoch 4: 100%|██████████| 80/80 [00:08<00:00,  8.94batch/s, loss=0.601]\n"
          ]
        },
        {
          "output_type": "stream",
          "name": "stdout",
          "text": [
            "\n",
            "Test set: Average loss: 0.4667, Accuracy: 1557/2000 (77.850%)\n",
            "\n"
          ]
        },
        {
          "output_type": "stream",
          "name": "stderr",
          "text": [
            "Epoch 5:   1%|▏         | 1/80 [00:00<00:08,  9.05batch/s, loss=0.432]"
          ]
        },
        {
          "output_type": "stream",
          "name": "stdout",
          "text": [
            "Train Epoch: 5 [0/8000 (0%)]\tLoss: 0.396383\n"
          ]
        },
        {
          "output_type": "stream",
          "name": "stderr",
          "text": [
            "Epoch 5:  14%|█▍        | 11/80 [00:01<00:07,  8.97batch/s, loss=0.431]"
          ]
        },
        {
          "output_type": "stream",
          "name": "stdout",
          "text": [
            "Train Epoch: 5 [1000/8000 (12%)]\tLoss: 0.439332\n"
          ]
        },
        {
          "output_type": "stream",
          "name": "stderr",
          "text": [
            "Epoch 5:  26%|██▋       | 21/80 [00:02<00:06,  8.89batch/s, loss=0.459]"
          ]
        },
        {
          "output_type": "stream",
          "name": "stdout",
          "text": [
            "Train Epoch: 5 [2000/8000 (25%)]\tLoss: 0.582307\n"
          ]
        },
        {
          "output_type": "stream",
          "name": "stderr",
          "text": [
            "Epoch 5:  39%|███▉      | 31/80 [00:03<00:05,  9.00batch/s, loss=0.47] "
          ]
        },
        {
          "output_type": "stream",
          "name": "stdout",
          "text": [
            "Train Epoch: 5 [3000/8000 (38%)]\tLoss: 0.416888\n"
          ]
        },
        {
          "output_type": "stream",
          "name": "stderr",
          "text": [
            "Epoch 5:  51%|█████▏    | 41/80 [00:04<00:04,  8.96batch/s, loss=0.534]"
          ]
        },
        {
          "output_type": "stream",
          "name": "stdout",
          "text": [
            "Train Epoch: 5 [4000/8000 (50%)]\tLoss: 0.447159\n"
          ]
        },
        {
          "output_type": "stream",
          "name": "stderr",
          "text": [
            "Epoch 5:  64%|██████▍   | 51/80 [00:05<00:03,  8.97batch/s, loss=0.428]"
          ]
        },
        {
          "output_type": "stream",
          "name": "stdout",
          "text": [
            "Train Epoch: 5 [5000/8000 (62%)]\tLoss: 0.462238\n"
          ]
        },
        {
          "output_type": "stream",
          "name": "stderr",
          "text": [
            "Epoch 5:  76%|███████▋  | 61/80 [00:06<00:02,  8.94batch/s, loss=0.417]"
          ]
        },
        {
          "output_type": "stream",
          "name": "stdout",
          "text": [
            "Train Epoch: 5 [6000/8000 (75%)]\tLoss: 0.577775\n"
          ]
        },
        {
          "output_type": "stream",
          "name": "stderr",
          "text": [
            "Epoch 5:  89%|████████▉ | 71/80 [00:07<00:01,  8.98batch/s, loss=0.499]"
          ]
        },
        {
          "output_type": "stream",
          "name": "stdout",
          "text": [
            "Train Epoch: 5 [7000/8000 (88%)]\tLoss: 0.408703\n"
          ]
        },
        {
          "output_type": "stream",
          "name": "stderr",
          "text": [
            "Epoch 5: 100%|██████████| 80/80 [00:08<00:00,  8.95batch/s, loss=0.422]\n"
          ]
        },
        {
          "output_type": "stream",
          "name": "stdout",
          "text": [
            "\n",
            "Test set: Average loss: 0.4491, Accuracy: 1582/2000 (79.100%)\n",
            "\n"
          ]
        },
        {
          "output_type": "stream",
          "name": "stderr",
          "text": [
            "Epoch 6:   1%|▏         | 1/80 [00:00<00:08,  8.82batch/s, loss=0.497]"
          ]
        },
        {
          "output_type": "stream",
          "name": "stdout",
          "text": [
            "Train Epoch: 6 [0/8000 (0%)]\tLoss: 0.508077\n"
          ]
        },
        {
          "output_type": "stream",
          "name": "stderr",
          "text": [
            "Epoch 6:  14%|█▍        | 11/80 [00:01<00:07,  8.91batch/s, loss=0.506]"
          ]
        },
        {
          "output_type": "stream",
          "name": "stdout",
          "text": [
            "Train Epoch: 6 [1000/8000 (12%)]\tLoss: 0.455931\n"
          ]
        },
        {
          "output_type": "stream",
          "name": "stderr",
          "text": [
            "Epoch 6:  26%|██▋       | 21/80 [00:02<00:06,  9.01batch/s, loss=0.575]"
          ]
        },
        {
          "output_type": "stream",
          "name": "stdout",
          "text": [
            "Train Epoch: 6 [2000/8000 (25%)]\tLoss: 0.449033\n"
          ]
        },
        {
          "output_type": "stream",
          "name": "stderr",
          "text": [
            "Epoch 6:  39%|███▉      | 31/80 [00:03<00:05,  8.96batch/s, loss=0.449]"
          ]
        },
        {
          "output_type": "stream",
          "name": "stdout",
          "text": [
            "Train Epoch: 6 [3000/8000 (38%)]\tLoss: 0.464482\n"
          ]
        },
        {
          "output_type": "stream",
          "name": "stderr",
          "text": [
            "Epoch 6:  51%|█████▏    | 41/80 [00:04<00:04,  8.96batch/s, loss=0.385]"
          ]
        },
        {
          "output_type": "stream",
          "name": "stdout",
          "text": [
            "Train Epoch: 6 [4000/8000 (50%)]\tLoss: 0.552853\n"
          ]
        },
        {
          "output_type": "stream",
          "name": "stderr",
          "text": [
            "Epoch 6:  64%|██████▍   | 51/80 [00:05<00:03,  8.96batch/s, loss=0.464]"
          ]
        },
        {
          "output_type": "stream",
          "name": "stdout",
          "text": [
            "Train Epoch: 6 [5000/8000 (62%)]\tLoss: 0.427981\n"
          ]
        },
        {
          "output_type": "stream",
          "name": "stderr",
          "text": [
            "Epoch 6:  76%|███████▋  | 61/80 [00:06<00:02,  8.98batch/s, loss=0.479]"
          ]
        },
        {
          "output_type": "stream",
          "name": "stdout",
          "text": [
            "Train Epoch: 6 [6000/8000 (75%)]\tLoss: 0.452788\n"
          ]
        },
        {
          "output_type": "stream",
          "name": "stderr",
          "text": [
            "Epoch 6:  89%|████████▉ | 71/80 [00:07<00:01,  8.96batch/s, loss=0.474]"
          ]
        },
        {
          "output_type": "stream",
          "name": "stdout",
          "text": [
            "Train Epoch: 6 [7000/8000 (88%)]\tLoss: 0.497214\n"
          ]
        },
        {
          "output_type": "stream",
          "name": "stderr",
          "text": [
            "Epoch 6: 100%|██████████| 80/80 [00:08<00:00,  8.96batch/s, loss=0.462]\n"
          ]
        },
        {
          "output_type": "stream",
          "name": "stdout",
          "text": [
            "\n",
            "Test set: Average loss: 0.4539, Accuracy: 1585/2000 (79.250%)\n",
            "\n"
          ]
        },
        {
          "output_type": "stream",
          "name": "stderr",
          "text": [
            "Epoch 7:   1%|▏         | 1/80 [00:00<00:09,  8.46batch/s, loss=0.399]"
          ]
        },
        {
          "output_type": "stream",
          "name": "stdout",
          "text": [
            "Train Epoch: 7 [0/8000 (0%)]\tLoss: 0.498856\n"
          ]
        },
        {
          "output_type": "stream",
          "name": "stderr",
          "text": [
            "Epoch 7:  14%|█▍        | 11/80 [00:01<00:07,  8.92batch/s, loss=0.485]"
          ]
        },
        {
          "output_type": "stream",
          "name": "stdout",
          "text": [
            "Train Epoch: 7 [1000/8000 (12%)]\tLoss: 0.423062\n"
          ]
        },
        {
          "output_type": "stream",
          "name": "stderr",
          "text": [
            "Epoch 7:  26%|██▋       | 21/80 [00:02<00:06,  8.95batch/s, loss=0.554]"
          ]
        },
        {
          "output_type": "stream",
          "name": "stdout",
          "text": [
            "Train Epoch: 7 [2000/8000 (25%)]\tLoss: 0.491981\n"
          ]
        },
        {
          "output_type": "stream",
          "name": "stderr",
          "text": [
            "Epoch 7:  39%|███▉      | 31/80 [00:03<00:05,  8.94batch/s, loss=0.427]"
          ]
        },
        {
          "output_type": "stream",
          "name": "stdout",
          "text": [
            "Train Epoch: 7 [3000/8000 (38%)]\tLoss: 0.427008\n"
          ]
        },
        {
          "output_type": "stream",
          "name": "stderr",
          "text": [
            "Epoch 7:  51%|█████▏    | 41/80 [00:04<00:04,  8.88batch/s, loss=0.451]"
          ]
        },
        {
          "output_type": "stream",
          "name": "stdout",
          "text": [
            "Train Epoch: 7 [4000/8000 (50%)]\tLoss: 0.432732\n"
          ]
        },
        {
          "output_type": "stream",
          "name": "stderr",
          "text": [
            "Epoch 7:  64%|██████▍   | 51/80 [00:05<00:03,  8.97batch/s, loss=0.48] "
          ]
        },
        {
          "output_type": "stream",
          "name": "stdout",
          "text": [
            "Train Epoch: 7 [5000/8000 (62%)]\tLoss: 0.450716\n"
          ]
        },
        {
          "output_type": "stream",
          "name": "stderr",
          "text": [
            "Epoch 7:  76%|███████▋  | 61/80 [00:06<00:02,  8.97batch/s, loss=0.399]"
          ]
        },
        {
          "output_type": "stream",
          "name": "stdout",
          "text": [
            "Train Epoch: 7 [6000/8000 (75%)]\tLoss: 0.474389\n"
          ]
        },
        {
          "output_type": "stream",
          "name": "stderr",
          "text": [
            "Epoch 7:  89%|████████▉ | 71/80 [00:07<00:01,  8.82batch/s, loss=0.584]"
          ]
        },
        {
          "output_type": "stream",
          "name": "stdout",
          "text": [
            "Train Epoch: 7 [7000/8000 (88%)]\tLoss: 0.467431\n"
          ]
        },
        {
          "output_type": "stream",
          "name": "stderr",
          "text": [
            "Epoch 7: 100%|██████████| 80/80 [00:08<00:00,  8.95batch/s, loss=0.406]\n"
          ]
        },
        {
          "output_type": "stream",
          "name": "stdout",
          "text": [
            "\n",
            "Test set: Average loss: 0.4478, Accuracy: 1595/2000 (79.750%)\n",
            "\n"
          ]
        },
        {
          "output_type": "stream",
          "name": "stderr",
          "text": [
            "Epoch 8:   1%|▏         | 1/80 [00:00<00:08,  9.06batch/s, loss=0.455]"
          ]
        },
        {
          "output_type": "stream",
          "name": "stdout",
          "text": [
            "Train Epoch: 8 [0/8000 (0%)]\tLoss: 0.600938\n"
          ]
        },
        {
          "output_type": "stream",
          "name": "stderr",
          "text": [
            "Epoch 8:  14%|█▍        | 11/80 [00:01<00:07,  8.93batch/s, loss=0.417]"
          ]
        },
        {
          "output_type": "stream",
          "name": "stdout",
          "text": [
            "Train Epoch: 8 [1000/8000 (12%)]\tLoss: 0.424780\n"
          ]
        },
        {
          "output_type": "stream",
          "name": "stderr",
          "text": [
            "Epoch 8:  26%|██▋       | 21/80 [00:02<00:06,  8.97batch/s, loss=0.471]"
          ]
        },
        {
          "output_type": "stream",
          "name": "stdout",
          "text": [
            "Train Epoch: 8 [2000/8000 (25%)]\tLoss: 0.460412\n"
          ]
        },
        {
          "output_type": "stream",
          "name": "stderr",
          "text": [
            "Epoch 8:  39%|███▉      | 31/80 [00:03<00:05,  8.91batch/s, loss=0.495]"
          ]
        },
        {
          "output_type": "stream",
          "name": "stdout",
          "text": [
            "Train Epoch: 8 [3000/8000 (38%)]\tLoss: 0.429320\n"
          ]
        },
        {
          "output_type": "stream",
          "name": "stderr",
          "text": [
            "Epoch 8:  51%|█████▏    | 41/80 [00:04<00:04,  8.91batch/s, loss=0.425]"
          ]
        },
        {
          "output_type": "stream",
          "name": "stdout",
          "text": [
            "Train Epoch: 8 [4000/8000 (50%)]\tLoss: 0.550249\n"
          ]
        },
        {
          "output_type": "stream",
          "name": "stderr",
          "text": [
            "Epoch 8:  64%|██████▍   | 51/80 [00:05<00:03,  8.92batch/s, loss=0.517]"
          ]
        },
        {
          "output_type": "stream",
          "name": "stdout",
          "text": [
            "Train Epoch: 8 [5000/8000 (62%)]\tLoss: 0.537260\n"
          ]
        },
        {
          "output_type": "stream",
          "name": "stderr",
          "text": [
            "Epoch 8:  76%|███████▋  | 61/80 [00:06<00:02,  8.90batch/s, loss=0.41] "
          ]
        },
        {
          "output_type": "stream",
          "name": "stdout",
          "text": [
            "Train Epoch: 8 [6000/8000 (75%)]\tLoss: 0.476039\n"
          ]
        },
        {
          "output_type": "stream",
          "name": "stderr",
          "text": [
            "Epoch 8:  89%|████████▉ | 71/80 [00:07<00:01,  8.89batch/s, loss=0.427]"
          ]
        },
        {
          "output_type": "stream",
          "name": "stdout",
          "text": [
            "Train Epoch: 8 [7000/8000 (88%)]\tLoss: 0.493756\n"
          ]
        },
        {
          "output_type": "stream",
          "name": "stderr",
          "text": [
            "Epoch 8: 100%|██████████| 80/80 [00:08<00:00,  8.96batch/s, loss=0.484]\n"
          ]
        },
        {
          "output_type": "stream",
          "name": "stdout",
          "text": [
            "\n",
            "Test set: Average loss: 0.4629, Accuracy: 1561/2000 (78.050%)\n",
            "\n"
          ]
        },
        {
          "output_type": "stream",
          "name": "stderr",
          "text": [
            "Epoch 9:   1%|▏         | 1/80 [00:00<00:09,  8.64batch/s, loss=0.455]"
          ]
        },
        {
          "output_type": "stream",
          "name": "stdout",
          "text": [
            "Train Epoch: 9 [0/8000 (0%)]\tLoss: 0.471024\n"
          ]
        },
        {
          "output_type": "stream",
          "name": "stderr",
          "text": [
            "Epoch 9:  14%|█▍        | 11/80 [00:01<00:07,  8.88batch/s, loss=0.406]"
          ]
        },
        {
          "output_type": "stream",
          "name": "stdout",
          "text": [
            "Train Epoch: 9 [1000/8000 (12%)]\tLoss: 0.434433\n"
          ]
        },
        {
          "output_type": "stream",
          "name": "stderr",
          "text": [
            "Epoch 9:  26%|██▋       | 21/80 [00:02<00:06,  8.93batch/s, loss=0.508]"
          ]
        },
        {
          "output_type": "stream",
          "name": "stdout",
          "text": [
            "Train Epoch: 9 [2000/8000 (25%)]\tLoss: 0.533077\n"
          ]
        },
        {
          "output_type": "stream",
          "name": "stderr",
          "text": [
            "Epoch 9:  39%|███▉      | 31/80 [00:03<00:05,  8.91batch/s, loss=0.458]"
          ]
        },
        {
          "output_type": "stream",
          "name": "stdout",
          "text": [
            "Train Epoch: 9 [3000/8000 (38%)]\tLoss: 0.510939\n"
          ]
        },
        {
          "output_type": "stream",
          "name": "stderr",
          "text": [
            "Epoch 9:  51%|█████▏    | 41/80 [00:04<00:04,  8.93batch/s, loss=0.429]"
          ]
        },
        {
          "output_type": "stream",
          "name": "stdout",
          "text": [
            "Train Epoch: 9 [4000/8000 (50%)]\tLoss: 0.463168\n"
          ]
        },
        {
          "output_type": "stream",
          "name": "stderr",
          "text": [
            "Epoch 9:  64%|██████▍   | 51/80 [00:05<00:03,  8.94batch/s, loss=0.447]"
          ]
        },
        {
          "output_type": "stream",
          "name": "stdout",
          "text": [
            "Train Epoch: 9 [5000/8000 (62%)]\tLoss: 0.416385\n"
          ]
        },
        {
          "output_type": "stream",
          "name": "stderr",
          "text": [
            "Epoch 9:  76%|███████▋  | 61/80 [00:06<00:02,  8.96batch/s, loss=0.343]"
          ]
        },
        {
          "output_type": "stream",
          "name": "stdout",
          "text": [
            "Train Epoch: 9 [6000/8000 (75%)]\tLoss: 0.507112\n"
          ]
        },
        {
          "output_type": "stream",
          "name": "stderr",
          "text": [
            "Epoch 9:  89%|████████▉ | 71/80 [00:07<00:01,  8.99batch/s, loss=0.471]"
          ]
        },
        {
          "output_type": "stream",
          "name": "stdout",
          "text": [
            "Train Epoch: 9 [7000/8000 (88%)]\tLoss: 0.543801\n"
          ]
        },
        {
          "output_type": "stream",
          "name": "stderr",
          "text": [
            "Epoch 9: 100%|██████████| 80/80 [00:08<00:00,  8.93batch/s, loss=0.582]\n"
          ]
        },
        {
          "output_type": "stream",
          "name": "stdout",
          "text": [
            "\n",
            "Test set: Average loss: 0.4501, Accuracy: 1577/2000 (78.850%)\n",
            "\n"
          ]
        },
        {
          "output_type": "stream",
          "name": "stderr",
          "text": [
            "Epoch 10:   1%|▏         | 1/80 [00:00<00:09,  8.60batch/s, loss=0.524]"
          ]
        },
        {
          "output_type": "stream",
          "name": "stdout",
          "text": [
            "Train Epoch: 10 [0/8000 (0%)]\tLoss: 0.408126\n"
          ]
        },
        {
          "output_type": "stream",
          "name": "stderr",
          "text": [
            "Epoch 10:  14%|█▍        | 11/80 [00:01<00:07,  8.96batch/s, loss=0.48] "
          ]
        },
        {
          "output_type": "stream",
          "name": "stdout",
          "text": [
            "Train Epoch: 10 [1000/8000 (12%)]\tLoss: 0.516562\n"
          ]
        },
        {
          "output_type": "stream",
          "name": "stderr",
          "text": [
            "Epoch 10:  26%|██▋       | 21/80 [00:02<00:06,  8.76batch/s, loss=0.472]"
          ]
        },
        {
          "output_type": "stream",
          "name": "stdout",
          "text": [
            "Train Epoch: 10 [2000/8000 (25%)]\tLoss: 0.399397\n"
          ]
        },
        {
          "output_type": "stream",
          "name": "stderr",
          "text": [
            "Epoch 10:  39%|███▉      | 31/80 [00:03<00:05,  8.88batch/s, loss=0.426]"
          ]
        },
        {
          "output_type": "stream",
          "name": "stdout",
          "text": [
            "Train Epoch: 10 [3000/8000 (38%)]\tLoss: 0.449852\n"
          ]
        },
        {
          "output_type": "stream",
          "name": "stderr",
          "text": [
            "Epoch 10:  51%|█████▏    | 41/80 [00:04<00:04,  8.92batch/s, loss=0.426]"
          ]
        },
        {
          "output_type": "stream",
          "name": "stdout",
          "text": [
            "Train Epoch: 10 [4000/8000 (50%)]\tLoss: 0.452591\n"
          ]
        },
        {
          "output_type": "stream",
          "name": "stderr",
          "text": [
            "Epoch 10:  64%|██████▍   | 51/80 [00:05<00:03,  8.88batch/s, loss=0.504]"
          ]
        },
        {
          "output_type": "stream",
          "name": "stdout",
          "text": [
            "Train Epoch: 10 [5000/8000 (62%)]\tLoss: 0.402227\n"
          ]
        },
        {
          "output_type": "stream",
          "name": "stderr",
          "text": [
            "Epoch 10:  76%|███████▋  | 61/80 [00:06<00:02,  8.91batch/s, loss=0.38] "
          ]
        },
        {
          "output_type": "stream",
          "name": "stdout",
          "text": [
            "Train Epoch: 10 [6000/8000 (75%)]\tLoss: 0.425398\n"
          ]
        },
        {
          "output_type": "stream",
          "name": "stderr",
          "text": [
            "Epoch 10:  89%|████████▉ | 71/80 [00:07<00:00,  9.01batch/s, loss=0.397]"
          ]
        },
        {
          "output_type": "stream",
          "name": "stdout",
          "text": [
            "Train Epoch: 10 [7000/8000 (88%)]\tLoss: 0.503856\n"
          ]
        },
        {
          "output_type": "stream",
          "name": "stderr",
          "text": [
            "Epoch 10: 100%|██████████| 80/80 [00:08<00:00,  8.94batch/s, loss=0.544]\n"
          ]
        },
        {
          "output_type": "stream",
          "name": "stdout",
          "text": [
            "\n",
            "Test set: Average loss: 0.4610, Accuracy: 1583/2000 (79.150%)\n",
            "\n",
            "Drive already mounted at /content/gdrive; to attempt to forcibly remount, call drive.mount(\"/content/gdrive\", force_remount=True).\n",
            "Training on 80000 examples\n",
            "Using both high and low level features\n",
            "Testing on 20000 examples\n",
            "Using both high and low level features\n",
            "\n",
            " training DNN with 100000 data points and SGD lr=0.000010. \n",
            "\n"
          ]
        },
        {
          "output_type": "stream",
          "name": "stderr",
          "text": [
            "Epoch 1:   1%|▏         | 1/80 [00:00<00:10,  7.72batch/s, loss=0.705]"
          ]
        },
        {
          "output_type": "stream",
          "name": "stdout",
          "text": [
            "Train Epoch: 1 [0/80000 (0%)]\tLoss: 0.712625\n"
          ]
        },
        {
          "output_type": "stream",
          "name": "stderr",
          "text": [
            "Epoch 1:  14%|█▍        | 11/80 [00:01<00:08,  8.36batch/s, loss=0.704]"
          ]
        },
        {
          "output_type": "stream",
          "name": "stdout",
          "text": [
            "Train Epoch: 1 [10000/80000 (12%)]\tLoss: 0.704382\n"
          ]
        },
        {
          "output_type": "stream",
          "name": "stderr",
          "text": [
            "Epoch 1:  26%|██▋       | 21/80 [00:02<00:07,  8.37batch/s, loss=0.714]"
          ]
        },
        {
          "output_type": "stream",
          "name": "stdout",
          "text": [
            "Train Epoch: 1 [20000/80000 (25%)]\tLoss: 0.695127\n"
          ]
        },
        {
          "output_type": "stream",
          "name": "stderr",
          "text": [
            "Epoch 1:  39%|███▉      | 31/80 [00:03<00:05,  8.35batch/s, loss=0.714]"
          ]
        },
        {
          "output_type": "stream",
          "name": "stdout",
          "text": [
            "Train Epoch: 1 [30000/80000 (38%)]\tLoss: 0.718040\n"
          ]
        },
        {
          "output_type": "stream",
          "name": "stderr",
          "text": [
            "Epoch 1:  51%|█████▏    | 41/80 [00:04<00:04,  8.22batch/s, loss=0.715]"
          ]
        },
        {
          "output_type": "stream",
          "name": "stdout",
          "text": [
            "Train Epoch: 1 [40000/80000 (50%)]\tLoss: 0.710391\n"
          ]
        },
        {
          "output_type": "stream",
          "name": "stderr",
          "text": [
            "Epoch 1:  64%|██████▍   | 51/80 [00:06<00:03,  8.21batch/s, loss=0.725]"
          ]
        },
        {
          "output_type": "stream",
          "name": "stdout",
          "text": [
            "Train Epoch: 1 [50000/80000 (62%)]\tLoss: 0.711130\n"
          ]
        },
        {
          "output_type": "stream",
          "name": "stderr",
          "text": [
            "Epoch 1:  76%|███████▋  | 61/80 [00:07<00:02,  8.25batch/s, loss=0.703]"
          ]
        },
        {
          "output_type": "stream",
          "name": "stdout",
          "text": [
            "Train Epoch: 1 [60000/80000 (75%)]\tLoss: 0.720110\n"
          ]
        },
        {
          "output_type": "stream",
          "name": "stderr",
          "text": [
            "Epoch 1:  89%|████████▉ | 71/80 [00:08<00:01,  8.26batch/s, loss=0.713]"
          ]
        },
        {
          "output_type": "stream",
          "name": "stdout",
          "text": [
            "Train Epoch: 1 [70000/80000 (88%)]\tLoss: 0.708004\n"
          ]
        },
        {
          "output_type": "stream",
          "name": "stderr",
          "text": [
            "Epoch 1: 100%|██████████| 80/80 [00:09<00:00,  8.29batch/s, loss=0.726]\n"
          ]
        },
        {
          "output_type": "stream",
          "name": "stdout",
          "text": [
            "\n",
            "Test set: Average loss: 0.7030, Accuracy: 8587/20000 (42.935%)\n",
            "\n"
          ]
        },
        {
          "output_type": "stream",
          "name": "stderr",
          "text": [
            "Epoch 2:   1%|▏         | 1/80 [00:00<00:10,  7.87batch/s, loss=0.727]"
          ]
        },
        {
          "output_type": "stream",
          "name": "stdout",
          "text": [
            "Train Epoch: 2 [0/80000 (0%)]\tLoss: 0.720317\n"
          ]
        },
        {
          "output_type": "stream",
          "name": "stderr",
          "text": [
            "Epoch 2:  14%|█▍        | 11/80 [00:01<00:08,  8.25batch/s, loss=0.708]"
          ]
        },
        {
          "output_type": "stream",
          "name": "stdout",
          "text": [
            "Train Epoch: 2 [10000/80000 (12%)]\tLoss: 0.717173\n"
          ]
        },
        {
          "output_type": "stream",
          "name": "stderr",
          "text": [
            "Epoch 2:  26%|██▋       | 21/80 [00:02<00:07,  8.15batch/s, loss=0.714]"
          ]
        },
        {
          "output_type": "stream",
          "name": "stdout",
          "text": [
            "Train Epoch: 2 [20000/80000 (25%)]\tLoss: 0.707676\n"
          ]
        },
        {
          "output_type": "stream",
          "name": "stderr",
          "text": [
            "Epoch 2:  39%|███▉      | 31/80 [00:03<00:05,  8.31batch/s, loss=0.715]"
          ]
        },
        {
          "output_type": "stream",
          "name": "stdout",
          "text": [
            "Train Epoch: 2 [30000/80000 (38%)]\tLoss: 0.705838\n"
          ]
        },
        {
          "output_type": "stream",
          "name": "stderr",
          "text": [
            "Epoch 2:  51%|█████▏    | 41/80 [00:04<00:04,  8.25batch/s, loss=0.718]"
          ]
        },
        {
          "output_type": "stream",
          "name": "stdout",
          "text": [
            "Train Epoch: 2 [40000/80000 (50%)]\tLoss: 0.708399\n"
          ]
        },
        {
          "output_type": "stream",
          "name": "stderr",
          "text": [
            "Epoch 2:  64%|██████▍   | 51/80 [00:06<00:03,  8.30batch/s, loss=0.709]"
          ]
        },
        {
          "output_type": "stream",
          "name": "stdout",
          "text": [
            "Train Epoch: 2 [50000/80000 (62%)]\tLoss: 0.717338\n"
          ]
        },
        {
          "output_type": "stream",
          "name": "stderr",
          "text": [
            "Epoch 2:  76%|███████▋  | 61/80 [00:07<00:02,  8.20batch/s, loss=0.715]"
          ]
        },
        {
          "output_type": "stream",
          "name": "stdout",
          "text": [
            "Train Epoch: 2 [60000/80000 (75%)]\tLoss: 0.711801\n"
          ]
        },
        {
          "output_type": "stream",
          "name": "stderr",
          "text": [
            "Epoch 2:  89%|████████▉ | 71/80 [00:08<00:01,  8.24batch/s, loss=0.706]"
          ]
        },
        {
          "output_type": "stream",
          "name": "stdout",
          "text": [
            "Train Epoch: 2 [70000/80000 (88%)]\tLoss: 0.709291\n"
          ]
        },
        {
          "output_type": "stream",
          "name": "stderr",
          "text": [
            "Epoch 2: 100%|██████████| 80/80 [00:09<00:00,  8.27batch/s, loss=0.709]\n"
          ]
        },
        {
          "output_type": "stream",
          "name": "stdout",
          "text": [
            "\n",
            "Test set: Average loss: 0.7029, Accuracy: 8601/20000 (43.005%)\n",
            "\n"
          ]
        },
        {
          "output_type": "stream",
          "name": "stderr",
          "text": [
            "Epoch 3:   1%|▏         | 1/80 [00:00<00:09,  8.04batch/s, loss=0.721]"
          ]
        },
        {
          "output_type": "stream",
          "name": "stdout",
          "text": [
            "Train Epoch: 3 [0/80000 (0%)]\tLoss: 0.704632\n"
          ]
        },
        {
          "output_type": "stream",
          "name": "stderr",
          "text": [
            "Epoch 3:  14%|█▍        | 11/80 [00:01<00:08,  8.23batch/s, loss=0.711]"
          ]
        },
        {
          "output_type": "stream",
          "name": "stdout",
          "text": [
            "Train Epoch: 3 [10000/80000 (12%)]\tLoss: 0.706179\n"
          ]
        },
        {
          "output_type": "stream",
          "name": "stderr",
          "text": [
            "Epoch 3:  26%|██▋       | 21/80 [00:02<00:07,  8.28batch/s, loss=0.719]"
          ]
        },
        {
          "output_type": "stream",
          "name": "stdout",
          "text": [
            "Train Epoch: 3 [20000/80000 (25%)]\tLoss: 0.717220\n"
          ]
        },
        {
          "output_type": "stream",
          "name": "stderr",
          "text": [
            "Epoch 3:  39%|███▉      | 31/80 [00:03<00:05,  8.39batch/s, loss=0.709]"
          ]
        },
        {
          "output_type": "stream",
          "name": "stdout",
          "text": [
            "Train Epoch: 3 [30000/80000 (38%)]\tLoss: 0.711404\n"
          ]
        },
        {
          "output_type": "stream",
          "name": "stderr",
          "text": [
            "Epoch 3:  51%|█████▏    | 41/80 [00:04<00:04,  8.30batch/s, loss=0.714]"
          ]
        },
        {
          "output_type": "stream",
          "name": "stdout",
          "text": [
            "Train Epoch: 3 [40000/80000 (50%)]\tLoss: 0.718238\n"
          ]
        },
        {
          "output_type": "stream",
          "name": "stderr",
          "text": [
            "Epoch 3:  64%|██████▍   | 51/80 [00:06<00:03,  8.21batch/s, loss=0.714]"
          ]
        },
        {
          "output_type": "stream",
          "name": "stdout",
          "text": [
            "Train Epoch: 3 [50000/80000 (62%)]\tLoss: 0.722659\n"
          ]
        },
        {
          "output_type": "stream",
          "name": "stderr",
          "text": [
            "Epoch 3:  76%|███████▋  | 61/80 [00:07<00:02,  8.10batch/s, loss=0.705]"
          ]
        },
        {
          "output_type": "stream",
          "name": "stdout",
          "text": [
            "Train Epoch: 3 [60000/80000 (75%)]\tLoss: 0.717034\n"
          ]
        },
        {
          "output_type": "stream",
          "name": "stderr",
          "text": [
            "Epoch 3:  89%|████████▉ | 71/80 [00:08<00:01,  8.13batch/s, loss=0.709]"
          ]
        },
        {
          "output_type": "stream",
          "name": "stdout",
          "text": [
            "Train Epoch: 3 [70000/80000 (88%)]\tLoss: 0.698297\n"
          ]
        },
        {
          "output_type": "stream",
          "name": "stderr",
          "text": [
            "Epoch 3: 100%|██████████| 80/80 [00:09<00:00,  8.25batch/s, loss=0.704]\n"
          ]
        },
        {
          "output_type": "stream",
          "name": "stdout",
          "text": [
            "\n",
            "Test set: Average loss: 0.7027, Accuracy: 8618/20000 (43.090%)\n",
            "\n"
          ]
        },
        {
          "output_type": "stream",
          "name": "stderr",
          "text": [
            "Epoch 4:   1%|▏         | 1/80 [00:00<00:09,  8.05batch/s, loss=0.709]"
          ]
        },
        {
          "output_type": "stream",
          "name": "stdout",
          "text": [
            "Train Epoch: 4 [0/80000 (0%)]\tLoss: 0.710673\n"
          ]
        },
        {
          "output_type": "stream",
          "name": "stderr",
          "text": [
            "Epoch 4:  14%|█▍        | 11/80 [00:01<00:08,  8.22batch/s, loss=0.707]"
          ]
        },
        {
          "output_type": "stream",
          "name": "stdout",
          "text": [
            "Train Epoch: 4 [10000/80000 (12%)]\tLoss: 0.714135\n"
          ]
        },
        {
          "output_type": "stream",
          "name": "stderr",
          "text": [
            "Epoch 4:  26%|██▋       | 21/80 [00:02<00:07,  8.33batch/s, loss=0.716]"
          ]
        },
        {
          "output_type": "stream",
          "name": "stdout",
          "text": [
            "Train Epoch: 4 [20000/80000 (25%)]\tLoss: 0.724420\n"
          ]
        },
        {
          "output_type": "stream",
          "name": "stderr",
          "text": [
            "Epoch 4:  39%|███▉      | 31/80 [00:03<00:05,  8.24batch/s, loss=0.718]"
          ]
        },
        {
          "output_type": "stream",
          "name": "stdout",
          "text": [
            "Train Epoch: 4 [30000/80000 (38%)]\tLoss: 0.710174\n"
          ]
        },
        {
          "output_type": "stream",
          "name": "stderr",
          "text": [
            "Epoch 4:  51%|█████▏    | 41/80 [00:04<00:04,  8.31batch/s, loss=0.709]"
          ]
        },
        {
          "output_type": "stream",
          "name": "stdout",
          "text": [
            "Train Epoch: 4 [40000/80000 (50%)]\tLoss: 0.708109\n"
          ]
        },
        {
          "output_type": "stream",
          "name": "stderr",
          "text": [
            "Epoch 4:  64%|██████▍   | 51/80 [00:06<00:03,  8.11batch/s, loss=0.704]"
          ]
        },
        {
          "output_type": "stream",
          "name": "stdout",
          "text": [
            "Train Epoch: 4 [50000/80000 (62%)]\tLoss: 0.714370\n"
          ]
        },
        {
          "output_type": "stream",
          "name": "stderr",
          "text": [
            "Epoch 4:  76%|███████▋  | 61/80 [00:07<00:02,  8.22batch/s, loss=0.718]"
          ]
        },
        {
          "output_type": "stream",
          "name": "stdout",
          "text": [
            "Train Epoch: 4 [60000/80000 (75%)]\tLoss: 0.717886\n"
          ]
        },
        {
          "output_type": "stream",
          "name": "stderr",
          "text": [
            "Epoch 4:  89%|████████▉ | 71/80 [00:08<00:01,  8.23batch/s, loss=0.712]"
          ]
        },
        {
          "output_type": "stream",
          "name": "stdout",
          "text": [
            "Train Epoch: 4 [70000/80000 (88%)]\tLoss: 0.713326\n"
          ]
        },
        {
          "output_type": "stream",
          "name": "stderr",
          "text": [
            "Epoch 4: 100%|██████████| 80/80 [00:09<00:00,  8.25batch/s, loss=0.708]\n"
          ]
        },
        {
          "output_type": "stream",
          "name": "stdout",
          "text": [
            "\n",
            "Test set: Average loss: 0.7025, Accuracy: 8631/20000 (43.155%)\n",
            "\n"
          ]
        },
        {
          "output_type": "stream",
          "name": "stderr",
          "text": [
            "Epoch 5:   1%|▏         | 1/80 [00:00<00:10,  7.73batch/s, loss=0.712]"
          ]
        },
        {
          "output_type": "stream",
          "name": "stdout",
          "text": [
            "Train Epoch: 5 [0/80000 (0%)]\tLoss: 0.715227\n"
          ]
        },
        {
          "output_type": "stream",
          "name": "stderr",
          "text": [
            "Epoch 5:  14%|█▍        | 11/80 [00:01<00:08,  8.26batch/s, loss=0.713]"
          ]
        },
        {
          "output_type": "stream",
          "name": "stdout",
          "text": [
            "Train Epoch: 5 [10000/80000 (12%)]\tLoss: 0.709940\n"
          ]
        },
        {
          "output_type": "stream",
          "name": "stderr",
          "text": [
            "Epoch 5:  26%|██▋       | 21/80 [00:02<00:07,  8.32batch/s, loss=0.703]"
          ]
        },
        {
          "output_type": "stream",
          "name": "stdout",
          "text": [
            "Train Epoch: 5 [20000/80000 (25%)]\tLoss: 0.711139\n"
          ]
        },
        {
          "output_type": "stream",
          "name": "stderr",
          "text": [
            "Epoch 5:  39%|███▉      | 31/80 [00:03<00:05,  8.31batch/s, loss=0.718]"
          ]
        },
        {
          "output_type": "stream",
          "name": "stdout",
          "text": [
            "Train Epoch: 5 [30000/80000 (38%)]\tLoss: 0.707838\n"
          ]
        },
        {
          "output_type": "stream",
          "name": "stderr",
          "text": [
            "Epoch 5:  51%|█████▏    | 41/80 [00:04<00:04,  8.24batch/s, loss=0.718]"
          ]
        },
        {
          "output_type": "stream",
          "name": "stdout",
          "text": [
            "Train Epoch: 5 [40000/80000 (50%)]\tLoss: 0.714628\n"
          ]
        },
        {
          "output_type": "stream",
          "name": "stderr",
          "text": [
            "Epoch 5:  64%|██████▍   | 51/80 [00:06<00:03,  8.25batch/s, loss=0.705]"
          ]
        },
        {
          "output_type": "stream",
          "name": "stdout",
          "text": [
            "Train Epoch: 5 [50000/80000 (62%)]\tLoss: 0.710254\n"
          ]
        },
        {
          "output_type": "stream",
          "name": "stderr",
          "text": [
            "Epoch 5:  76%|███████▋  | 61/80 [00:07<00:02,  8.24batch/s, loss=0.705]"
          ]
        },
        {
          "output_type": "stream",
          "name": "stdout",
          "text": [
            "Train Epoch: 5 [60000/80000 (75%)]\tLoss: 0.715372\n"
          ]
        },
        {
          "output_type": "stream",
          "name": "stderr",
          "text": [
            "Epoch 5:  89%|████████▉ | 71/80 [00:08<00:01,  8.32batch/s, loss=0.705]"
          ]
        },
        {
          "output_type": "stream",
          "name": "stdout",
          "text": [
            "Train Epoch: 5 [70000/80000 (88%)]\tLoss: 0.709206\n"
          ]
        },
        {
          "output_type": "stream",
          "name": "stderr",
          "text": [
            "Epoch 5: 100%|██████████| 80/80 [00:09<00:00,  8.28batch/s, loss=0.708]\n"
          ]
        },
        {
          "output_type": "stream",
          "name": "stdout",
          "text": [
            "\n",
            "Test set: Average loss: 0.7023, Accuracy: 8645/20000 (43.225%)\n",
            "\n"
          ]
        },
        {
          "output_type": "stream",
          "name": "stderr",
          "text": [
            "Epoch 6:   1%|▏         | 1/80 [00:00<00:09,  8.04batch/s, loss=0.704]"
          ]
        },
        {
          "output_type": "stream",
          "name": "stdout",
          "text": [
            "Train Epoch: 6 [0/80000 (0%)]\tLoss: 0.706370\n"
          ]
        },
        {
          "output_type": "stream",
          "name": "stderr",
          "text": [
            "Epoch 6:  14%|█▍        | 11/80 [00:01<00:08,  8.27batch/s, loss=0.72] "
          ]
        },
        {
          "output_type": "stream",
          "name": "stdout",
          "text": [
            "Train Epoch: 6 [10000/80000 (12%)]\tLoss: 0.707186\n"
          ]
        },
        {
          "output_type": "stream",
          "name": "stderr",
          "text": [
            "Epoch 6:  26%|██▋       | 21/80 [00:02<00:07,  8.31batch/s, loss=0.72] "
          ]
        },
        {
          "output_type": "stream",
          "name": "stdout",
          "text": [
            "Train Epoch: 6 [20000/80000 (25%)]\tLoss: 0.716657\n"
          ]
        },
        {
          "output_type": "stream",
          "name": "stderr",
          "text": [
            "Epoch 6:  39%|███▉      | 31/80 [00:03<00:05,  8.26batch/s, loss=0.714]"
          ]
        },
        {
          "output_type": "stream",
          "name": "stdout",
          "text": [
            "Train Epoch: 6 [30000/80000 (38%)]\tLoss: 0.715477\n"
          ]
        },
        {
          "output_type": "stream",
          "name": "stderr",
          "text": [
            "Epoch 6:  51%|█████▏    | 41/80 [00:05<00:05,  7.06batch/s, loss=0.708]"
          ]
        },
        {
          "output_type": "stream",
          "name": "stdout",
          "text": [
            "Train Epoch: 6 [40000/80000 (50%)]\tLoss: 0.721584\n"
          ]
        },
        {
          "output_type": "stream",
          "name": "stderr",
          "text": [
            "Epoch 6:  64%|██████▍   | 51/80 [00:06<00:03,  8.22batch/s, loss=0.714]"
          ]
        },
        {
          "output_type": "stream",
          "name": "stdout",
          "text": [
            "Train Epoch: 6 [50000/80000 (62%)]\tLoss: 0.711978\n"
          ]
        },
        {
          "output_type": "stream",
          "name": "stderr",
          "text": [
            "Epoch 6:  76%|███████▋  | 61/80 [00:07<00:02,  8.27batch/s, loss=0.711]"
          ]
        },
        {
          "output_type": "stream",
          "name": "stdout",
          "text": [
            "Train Epoch: 6 [60000/80000 (75%)]\tLoss: 0.715839\n"
          ]
        },
        {
          "output_type": "stream",
          "name": "stderr",
          "text": [
            "Epoch 6:  89%|████████▉ | 71/80 [00:08<00:01,  8.27batch/s, loss=0.714]"
          ]
        },
        {
          "output_type": "stream",
          "name": "stdout",
          "text": [
            "Train Epoch: 6 [70000/80000 (88%)]\tLoss: 0.714821\n"
          ]
        },
        {
          "output_type": "stream",
          "name": "stderr",
          "text": [
            "Epoch 6: 100%|██████████| 80/80 [00:09<00:00,  8.21batch/s, loss=0.719]\n"
          ]
        },
        {
          "output_type": "stream",
          "name": "stdout",
          "text": [
            "\n",
            "Test set: Average loss: 0.7021, Accuracy: 8657/20000 (43.285%)\n",
            "\n"
          ]
        },
        {
          "output_type": "stream",
          "name": "stderr",
          "text": [
            "Epoch 7:   1%|▏         | 1/80 [00:00<00:10,  7.80batch/s, loss=0.706]"
          ]
        },
        {
          "output_type": "stream",
          "name": "stdout",
          "text": [
            "Train Epoch: 7 [0/80000 (0%)]\tLoss: 0.712665\n"
          ]
        },
        {
          "output_type": "stream",
          "name": "stderr",
          "text": [
            "Epoch 7:  14%|█▍        | 11/80 [00:01<00:08,  8.27batch/s, loss=0.711]"
          ]
        },
        {
          "output_type": "stream",
          "name": "stdout",
          "text": [
            "Train Epoch: 7 [10000/80000 (12%)]\tLoss: 0.716310\n"
          ]
        },
        {
          "output_type": "stream",
          "name": "stderr",
          "text": [
            "Epoch 7:  26%|██▋       | 21/80 [00:02<00:07,  8.24batch/s, loss=0.721]"
          ]
        },
        {
          "output_type": "stream",
          "name": "stdout",
          "text": [
            "Train Epoch: 7 [20000/80000 (25%)]\tLoss: 0.708850\n"
          ]
        },
        {
          "output_type": "stream",
          "name": "stderr",
          "text": [
            "Epoch 7:  39%|███▉      | 31/80 [00:03<00:05,  8.21batch/s, loss=0.708]"
          ]
        },
        {
          "output_type": "stream",
          "name": "stdout",
          "text": [
            "Train Epoch: 7 [30000/80000 (38%)]\tLoss: 0.691341\n"
          ]
        },
        {
          "output_type": "stream",
          "name": "stderr",
          "text": [
            "Epoch 7:  51%|█████▏    | 41/80 [00:04<00:04,  8.32batch/s, loss=0.712]"
          ]
        },
        {
          "output_type": "stream",
          "name": "stdout",
          "text": [
            "Train Epoch: 7 [40000/80000 (50%)]\tLoss: 0.707586\n"
          ]
        },
        {
          "output_type": "stream",
          "name": "stderr",
          "text": [
            "Epoch 7:  64%|██████▍   | 51/80 [00:06<00:03,  8.27batch/s, loss=0.706]"
          ]
        },
        {
          "output_type": "stream",
          "name": "stdout",
          "text": [
            "Train Epoch: 7 [50000/80000 (62%)]\tLoss: 0.709680\n"
          ]
        },
        {
          "output_type": "stream",
          "name": "stderr",
          "text": [
            "Epoch 7:  76%|███████▋  | 61/80 [00:07<00:02,  8.32batch/s, loss=0.713]"
          ]
        },
        {
          "output_type": "stream",
          "name": "stdout",
          "text": [
            "Train Epoch: 7 [60000/80000 (75%)]\tLoss: 0.725705\n"
          ]
        },
        {
          "output_type": "stream",
          "name": "stderr",
          "text": [
            "Epoch 7:  89%|████████▉ | 71/80 [00:08<00:01,  8.22batch/s, loss=0.712]"
          ]
        },
        {
          "output_type": "stream",
          "name": "stdout",
          "text": [
            "Train Epoch: 7 [70000/80000 (88%)]\tLoss: 0.715979\n"
          ]
        },
        {
          "output_type": "stream",
          "name": "stderr",
          "text": [
            "Epoch 7: 100%|██████████| 80/80 [00:09<00:00,  8.29batch/s, loss=0.711]\n"
          ]
        },
        {
          "output_type": "stream",
          "name": "stdout",
          "text": [
            "\n",
            "Test set: Average loss: 0.7019, Accuracy: 8668/20000 (43.340%)\n",
            "\n"
          ]
        },
        {
          "output_type": "stream",
          "name": "stderr",
          "text": [
            "Epoch 8:   1%|▏         | 1/80 [00:00<00:09,  7.92batch/s, loss=0.716]"
          ]
        },
        {
          "output_type": "stream",
          "name": "stdout",
          "text": [
            "Train Epoch: 8 [0/80000 (0%)]\tLoss: 0.717679\n"
          ]
        },
        {
          "output_type": "stream",
          "name": "stderr",
          "text": [
            "Epoch 8:  14%|█▍        | 11/80 [00:01<00:08,  8.31batch/s, loss=0.707]"
          ]
        },
        {
          "output_type": "stream",
          "name": "stdout",
          "text": [
            "Train Epoch: 8 [10000/80000 (12%)]\tLoss: 0.710566\n"
          ]
        },
        {
          "output_type": "stream",
          "name": "stderr",
          "text": [
            "Epoch 8:  26%|██▋       | 21/80 [00:02<00:07,  8.34batch/s, loss=0.717]"
          ]
        },
        {
          "output_type": "stream",
          "name": "stdout",
          "text": [
            "Train Epoch: 8 [20000/80000 (25%)]\tLoss: 0.713392\n"
          ]
        },
        {
          "output_type": "stream",
          "name": "stderr",
          "text": [
            "Epoch 8:  39%|███▉      | 31/80 [00:03<00:05,  8.28batch/s, loss=0.711]"
          ]
        },
        {
          "output_type": "stream",
          "name": "stdout",
          "text": [
            "Train Epoch: 8 [30000/80000 (38%)]\tLoss: 0.712490\n"
          ]
        },
        {
          "output_type": "stream",
          "name": "stderr",
          "text": [
            "Epoch 8:  51%|█████▏    | 41/80 [00:05<00:05,  7.30batch/s, loss=0.712]"
          ]
        },
        {
          "output_type": "stream",
          "name": "stdout",
          "text": [
            "Train Epoch: 8 [40000/80000 (50%)]\tLoss: 0.706690\n"
          ]
        },
        {
          "output_type": "stream",
          "name": "stderr",
          "text": [
            "Epoch 8:  64%|██████▍   | 51/80 [00:06<00:03,  8.18batch/s, loss=0.706]"
          ]
        },
        {
          "output_type": "stream",
          "name": "stdout",
          "text": [
            "Train Epoch: 8 [50000/80000 (62%)]\tLoss: 0.713453\n"
          ]
        },
        {
          "output_type": "stream",
          "name": "stderr",
          "text": [
            "Epoch 8:  76%|███████▋  | 61/80 [00:07<00:02,  8.06batch/s, loss=0.704]"
          ]
        },
        {
          "output_type": "stream",
          "name": "stdout",
          "text": [
            "Train Epoch: 8 [60000/80000 (75%)]\tLoss: 0.707333\n"
          ]
        },
        {
          "output_type": "stream",
          "name": "stderr",
          "text": [
            "Epoch 8:  89%|████████▉ | 71/80 [00:08<00:01,  8.26batch/s, loss=0.716]"
          ]
        },
        {
          "output_type": "stream",
          "name": "stdout",
          "text": [
            "Train Epoch: 8 [70000/80000 (88%)]\tLoss: 0.718195\n"
          ]
        },
        {
          "output_type": "stream",
          "name": "stderr",
          "text": [
            "Epoch 8: 100%|██████████| 80/80 [00:09<00:00,  8.16batch/s, loss=0.707]\n"
          ]
        },
        {
          "output_type": "stream",
          "name": "stdout",
          "text": [
            "\n",
            "Test set: Average loss: 0.7017, Accuracy: 8690/20000 (43.450%)\n",
            "\n"
          ]
        },
        {
          "output_type": "stream",
          "name": "stderr",
          "text": [
            "Epoch 9:   1%|▏         | 1/80 [00:00<00:10,  7.89batch/s, loss=0.717]"
          ]
        },
        {
          "output_type": "stream",
          "name": "stdout",
          "text": [
            "Train Epoch: 9 [0/80000 (0%)]\tLoss: 0.723329\n"
          ]
        },
        {
          "output_type": "stream",
          "name": "stderr",
          "text": [
            "Epoch 9:  14%|█▍        | 11/80 [00:01<00:08,  8.20batch/s, loss=0.702]"
          ]
        },
        {
          "output_type": "stream",
          "name": "stdout",
          "text": [
            "Train Epoch: 9 [10000/80000 (12%)]\tLoss: 0.722824\n"
          ]
        },
        {
          "output_type": "stream",
          "name": "stderr",
          "text": [
            "Epoch 9:  26%|██▋       | 21/80 [00:02<00:07,  8.11batch/s, loss=0.712]"
          ]
        },
        {
          "output_type": "stream",
          "name": "stdout",
          "text": [
            "Train Epoch: 9 [20000/80000 (25%)]\tLoss: 0.707466\n"
          ]
        },
        {
          "output_type": "stream",
          "name": "stderr",
          "text": [
            "Epoch 9:  39%|███▉      | 31/80 [00:03<00:06,  8.13batch/s, loss=0.72] "
          ]
        },
        {
          "output_type": "stream",
          "name": "stdout",
          "text": [
            "Train Epoch: 9 [30000/80000 (38%)]\tLoss: 0.704312\n"
          ]
        },
        {
          "output_type": "stream",
          "name": "stderr",
          "text": [
            "Epoch 9:  51%|█████▏    | 41/80 [00:05<00:04,  8.24batch/s, loss=0.713]"
          ]
        },
        {
          "output_type": "stream",
          "name": "stdout",
          "text": [
            "Train Epoch: 9 [40000/80000 (50%)]\tLoss: 0.713679\n"
          ]
        },
        {
          "output_type": "stream",
          "name": "stderr",
          "text": [
            "Epoch 9:  64%|██████▍   | 51/80 [00:06<00:03,  8.17batch/s, loss=0.718]"
          ]
        },
        {
          "output_type": "stream",
          "name": "stdout",
          "text": [
            "Train Epoch: 9 [50000/80000 (62%)]\tLoss: 0.711338\n"
          ]
        },
        {
          "output_type": "stream",
          "name": "stderr",
          "text": [
            "Epoch 9:  76%|███████▋  | 61/80 [00:07<00:02,  8.21batch/s, loss=0.717]"
          ]
        },
        {
          "output_type": "stream",
          "name": "stdout",
          "text": [
            "Train Epoch: 9 [60000/80000 (75%)]\tLoss: 0.711161\n"
          ]
        },
        {
          "output_type": "stream",
          "name": "stderr",
          "text": [
            "Epoch 9:  89%|████████▉ | 71/80 [00:08<00:01,  8.26batch/s, loss=0.709]"
          ]
        },
        {
          "output_type": "stream",
          "name": "stdout",
          "text": [
            "Train Epoch: 9 [70000/80000 (88%)]\tLoss: 0.708962\n"
          ]
        },
        {
          "output_type": "stream",
          "name": "stderr",
          "text": [
            "Epoch 9: 100%|██████████| 80/80 [00:09<00:00,  8.20batch/s, loss=0.712]\n"
          ]
        },
        {
          "output_type": "stream",
          "name": "stdout",
          "text": [
            "\n",
            "Test set: Average loss: 0.7016, Accuracy: 8707/20000 (43.535%)\n",
            "\n"
          ]
        },
        {
          "output_type": "stream",
          "name": "stderr",
          "text": [
            "Epoch 10:   1%|▏         | 1/80 [00:00<00:10,  7.33batch/s, loss=0.706]"
          ]
        },
        {
          "output_type": "stream",
          "name": "stdout",
          "text": [
            "Train Epoch: 10 [0/80000 (0%)]\tLoss: 0.714007\n"
          ]
        },
        {
          "output_type": "stream",
          "name": "stderr",
          "text": [
            "Epoch 10:  14%|█▍        | 11/80 [00:01<00:08,  8.15batch/s, loss=0.709]"
          ]
        },
        {
          "output_type": "stream",
          "name": "stdout",
          "text": [
            "Train Epoch: 10 [10000/80000 (12%)]\tLoss: 0.710288\n"
          ]
        },
        {
          "output_type": "stream",
          "name": "stderr",
          "text": [
            "Epoch 10:  26%|██▋       | 21/80 [00:02<00:07,  8.15batch/s, loss=0.706]"
          ]
        },
        {
          "output_type": "stream",
          "name": "stdout",
          "text": [
            "Train Epoch: 10 [20000/80000 (25%)]\tLoss: 0.715211\n"
          ]
        },
        {
          "output_type": "stream",
          "name": "stderr",
          "text": [
            "Epoch 10:  39%|███▉      | 31/80 [00:03<00:05,  8.20batch/s, loss=0.713]"
          ]
        },
        {
          "output_type": "stream",
          "name": "stdout",
          "text": [
            "Train Epoch: 10 [30000/80000 (38%)]\tLoss: 0.709954\n"
          ]
        },
        {
          "output_type": "stream",
          "name": "stderr",
          "text": [
            "Epoch 10:  51%|█████▏    | 41/80 [00:05<00:04,  8.07batch/s, loss=0.716]"
          ]
        },
        {
          "output_type": "stream",
          "name": "stdout",
          "text": [
            "Train Epoch: 10 [40000/80000 (50%)]\tLoss: 0.703138\n"
          ]
        },
        {
          "output_type": "stream",
          "name": "stderr",
          "text": [
            "Epoch 10:  64%|██████▍   | 51/80 [00:06<00:03,  8.19batch/s, loss=0.714]"
          ]
        },
        {
          "output_type": "stream",
          "name": "stdout",
          "text": [
            "Train Epoch: 10 [50000/80000 (62%)]\tLoss: 0.707377\n"
          ]
        },
        {
          "output_type": "stream",
          "name": "stderr",
          "text": [
            "Epoch 10:  76%|███████▋  | 61/80 [00:07<00:02,  7.96batch/s, loss=0.712]"
          ]
        },
        {
          "output_type": "stream",
          "name": "stdout",
          "text": [
            "Train Epoch: 10 [60000/80000 (75%)]\tLoss: 0.706947\n"
          ]
        },
        {
          "output_type": "stream",
          "name": "stderr",
          "text": [
            "Epoch 10:  89%|████████▉ | 71/80 [00:08<00:01,  8.18batch/s, loss=0.716]"
          ]
        },
        {
          "output_type": "stream",
          "name": "stdout",
          "text": [
            "Train Epoch: 10 [70000/80000 (88%)]\tLoss: 0.713127\n"
          ]
        },
        {
          "output_type": "stream",
          "name": "stderr",
          "text": [
            "Epoch 10: 100%|██████████| 80/80 [00:09<00:00,  8.17batch/s, loss=0.708]\n"
          ]
        },
        {
          "output_type": "stream",
          "name": "stdout",
          "text": [
            "\n",
            "Test set: Average loss: 0.7014, Accuracy: 8725/20000 (43.625%)\n",
            "\n",
            "\n",
            " training DNN with 100000 data points and SGD lr=0.001000. \n",
            "\n"
          ]
        },
        {
          "output_type": "stream",
          "name": "stderr",
          "text": [
            "Epoch 1:   1%|▏         | 1/80 [00:00<00:10,  7.76batch/s, loss=0.702]"
          ]
        },
        {
          "output_type": "stream",
          "name": "stdout",
          "text": [
            "Train Epoch: 1 [0/80000 (0%)]\tLoss: 0.699588\n"
          ]
        },
        {
          "output_type": "stream",
          "name": "stderr",
          "text": [
            "Epoch 1:  14%|█▍        | 11/80 [00:01<00:08,  8.17batch/s, loss=0.698]"
          ]
        },
        {
          "output_type": "stream",
          "name": "stdout",
          "text": [
            "Train Epoch: 1 [10000/80000 (12%)]\tLoss: 0.693721\n"
          ]
        },
        {
          "output_type": "stream",
          "name": "stderr",
          "text": [
            "Epoch 1:  26%|██▋       | 21/80 [00:02<00:07,  8.17batch/s, loss=0.699]"
          ]
        },
        {
          "output_type": "stream",
          "name": "stdout",
          "text": [
            "Train Epoch: 1 [20000/80000 (25%)]\tLoss: 0.699041\n"
          ]
        },
        {
          "output_type": "stream",
          "name": "stderr",
          "text": [
            "Epoch 1:  39%|███▉      | 31/80 [00:03<00:05,  8.23batch/s, loss=0.698]"
          ]
        },
        {
          "output_type": "stream",
          "name": "stdout",
          "text": [
            "Train Epoch: 1 [30000/80000 (38%)]\tLoss: 0.698299\n"
          ]
        },
        {
          "output_type": "stream",
          "name": "stderr",
          "text": [
            "Epoch 1:  51%|█████▏    | 41/80 [00:05<00:04,  8.26batch/s, loss=0.697]"
          ]
        },
        {
          "output_type": "stream",
          "name": "stdout",
          "text": [
            "Train Epoch: 1 [40000/80000 (50%)]\tLoss: 0.693580\n"
          ]
        },
        {
          "output_type": "stream",
          "name": "stderr",
          "text": [
            "Epoch 1:  64%|██████▍   | 51/80 [00:06<00:03,  8.15batch/s, loss=0.692]"
          ]
        },
        {
          "output_type": "stream",
          "name": "stdout",
          "text": [
            "Train Epoch: 1 [50000/80000 (62%)]\tLoss: 0.691867\n"
          ]
        },
        {
          "output_type": "stream",
          "name": "stderr",
          "text": [
            "Epoch 1:  76%|███████▋  | 61/80 [00:07<00:02,  7.70batch/s, loss=0.693]"
          ]
        },
        {
          "output_type": "stream",
          "name": "stdout",
          "text": [
            "Train Epoch: 1 [60000/80000 (75%)]\tLoss: 0.694159\n"
          ]
        },
        {
          "output_type": "stream",
          "name": "stderr",
          "text": [
            "Epoch 1:  89%|████████▉ | 71/80 [00:08<00:01,  8.21batch/s, loss=0.692]"
          ]
        },
        {
          "output_type": "stream",
          "name": "stdout",
          "text": [
            "Train Epoch: 1 [70000/80000 (88%)]\tLoss: 0.687765\n"
          ]
        },
        {
          "output_type": "stream",
          "name": "stderr",
          "text": [
            "Epoch 1: 100%|██████████| 80/80 [00:09<00:00,  8.13batch/s, loss=0.697]\n"
          ]
        },
        {
          "output_type": "stream",
          "name": "stdout",
          "text": [
            "\n",
            "Test set: Average loss: 0.6856, Accuracy: 9820/20000 (49.100%)\n",
            "\n"
          ]
        },
        {
          "output_type": "stream",
          "name": "stderr",
          "text": [
            "Epoch 2:   1%|▏         | 1/80 [00:00<00:09,  7.99batch/s, loss=0.69] "
          ]
        },
        {
          "output_type": "stream",
          "name": "stdout",
          "text": [
            "Train Epoch: 2 [0/80000 (0%)]\tLoss: 0.687200\n"
          ]
        },
        {
          "output_type": "stream",
          "name": "stderr",
          "text": [
            "Epoch 2:  14%|█▍        | 11/80 [00:01<00:08,  8.27batch/s, loss=0.694]"
          ]
        },
        {
          "output_type": "stream",
          "name": "stdout",
          "text": [
            "Train Epoch: 2 [10000/80000 (12%)]\tLoss: 0.689913\n"
          ]
        },
        {
          "output_type": "stream",
          "name": "stderr",
          "text": [
            "Epoch 2:  26%|██▋       | 21/80 [00:02<00:07,  8.20batch/s, loss=0.692]"
          ]
        },
        {
          "output_type": "stream",
          "name": "stdout",
          "text": [
            "Train Epoch: 2 [20000/80000 (25%)]\tLoss: 0.695158\n"
          ]
        },
        {
          "output_type": "stream",
          "name": "stderr",
          "text": [
            "Epoch 2:  39%|███▉      | 31/80 [00:03<00:05,  8.26batch/s, loss=0.692]"
          ]
        },
        {
          "output_type": "stream",
          "name": "stdout",
          "text": [
            "Train Epoch: 2 [30000/80000 (38%)]\tLoss: 0.686629\n"
          ]
        },
        {
          "output_type": "stream",
          "name": "stderr",
          "text": [
            "Epoch 2:  51%|█████▏    | 41/80 [00:05<00:04,  8.17batch/s, loss=0.686]"
          ]
        },
        {
          "output_type": "stream",
          "name": "stdout",
          "text": [
            "Train Epoch: 2 [40000/80000 (50%)]\tLoss: 0.685757\n"
          ]
        },
        {
          "output_type": "stream",
          "name": "stderr",
          "text": [
            "Epoch 2:  64%|██████▍   | 51/80 [00:06<00:03,  8.18batch/s, loss=0.684]"
          ]
        },
        {
          "output_type": "stream",
          "name": "stdout",
          "text": [
            "Train Epoch: 2 [50000/80000 (62%)]\tLoss: 0.689780\n"
          ]
        },
        {
          "output_type": "stream",
          "name": "stderr",
          "text": [
            "Epoch 2:  76%|███████▋  | 61/80 [00:07<00:02,  8.24batch/s, loss=0.684]"
          ]
        },
        {
          "output_type": "stream",
          "name": "stdout",
          "text": [
            "Train Epoch: 2 [60000/80000 (75%)]\tLoss: 0.687285\n"
          ]
        },
        {
          "output_type": "stream",
          "name": "stderr",
          "text": [
            "Epoch 2:  89%|████████▉ | 71/80 [00:08<00:01,  8.12batch/s, loss=0.683]"
          ]
        },
        {
          "output_type": "stream",
          "name": "stdout",
          "text": [
            "Train Epoch: 2 [70000/80000 (88%)]\tLoss: 0.681660\n"
          ]
        },
        {
          "output_type": "stream",
          "name": "stderr",
          "text": [
            "Epoch 2: 100%|██████████| 80/80 [00:09<00:00,  8.20batch/s, loss=0.683]\n"
          ]
        },
        {
          "output_type": "stream",
          "name": "stdout",
          "text": [
            "\n",
            "Test set: Average loss: 0.6765, Accuracy: 10584/20000 (52.920%)\n",
            "\n"
          ]
        },
        {
          "output_type": "stream",
          "name": "stderr",
          "text": [
            "Epoch 3:   1%|▏         | 1/80 [00:00<00:09,  8.04batch/s, loss=0.68] "
          ]
        },
        {
          "output_type": "stream",
          "name": "stdout",
          "text": [
            "Train Epoch: 3 [0/80000 (0%)]\tLoss: 0.685080\n"
          ]
        },
        {
          "output_type": "stream",
          "name": "stderr",
          "text": [
            "Epoch 3:  14%|█▍        | 11/80 [00:01<00:08,  8.22batch/s, loss=0.689]"
          ]
        },
        {
          "output_type": "stream",
          "name": "stdout",
          "text": [
            "Train Epoch: 3 [10000/80000 (12%)]\tLoss: 0.679915\n"
          ]
        },
        {
          "output_type": "stream",
          "name": "stderr",
          "text": [
            "Epoch 3:  26%|██▋       | 21/80 [00:02<00:07,  8.07batch/s, loss=0.675]"
          ]
        },
        {
          "output_type": "stream",
          "name": "stdout",
          "text": [
            "Train Epoch: 3 [20000/80000 (25%)]\tLoss: 0.682261\n"
          ]
        },
        {
          "output_type": "stream",
          "name": "stderr",
          "text": [
            "Epoch 3:  39%|███▉      | 31/80 [00:03<00:06,  8.16batch/s, loss=0.681]"
          ]
        },
        {
          "output_type": "stream",
          "name": "stdout",
          "text": [
            "Train Epoch: 3 [30000/80000 (38%)]\tLoss: 0.675580\n"
          ]
        },
        {
          "output_type": "stream",
          "name": "stderr",
          "text": [
            "Epoch 3:  51%|█████▏    | 41/80 [00:05<00:04,  8.23batch/s, loss=0.683]"
          ]
        },
        {
          "output_type": "stream",
          "name": "stdout",
          "text": [
            "Train Epoch: 3 [40000/80000 (50%)]\tLoss: 0.683328\n"
          ]
        },
        {
          "output_type": "stream",
          "name": "stderr",
          "text": [
            "Epoch 3:  64%|██████▍   | 51/80 [00:06<00:03,  8.25batch/s, loss=0.675]"
          ]
        },
        {
          "output_type": "stream",
          "name": "stdout",
          "text": [
            "Train Epoch: 3 [50000/80000 (62%)]\tLoss: 0.676340\n"
          ]
        },
        {
          "output_type": "stream",
          "name": "stderr",
          "text": [
            "Epoch 3:  76%|███████▋  | 61/80 [00:07<00:02,  8.15batch/s, loss=0.674]"
          ]
        },
        {
          "output_type": "stream",
          "name": "stdout",
          "text": [
            "Train Epoch: 3 [60000/80000 (75%)]\tLoss: 0.679275\n"
          ]
        },
        {
          "output_type": "stream",
          "name": "stderr",
          "text": [
            "Epoch 3:  89%|████████▉ | 71/80 [00:08<00:01,  8.19batch/s, loss=0.681]"
          ]
        },
        {
          "output_type": "stream",
          "name": "stdout",
          "text": [
            "Train Epoch: 3 [70000/80000 (88%)]\tLoss: 0.675337\n"
          ]
        },
        {
          "output_type": "stream",
          "name": "stderr",
          "text": [
            "Epoch 3: 100%|██████████| 80/80 [00:09<00:00,  8.20batch/s, loss=0.677]\n"
          ]
        },
        {
          "output_type": "stream",
          "name": "stdout",
          "text": [
            "\n",
            "Test set: Average loss: 0.6677, Accuracy: 12380/20000 (61.900%)\n",
            "\n"
          ]
        },
        {
          "output_type": "stream",
          "name": "stderr",
          "text": [
            "Epoch 4:   1%|▏         | 1/80 [00:00<00:09,  7.94batch/s, loss=0.673]"
          ]
        },
        {
          "output_type": "stream",
          "name": "stdout",
          "text": [
            "Train Epoch: 4 [0/80000 (0%)]\tLoss: 0.677271\n"
          ]
        },
        {
          "output_type": "stream",
          "name": "stderr",
          "text": [
            "Epoch 4:  14%|█▍        | 11/80 [00:01<00:08,  8.28batch/s, loss=0.675]"
          ]
        },
        {
          "output_type": "stream",
          "name": "stdout",
          "text": [
            "Train Epoch: 4 [10000/80000 (12%)]\tLoss: 0.675397\n"
          ]
        },
        {
          "output_type": "stream",
          "name": "stderr",
          "text": [
            "Epoch 4:  26%|██▋       | 21/80 [00:02<00:07,  8.13batch/s, loss=0.674]"
          ]
        },
        {
          "output_type": "stream",
          "name": "stdout",
          "text": [
            "Train Epoch: 4 [20000/80000 (25%)]\tLoss: 0.667977\n"
          ]
        },
        {
          "output_type": "stream",
          "name": "stderr",
          "text": [
            "Epoch 4:  39%|███▉      | 31/80 [00:03<00:05,  8.18batch/s, loss=0.672]"
          ]
        },
        {
          "output_type": "stream",
          "name": "stdout",
          "text": [
            "Train Epoch: 4 [30000/80000 (38%)]\tLoss: 0.667760\n"
          ]
        },
        {
          "output_type": "stream",
          "name": "stderr",
          "text": [
            "Epoch 4:  51%|█████▏    | 41/80 [00:04<00:04,  8.35batch/s, loss=0.67] "
          ]
        },
        {
          "output_type": "stream",
          "name": "stdout",
          "text": [
            "Train Epoch: 4 [40000/80000 (50%)]\tLoss: 0.672977\n"
          ]
        },
        {
          "output_type": "stream",
          "name": "stderr",
          "text": [
            "Epoch 4:  64%|██████▍   | 51/80 [00:06<00:03,  8.17batch/s, loss=0.665]"
          ]
        },
        {
          "output_type": "stream",
          "name": "stdout",
          "text": [
            "Train Epoch: 4 [50000/80000 (62%)]\tLoss: 0.669005\n"
          ]
        },
        {
          "output_type": "stream",
          "name": "stderr",
          "text": [
            "Epoch 4:  76%|███████▋  | 61/80 [00:07<00:02,  8.24batch/s, loss=0.67] "
          ]
        },
        {
          "output_type": "stream",
          "name": "stdout",
          "text": [
            "Train Epoch: 4 [60000/80000 (75%)]\tLoss: 0.674125\n"
          ]
        },
        {
          "output_type": "stream",
          "name": "stderr",
          "text": [
            "Epoch 4:  89%|████████▉ | 71/80 [00:08<00:01,  8.12batch/s, loss=0.673]"
          ]
        },
        {
          "output_type": "stream",
          "name": "stdout",
          "text": [
            "Train Epoch: 4 [70000/80000 (88%)]\tLoss: 0.669090\n"
          ]
        },
        {
          "output_type": "stream",
          "name": "stderr",
          "text": [
            "Epoch 4: 100%|██████████| 80/80 [00:09<00:00,  8.21batch/s, loss=0.663]\n"
          ]
        },
        {
          "output_type": "stream",
          "name": "stdout",
          "text": [
            "\n",
            "Test set: Average loss: 0.6593, Accuracy: 13599/20000 (67.995%)\n",
            "\n"
          ]
        },
        {
          "output_type": "stream",
          "name": "stderr",
          "text": [
            "Epoch 5:   1%|▏         | 1/80 [00:00<00:09,  7.93batch/s, loss=0.674]"
          ]
        },
        {
          "output_type": "stream",
          "name": "stdout",
          "text": [
            "Train Epoch: 5 [0/80000 (0%)]\tLoss: 0.670528\n"
          ]
        },
        {
          "output_type": "stream",
          "name": "stderr",
          "text": [
            "Epoch 5:  14%|█▍        | 11/80 [00:01<00:08,  8.21batch/s, loss=0.666]"
          ]
        },
        {
          "output_type": "stream",
          "name": "stdout",
          "text": [
            "Train Epoch: 5 [10000/80000 (12%)]\tLoss: 0.668654\n"
          ]
        },
        {
          "output_type": "stream",
          "name": "stderr",
          "text": [
            "Epoch 5:  26%|██▋       | 21/80 [00:02<00:07,  8.22batch/s, loss=0.665]"
          ]
        },
        {
          "output_type": "stream",
          "name": "stdout",
          "text": [
            "Train Epoch: 5 [20000/80000 (25%)]\tLoss: 0.663907\n"
          ]
        },
        {
          "output_type": "stream",
          "name": "stderr",
          "text": [
            "Epoch 5:  39%|███▉      | 31/80 [00:03<00:06,  7.32batch/s, loss=0.674]"
          ]
        },
        {
          "output_type": "stream",
          "name": "stdout",
          "text": [
            "Train Epoch: 5 [30000/80000 (38%)]\tLoss: 0.668427\n"
          ]
        },
        {
          "output_type": "stream",
          "name": "stderr",
          "text": [
            "Epoch 5:  51%|█████▏    | 41/80 [00:05<00:04,  8.12batch/s, loss=0.668]"
          ]
        },
        {
          "output_type": "stream",
          "name": "stdout",
          "text": [
            "Train Epoch: 5 [40000/80000 (50%)]\tLoss: 0.664805\n"
          ]
        },
        {
          "output_type": "stream",
          "name": "stderr",
          "text": [
            "Epoch 5:  64%|██████▍   | 51/80 [00:06<00:03,  8.18batch/s, loss=0.664]"
          ]
        },
        {
          "output_type": "stream",
          "name": "stdout",
          "text": [
            "Train Epoch: 5 [50000/80000 (62%)]\tLoss: 0.662594\n"
          ]
        },
        {
          "output_type": "stream",
          "name": "stderr",
          "text": [
            "Epoch 5:  76%|███████▋  | 61/80 [00:07<00:02,  8.22batch/s, loss=0.666]"
          ]
        },
        {
          "output_type": "stream",
          "name": "stdout",
          "text": [
            "Train Epoch: 5 [60000/80000 (75%)]\tLoss: 0.655345\n"
          ]
        },
        {
          "output_type": "stream",
          "name": "stderr",
          "text": [
            "Epoch 5:  89%|████████▉ | 71/80 [00:08<00:01,  8.22batch/s, loss=0.663]"
          ]
        },
        {
          "output_type": "stream",
          "name": "stdout",
          "text": [
            "Train Epoch: 5 [70000/80000 (88%)]\tLoss: 0.667857\n"
          ]
        },
        {
          "output_type": "stream",
          "name": "stderr",
          "text": [
            "Epoch 5: 100%|██████████| 80/80 [00:09<00:00,  8.12batch/s, loss=0.661]\n"
          ]
        },
        {
          "output_type": "stream",
          "name": "stdout",
          "text": [
            "\n",
            "Test set: Average loss: 0.6509, Accuracy: 14093/20000 (70.465%)\n",
            "\n"
          ]
        },
        {
          "output_type": "stream",
          "name": "stderr",
          "text": [
            "Epoch 6:   1%|▏         | 1/80 [00:00<00:10,  7.85batch/s, loss=0.653]"
          ]
        },
        {
          "output_type": "stream",
          "name": "stdout",
          "text": [
            "Train Epoch: 6 [0/80000 (0%)]\tLoss: 0.662079\n"
          ]
        },
        {
          "output_type": "stream",
          "name": "stderr",
          "text": [
            "Epoch 6:  14%|█▍        | 11/80 [00:01<00:08,  8.16batch/s, loss=0.663]"
          ]
        },
        {
          "output_type": "stream",
          "name": "stdout",
          "text": [
            "Train Epoch: 6 [10000/80000 (12%)]\tLoss: 0.659320\n"
          ]
        },
        {
          "output_type": "stream",
          "name": "stderr",
          "text": [
            "Epoch 6:  26%|██▋       | 21/80 [00:02<00:07,  8.14batch/s, loss=0.659]"
          ]
        },
        {
          "output_type": "stream",
          "name": "stdout",
          "text": [
            "Train Epoch: 6 [20000/80000 (25%)]\tLoss: 0.647637\n"
          ]
        },
        {
          "output_type": "stream",
          "name": "stderr",
          "text": [
            "Epoch 6:  39%|███▉      | 31/80 [00:03<00:05,  8.17batch/s, loss=0.663]"
          ]
        },
        {
          "output_type": "stream",
          "name": "stdout",
          "text": [
            "Train Epoch: 6 [30000/80000 (38%)]\tLoss: 0.656798\n"
          ]
        },
        {
          "output_type": "stream",
          "name": "stderr",
          "text": [
            "Epoch 6:  51%|█████▏    | 41/80 [00:05<00:04,  8.04batch/s, loss=0.664]"
          ]
        },
        {
          "output_type": "stream",
          "name": "stdout",
          "text": [
            "Train Epoch: 6 [40000/80000 (50%)]\tLoss: 0.665193\n"
          ]
        },
        {
          "output_type": "stream",
          "name": "stderr",
          "text": [
            "Epoch 6:  64%|██████▍   | 51/80 [00:06<00:03,  8.18batch/s, loss=0.654]"
          ]
        },
        {
          "output_type": "stream",
          "name": "stdout",
          "text": [
            "Train Epoch: 6 [50000/80000 (62%)]\tLoss: 0.651694\n"
          ]
        },
        {
          "output_type": "stream",
          "name": "stderr",
          "text": [
            "Epoch 6:  76%|███████▋  | 61/80 [00:07<00:02,  8.17batch/s, loss=0.658]"
          ]
        },
        {
          "output_type": "stream",
          "name": "stdout",
          "text": [
            "Train Epoch: 6 [60000/80000 (75%)]\tLoss: 0.654047\n"
          ]
        },
        {
          "output_type": "stream",
          "name": "stderr",
          "text": [
            "Epoch 6:  89%|████████▉ | 71/80 [00:08<00:01,  8.14batch/s, loss=0.652]"
          ]
        },
        {
          "output_type": "stream",
          "name": "stdout",
          "text": [
            "Train Epoch: 6 [70000/80000 (88%)]\tLoss: 0.648443\n"
          ]
        },
        {
          "output_type": "stream",
          "name": "stderr",
          "text": [
            "Epoch 6: 100%|██████████| 80/80 [00:09<00:00,  8.13batch/s, loss=0.657]\n"
          ]
        },
        {
          "output_type": "stream",
          "name": "stdout",
          "text": [
            "\n",
            "Test set: Average loss: 0.6425, Accuracy: 14375/20000 (71.875%)\n",
            "\n"
          ]
        },
        {
          "output_type": "stream",
          "name": "stderr",
          "text": [
            "Epoch 7:   1%|▏         | 1/80 [00:00<00:09,  7.95batch/s, loss=0.65] "
          ]
        },
        {
          "output_type": "stream",
          "name": "stdout",
          "text": [
            "Train Epoch: 7 [0/80000 (0%)]\tLoss: 0.650809\n"
          ]
        },
        {
          "output_type": "stream",
          "name": "stderr",
          "text": [
            "Epoch 7:  14%|█▍        | 11/80 [00:01<00:08,  8.17batch/s, loss=0.646]"
          ]
        },
        {
          "output_type": "stream",
          "name": "stdout",
          "text": [
            "Train Epoch: 7 [10000/80000 (12%)]\tLoss: 0.649851\n"
          ]
        },
        {
          "output_type": "stream",
          "name": "stderr",
          "text": [
            "Epoch 7:  26%|██▋       | 21/80 [00:02<00:07,  8.24batch/s, loss=0.657]"
          ]
        },
        {
          "output_type": "stream",
          "name": "stdout",
          "text": [
            "Train Epoch: 7 [20000/80000 (25%)]\tLoss: 0.650198\n"
          ]
        },
        {
          "output_type": "stream",
          "name": "stderr",
          "text": [
            "Epoch 7:  39%|███▉      | 31/80 [00:03<00:06,  7.44batch/s, loss=0.639]"
          ]
        },
        {
          "output_type": "stream",
          "name": "stdout",
          "text": [
            "Train Epoch: 7 [30000/80000 (38%)]\tLoss: 0.644842\n"
          ]
        },
        {
          "output_type": "stream",
          "name": "stderr",
          "text": [
            "Epoch 7:  51%|█████▏    | 41/80 [00:05<00:04,  8.25batch/s, loss=0.654]"
          ]
        },
        {
          "output_type": "stream",
          "name": "stdout",
          "text": [
            "Train Epoch: 7 [40000/80000 (50%)]\tLoss: 0.647576\n"
          ]
        },
        {
          "output_type": "stream",
          "name": "stderr",
          "text": [
            "Epoch 7:  64%|██████▍   | 51/80 [00:06<00:03,  8.17batch/s, loss=0.654]"
          ]
        },
        {
          "output_type": "stream",
          "name": "stdout",
          "text": [
            "Train Epoch: 7 [50000/80000 (62%)]\tLoss: 0.648102\n"
          ]
        },
        {
          "output_type": "stream",
          "name": "stderr",
          "text": [
            "Epoch 7:  76%|███████▋  | 61/80 [00:07<00:02,  8.15batch/s, loss=0.643]"
          ]
        },
        {
          "output_type": "stream",
          "name": "stdout",
          "text": [
            "Train Epoch: 7 [60000/80000 (75%)]\tLoss: 0.650969\n"
          ]
        },
        {
          "output_type": "stream",
          "name": "stderr",
          "text": [
            "Epoch 7:  89%|████████▉ | 71/80 [00:08<00:01,  8.24batch/s, loss=0.651]"
          ]
        },
        {
          "output_type": "stream",
          "name": "stdout",
          "text": [
            "Train Epoch: 7 [70000/80000 (88%)]\tLoss: 0.642866\n"
          ]
        },
        {
          "output_type": "stream",
          "name": "stderr",
          "text": [
            "Epoch 7: 100%|██████████| 80/80 [00:09<00:00,  8.13batch/s, loss=0.643]\n"
          ]
        },
        {
          "output_type": "stream",
          "name": "stdout",
          "text": [
            "\n",
            "Test set: Average loss: 0.6339, Accuracy: 14605/20000 (73.025%)\n",
            "\n"
          ]
        },
        {
          "output_type": "stream",
          "name": "stderr",
          "text": [
            "Epoch 8:   1%|▏         | 1/80 [00:00<00:10,  7.89batch/s, loss=0.648]"
          ]
        },
        {
          "output_type": "stream",
          "name": "stdout",
          "text": [
            "Train Epoch: 8 [0/80000 (0%)]\tLoss: 0.638937\n"
          ]
        },
        {
          "output_type": "stream",
          "name": "stderr",
          "text": [
            "Epoch 8:  14%|█▍        | 11/80 [00:01<00:08,  8.32batch/s, loss=0.643]"
          ]
        },
        {
          "output_type": "stream",
          "name": "stdout",
          "text": [
            "Train Epoch: 8 [10000/80000 (12%)]\tLoss: 0.644418\n"
          ]
        },
        {
          "output_type": "stream",
          "name": "stderr",
          "text": [
            "Epoch 8:  26%|██▋       | 21/80 [00:02<00:07,  8.24batch/s, loss=0.651]"
          ]
        },
        {
          "output_type": "stream",
          "name": "stdout",
          "text": [
            "Train Epoch: 8 [20000/80000 (25%)]\tLoss: 0.650032\n"
          ]
        },
        {
          "output_type": "stream",
          "name": "stderr",
          "text": [
            "Epoch 8:  39%|███▉      | 31/80 [00:03<00:05,  8.26batch/s, loss=0.647]"
          ]
        },
        {
          "output_type": "stream",
          "name": "stdout",
          "text": [
            "Train Epoch: 8 [30000/80000 (38%)]\tLoss: 0.648199\n"
          ]
        },
        {
          "output_type": "stream",
          "name": "stderr",
          "text": [
            "Epoch 8:  51%|█████▏    | 41/80 [00:05<00:04,  8.14batch/s, loss=0.648]"
          ]
        },
        {
          "output_type": "stream",
          "name": "stdout",
          "text": [
            "Train Epoch: 8 [40000/80000 (50%)]\tLoss: 0.650704\n"
          ]
        },
        {
          "output_type": "stream",
          "name": "stderr",
          "text": [
            "Epoch 8:  64%|██████▍   | 51/80 [00:06<00:03,  8.15batch/s, loss=0.64] "
          ]
        },
        {
          "output_type": "stream",
          "name": "stdout",
          "text": [
            "Train Epoch: 8 [50000/80000 (62%)]\tLoss: 0.648269\n"
          ]
        },
        {
          "output_type": "stream",
          "name": "stderr",
          "text": [
            "Epoch 8:  76%|███████▋  | 61/80 [00:07<00:02,  8.14batch/s, loss=0.65] "
          ]
        },
        {
          "output_type": "stream",
          "name": "stdout",
          "text": [
            "Train Epoch: 8 [60000/80000 (75%)]\tLoss: 0.631777\n"
          ]
        },
        {
          "output_type": "stream",
          "name": "stderr",
          "text": [
            "Epoch 8:  89%|████████▉ | 71/80 [00:08<00:01,  8.10batch/s, loss=0.638]"
          ]
        },
        {
          "output_type": "stream",
          "name": "stdout",
          "text": [
            "Train Epoch: 8 [70000/80000 (88%)]\tLoss: 0.631668\n"
          ]
        },
        {
          "output_type": "stream",
          "name": "stderr",
          "text": [
            "Epoch 8: 100%|██████████| 80/80 [00:09<00:00,  8.20batch/s, loss=0.639]\n"
          ]
        },
        {
          "output_type": "stream",
          "name": "stdout",
          "text": [
            "\n",
            "Test set: Average loss: 0.6253, Accuracy: 14743/20000 (73.715%)\n",
            "\n"
          ]
        },
        {
          "output_type": "stream",
          "name": "stderr",
          "text": [
            "Epoch 9:   1%|▏         | 1/80 [00:00<00:09,  8.06batch/s, loss=0.635]"
          ]
        },
        {
          "output_type": "stream",
          "name": "stdout",
          "text": [
            "Train Epoch: 9 [0/80000 (0%)]\tLoss: 0.632800\n"
          ]
        },
        {
          "output_type": "stream",
          "name": "stderr",
          "text": [
            "Epoch 9:  14%|█▍        | 11/80 [00:01<00:08,  8.24batch/s, loss=0.65]"
          ]
        },
        {
          "output_type": "stream",
          "name": "stdout",
          "text": [
            "Train Epoch: 9 [10000/80000 (12%)]\tLoss: 0.639572\n"
          ]
        },
        {
          "output_type": "stream",
          "name": "stderr",
          "text": [
            "Epoch 9:  26%|██▋       | 21/80 [00:02<00:07,  8.16batch/s, loss=0.64] "
          ]
        },
        {
          "output_type": "stream",
          "name": "stdout",
          "text": [
            "Train Epoch: 9 [20000/80000 (25%)]\tLoss: 0.636844\n"
          ]
        },
        {
          "output_type": "stream",
          "name": "stderr",
          "text": [
            "Epoch 9:  39%|███▉      | 31/80 [00:03<00:06,  7.82batch/s, loss=0.635]"
          ]
        },
        {
          "output_type": "stream",
          "name": "stdout",
          "text": [
            "Train Epoch: 9 [30000/80000 (38%)]\tLoss: 0.638854\n"
          ]
        },
        {
          "output_type": "stream",
          "name": "stderr",
          "text": [
            "Epoch 9:  51%|█████▏    | 41/80 [00:05<00:04,  8.27batch/s, loss=0.637]"
          ]
        },
        {
          "output_type": "stream",
          "name": "stdout",
          "text": [
            "Train Epoch: 9 [40000/80000 (50%)]\tLoss: 0.641530\n"
          ]
        },
        {
          "output_type": "stream",
          "name": "stderr",
          "text": [
            "Epoch 9:  64%|██████▍   | 51/80 [00:06<00:03,  8.22batch/s, loss=0.631]"
          ]
        },
        {
          "output_type": "stream",
          "name": "stdout",
          "text": [
            "Train Epoch: 9 [50000/80000 (62%)]\tLoss: 0.642618\n"
          ]
        },
        {
          "output_type": "stream",
          "name": "stderr",
          "text": [
            "Epoch 9:  76%|███████▋  | 61/80 [00:07<00:02,  8.18batch/s, loss=0.637]"
          ]
        },
        {
          "output_type": "stream",
          "name": "stdout",
          "text": [
            "Train Epoch: 9 [60000/80000 (75%)]\tLoss: 0.631438\n"
          ]
        },
        {
          "output_type": "stream",
          "name": "stderr",
          "text": [
            "Epoch 9:  89%|████████▉ | 71/80 [00:08<00:01,  8.22batch/s, loss=0.634]"
          ]
        },
        {
          "output_type": "stream",
          "name": "stdout",
          "text": [
            "Train Epoch: 9 [70000/80000 (88%)]\tLoss: 0.631367\n"
          ]
        },
        {
          "output_type": "stream",
          "name": "stderr",
          "text": [
            "Epoch 9: 100%|██████████| 80/80 [00:09<00:00,  8.15batch/s, loss=0.641]\n"
          ]
        },
        {
          "output_type": "stream",
          "name": "stdout",
          "text": [
            "\n",
            "Test set: Average loss: 0.6167, Accuracy: 14874/20000 (74.370%)\n",
            "\n"
          ]
        },
        {
          "output_type": "stream",
          "name": "stderr",
          "text": [
            "Epoch 10:   1%|▏         | 1/80 [00:00<00:10,  7.73batch/s, loss=0.645]"
          ]
        },
        {
          "output_type": "stream",
          "name": "stdout",
          "text": [
            "Train Epoch: 10 [0/80000 (0%)]\tLoss: 0.637931\n"
          ]
        },
        {
          "output_type": "stream",
          "name": "stderr",
          "text": [
            "Epoch 10:  14%|█▍        | 11/80 [00:01<00:08,  8.25batch/s, loss=0.629]"
          ]
        },
        {
          "output_type": "stream",
          "name": "stdout",
          "text": [
            "Train Epoch: 10 [10000/80000 (12%)]\tLoss: 0.635633\n"
          ]
        },
        {
          "output_type": "stream",
          "name": "stderr",
          "text": [
            "Epoch 10:  26%|██▋       | 21/80 [00:02<00:07,  8.29batch/s, loss=0.633]"
          ]
        },
        {
          "output_type": "stream",
          "name": "stdout",
          "text": [
            "Train Epoch: 10 [20000/80000 (25%)]\tLoss: 0.631225\n"
          ]
        },
        {
          "output_type": "stream",
          "name": "stderr",
          "text": [
            "Epoch 10:  39%|███▉      | 31/80 [00:03<00:06,  8.14batch/s, loss=0.621]"
          ]
        },
        {
          "output_type": "stream",
          "name": "stdout",
          "text": [
            "Train Epoch: 10 [30000/80000 (38%)]\tLoss: 0.627539\n"
          ]
        },
        {
          "output_type": "stream",
          "name": "stderr",
          "text": [
            "Epoch 10:  51%|█████▏    | 41/80 [00:05<00:04,  8.19batch/s, loss=0.636]"
          ]
        },
        {
          "output_type": "stream",
          "name": "stdout",
          "text": [
            "Train Epoch: 10 [40000/80000 (50%)]\tLoss: 0.624419\n"
          ]
        },
        {
          "output_type": "stream",
          "name": "stderr",
          "text": [
            "Epoch 10:  64%|██████▍   | 51/80 [00:06<00:03,  8.24batch/s, loss=0.63] "
          ]
        },
        {
          "output_type": "stream",
          "name": "stdout",
          "text": [
            "Train Epoch: 10 [50000/80000 (62%)]\tLoss: 0.634430\n"
          ]
        },
        {
          "output_type": "stream",
          "name": "stderr",
          "text": [
            "Epoch 10:  76%|███████▋  | 61/80 [00:07<00:02,  8.09batch/s, loss=0.633]"
          ]
        },
        {
          "output_type": "stream",
          "name": "stdout",
          "text": [
            "Train Epoch: 10 [60000/80000 (75%)]\tLoss: 0.635470\n"
          ]
        },
        {
          "output_type": "stream",
          "name": "stderr",
          "text": [
            "Epoch 10:  89%|████████▉ | 71/80 [00:08<00:01,  8.27batch/s, loss=0.628]"
          ]
        },
        {
          "output_type": "stream",
          "name": "stdout",
          "text": [
            "Train Epoch: 10 [70000/80000 (88%)]\tLoss: 0.629199\n"
          ]
        },
        {
          "output_type": "stream",
          "name": "stderr",
          "text": [
            "Epoch 10: 100%|██████████| 80/80 [00:09<00:00,  8.22batch/s, loss=0.628]\n"
          ]
        },
        {
          "output_type": "stream",
          "name": "stdout",
          "text": [
            "\n",
            "Test set: Average loss: 0.6083, Accuracy: 14925/20000 (74.625%)\n",
            "\n",
            "\n",
            " training DNN with 100000 data points and SGD lr=0.100000. \n",
            "\n"
          ]
        },
        {
          "output_type": "stream",
          "name": "stderr",
          "text": [
            "Epoch 1:   1%|▏         | 1/80 [00:00<00:10,  7.86batch/s, loss=0.704]"
          ]
        },
        {
          "output_type": "stream",
          "name": "stdout",
          "text": [
            "Train Epoch: 1 [0/80000 (0%)]\tLoss: 0.714918\n"
          ]
        },
        {
          "output_type": "stream",
          "name": "stderr",
          "text": [
            "Epoch 1:  14%|█▍        | 11/80 [00:01<00:08,  8.18batch/s, loss=0.641]"
          ]
        },
        {
          "output_type": "stream",
          "name": "stdout",
          "text": [
            "Train Epoch: 1 [10000/80000 (12%)]\tLoss: 0.640953\n"
          ]
        },
        {
          "output_type": "stream",
          "name": "stderr",
          "text": [
            "Epoch 1:  26%|██▋       | 21/80 [00:02<00:07,  8.23batch/s, loss=0.572]"
          ]
        },
        {
          "output_type": "stream",
          "name": "stdout",
          "text": [
            "Train Epoch: 1 [20000/80000 (25%)]\tLoss: 0.585046\n"
          ]
        },
        {
          "output_type": "stream",
          "name": "stderr",
          "text": [
            "Epoch 1:  39%|███▉      | 31/80 [00:03<00:06,  8.09batch/s, loss=0.565]"
          ]
        },
        {
          "output_type": "stream",
          "name": "stdout",
          "text": [
            "Train Epoch: 1 [30000/80000 (38%)]\tLoss: 0.554758\n"
          ]
        },
        {
          "output_type": "stream",
          "name": "stderr",
          "text": [
            "Epoch 1:  51%|█████▏    | 41/80 [00:05<00:04,  8.15batch/s, loss=0.545]"
          ]
        },
        {
          "output_type": "stream",
          "name": "stdout",
          "text": [
            "Train Epoch: 1 [40000/80000 (50%)]\tLoss: 0.542778\n"
          ]
        },
        {
          "output_type": "stream",
          "name": "stderr",
          "text": [
            "Epoch 1:  64%|██████▍   | 51/80 [00:06<00:03,  8.25batch/s, loss=0.509]"
          ]
        },
        {
          "output_type": "stream",
          "name": "stdout",
          "text": [
            "Train Epoch: 1 [50000/80000 (62%)]\tLoss: 0.520633\n"
          ]
        },
        {
          "output_type": "stream",
          "name": "stderr",
          "text": [
            "Epoch 1:  76%|███████▋  | 61/80 [00:07<00:02,  8.19batch/s, loss=0.508]"
          ]
        },
        {
          "output_type": "stream",
          "name": "stdout",
          "text": [
            "Train Epoch: 1 [60000/80000 (75%)]\tLoss: 0.528049\n"
          ]
        },
        {
          "output_type": "stream",
          "name": "stderr",
          "text": [
            "Epoch 1:  89%|████████▉ | 71/80 [00:08<00:01,  8.30batch/s, loss=0.493]"
          ]
        },
        {
          "output_type": "stream",
          "name": "stdout",
          "text": [
            "Train Epoch: 1 [70000/80000 (88%)]\tLoss: 0.483640\n"
          ]
        },
        {
          "output_type": "stream",
          "name": "stderr",
          "text": [
            "Epoch 1: 100%|██████████| 80/80 [00:09<00:00,  8.22batch/s, loss=0.504]\n"
          ]
        },
        {
          "output_type": "stream",
          "name": "stdout",
          "text": [
            "\n",
            "Test set: Average loss: 0.4677, Accuracy: 15666/20000 (78.330%)\n",
            "\n"
          ]
        },
        {
          "output_type": "stream",
          "name": "stderr",
          "text": [
            "Epoch 2:   1%|▏         | 1/80 [00:00<00:10,  7.75batch/s, loss=0.47] "
          ]
        },
        {
          "output_type": "stream",
          "name": "stdout",
          "text": [
            "Train Epoch: 2 [0/80000 (0%)]\tLoss: 0.495949\n"
          ]
        },
        {
          "output_type": "stream",
          "name": "stderr",
          "text": [
            "Epoch 2:  14%|█▍        | 11/80 [00:01<00:09,  7.51batch/s, loss=0.49] "
          ]
        },
        {
          "output_type": "stream",
          "name": "stdout",
          "text": [
            "Train Epoch: 2 [10000/80000 (12%)]\tLoss: 0.478726\n"
          ]
        },
        {
          "output_type": "stream",
          "name": "stderr",
          "text": [
            "Epoch 2:  26%|██▋       | 21/80 [00:02<00:07,  8.19batch/s, loss=0.468]"
          ]
        },
        {
          "output_type": "stream",
          "name": "stdout",
          "text": [
            "Train Epoch: 2 [20000/80000 (25%)]\tLoss: 0.477629\n"
          ]
        },
        {
          "output_type": "stream",
          "name": "stderr",
          "text": [
            "Epoch 2:  39%|███▉      | 31/80 [00:03<00:06,  8.13batch/s, loss=0.522]"
          ]
        },
        {
          "output_type": "stream",
          "name": "stdout",
          "text": [
            "Train Epoch: 2 [30000/80000 (38%)]\tLoss: 0.491429\n"
          ]
        },
        {
          "output_type": "stream",
          "name": "stderr",
          "text": [
            "Epoch 2:  51%|█████▏    | 41/80 [00:05<00:04,  8.24batch/s, loss=0.476]"
          ]
        },
        {
          "output_type": "stream",
          "name": "stdout",
          "text": [
            "Train Epoch: 2 [40000/80000 (50%)]\tLoss: 0.487121\n"
          ]
        },
        {
          "output_type": "stream",
          "name": "stderr",
          "text": [
            "Epoch 2:  64%|██████▍   | 51/80 [00:06<00:03,  8.20batch/s, loss=0.472]"
          ]
        },
        {
          "output_type": "stream",
          "name": "stdout",
          "text": [
            "Train Epoch: 2 [50000/80000 (62%)]\tLoss: 0.487401\n"
          ]
        },
        {
          "output_type": "stream",
          "name": "stderr",
          "text": [
            "Epoch 2:  76%|███████▋  | 61/80 [00:07<00:02,  8.22batch/s, loss=0.464]"
          ]
        },
        {
          "output_type": "stream",
          "name": "stdout",
          "text": [
            "Train Epoch: 2 [60000/80000 (75%)]\tLoss: 0.458814\n"
          ]
        },
        {
          "output_type": "stream",
          "name": "stderr",
          "text": [
            "Epoch 2:  89%|████████▉ | 71/80 [00:08<00:01,  8.16batch/s, loss=0.449]"
          ]
        },
        {
          "output_type": "stream",
          "name": "stdout",
          "text": [
            "Train Epoch: 2 [70000/80000 (88%)]\tLoss: 0.520246\n"
          ]
        },
        {
          "output_type": "stream",
          "name": "stderr",
          "text": [
            "Epoch 2: 100%|██████████| 80/80 [00:09<00:00,  8.14batch/s, loss=0.475]\n"
          ]
        },
        {
          "output_type": "stream",
          "name": "stdout",
          "text": [
            "\n",
            "Test set: Average loss: 0.4559, Accuracy: 15769/20000 (78.845%)\n",
            "\n"
          ]
        },
        {
          "output_type": "stream",
          "name": "stderr",
          "text": [
            "Epoch 3:   1%|▏         | 1/80 [00:00<00:10,  7.68batch/s, loss=0.478]"
          ]
        },
        {
          "output_type": "stream",
          "name": "stdout",
          "text": [
            "Train Epoch: 3 [0/80000 (0%)]\tLoss: 0.504311\n"
          ]
        },
        {
          "output_type": "stream",
          "name": "stderr",
          "text": [
            "Epoch 3:  14%|█▍        | 11/80 [00:01<00:08,  8.24batch/s, loss=0.488]"
          ]
        },
        {
          "output_type": "stream",
          "name": "stdout",
          "text": [
            "Train Epoch: 3 [10000/80000 (12%)]\tLoss: 0.468750\n"
          ]
        },
        {
          "output_type": "stream",
          "name": "stderr",
          "text": [
            "Epoch 3:  26%|██▋       | 21/80 [00:02<00:07,  8.29batch/s, loss=0.482]"
          ]
        },
        {
          "output_type": "stream",
          "name": "stdout",
          "text": [
            "Train Epoch: 3 [20000/80000 (25%)]\tLoss: 0.477586\n"
          ]
        },
        {
          "output_type": "stream",
          "name": "stderr",
          "text": [
            "Epoch 3:  39%|███▉      | 31/80 [00:03<00:05,  8.24batch/s, loss=0.435]"
          ]
        },
        {
          "output_type": "stream",
          "name": "stdout",
          "text": [
            "Train Epoch: 3 [30000/80000 (38%)]\tLoss: 0.463273\n"
          ]
        },
        {
          "output_type": "stream",
          "name": "stderr",
          "text": [
            "Epoch 3:  51%|█████▏    | 41/80 [00:05<00:04,  8.24batch/s, loss=0.513]"
          ]
        },
        {
          "output_type": "stream",
          "name": "stdout",
          "text": [
            "Train Epoch: 3 [40000/80000 (50%)]\tLoss: 0.478696\n"
          ]
        },
        {
          "output_type": "stream",
          "name": "stderr",
          "text": [
            "Epoch 3:  64%|██████▍   | 51/80 [00:06<00:03,  8.25batch/s, loss=0.469]"
          ]
        },
        {
          "output_type": "stream",
          "name": "stdout",
          "text": [
            "Train Epoch: 3 [50000/80000 (62%)]\tLoss: 0.447241\n"
          ]
        },
        {
          "output_type": "stream",
          "name": "stderr",
          "text": [
            "Epoch 3:  76%|███████▋  | 61/80 [00:07<00:02,  8.23batch/s, loss=0.436]"
          ]
        },
        {
          "output_type": "stream",
          "name": "stdout",
          "text": [
            "Train Epoch: 3 [60000/80000 (75%)]\tLoss: 0.461682\n"
          ]
        },
        {
          "output_type": "stream",
          "name": "stderr",
          "text": [
            "Epoch 3:  89%|████████▉ | 71/80 [00:08<00:01,  8.25batch/s, loss=0.495]"
          ]
        },
        {
          "output_type": "stream",
          "name": "stdout",
          "text": [
            "Train Epoch: 3 [70000/80000 (88%)]\tLoss: 0.469702\n"
          ]
        },
        {
          "output_type": "stream",
          "name": "stderr",
          "text": [
            "Epoch 3: 100%|██████████| 80/80 [00:09<00:00,  8.22batch/s, loss=0.447]\n"
          ]
        },
        {
          "output_type": "stream",
          "name": "stdout",
          "text": [
            "\n",
            "Test set: Average loss: 0.4530, Accuracy: 15833/20000 (79.165%)\n",
            "\n"
          ]
        },
        {
          "output_type": "stream",
          "name": "stderr",
          "text": [
            "Epoch 4:   1%|▏         | 1/80 [00:00<00:09,  8.12batch/s, loss=0.465]"
          ]
        },
        {
          "output_type": "stream",
          "name": "stdout",
          "text": [
            "Train Epoch: 4 [0/80000 (0%)]\tLoss: 0.442532\n"
          ]
        },
        {
          "output_type": "stream",
          "name": "stderr",
          "text": [
            "Epoch 4:  14%|█▍        | 11/80 [00:01<00:08,  8.25batch/s, loss=0.465]"
          ]
        },
        {
          "output_type": "stream",
          "name": "stdout",
          "text": [
            "Train Epoch: 4 [10000/80000 (12%)]\tLoss: 0.447102\n"
          ]
        },
        {
          "output_type": "stream",
          "name": "stderr",
          "text": [
            "Epoch 4:  26%|██▋       | 21/80 [00:02<00:07,  8.29batch/s, loss=0.465]"
          ]
        },
        {
          "output_type": "stream",
          "name": "stdout",
          "text": [
            "Train Epoch: 4 [20000/80000 (25%)]\tLoss: 0.446845\n"
          ]
        },
        {
          "output_type": "stream",
          "name": "stderr",
          "text": [
            "Epoch 4:  39%|███▉      | 31/80 [00:03<00:06,  8.11batch/s, loss=0.442]"
          ]
        },
        {
          "output_type": "stream",
          "name": "stdout",
          "text": [
            "Train Epoch: 4 [30000/80000 (38%)]\tLoss: 0.467071\n"
          ]
        },
        {
          "output_type": "stream",
          "name": "stderr",
          "text": [
            "Epoch 4:  51%|█████▏    | 41/80 [00:04<00:04,  8.16batch/s, loss=0.511]"
          ]
        },
        {
          "output_type": "stream",
          "name": "stdout",
          "text": [
            "Train Epoch: 4 [40000/80000 (50%)]\tLoss: 0.460965\n"
          ]
        },
        {
          "output_type": "stream",
          "name": "stderr",
          "text": [
            "Epoch 4:  64%|██████▍   | 51/80 [00:06<00:03,  8.28batch/s, loss=0.469]"
          ]
        },
        {
          "output_type": "stream",
          "name": "stdout",
          "text": [
            "Train Epoch: 4 [50000/80000 (62%)]\tLoss: 0.463454\n"
          ]
        },
        {
          "output_type": "stream",
          "name": "stderr",
          "text": [
            "Epoch 4:  76%|███████▋  | 61/80 [00:07<00:02,  8.23batch/s, loss=0.456]"
          ]
        },
        {
          "output_type": "stream",
          "name": "stdout",
          "text": [
            "Train Epoch: 4 [60000/80000 (75%)]\tLoss: 0.476533\n"
          ]
        },
        {
          "output_type": "stream",
          "name": "stderr",
          "text": [
            "Epoch 4:  89%|████████▉ | 71/80 [00:08<00:01,  8.30batch/s, loss=0.472]"
          ]
        },
        {
          "output_type": "stream",
          "name": "stdout",
          "text": [
            "Train Epoch: 4 [70000/80000 (88%)]\tLoss: 0.449842\n"
          ]
        },
        {
          "output_type": "stream",
          "name": "stderr",
          "text": [
            "Epoch 4: 100%|██████████| 80/80 [00:09<00:00,  8.25batch/s, loss=0.463]\n"
          ]
        },
        {
          "output_type": "stream",
          "name": "stdout",
          "text": [
            "\n",
            "Test set: Average loss: 0.4481, Accuracy: 15856/20000 (79.280%)\n",
            "\n"
          ]
        },
        {
          "output_type": "stream",
          "name": "stderr",
          "text": [
            "Epoch 5:   1%|▏         | 1/80 [00:00<00:10,  7.68batch/s, loss=0.444]"
          ]
        },
        {
          "output_type": "stream",
          "name": "stdout",
          "text": [
            "Train Epoch: 5 [0/80000 (0%)]\tLoss: 0.457073\n"
          ]
        },
        {
          "output_type": "stream",
          "name": "stderr",
          "text": [
            "Epoch 5:  14%|█▍        | 11/80 [00:01<00:08,  8.28batch/s, loss=0.443]"
          ]
        },
        {
          "output_type": "stream",
          "name": "stdout",
          "text": [
            "Train Epoch: 5 [10000/80000 (12%)]\tLoss: 0.467571\n"
          ]
        },
        {
          "output_type": "stream",
          "name": "stderr",
          "text": [
            "Epoch 5:  26%|██▋       | 21/80 [00:02<00:07,  8.21batch/s, loss=0.476]"
          ]
        },
        {
          "output_type": "stream",
          "name": "stdout",
          "text": [
            "Train Epoch: 5 [20000/80000 (25%)]\tLoss: 0.475539\n"
          ]
        },
        {
          "output_type": "stream",
          "name": "stderr",
          "text": [
            "Epoch 5:  39%|███▉      | 31/80 [00:03<00:05,  8.27batch/s, loss=0.459]"
          ]
        },
        {
          "output_type": "stream",
          "name": "stdout",
          "text": [
            "Train Epoch: 5 [30000/80000 (38%)]\tLoss: 0.483561\n"
          ]
        },
        {
          "output_type": "stream",
          "name": "stderr",
          "text": [
            "Epoch 5:  51%|█████▏    | 41/80 [00:04<00:04,  8.22batch/s, loss=0.453]"
          ]
        },
        {
          "output_type": "stream",
          "name": "stdout",
          "text": [
            "Train Epoch: 5 [40000/80000 (50%)]\tLoss: 0.454905\n"
          ]
        },
        {
          "output_type": "stream",
          "name": "stderr",
          "text": [
            "Epoch 5:  64%|██████▍   | 51/80 [00:06<00:03,  8.26batch/s, loss=0.455]"
          ]
        },
        {
          "output_type": "stream",
          "name": "stdout",
          "text": [
            "Train Epoch: 5 [50000/80000 (62%)]\tLoss: 0.447629\n"
          ]
        },
        {
          "output_type": "stream",
          "name": "stderr",
          "text": [
            "Epoch 5:  76%|███████▋  | 61/80 [00:07<00:02,  8.11batch/s, loss=0.45] "
          ]
        },
        {
          "output_type": "stream",
          "name": "stdout",
          "text": [
            "Train Epoch: 5 [60000/80000 (75%)]\tLoss: 0.412500\n"
          ]
        },
        {
          "output_type": "stream",
          "name": "stderr",
          "text": [
            "Epoch 5:  89%|████████▉ | 71/80 [00:08<00:01,  8.23batch/s, loss=0.476]"
          ]
        },
        {
          "output_type": "stream",
          "name": "stdout",
          "text": [
            "Train Epoch: 5 [70000/80000 (88%)]\tLoss: 0.464625\n"
          ]
        },
        {
          "output_type": "stream",
          "name": "stderr",
          "text": [
            "Epoch 5: 100%|██████████| 80/80 [00:09<00:00,  8.16batch/s, loss=0.498]\n"
          ]
        },
        {
          "output_type": "stream",
          "name": "stdout",
          "text": [
            "\n",
            "Test set: Average loss: 0.4475, Accuracy: 15915/20000 (79.575%)\n",
            "\n"
          ]
        },
        {
          "output_type": "stream",
          "name": "stderr",
          "text": [
            "Epoch 6:   1%|▏         | 1/80 [00:00<00:09,  7.91batch/s, loss=0.461]"
          ]
        },
        {
          "output_type": "stream",
          "name": "stdout",
          "text": [
            "Train Epoch: 6 [0/80000 (0%)]\tLoss: 0.452066\n"
          ]
        },
        {
          "output_type": "stream",
          "name": "stderr",
          "text": [
            "Epoch 6:  14%|█▍        | 11/80 [00:01<00:08,  8.27batch/s, loss=0.456]"
          ]
        },
        {
          "output_type": "stream",
          "name": "stdout",
          "text": [
            "Train Epoch: 6 [10000/80000 (12%)]\tLoss: 0.486031\n"
          ]
        },
        {
          "output_type": "stream",
          "name": "stderr",
          "text": [
            "Epoch 6:  26%|██▋       | 21/80 [00:02<00:07,  8.23batch/s, loss=0.447]"
          ]
        },
        {
          "output_type": "stream",
          "name": "stdout",
          "text": [
            "Train Epoch: 6 [20000/80000 (25%)]\tLoss: 0.463759\n"
          ]
        },
        {
          "output_type": "stream",
          "name": "stderr",
          "text": [
            "Epoch 6:  39%|███▉      | 31/80 [00:03<00:06,  8.16batch/s, loss=0.479]"
          ]
        },
        {
          "output_type": "stream",
          "name": "stdout",
          "text": [
            "Train Epoch: 6 [30000/80000 (38%)]\tLoss: 0.457916\n"
          ]
        },
        {
          "output_type": "stream",
          "name": "stderr",
          "text": [
            "Epoch 6:  51%|█████▏    | 41/80 [00:05<00:04,  8.22batch/s, loss=0.463]"
          ]
        },
        {
          "output_type": "stream",
          "name": "stdout",
          "text": [
            "Train Epoch: 6 [40000/80000 (50%)]\tLoss: 0.451764\n"
          ]
        },
        {
          "output_type": "stream",
          "name": "stderr",
          "text": [
            "Epoch 6:  64%|██████▍   | 51/80 [00:06<00:03,  8.19batch/s, loss=0.455]"
          ]
        },
        {
          "output_type": "stream",
          "name": "stdout",
          "text": [
            "Train Epoch: 6 [50000/80000 (62%)]\tLoss: 0.472714\n"
          ]
        },
        {
          "output_type": "stream",
          "name": "stderr",
          "text": [
            "Epoch 6:  76%|███████▋  | 61/80 [00:07<00:02,  8.07batch/s, loss=0.463]"
          ]
        },
        {
          "output_type": "stream",
          "name": "stdout",
          "text": [
            "Train Epoch: 6 [60000/80000 (75%)]\tLoss: 0.485784\n"
          ]
        },
        {
          "output_type": "stream",
          "name": "stderr",
          "text": [
            "Epoch 6:  89%|████████▉ | 71/80 [00:08<00:01,  8.18batch/s, loss=0.443]"
          ]
        },
        {
          "output_type": "stream",
          "name": "stdout",
          "text": [
            "Train Epoch: 6 [70000/80000 (88%)]\tLoss: 0.445265\n"
          ]
        },
        {
          "output_type": "stream",
          "name": "stderr",
          "text": [
            "Epoch 6: 100%|██████████| 80/80 [00:09<00:00,  8.20batch/s, loss=0.435]\n"
          ]
        },
        {
          "output_type": "stream",
          "name": "stdout",
          "text": [
            "\n",
            "Test set: Average loss: 0.4453, Accuracy: 15894/20000 (79.470%)\n",
            "\n"
          ]
        },
        {
          "output_type": "stream",
          "name": "stderr",
          "text": [
            "Epoch 7:   1%|▏         | 1/80 [00:00<00:09,  8.19batch/s, loss=0.441]"
          ]
        },
        {
          "output_type": "stream",
          "name": "stdout",
          "text": [
            "Train Epoch: 7 [0/80000 (0%)]\tLoss: 0.423562\n"
          ]
        },
        {
          "output_type": "stream",
          "name": "stderr",
          "text": [
            "Epoch 7:  14%|█▍        | 11/80 [00:01<00:08,  8.12batch/s, loss=0.443]"
          ]
        },
        {
          "output_type": "stream",
          "name": "stdout",
          "text": [
            "Train Epoch: 7 [10000/80000 (12%)]\tLoss: 0.462709\n"
          ]
        },
        {
          "output_type": "stream",
          "name": "stderr",
          "text": [
            "Epoch 7:  26%|██▋       | 21/80 [00:02<00:07,  8.21batch/s, loss=0.434]"
          ]
        },
        {
          "output_type": "stream",
          "name": "stdout",
          "text": [
            "Train Epoch: 7 [20000/80000 (25%)]\tLoss: 0.466791\n"
          ]
        },
        {
          "output_type": "stream",
          "name": "stderr",
          "text": [
            "Epoch 7:  39%|███▉      | 31/80 [00:03<00:05,  8.24batch/s, loss=0.458]"
          ]
        },
        {
          "output_type": "stream",
          "name": "stdout",
          "text": [
            "Train Epoch: 7 [30000/80000 (38%)]\tLoss: 0.451846\n"
          ]
        },
        {
          "output_type": "stream",
          "name": "stderr",
          "text": [
            "Epoch 7:  51%|█████▏    | 41/80 [00:05<00:04,  8.13batch/s, loss=0.483]"
          ]
        },
        {
          "output_type": "stream",
          "name": "stdout",
          "text": [
            "Train Epoch: 7 [40000/80000 (50%)]\tLoss: 0.470745\n"
          ]
        },
        {
          "output_type": "stream",
          "name": "stderr",
          "text": [
            "Epoch 7:  64%|██████▍   | 51/80 [00:06<00:03,  8.14batch/s, loss=0.439]"
          ]
        },
        {
          "output_type": "stream",
          "name": "stdout",
          "text": [
            "Train Epoch: 7 [50000/80000 (62%)]\tLoss: 0.457352\n"
          ]
        },
        {
          "output_type": "stream",
          "name": "stderr",
          "text": [
            "Epoch 7:  76%|███████▋  | 61/80 [00:07<00:02,  8.13batch/s, loss=0.428]"
          ]
        },
        {
          "output_type": "stream",
          "name": "stdout",
          "text": [
            "Train Epoch: 7 [60000/80000 (75%)]\tLoss: 0.458033\n"
          ]
        },
        {
          "output_type": "stream",
          "name": "stderr",
          "text": [
            "Epoch 7:  89%|████████▉ | 71/80 [00:08<00:01,  8.24batch/s, loss=0.48] "
          ]
        },
        {
          "output_type": "stream",
          "name": "stdout",
          "text": [
            "Train Epoch: 7 [70000/80000 (88%)]\tLoss: 0.445867\n"
          ]
        },
        {
          "output_type": "stream",
          "name": "stderr",
          "text": [
            "Epoch 7: 100%|██████████| 80/80 [00:09<00:00,  8.11batch/s, loss=0.423]\n"
          ]
        },
        {
          "output_type": "stream",
          "name": "stdout",
          "text": [
            "\n",
            "Test set: Average loss: 0.4456, Accuracy: 15884/20000 (79.420%)\n",
            "\n"
          ]
        },
        {
          "output_type": "stream",
          "name": "stderr",
          "text": [
            "Epoch 8:   1%|▏         | 1/80 [00:00<00:09,  8.09batch/s, loss=0.442]"
          ]
        },
        {
          "output_type": "stream",
          "name": "stdout",
          "text": [
            "Train Epoch: 8 [0/80000 (0%)]\tLoss: 0.432769\n"
          ]
        },
        {
          "output_type": "stream",
          "name": "stderr",
          "text": [
            "Epoch 8:  14%|█▍        | 11/80 [00:01<00:08,  8.26batch/s, loss=0.444]"
          ]
        },
        {
          "output_type": "stream",
          "name": "stdout",
          "text": [
            "Train Epoch: 8 [10000/80000 (12%)]\tLoss: 0.487173\n"
          ]
        },
        {
          "output_type": "stream",
          "name": "stderr",
          "text": [
            "Epoch 8:  26%|██▋       | 21/80 [00:02<00:07,  8.27batch/s, loss=0.452]"
          ]
        },
        {
          "output_type": "stream",
          "name": "stdout",
          "text": [
            "Train Epoch: 8 [20000/80000 (25%)]\tLoss: 0.422242\n"
          ]
        },
        {
          "output_type": "stream",
          "name": "stderr",
          "text": [
            "Epoch 8:  39%|███▉      | 31/80 [00:03<00:06,  8.16batch/s, loss=0.462]"
          ]
        },
        {
          "output_type": "stream",
          "name": "stdout",
          "text": [
            "Train Epoch: 8 [30000/80000 (38%)]\tLoss: 0.480101\n"
          ]
        },
        {
          "output_type": "stream",
          "name": "stderr",
          "text": [
            "Epoch 8:  51%|█████▏    | 41/80 [00:04<00:04,  8.26batch/s, loss=0.435]"
          ]
        },
        {
          "output_type": "stream",
          "name": "stdout",
          "text": [
            "Train Epoch: 8 [40000/80000 (50%)]\tLoss: 0.438756\n"
          ]
        },
        {
          "output_type": "stream",
          "name": "stderr",
          "text": [
            "Epoch 8:  64%|██████▍   | 51/80 [00:06<00:03,  8.20batch/s, loss=0.421]"
          ]
        },
        {
          "output_type": "stream",
          "name": "stdout",
          "text": [
            "Train Epoch: 8 [50000/80000 (62%)]\tLoss: 0.461975\n"
          ]
        },
        {
          "output_type": "stream",
          "name": "stderr",
          "text": [
            "Epoch 8:  76%|███████▋  | 61/80 [00:07<00:02,  8.18batch/s, loss=0.469]"
          ]
        },
        {
          "output_type": "stream",
          "name": "stdout",
          "text": [
            "Train Epoch: 8 [60000/80000 (75%)]\tLoss: 0.454254\n"
          ]
        },
        {
          "output_type": "stream",
          "name": "stderr",
          "text": [
            "Epoch 8:  89%|████████▉ | 71/80 [00:08<00:01,  8.13batch/s, loss=0.457]"
          ]
        },
        {
          "output_type": "stream",
          "name": "stdout",
          "text": [
            "Train Epoch: 8 [70000/80000 (88%)]\tLoss: 0.464518\n"
          ]
        },
        {
          "output_type": "stream",
          "name": "stderr",
          "text": [
            "Epoch 8: 100%|██████████| 80/80 [00:09<00:00,  8.22batch/s, loss=0.445]\n"
          ]
        },
        {
          "output_type": "stream",
          "name": "stdout",
          "text": [
            "\n",
            "Test set: Average loss: 0.4435, Accuracy: 15920/20000 (79.600%)\n",
            "\n"
          ]
        },
        {
          "output_type": "stream",
          "name": "stderr",
          "text": [
            "Epoch 9:   1%|▏         | 1/80 [00:00<00:10,  7.69batch/s, loss=0.458]"
          ]
        },
        {
          "output_type": "stream",
          "name": "stdout",
          "text": [
            "Train Epoch: 9 [0/80000 (0%)]\tLoss: 0.479717\n"
          ]
        },
        {
          "output_type": "stream",
          "name": "stderr",
          "text": [
            "Epoch 9:  14%|█▍        | 11/80 [00:01<00:08,  8.29batch/s, loss=0.474]"
          ]
        },
        {
          "output_type": "stream",
          "name": "stdout",
          "text": [
            "Train Epoch: 9 [10000/80000 (12%)]\tLoss: 0.451115\n"
          ]
        },
        {
          "output_type": "stream",
          "name": "stderr",
          "text": [
            "Epoch 9:  26%|██▋       | 21/80 [00:02<00:07,  8.22batch/s, loss=0.478]"
          ]
        },
        {
          "output_type": "stream",
          "name": "stdout",
          "text": [
            "Train Epoch: 9 [20000/80000 (25%)]\tLoss: 0.445764\n"
          ]
        },
        {
          "output_type": "stream",
          "name": "stderr",
          "text": [
            "Epoch 9:  39%|███▉      | 31/80 [00:03<00:06,  8.06batch/s, loss=0.458]"
          ]
        },
        {
          "output_type": "stream",
          "name": "stdout",
          "text": [
            "Train Epoch: 9 [30000/80000 (38%)]\tLoss: 0.460316\n"
          ]
        },
        {
          "output_type": "stream",
          "name": "stderr",
          "text": [
            "Epoch 9:  51%|█████▏    | 41/80 [00:05<00:04,  8.18batch/s, loss=0.435]"
          ]
        },
        {
          "output_type": "stream",
          "name": "stdout",
          "text": [
            "Train Epoch: 9 [40000/80000 (50%)]\tLoss: 0.438461\n"
          ]
        },
        {
          "output_type": "stream",
          "name": "stderr",
          "text": [
            "Epoch 9:  64%|██████▍   | 51/80 [00:06<00:03,  8.08batch/s, loss=0.444]"
          ]
        },
        {
          "output_type": "stream",
          "name": "stdout",
          "text": [
            "Train Epoch: 9 [50000/80000 (62%)]\tLoss: 0.439178\n"
          ]
        },
        {
          "output_type": "stream",
          "name": "stderr",
          "text": [
            "Epoch 9:  76%|███████▋  | 61/80 [00:07<00:02,  8.21batch/s, loss=0.447]"
          ]
        },
        {
          "output_type": "stream",
          "name": "stdout",
          "text": [
            "Train Epoch: 9 [60000/80000 (75%)]\tLoss: 0.433011\n"
          ]
        },
        {
          "output_type": "stream",
          "name": "stderr",
          "text": [
            "Epoch 9:  89%|████████▉ | 71/80 [00:08<00:01,  8.24batch/s, loss=0.441]"
          ]
        },
        {
          "output_type": "stream",
          "name": "stdout",
          "text": [
            "Train Epoch: 9 [70000/80000 (88%)]\tLoss: 0.466779\n"
          ]
        },
        {
          "output_type": "stream",
          "name": "stderr",
          "text": [
            "Epoch 9: 100%|██████████| 80/80 [00:09<00:00,  8.21batch/s, loss=0.437]\n"
          ]
        },
        {
          "output_type": "stream",
          "name": "stdout",
          "text": [
            "\n",
            "Test set: Average loss: 0.4428, Accuracy: 15904/20000 (79.520%)\n",
            "\n"
          ]
        },
        {
          "output_type": "stream",
          "name": "stderr",
          "text": [
            "Epoch 10:   1%|▏         | 1/80 [00:00<00:09,  7.98batch/s, loss=0.435]"
          ]
        },
        {
          "output_type": "stream",
          "name": "stdout",
          "text": [
            "Train Epoch: 10 [0/80000 (0%)]\tLoss: 0.461741\n"
          ]
        },
        {
          "output_type": "stream",
          "name": "stderr",
          "text": [
            "Epoch 10:  14%|█▍        | 11/80 [00:01<00:08,  8.24batch/s, loss=0.459]"
          ]
        },
        {
          "output_type": "stream",
          "name": "stdout",
          "text": [
            "Train Epoch: 10 [10000/80000 (12%)]\tLoss: 0.464862\n"
          ]
        },
        {
          "output_type": "stream",
          "name": "stderr",
          "text": [
            "Epoch 10:  26%|██▋       | 21/80 [00:02<00:07,  8.19batch/s, loss=0.467]"
          ]
        },
        {
          "output_type": "stream",
          "name": "stdout",
          "text": [
            "Train Epoch: 10 [20000/80000 (25%)]\tLoss: 0.469985\n"
          ]
        },
        {
          "output_type": "stream",
          "name": "stderr",
          "text": [
            "Epoch 10:  39%|███▉      | 31/80 [00:03<00:05,  8.23batch/s, loss=0.463]"
          ]
        },
        {
          "output_type": "stream",
          "name": "stdout",
          "text": [
            "Train Epoch: 10 [30000/80000 (38%)]\tLoss: 0.452264\n"
          ]
        },
        {
          "output_type": "stream",
          "name": "stderr",
          "text": [
            "Epoch 10:  51%|█████▏    | 41/80 [00:05<00:04,  8.14batch/s, loss=0.46] "
          ]
        },
        {
          "output_type": "stream",
          "name": "stdout",
          "text": [
            "Train Epoch: 10 [40000/80000 (50%)]\tLoss: 0.424350\n"
          ]
        },
        {
          "output_type": "stream",
          "name": "stderr",
          "text": [
            "Epoch 10:  64%|██████▍   | 51/80 [00:06<00:03,  8.29batch/s, loss=0.471]"
          ]
        },
        {
          "output_type": "stream",
          "name": "stdout",
          "text": [
            "Train Epoch: 10 [50000/80000 (62%)]\tLoss: 0.456179\n"
          ]
        },
        {
          "output_type": "stream",
          "name": "stderr",
          "text": [
            "Epoch 10:  76%|███████▋  | 61/80 [00:07<00:02,  8.28batch/s, loss=0.449]"
          ]
        },
        {
          "output_type": "stream",
          "name": "stdout",
          "text": [
            "Train Epoch: 10 [60000/80000 (75%)]\tLoss: 0.440170\n"
          ]
        },
        {
          "output_type": "stream",
          "name": "stderr",
          "text": [
            "Epoch 10:  89%|████████▉ | 71/80 [00:08<00:01,  8.23batch/s, loss=0.484]"
          ]
        },
        {
          "output_type": "stream",
          "name": "stdout",
          "text": [
            "Train Epoch: 10 [70000/80000 (88%)]\tLoss: 0.459143\n"
          ]
        },
        {
          "output_type": "stream",
          "name": "stderr",
          "text": [
            "Epoch 10: 100%|██████████| 80/80 [00:09<00:00,  8.20batch/s, loss=0.434]\n"
          ]
        },
        {
          "output_type": "stream",
          "name": "stdout",
          "text": [
            "\n",
            "Test set: Average loss: 0.4416, Accuracy: 15947/20000 (79.735%)\n",
            "\n"
          ]
        },
        {
          "output_type": "display_data",
          "data": {
            "image/png": "[encoded data removed]",
            "text/plain": [
              "<Figure size 432x288 with 2 Axes>"
            ]
          },
          "metadata": {
            "needs_background": "light"
          }
        }
      ],
      "source": [
        "import argparse # handles arguments\n",
        "import sys; sys.argv=['']; del sys # required to use parser in jupyter notebooks\n",
        "\n",
        "# Training settings\n",
        "parser = argparse.ArgumentParser(description='PyTorch SUSY Example')\n",
        "parser.add_argument('--dataset_size', type=int, default=100000, metavar='DS',\n",
        "                help='size of data set (default: 100000)')\n",
        "parser.add_argument('--high_level_feats', type=bool, default=None, metavar='HLF',\n",
        "                help='toggles high level features (default: None)')\n",
        "parser.add_argument('--batch-size', type=int, default=100, metavar='N',\n",
        "                help='input batch size for training (default: 64)')\n",
        "parser.add_argument('--test-batch-size', type=int, default=1000, metavar='N',\n",
        "                help='input batch size for testing (default: 1000)')\n",
        "parser.add_argument('--epochs', type=int, default=10, metavar='N',\n",
        "                help='number of epochs to train (default: 10)')\n",
        "parser.add_argument('--lr', type=float, default=0.05, metavar='LR',\n",
        "                help='learning rate (default: 0.02)')\n",
        "parser.add_argument('--momentum', type=float, default=0.8, metavar='M',\n",
        "                help='SGD momentum (default: 0.5)')\n",
        "parser.add_argument('--no-cuda', action='store_true', default=True,\n",
        "                help='disables CUDA training')\n",
        "parser.add_argument('--seed', type=int, default=2, metavar='S',\n",
        "                help='random seed (default: 1)')\n",
        "parser.add_argument('--log-interval', type=int, default=10, metavar='N',\n",
        "                help='how many batches to wait before logging training status')\n",
        "args = parser.parse_args()\n",
        "\n",
        "\n",
        "\n",
        "\n",
        "# set seed of random number generator\n",
        "torch.manual_seed(args.seed)\n",
        "\n",
        "\n",
        "grid_search(args)\n"
      ]
    },
    {
      "cell_type": "code",
      "source": [
        "\"\"\"\n",
        "import pandas as pd\n",
        "df_test2=pd.read_csv('gdrive/My Drive/ML4HEP_Course/data/datashrunk_SUSY_2.csv', header=0)\n",
        "\n",
        "#df_test.reset_index(level=1)\n",
        "\n",
        "df_test2.reset_index(drop=True, inplace=True) \n",
        "\n",
        "df_test2.head \n",
        "\"\"\""
      ],
      "metadata": {
        "colab": {
          "base_uri": "https://localhost:8080/",
          "height": 54
        },
        "id": "ukfBtvaDadr7",
        "outputId": "f6a8b5a2-bc7b-4320-e31e-745eefa5c938"
      },
      "id": "ukfBtvaDadr7",
      "execution_count": null,
      "outputs": [
        {
          "output_type": "execute_result",
          "data": {
            "application/vnd.google.colaboratory.intrinsic+json": {
              "type": "string"
            },
            "text/plain": [
              "\"\\nimport pandas as pd\\ndf_test2=pd.read_csv('gdrive/My Drive/ML4HEP_Course/data/datashrunk_SUSY_2.csv', header=0)\\n\\n#df_test.reset_index(level=1)\\n\\ndf_test2.reset_index(drop=True, inplace=True) \\n\\ndf_test2.head \\n\""
            ]
          },
          "metadata": {},
          "execution_count": 36
        }
      ]
    },
    {
      "cell_type": "code",
      "source": [
        ""
      ],
      "metadata": {
        "id": "Rw2KHQo4dvWM"
      },
      "id": "Rw2KHQo4dvWM",
      "execution_count": null,
      "outputs": []
    },
    {
      "cell_type": "markdown",
      "source": [
        "### Plot learning curve "
      ],
      "metadata": {
        "id": "KelfbmpYnI3n"
      },
      "id": "KelfbmpYnI3n"
    },
    {
      "cell_type": "markdown",
      "source": [
        "### BO "
      ],
      "metadata": {
        "id": "XDc_3JOgnDuw"
      },
      "id": "XDc_3JOgnDuw"
    },
    {
      "cell_type": "code",
      "source": [
        ""
      ],
      "metadata": {
        "id": "LELFefwSnMi6"
      },
      "id": "LELFefwSnMi6",
      "execution_count": null,
      "outputs": []
    }
  ],
  "metadata": {
    "kernelspec": {
      "display_name": "Python 3",
      "name": "python3"
    },
    "language_info": {
      "name": "python"
    },
    "colab": {
      "name": "DNN_SUSY_gpu.ipynb",
      "provenance": [],
      "collapsed_sections": []
    },
    "accelerator": "GPU"
  },
  "nbformat": 4,
  "nbformat_minor": 5
}