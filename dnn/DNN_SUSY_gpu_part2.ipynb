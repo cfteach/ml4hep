{
  "cells": [
    {
      "cell_type": "markdown",
      "id": "1e0d735f",
      "metadata": {
        "id": "1e0d735f"
      },
      "source": [
        "# Using Deep Learning to Study SUSY with PyTorch"
      ]
    },
    {
      "cell_type": "markdown",
      "id": "2e082814",
      "metadata": {
        "id": "2e082814"
      },
      "source": [
        "## Learning Goals\n",
        "\n",
        "The goal of this notebook is to introduce the powerful PyTorch framework for building neural networks and use it to analyze the SUSY dataset. After this notebook, the reader should understand the mechanics of PyTorch and how to construct DNNs using this package. In addition, the reader is encouraged to explore the GPU backend available in Pytorch on this dataset.\n"
      ]
    },
    {
      "cell_type": "markdown",
      "id": "a2991902",
      "metadata": {
        "id": "a2991902"
      },
      "source": [
        "## Overview\n",
        "\n",
        "### Description of Data \n",
        "\n",
        "We use Deep Neural Networks to classify the supersymmetry dataset, first introduced by [Baldi et al. in Nature Communication (2015)](https://www.nature.com/articles/ncomms5308). The SUSY data set consists of 5,000,000 Monte-Carlo samples of supersymmetric and non-supersymmetric collisions with  18 features. The signal process is the production of electrically-charged supersymmetric particles which decay to  W bosons and an electrically-neutral supersymmetric particle that is invisible to the detector.\n",
        "\n",
        "**The first  8 features are \"raw\" kinematic features that can be directly measured from collisions. The final  10 features are \"hand constructed\" features** that have been chosen using physical knowledge and are known to be important in distinguishing supersymmetric and non-supersymmetric collision events. More specifically, they are given by the column names below.\n",
        "\n",
        "\n",
        "**low_features=**\\['lepton 1 pT', 'lepton 1 eta', 'lepton 1 phi', 'lepton 2 pT', 'lepton 2 eta', 'lepton 2 phi', \n",
        " 'missing energy magnitude', 'missing energy phi'\\]\n",
        "\n",
        "**high_features=**\\['MET_rel', 'axial MET', 'M_R', 'M_TR_2', 'R', 'MT2','S_R', 'M_Delta_R', 'dPhi_r_b', 'cos(theta_r1)'\\]\n",
        "\n",
        "\n",
        "\n",
        "\n",
        "From https://archive.ics.uci.edu/ml/datasets/SUSY:  the following image displays the signal (a) vs the background (b): the signal involves an hypotethical supersymmetric particle $\\chi^{\\pm}$ and $\\chi^{0}$ (undetected) along with charged leptons $l^{\\pm}$ and neutrinos $\\nu$. \n",
        "The background process involves $W$ bosons decaying in leptons $l^{\\pm}$ and neutrinos $\\nu$. In both cases, the resulting observed particles are two charged leptons, since neutrinos and $\\chi^{0}$ escape undetected.</br>\n",
        "\n",
        "\n",
        "<!---![picture](\"gdrive/My Drive/ML4HEP_Course/images/SUSY.png\")--->\n",
        "\n",
        "<img src=\"https://drive.google.com/file/d/1-Brgz5JlUbW3IJut444rpAEK13Nhjh3_\">\n",
        "\n",
        "\n",
        "<!--- #![signal (a) VS background (b)](gdrive/My Drive/ML4HEP_Course/images/SUSY.png)\n",
        "--->\n",
        "\n",
        "</br>The classification task requires distinguishing between these two processes and the missing transverse momentum. Simulated events are generated with MADGRAPH event generator assuming 8 TeV collisions of protons at LHC, with showering and hadronization performed by PYTHIA and detector response simulated by DELPHES. \n",
        "Notice the masses are set to $m_{\\chi^{\\pm}}=$ 200 GeV and $m_{\\chi^{0}}$ = 100 GeV. \n",
        "We focus on fully leptonic decay mode of $W$ bosons, both into $l\\nu$ (final state $l\\nu l\\nu$).\n",
        "\n",
        "We consider events which satisfy the requirements:\n",
        "- exactly two electrons or muons each with $p_{\\perp}>$ 20 GeV and $|\\eta|<$ 2.5\n",
        "- at least 20 GeV of missing transverse mass \n",
        "\n",
        "The basic detector response is used to measure the momentum of each visible particle, basically leptoons, though there may be particle jets induced by radiative processes. \n",
        "A critical quantity if the missing transverse momentum $E_{T}$. \n",
        "\n",
        "High-level features to select signal vs background (cannot have invariant mass here due to undetected particles):\n",
        "\n",
        "- **axial $E_{T}$**: missing transverse energy along the vector defined by the charged leptons \n",
        "\n",
        "- **transverse mass M_{T2}**: estimating the mass of particles produced in pairs and decaying semi-invisibly [17,18]\n",
        "\n",
        "- **$E_{T}^{Rel}$**: $E_{T}$ if $\\Delta \\phi \\leq \\pi /2$,  $E_{T} \\sin{(\\Delta\\phi)}$ if $\\Delta \\phi < \\pi /2$, where $\\Delta\\phi$ is the minimum angle between $E_{T}$ and a jet or lepton \n",
        "\n",
        "- **razor quantities: $\\beta, R$ and $M_{R}$** [19]\n",
        "\n",
        "- **super-razor quantities $\\beta_{R+1}, \\cos{(\\theta_{R+1}), \\Delta\\Phi_{R}^{\\beta}}, M_{\\Delta}^{R}, M_{R}^{T}$ and $\\sqrt{\\hat{s}_{R}}$** [20]\n",
        "\n"
      ]
    },
    {
      "cell_type": "markdown",
      "id": "5046e906",
      "metadata": {
        "id": "5046e906"
      },
      "source": [
        "## Structure and Procedure\n",
        "\n",
        "Constructing a Deep Neural Network to solve ML problems is a multiple-stage process. Quite generally, one can identify the key steps as follows:\n",
        "</br>\n",
        "\n",
        "- step 1: Load and process the data\n",
        "\n",
        "- step 2: Define the model and its architecture\n",
        "\n",
        "- step 3: Choose the optimizer and the cost function\n",
        "\n",
        "- step 4: Train the model\n",
        "\n",
        "- step 5: Evaluate the model performance on the unseen test data\n",
        "\n",
        "- step 6: Modify the hyperparameters to optimize performance for the specific data set\n",
        "\n",
        "</br>\n",
        "Below, we sometimes combine some of these steps together for convenience.\n",
        "Notice that we take a rather different approach, compared to the simpler MNIST Keras notebook. We first define a set of classes and functions and run the actual computation only in the very end."
      ]
    },
    {
      "cell_type": "markdown",
      "id": "f7611972",
      "metadata": {
        "id": "f7611972"
      },
      "source": [
        "## Load and Process the SUSY Data "
      ]
    },
    {
      "cell_type": "markdown",
      "id": "2ec9fc3d",
      "metadata": {
        "id": "2ec9fc3d"
      },
      "source": [
        "The supersymmetry dataset can be downloaded from the UCI Machine Learning repository on https://archive.ics.uci.edu/ml/machine-learning-databases/00279/SUSY.csv.gz. The dataset is quite large. Download the dataset and unzip it in a directory.\n",
        "\n",
        "\n",
        "Loading data in Pytroch is done by creating a user-defined class, which we name **SUSY_Dataset**, and is a child of the **torch.utils.data.Dataset** class. This ensures that all necessary attributes required for the processing of the data during the training and test stages are easily inherited. The \\_\\_init\\_\\_ method of our custom data class should contain the usual code for loading the data, which is problem-specific, and has been discussed for the SUSY data set in previous notebooks. \n",
        "\n",
        "More importantly, the user-defined **data class must override** the **\\_\\_len\\_\\_** and **\\_\\_getitem\\_\\_** methods of the **parent DataSet class**. The former returns the size of the data set, while the latter allows the user to access a particular data point from the set by specifying its index.\n",
        "\n",
        "The **\\_\\_init\\_\\_()** method bulk-converts all NumPy array data to PyTorch tensors. An alternative is to leave the data in memory as NumPy arrays and then convert to batches of data to tensors in the **\\_\\_getitem\\_\\_** method.\n",
        "The `__getitem___` method is crucial to iterate over the dataset. This is defined in the class SUSY_Dataset, which is eventually inherited by the class `torch.utils.data.DataLoader` that defines `train_loader` and `test_loader`. \n",
        "\n",
        "Eventually this allows to loop over the training (testing) data:\n",
        "`for batch_idx, (data, label) in enumerate(train_loader):`\n",
        "\n"
      ]
    },
    {
      "cell_type": "code",
      "execution_count": null,
      "id": "bc2c1a05",
      "metadata": {
        "colab": {
          "base_uri": "https://localhost:8080/"
        },
        "id": "bc2c1a05",
        "outputId": "1b867b51-a710-47a2-eb8f-7abbfed04017"
      },
      "outputs": [
        {
          "output_type": "stream",
          "name": "stdout",
          "text": [
            "3.7.12\n",
            "0 <torch.cuda.device object at 0x7f1739ec5b10> 1\n",
            "Tesla P100-PCIE-16GB True , cuda:  11.1\n",
            "Tue Dec 21 10:36:49 2021       \n",
            "+-----------------------------------------------------------------------------+\n",
            "| NVIDIA-SMI 495.44       Driver Version: 460.32.03    CUDA Version: 11.2     |\n",
            "|-------------------------------+----------------------+----------------------+\n",
            "| GPU  Name        Persistence-M| Bus-Id        Disp.A | Volatile Uncorr. ECC |\n",
            "| Fan  Temp  Perf  Pwr:Usage/Cap|         Memory-Usage | GPU-Util  Compute M. |\n",
            "|                               |                      |               MIG M. |\n",
            "|===============================+======================+======================|\n",
            "|   0  Tesla P100-PCIE...  Off  | 00000000:00:04.0 Off |                    0 |\n",
            "| N/A   32C    P0    28W / 250W |      2MiB / 16280MiB |      0%      Default |\n",
            "|                               |                      |                  N/A |\n",
            "+-------------------------------+----------------------+----------------------+\n",
            "                                                                               \n",
            "+-----------------------------------------------------------------------------+\n",
            "| Processes:                                                                  |\n",
            "|  GPU   GI   CI        PID   Type   Process name                  GPU Memory |\n",
            "|        ID   ID                                                   Usage      |\n",
            "|=============================================================================|\n",
            "|  No running processes found                                                 |\n",
            "+-----------------------------------------------------------------------------+\n",
            "Your runtime has 13.6 gigabytes of available RAM\n",
            "\n",
            "Not using a high-RAM runtime\n"
          ]
        }
      ],
      "source": [
        "from __future__ import print_function, division\n",
        "import os,sys\n",
        "import numpy as np\n",
        "import torch # pytorch package, allows using GPUs\n",
        "\n",
        "from platform import python_version\n",
        "\n",
        "\n",
        "\n",
        "\n",
        "print(python_version())\n",
        "\n",
        "# fix seed\n",
        "seed=17\n",
        "np.random.seed(seed)\n",
        "torch.manual_seed(seed)\n",
        "\n",
        "\n",
        "#--------------------------------------------------------------------------------------------------\n",
        "def print_gpu_info():\n",
        "  print(torch.cuda.current_device(), torch.cuda.device(0), torch.cuda.device_count())\n",
        "  print(torch.cuda.get_device_name(0), torch.cuda.is_available(), \", cuda: \", torch.version.cuda)\n",
        "\n",
        "\n",
        "  gpu_info = !nvidia-smi\n",
        "  gpu_info = '\\n'.join(gpu_info)\n",
        "  if gpu_info.find('failed') >= 0:\n",
        "    print('Not connected to a GPU')\n",
        "  else:\n",
        "    print(gpu_info)\n",
        "#--------------------------------------------------------------------------------------------------\n",
        "\n",
        "from psutil import virtual_memory\n",
        "\n",
        "def print_RAM_info():\n",
        "  ram_gb = virtual_memory().total / 1e9\n",
        "  print('Your runtime has {:.1f} gigabytes of available RAM\\n'.format(ram_gb))\n",
        "\n",
        "  if ram_gb < 20:\n",
        "    print('Not using a high-RAM runtime')\n",
        "  else:\n",
        "    print('You are using a high-RAM runtime!')\n",
        "\n",
        "#--------------------------------------------------------------------------------------------------\n",
        "\n",
        "print_gpu_info()\n",
        "print_RAM_info()\n",
        "\n"
      ]
    },
    {
      "cell_type": "code",
      "execution_count": null,
      "id": "f6697c9b",
      "metadata": {
        "id": "f6697c9b"
      },
      "outputs": [],
      "source": [
        "from torchvision import datasets # load data\n",
        "\n",
        "class SUSY_Dataset(torch.utils.data.Dataset):  #https://pytorch.org/docs/stable/data.html\n",
        "    \"\"\"SUSY pytorch dataset.\"\"\"\n",
        "\n",
        "    def __init__(self, data_file, root_dir, dataset_size, train=True, transform=None, high_level_feats=None):\n",
        "        \"\"\"\n",
        "        Args:\n",
        "            csv_file (string): Path to the csv file with annotations.\n",
        "            root_dir (string): Directory with all the images.\n",
        "            train (bool, optional): If set to `True` load training data.\n",
        "            transform (callable, optional): Optional transform to be applied on a sample.\n",
        "            high_level_festures (bool, optional): If set to `True`, working with high-level features only. \n",
        "                                        If set to `False`, working with low-level features only.\n",
        "                                        Default is `None`: working with all features\n",
        "        \"\"\"\n",
        "\n",
        "        import pandas as pd\n",
        "\n",
        "        features=['SUSY','lepton 1 pT', 'lepton 1 eta', 'lepton 1 phi', 'lepton 2 pT', 'lepton 2 eta', 'lepton 2 phi', \n",
        "                'missing energy magnitude', 'missing energy phi', 'MET_rel', 'axial MET', 'M_R', 'M_TR_2', 'R', 'MT2', \n",
        "                'S_R', 'M_Delta_R', 'dPhi_r_b', 'cos(theta_r1)']\n",
        "\n",
        "        low_features=['lepton 1 pT', 'lepton 1 eta', 'lepton 1 phi', 'lepton 2 pT', 'lepton 2 eta', 'lepton 2 phi', \n",
        "                'missing energy magnitude', 'missing energy phi']\n",
        "\n",
        "        high_features=['MET_rel', 'axial MET', 'M_R', 'M_TR_2', 'R', 'MT2','S_R', 'M_Delta_R', 'dPhi_r_b', 'cos(theta_r1)']\n",
        "\n",
        "\n",
        "        #Number of datapoints to work with\n",
        "        df = pd.read_csv(root_dir+data_file, header=None,nrows=dataset_size,engine='python')\n",
        "        df.head\n",
        "        df.columns=features\n",
        "        Y = df['SUSY']\n",
        "        X = df[[col for col in df.columns if col!=\"SUSY\"]]\n",
        "\n",
        "        # set training and test data size\n",
        "        train_size=int(0.8*dataset_size)\n",
        "        self.train=train\n",
        "\n",
        "        if self.train:\n",
        "            X=X[:train_size]\n",
        "            Y=Y[:train_size]\n",
        "            print(\"Training on {} examples\".format(train_size))\n",
        "        else:\n",
        "            X=X[train_size:]\n",
        "            Y=Y[train_size:]\n",
        "            print(\"Testing on {} examples\".format(dataset_size-train_size))\n",
        "\n",
        "\n",
        "        self.root_dir = root_dir\n",
        "        self.transform = transform\n",
        "\n",
        "        # make datasets using only the 8 low-level features and 10 high-level features\n",
        "        if high_level_feats is None:\n",
        "            self.data=(X.values.astype(np.float32),Y.values.astype(int))\n",
        "            print(\"Using both high and low level features\")\n",
        "        elif high_level_feats is True:\n",
        "            self.data=(X[high_features].values.astype(np.float32),Y.values.astype(int))\n",
        "            print(\"Using both high-level features only.\")\n",
        "        elif high_level_feats is False:\n",
        "            self.data=(X[low_features].values.astype(np.float32),Y.values.astype(int))\n",
        "            print(\"Using both low-level features only.\")\n",
        "\n",
        "\n",
        "    # override __len__ and __getitem__ of the Dataset() class\n",
        "\n",
        "    def __len__(self):\n",
        "        return len(self.data[1])\n",
        "\n",
        "    def __getitem__(self, idx):\n",
        "\n",
        "        sample=(self.data[0][idx,...],self.data[1][idx])\n",
        "\n",
        "        if self.transform:\n",
        "            sample=self.transform(sample)\n",
        "\n",
        "        return sample"
      ]
    },
    {
      "cell_type": "markdown",
      "id": "0f6a2705",
      "metadata": {
        "id": "0f6a2705"
      },
      "source": [
        "Last, we define a helper function load_data() that accepts as a required argument the set of parameters args, and returns two generators: test_loader and train_loader which readily return mini-batches."
      ]
    },
    {
      "cell_type": "code",
      "execution_count": null,
      "id": "0e76e10f",
      "metadata": {
        "id": "0e76e10f"
      },
      "outputs": [],
      "source": [
        "\n",
        "def load_data(args):\n",
        "\n",
        "    from google.colab import drive \n",
        "    drive.mount('/content/gdrive')\n",
        "\n",
        "    #import pandas as pd\n",
        "    #df_test=pd.read_csv('gdrive/My Drive/ML4HEP_Course/data/datashrunk_SUSY_2.csv')\n",
        "    \n",
        "    data_file='SUSY.csv' #'datashrunk_SUSY_2.csv' #'SUSY.csv'\n",
        "    #root_dir=os.path.expanduser('~')+'/Desktop/ML4HEP/data/'\n",
        "    root_dir='gdrive/My Drive/ML4HEP_Course/data/'\n",
        "\n",
        "    kwargs = {} # CUDA arguments, if enabled\n",
        "    # load and normalise train and test data\n",
        "    train_loader = torch.utils.data.DataLoader(\n",
        "        SUSY_Dataset(data_file,root_dir,args.dataset_size,train=True,high_level_feats=args.high_level_feats),\n",
        "        batch_size=args.batch_size, shuffle=True, **kwargs)\n",
        "\n",
        "    test_loader = torch.utils.data.DataLoader(\n",
        "        SUSY_Dataset(data_file,root_dir,args.dataset_size,train=False,high_level_feats=args.high_level_feats),\n",
        "        batch_size=args.test_batch_size, shuffle=False, **kwargs)\n",
        "\n",
        "    return train_loader, test_loader\n"
      ]
    },
    {
      "cell_type": "markdown",
      "id": "e0e8390c",
      "metadata": {
        "id": "e0e8390c"
      },
      "source": [
        "## Step 2: Define the NN Architecture \n",
        "\n",
        "To construct neural networks with Pytorch, we make another class called model as a child of `Pytorch's nn.Module`  class. The model class initializes the types of layers needed for the deep neural net in its `__init__` method, while the DNN is assembled in a function method called `forward`, which accepts an `autograd.Variable` object and returns the output layer. Using this convention Pytorch will automatically recognize the structure of the DNN, and the `autograd` module will pull the gradients forward and backward using backprop.\n",
        "\n",
        "Our code below is constructed in such a way that one can choose whether to use the high-level and low-level features separately and altogether. This choice determines the size of the fully-connected input layer `fc1`. Therefore the `__init__` method accepts the optional argument `high_level_feats`."
      ]
    },
    {
      "cell_type": "code",
      "execution_count": null,
      "id": "e66c6703",
      "metadata": {
        "id": "e66c6703"
      },
      "outputs": [],
      "source": [
        "import torch.nn as nn # construct NN\n",
        "\n",
        "class model(nn.Module):\n",
        "    def __init__(self,high_level_feats=None):\n",
        "        # inherit attributes and methods of nn.Module\n",
        "        super(model, self).__init__()\n",
        "        #super().__init__()  ##py3 actually only super()\n",
        "\n",
        "        # an affine operation: y = Wx + b\n",
        "        # fully connected \n",
        "        if high_level_feats is None:\n",
        "            self.fc1 = nn.Linear(18, 200) # all features\n",
        "        elif high_level_feats:\n",
        "            self.fc1 = nn.Linear(10, 200) # low-level only\n",
        "        else:\n",
        "            self.fc1 = nn.Linear(8, 200) # high-level only\n",
        "\n",
        "        # Batch Normalization is a regularization scheme that has been quickly adopted by the neural network \n",
        "        # community since its introduction in 2015 (Ioffe 2015)\n",
        "\n",
        "        self.batchnorm1=nn.BatchNorm1d(200, eps=1e-05, momentum=0.1)\n",
        "        self.batchnorm2=nn.BatchNorm1d(100, eps=1e-05, momentum=0.1)\n",
        "\n",
        "        self.fc2 = nn.Linear(200, 100) # see forward function for dimensions\n",
        "        self.fc3 = nn.Linear(100, 2)\n",
        "        \n",
        "        # NOTES\n",
        "        # All we're doing is just defining values for some layers, we're calling them fc1, fc2...etc, \n",
        "        # but you could call them whatever you wanted. The fc just stands for fully connected.\n",
        "        \n",
        "        # Each of our nn.Linear layers expects the first parameter to be the input size, \n",
        "        # and the 2nd parameter is the output size.\n",
        "        # So our first layer takes 18 values if we are using all the 18 features.\n",
        "\n",
        "    def forward(self, x):\n",
        "        '''Defines the feed-forward function for the NN.\n",
        "\n",
        "        A backward function is automatically defined using `torch.autograd`\n",
        "\n",
        "        Parameters\n",
        "        ----------\n",
        "        x : autograd.Tensor\n",
        "            input data\n",
        "\n",
        "        Returns\n",
        "        -------\n",
        "        autograd.Tensor\n",
        "            output layer of NN\n",
        "\n",
        "        '''\n",
        "\n",
        "        # apply rectified linear unit\n",
        "        x = F.relu(self.fc1(x))\n",
        "        # apply dropout\n",
        "        #x=self.batchnorm1(x)\n",
        "        x = F.dropout(x, training=self.training)\n",
        "\n",
        "\n",
        "        # apply rectified linear unit\n",
        "        x = F.relu(self.fc2(x))\n",
        "        # apply dropout\n",
        "        #x=self.batchnorm2(x)\n",
        "        x = F.dropout(x, training=self.training)\n",
        "\n",
        "\n",
        "        # apply affine operation fc2\n",
        "        x = self.fc3(x)\n",
        "        # soft-max layer\n",
        "        x = F.log_softmax(x,dim=1)\n",
        "\n",
        "        return x"
      ]
    },
    {
      "cell_type": "markdown",
      "id": "13ddcf39",
      "metadata": {
        "id": "13ddcf39"
      },
      "source": [
        "### Steps 3+4+5: Choose the Optimizer and the Cost Function. Train and Evaluate the Model\n",
        "\n",
        "Next, we define the function `evaluate_model`. \n",
        "\n",
        "- The first argument, `args`, contains all hyperparameters needed for the DNN (see below). \n",
        "- The second and third arguments are the `train_loader` and the `test_loader` objects, returned by the function `load_data()` we defined in Step 1 above. The evaluate_model function returns the final `test_loss` and `test_accuracy` of the model.\n",
        "\n",
        "First, we initialize a model and call the object `DNN`. In order to define the loss function and the optimizer, we use modules `torch.nn.functional` (imported here as F) and `torch.optim`. As a loss function we choose the **negative log-likelihood**, and stored it under the variable criterion. \n",
        "As usual, we can choose any from a variety of different SGD-based optimizers, but we focus on the traditional SGD.\n",
        "\n",
        "Next, we define two functions: `train()` and `test()`. They are called at the end of `evaluate_model` where we loop over the training epochs to train and test our model.\n",
        "\n",
        "The `train` function accepts an integer called epoch, which is only used to print the training data. We first set the DNN in a train mode using the `train()` method inherited from `nn.Module`. Then we loop over the mini-batches in `train_loader`. We cast the data as pytorch `Variable`, re-set the `optimizer`, perform the forward step by calling the DNN model on the data and computing the loss. The backprop algorithm is then easily done using the `backward()` method of the loss function criterion. We use `optimizer.step` to update the weights of the DNN. Last print the performance for every minibatch. `train` returns the loss on the data.\n",
        "\n",
        "The `test` function is similar to train but its purpose is to test the performance of a trained model. Once we set the DNN model in `eval()` mode, the following steps are similar to those in train. We then compute the `test_loss` and the number of correct predictions, print the results and return them.\n",
        "\n",
        "Notice the `DataLoader` class is designed so that it can be iterated using the enumerate() function, which returns a tuple with the current batch zero-based index value, and the actual batch of data. "
      ]
    },
    {
      "cell_type": "code",
      "execution_count": null,
      "id": "3fe88a00",
      "metadata": {
        "id": "3fe88a00"
      },
      "outputs": [],
      "source": [
        "import torch.nn.functional as F # implements forward and backward definitions of an autograd operation\n",
        "import torch.optim as optim # different update rules such as SGD, Nesterov-SGD, Adam, RMSProp, etc\n",
        "\n",
        "from tqdm import tqdm \n",
        "from tqdm import trange \n",
        "from time import sleep\n",
        "\n",
        "\n",
        "\n",
        "def evaluate_model(args,train_loader,test_loader):\n",
        "    \n",
        "    \n",
        "    \n",
        "    device = torch.device(\"cuda\" if args.no_cuda else \"cpu\")\n",
        "\n",
        "\n",
        "    # create model\n",
        "    DNN = model(high_level_feats=args.high_level_feats).to(device) \n",
        "\n",
        "    # negative log-likelihood (nll) loss for training: takes class labels NOT one-hot vectors!\n",
        "    criterion = F.nll_loss\n",
        "    # define SGD optimizer\n",
        "    optimizer = optim.SGD(DNN.parameters(), lr=args.lr, momentum=args.momentum)\n",
        "    #optimizer = optim.Adam(DNN.parameters(), lr=0.001, betas=(0.9, 0.999))\n",
        "\n",
        "    \n",
        "    \n",
        "    \n",
        "    ################################################\n",
        "\n",
        "    def train(epoch, device):\n",
        "        '''Trains a NN using minibatches.\n",
        "\n",
        "        Parameters\n",
        "        ----------\n",
        "        epoch : int\n",
        "            Training epoch number.\n",
        "\n",
        "        '''\n",
        "\n",
        "        # set model to training mode (affects Dropout and BatchNorm)\n",
        "        DNN.train()\n",
        "        \n",
        "       \n",
        "        \n",
        "        # to handle stream \n",
        "        with tqdm(train_loader, unit=\"batch\") as tepoch:\n",
        "        \n",
        "            # loop over training data\n",
        "            #for batch_idx, (data, label) in enumerate(train_loader):\n",
        "            for batch_idx, (data, label) in enumerate(tepoch):\n",
        "                \n",
        "                tepoch.set_description(f\"Epoch {epoch}\")\n",
        "                \n",
        "                data, label = data.to(device), label.to(device)\n",
        "                \n",
        "                # zero gradient buffers\n",
        "                optimizer.zero_grad()\n",
        "                # compute output of final layer: forward step\n",
        "                output = DNN(data)\n",
        "                # compute loss\n",
        "                loss = criterion(output, label)\n",
        "                # run backprop: backward step\n",
        "                loss.backward()\n",
        "                # update weigths of NN\n",
        "                optimizer.step()\n",
        "\n",
        "                # print loss at current epoch\n",
        "                if batch_idx % args.log_interval == 0:\n",
        "                    print('Train Epoch: {} [{}/{} ({:.0f}%)]\\tLoss: {:.6f}'.format(\n",
        "                        epoch, batch_idx * len(data), len(train_loader.dataset),\n",
        "                        100. * batch_idx / len(train_loader), loss.item() ))\n",
        "\n",
        "\n",
        "                # difference between len(train_loader.dataset) and len(train_loader)\n",
        "\n",
        "                tepoch.set_postfix(loss=loss.item())\n",
        "                sleep(0.1)\n",
        "                \n",
        "            return loss.item()     \n",
        "    \n",
        "    \n",
        "        \n",
        "        \n",
        "    ################################################\n",
        "\n",
        "    def test(device):\n",
        "        '''Tests NN performance.\n",
        "\n",
        "        '''\n",
        "\n",
        "        # evaluate model\n",
        "        DNN.eval() \n",
        "\n",
        "        # model.eval() is a kind of switch for some specific layers/parts of the model that behave differently during training and inference (evaluating) time. \n",
        "        # For example, Dropouts Layers, BatchNorm Layers etc. \n",
        "        # You need to turn off them during model evaluation, and .eval() will do it for you. \n",
        "        # In addition, the common practice for evaluating/validation is to turn off gradients computation \n",
        "\n",
        "\n",
        "        test_loss = 0 # loss function on test data\n",
        "        correct = 0 # number of correct predictions\n",
        "        # loop over test data\n",
        "        store_output = []\n",
        "        #store_output = None \n",
        "\n",
        "        for data, label in test_loader:\n",
        "\n",
        "            #print(\"data: \", data.shape, data.dtype)\n",
        "            #print(\"labels: \", label.shape, label.dtype)\n",
        "            #print(\"\")\n",
        "            # compute model prediction softmax probability\n",
        "            \n",
        "            data, label = data.to(device), label.to(device)\n",
        "            \n",
        "            output = DNN(data)\n",
        "            # compute test loss\n",
        "            test_loss += criterion(output, label, size_average=False).item() # sum up batch loss\n",
        "            # find most likely prediction\n",
        "\n",
        "            store_output.append(output.data) # (batch_size,2) tensors of (log(p),log(q)) \n",
        "            #store_output = output.data  # overwrite: remember you just need at the last epoch... \n",
        "            #print(\"output: \", store_output.shape, store_output.dtype) \n",
        "\n",
        "            #print(\"\\n\\n\")\n",
        "            #print(store_output[: 10])\n",
        "\n",
        "            pred = output.data.max(1, keepdim=True)[1] # get the index of the max log-probability\n",
        "            #print(\"\")\n",
        "            #print(pred[: 10])\n",
        "\n",
        "            # If keepdim is True, the output tensors are of the same size as input except in the dimension dim where they are of size 1. \n",
        "            # Otherwise, dim is squeezed (see torch.squeeze()), resulting in the output tensors having 1 fewer dimension than input.\n",
        "\n",
        "            # update number of correct predictions (https://pytorch.org/docs/stable/generated/torch.eq.html element-wise equality)\n",
        "            # other. self.view_as(other) is equivalent to self.view(other.size())\n",
        "            correct += pred.eq(label.data.view_as(pred)).cpu().sum().item()   #sum over booleans, item returns the value \n",
        "            # This is used to move the tensor to cpu(). \n",
        "            # Some operations on tensors cannot be performed on cuda tensors so you need to move them to cpu first.\n",
        "\n",
        "        # print test loss\n",
        "        test_loss /= len(test_loader.dataset)\n",
        "        \n",
        "        print('\\nTest set: Average loss: {:.4f}, Accuracy: {}/{} ({:.3f}%)\\n'.format(\n",
        "            test_loss, correct, len(test_loader.dataset),\n",
        "            100. * correct / len(test_loader.dataset)))\n",
        "        \n",
        "        \n",
        "        stdata = store_output[0]\n",
        "\n",
        "        for i in range(len(store_output)):\n",
        "          tmpd = store_output[i]\n",
        "          if i>0:\n",
        "            stdata = torch.cat((stdata,tmpd))\n",
        "        \n",
        "\n",
        "        return test_loss, correct / len(test_loader.dataset), store_output #stdata\n",
        "    \n",
        "    ################################################\n",
        "\n",
        "\n",
        "    train_loss=np.zeros((args.epochs,))\n",
        "    test_loss=np.zeros_like(train_loss)\n",
        "    test_accuracy=np.zeros_like(train_loss)\n",
        "    test_output = []\n",
        "    \n",
        "\n",
        "    epochs=range(1, args.epochs + 1)\n",
        "    for epoch in epochs:\n",
        "\n",
        "        train_loss[epoch-1] = train(epoch, device)\n",
        "        test_loss[epoch-1], test_accuracy[epoch-1], _ = test(device)\n",
        "        test_output.append(_)\n",
        "\n",
        "\n",
        "\n",
        "    outl = []\n",
        "    outl.append(test_loss[-1])\n",
        "    outl.append(test_accuracy[-1])\n",
        "    outl.append(train_loss)\n",
        "    outl.append(test_loss)\n",
        "\n",
        "    if(args.load_model):\n",
        "      #outl.append(DNN)\n",
        "      outl.append(test_output[-1]) #passing the last epoch test_output data \n",
        "\n",
        "\n",
        "    #return test_loss[-1], test_accuracy[-1], train_loss, test_loss     \n",
        "    return outl "
      ]
    },
    {
      "cell_type": "markdown",
      "id": "bdd212ad",
      "metadata": {
        "id": "bdd212ad"
      },
      "source": [
        "### Step 6: Modify the Hyperparameters to Optimize Performance of the Model¶\n",
        "\n",
        "To study the performance of the model for a variety of different `data_set_sizes` and `learning_rates`, we do a grid search.\n",
        "Let us define a function grid_search, which accepts the args variable containing all hyper-parameters needed for the problem. After choosing logarithmically-spaced `data_set_sizes` and `learning_rates`, we first loop over all `data_set_sizes`, update the args variable, and call the `load_data` function. We then loop once again over all `learning_rates`, update args and call `evaluate_model`."
      ]
    },
    {
      "cell_type": "code",
      "execution_count": null,
      "id": "517b2269",
      "metadata": {
        "id": "517b2269",
        "colab": {
          "base_uri": "https://localhost:8080/",
          "height": 123
        },
        "outputId": "203dcebb-61a7-4c5d-c267-b0e81a8a42ee"
      },
      "outputs": [
        {
          "output_type": "execute_result",
          "data": {
            "application/vnd.google.colaboratory.intrinsic+json": {
              "type": "string"
            },
            "text/plain": [
              "'\\ndef grid_search(args):\\n\\n\\n    # perform grid search over learnign rate and number of hidden neurons\\n    dataset_sizes=[10000, 100000] #np.logspace(2,5,4).astype(\\'int\\')\\n    learning_rates=np.logspace(-5,-1,3)\\n\\n    # pre-alocate data\\n    test_loss=np.zeros((len(dataset_sizes),len(learning_rates)),dtype=np.float64)\\n    test_accuracy=np.zeros_like(test_loss)\\n\\n    # do grid search\\n    for i, dataset_size in enumerate(dataset_sizes):\\n        # upate data set size parameters\\n        args.dataset_size=dataset_size\\n        args.batch_size=int(0.01*dataset_size)\\n\\n        # load data\\n        train_loader, test_loader = load_data(args)\\n\\n        for j, lr in enumerate(learning_rates):\\n            # update learning rate\\n            args.lr=lr\\n\\n            print(\"\\n training DNN with %5d data points and SGD lr=%0.6f. \\n\" %(dataset_size,lr) )\\n\\n            test_loss[i,j],test_accuracy[i,j] = evaluate_model(args,train_loader,test_loader)\\n\\n\\n    plot_data(learning_rates,dataset_sizes,test_accuracy)\\n    \\n'"
            ]
          },
          "metadata": {},
          "execution_count": 106
        }
      ],
      "source": [
        "# -------- no need to rerun a grid search ---- take max learning curve and dataset from exercise part1 \n",
        "\n",
        "\"\"\"\n",
        "def grid_search(args):\n",
        "\n",
        "\n",
        "    # perform grid search over learnign rate and number of hidden neurons\n",
        "    dataset_sizes=[10000, 100000] #np.logspace(2,5,4).astype('int')\n",
        "    learning_rates=np.logspace(-5,-1,3)\n",
        "\n",
        "    # pre-alocate data\n",
        "    test_loss=np.zeros((len(dataset_sizes),len(learning_rates)),dtype=np.float64)\n",
        "    test_accuracy=np.zeros_like(test_loss)\n",
        "\n",
        "    # do grid search\n",
        "    for i, dataset_size in enumerate(dataset_sizes):\n",
        "        # upate data set size parameters\n",
        "        args.dataset_size=dataset_size\n",
        "        args.batch_size=int(0.01*dataset_size)\n",
        "\n",
        "        # load data\n",
        "        train_loader, test_loader = load_data(args)\n",
        "\n",
        "        for j, lr in enumerate(learning_rates):\n",
        "            # update learning rate\n",
        "            args.lr=lr\n",
        "\n",
        "            print(\"\\n training DNN with %5d data points and SGD lr=%0.6f. \\n\" %(dataset_size,lr) )\n",
        "\n",
        "            test_loss[i,j],test_accuracy[i,j] = evaluate_model(args,train_loader,test_loader)\n",
        "\n",
        "\n",
        "    plot_data(learning_rates,dataset_sizes,test_accuracy)\n",
        "    \n",
        "\"\"\"    "
      ]
    },
    {
      "cell_type": "code",
      "source": [
        "def run_optimal(args):\n",
        "\n",
        "  # use optimal pars\n",
        "  dataset_size = 10000 #or more \n",
        "  lr = 0.1\n",
        "\n",
        "  #args.dataset_size=dataset_size\n",
        "  args.batch_size=int(0.01*dataset_size)\n",
        "\n",
        "  # load data\n",
        "  train_loader, test_loader = load_data(args)\n",
        "\n",
        "  #args.lr=lr\n",
        "\n",
        "  print(\"\\n training DNN with %5d data points and SGD lr=%0.6f. \\n\" %(dataset_size,lr) )\n",
        "\n",
        "  #test_loss,test_accuracy, arr_loss, arr_accuracy = evaluate_model(args,train_loader,test_loader)\n",
        "\n",
        "  outl =  evaluate_model(args,train_loader,test_loader) \n",
        "  test_loss = outl[0]\n",
        "  test_accuracy = outl[1]\n",
        "  arr_train_loss  = outl[2]\n",
        "  arr_test_loss = outl[3]\n",
        "\n",
        "  #ores = [test_loss,test_accuracy, arr_loss, arr_accuracy]\n",
        "\n",
        "  #ores = outl[: 4]\n",
        "\n",
        "  return outl, test_loader\n"
      ],
      "metadata": {
        "id": "Eihw_DFVEONW"
      },
      "id": "Eihw_DFVEONW",
      "execution_count": null,
      "outputs": []
    },
    {
      "cell_type": "markdown",
      "id": "5a908651",
      "metadata": {
        "id": "5a908651"
      },
      "source": [
        "Last, we use the function `plot_data`, defined below, to plot the results."
      ]
    },
    {
      "cell_type": "code",
      "execution_count": null,
      "id": "df4bad90",
      "metadata": {
        "id": "df4bad90"
      },
      "outputs": [],
      "source": [
        "import matplotlib.pyplot as plt\n",
        "\n",
        "def plot_data(x,y,data):\n",
        "\n",
        "    # plot results\n",
        "    fontsize=16\n",
        "\n",
        "\n",
        "    fig = plt.figure()\n",
        "    ax = fig.add_subplot(111)\n",
        "    cax = ax.matshow(data, interpolation='nearest', vmin=0, vmax=1)\n",
        "    \n",
        "    cbar=fig.colorbar(cax)\n",
        "    cbar.ax.set_ylabel('accuracy (%)',rotation=90,fontsize=fontsize)\n",
        "    cbar.set_ticks([0,.2,.4,0.6,0.8,1.0])\n",
        "    cbar.set_ticklabels(['0%','20%','40%','60%','80%','100%'])\n",
        "\n",
        "    # put text on matrix elements\n",
        "    for i, x_val in enumerate(np.arange(len(x))):\n",
        "        for j, y_val in enumerate(np.arange(len(y))):\n",
        "            c = \"${0:.1f}\\\\%$\".format( 100*data[j,i])  \n",
        "            ax.text(x_val, y_val, c, va='center', ha='center')\n",
        "\n",
        "    # convert axis vaues to to string labels\n",
        "    x=[str(i) for i in x]\n",
        "    y=[str(i) for i in y]\n",
        "\n",
        "\n",
        "    ax.set_xticklabels(['']+x)\n",
        "    ax.set_yticklabels(['']+y)\n",
        "\n",
        "    ax.set_xlabel('$\\\\mathrm{learning\\\\ rate}$',fontsize=fontsize)\n",
        "    ax.set_ylabel('$\\\\mathrm{hidden\\\\ neurons}$',fontsize=fontsize)\n",
        "\n",
        "    plt.tight_layout()\n",
        "\n",
        "    plt.show()"
      ]
    },
    {
      "cell_type": "markdown",
      "id": "43bd9dc9",
      "metadata": {
        "id": "43bd9dc9"
      },
      "source": [
        "### Run Code\n",
        "\n",
        "As we mentioned in the beginning of the notebook, all functions and classes discussed above only specify the procedure but do not actually perform any computations. This allows us to re-use them for different problems.\n",
        "\n",
        "Actually running the training and testing for every point in the grid search is done below. The `argparse` class allows us to conveniently keep track of all hyperparameters, stored in the variable `args` which enters most of the functions we defined above.\n",
        "\n",
        "To run the simulation, we call the function `grid_search`."
      ]
    },
    {
      "cell_type": "markdown",
      "id": "a07e308b",
      "metadata": {
        "id": "a07e308b"
      },
      "source": [
        "# Exercises"
      ]
    },
    {
      "cell_type": "markdown",
      "id": "0fe30f29",
      "metadata": {
        "id": "0fe30f29"
      },
      "source": [
        "### GPU and CUDA\n",
        "\n",
        "One of the advantages of Pytorch is that it allows to automatically use the CUDA library for fast performance on GPU's. For the sake of clarity, we have omitted this in the above notebook. Go online to check how to put the CUDA commands back into the code above. Hint: study the [Pytorch MNIST tutorial](https://github.com/pytorch/examples/blob/master/mnist/main.py) to see how this works in practice."
      ]
    },
    {
      "cell_type": "code",
      "execution_count": null,
      "id": "faf9bf78",
      "metadata": {
        "colab": {
          "base_uri": "https://localhost:8080/"
        },
        "id": "faf9bf78",
        "outputId": "07592f07-220f-4989-cf78-807426d4498c"
      },
      "outputs": [
        {
          "output_type": "stream",
          "name": "stdout",
          "text": [
            "Mounted at /content/gdrive\n",
            "Training on 80000 examples\n",
            "Using both high and low level features\n",
            "Testing on 20000 examples\n",
            "Using both high and low level features\n",
            "\n",
            " training DNN with 10000 data points and SGD lr=0.100000. \n",
            "\n"
          ]
        },
        {
          "output_type": "stream",
          "name": "stderr",
          "text": [
            "Epoch 1:   0%|          | 1/800 [00:00<03:15,  4.09batch/s, loss=0.671]"
          ]
        },
        {
          "output_type": "stream",
          "name": "stdout",
          "text": [
            "Train Epoch: 1 [0/80000 (0%)]\tLoss: 0.696872\n"
          ]
        },
        {
          "output_type": "stream",
          "name": "stderr",
          "text": [
            "Epoch 1:   1%|▏         | 11/800 [00:01<01:27,  9.05batch/s, loss=0.631]"
          ]
        },
        {
          "output_type": "stream",
          "name": "stdout",
          "text": [
            "Train Epoch: 1 [1000/80000 (1%)]\tLoss: 0.637690\n"
          ]
        },
        {
          "output_type": "stream",
          "name": "stderr",
          "text": [
            "Epoch 1:   3%|▎         | 21/800 [00:02<01:24,  9.19batch/s, loss=0.59] "
          ]
        },
        {
          "output_type": "stream",
          "name": "stdout",
          "text": [
            "Train Epoch: 1 [2000/80000 (2%)]\tLoss: 0.584255\n"
          ]
        },
        {
          "output_type": "stream",
          "name": "stderr",
          "text": [
            "Epoch 1:   4%|▍         | 31/800 [00:03<01:23,  9.25batch/s, loss=0.58] "
          ]
        },
        {
          "output_type": "stream",
          "name": "stdout",
          "text": [
            "Train Epoch: 1 [3000/80000 (4%)]\tLoss: 0.508652\n"
          ]
        },
        {
          "output_type": "stream",
          "name": "stderr",
          "text": [
            "Epoch 1:   5%|▌         | 41/800 [00:04<01:22,  9.24batch/s, loss=0.515]"
          ]
        },
        {
          "output_type": "stream",
          "name": "stdout",
          "text": [
            "Train Epoch: 1 [4000/80000 (5%)]\tLoss: 0.536835\n"
          ]
        },
        {
          "output_type": "stream",
          "name": "stderr",
          "text": [
            "Epoch 1:   6%|▋         | 51/800 [00:05<01:21,  9.14batch/s, loss=0.51]"
          ]
        },
        {
          "output_type": "stream",
          "name": "stdout",
          "text": [
            "Train Epoch: 1 [5000/80000 (6%)]\tLoss: 0.630269\n"
          ]
        },
        {
          "output_type": "stream",
          "name": "stderr",
          "text": [
            "Epoch 1:   8%|▊         | 61/800 [00:06<01:20,  9.20batch/s, loss=0.447]"
          ]
        },
        {
          "output_type": "stream",
          "name": "stdout",
          "text": [
            "Train Epoch: 1 [6000/80000 (8%)]\tLoss: 0.569512\n"
          ]
        },
        {
          "output_type": "stream",
          "name": "stderr",
          "text": [
            "Epoch 1:   9%|▉         | 71/800 [00:07<01:19,  9.22batch/s, loss=0.47]"
          ]
        },
        {
          "output_type": "stream",
          "name": "stdout",
          "text": [
            "Train Epoch: 1 [7000/80000 (9%)]\tLoss: 0.429670\n"
          ]
        },
        {
          "output_type": "stream",
          "name": "stderr",
          "text": [
            "Epoch 1:  10%|█         | 81/800 [00:08<01:17,  9.25batch/s, loss=0.545]"
          ]
        },
        {
          "output_type": "stream",
          "name": "stdout",
          "text": [
            "Train Epoch: 1 [8000/80000 (10%)]\tLoss: 0.502775\n"
          ]
        },
        {
          "output_type": "stream",
          "name": "stderr",
          "text": [
            "Epoch 1:  11%|█▏        | 91/800 [00:10<01:16,  9.24batch/s, loss=0.545]"
          ]
        },
        {
          "output_type": "stream",
          "name": "stdout",
          "text": [
            "Train Epoch: 1 [9000/80000 (11%)]\tLoss: 0.547685\n"
          ]
        },
        {
          "output_type": "stream",
          "name": "stderr",
          "text": [
            "Epoch 1:  13%|█▎        | 101/800 [00:11<01:15,  9.25batch/s, loss=0.469]"
          ]
        },
        {
          "output_type": "stream",
          "name": "stdout",
          "text": [
            "Train Epoch: 1 [10000/80000 (12%)]\tLoss: 0.531347\n"
          ]
        },
        {
          "output_type": "stream",
          "name": "stderr",
          "text": [
            "Epoch 1:  14%|█▍        | 111/800 [00:12<01:14,  9.28batch/s, loss=0.453]"
          ]
        },
        {
          "output_type": "stream",
          "name": "stdout",
          "text": [
            "Train Epoch: 1 [11000/80000 (14%)]\tLoss: 0.591175\n"
          ]
        },
        {
          "output_type": "stream",
          "name": "stderr",
          "text": [
            "Epoch 1:  15%|█▌        | 121/800 [00:13<01:13,  9.23batch/s, loss=0.501]"
          ]
        },
        {
          "output_type": "stream",
          "name": "stdout",
          "text": [
            "Train Epoch: 1 [12000/80000 (15%)]\tLoss: 0.409194\n"
          ]
        },
        {
          "output_type": "stream",
          "name": "stderr",
          "text": [
            "Epoch 1:  16%|█▋        | 131/800 [00:14<01:11,  9.30batch/s, loss=0.513]"
          ]
        },
        {
          "output_type": "stream",
          "name": "stdout",
          "text": [
            "Train Epoch: 1 [13000/80000 (16%)]\tLoss: 0.494373\n"
          ]
        },
        {
          "output_type": "stream",
          "name": "stderr",
          "text": [
            "Epoch 1:  18%|█▊        | 141/800 [00:15<01:10,  9.32batch/s, loss=0.543]"
          ]
        },
        {
          "output_type": "stream",
          "name": "stdout",
          "text": [
            "Train Epoch: 1 [14000/80000 (18%)]\tLoss: 0.525495\n"
          ]
        },
        {
          "output_type": "stream",
          "name": "stderr",
          "text": [
            "Epoch 1:  19%|█▉        | 151/800 [00:16<01:09,  9.31batch/s, loss=0.458]"
          ]
        },
        {
          "output_type": "stream",
          "name": "stdout",
          "text": [
            "Train Epoch: 1 [15000/80000 (19%)]\tLoss: 0.493300\n"
          ]
        },
        {
          "output_type": "stream",
          "name": "stderr",
          "text": [
            "Epoch 1:  20%|██        | 161/800 [00:17<01:08,  9.29batch/s, loss=0.69] "
          ]
        },
        {
          "output_type": "stream",
          "name": "stdout",
          "text": [
            "Train Epoch: 1 [16000/80000 (20%)]\tLoss: 0.482108\n"
          ]
        },
        {
          "output_type": "stream",
          "name": "stderr",
          "text": [
            "Epoch 1:  21%|██▏       | 171/800 [00:18<01:07,  9.29batch/s, loss=0.464]"
          ]
        },
        {
          "output_type": "stream",
          "name": "stdout",
          "text": [
            "Train Epoch: 1 [17000/80000 (21%)]\tLoss: 0.591422\n"
          ]
        },
        {
          "output_type": "stream",
          "name": "stderr",
          "text": [
            "Epoch 1:  23%|██▎       | 181/800 [00:19<01:06,  9.27batch/s, loss=0.486]"
          ]
        },
        {
          "output_type": "stream",
          "name": "stdout",
          "text": [
            "Train Epoch: 1 [18000/80000 (22%)]\tLoss: 0.424896\n"
          ]
        },
        {
          "output_type": "stream",
          "name": "stderr",
          "text": [
            "Epoch 1:  24%|██▍       | 191/800 [00:20<01:05,  9.28batch/s, loss=0.413]"
          ]
        },
        {
          "output_type": "stream",
          "name": "stdout",
          "text": [
            "Train Epoch: 1 [19000/80000 (24%)]\tLoss: 0.441462\n"
          ]
        },
        {
          "output_type": "stream",
          "name": "stderr",
          "text": [
            "Epoch 1:  25%|██▌       | 201/800 [00:21<01:04,  9.28batch/s, loss=0.438]"
          ]
        },
        {
          "output_type": "stream",
          "name": "stdout",
          "text": [
            "Train Epoch: 1 [20000/80000 (25%)]\tLoss: 0.481353\n"
          ]
        },
        {
          "output_type": "stream",
          "name": "stderr",
          "text": [
            "Epoch 1:  26%|██▋       | 211/800 [00:22<01:03,  9.29batch/s, loss=0.432]"
          ]
        },
        {
          "output_type": "stream",
          "name": "stdout",
          "text": [
            "Train Epoch: 1 [21000/80000 (26%)]\tLoss: 0.432998\n"
          ]
        },
        {
          "output_type": "stream",
          "name": "stderr",
          "text": [
            "Epoch 1:  28%|██▊       | 221/800 [00:24<01:02,  9.19batch/s, loss=0.499]"
          ]
        },
        {
          "output_type": "stream",
          "name": "stdout",
          "text": [
            "Train Epoch: 1 [22000/80000 (28%)]\tLoss: 0.502731\n"
          ]
        },
        {
          "output_type": "stream",
          "name": "stderr",
          "text": [
            "Epoch 1:  29%|██▉       | 231/800 [00:25<01:01,  9.27batch/s, loss=0.498]"
          ]
        },
        {
          "output_type": "stream",
          "name": "stdout",
          "text": [
            "Train Epoch: 1 [23000/80000 (29%)]\tLoss: 0.566545\n"
          ]
        },
        {
          "output_type": "stream",
          "name": "stderr",
          "text": [
            "Epoch 1:  30%|███       | 241/800 [00:26<01:00,  9.30batch/s, loss=0.552]"
          ]
        },
        {
          "output_type": "stream",
          "name": "stdout",
          "text": [
            "Train Epoch: 1 [24000/80000 (30%)]\tLoss: 0.385426\n"
          ]
        },
        {
          "output_type": "stream",
          "name": "stderr",
          "text": [
            "Epoch 1:  31%|███▏      | 251/800 [00:27<00:59,  9.26batch/s, loss=0.396]"
          ]
        },
        {
          "output_type": "stream",
          "name": "stdout",
          "text": [
            "Train Epoch: 1 [25000/80000 (31%)]\tLoss: 0.460340\n"
          ]
        },
        {
          "output_type": "stream",
          "name": "stderr",
          "text": [
            "Epoch 1:  33%|███▎      | 261/800 [00:28<00:57,  9.30batch/s, loss=0.486]"
          ]
        },
        {
          "output_type": "stream",
          "name": "stdout",
          "text": [
            "Train Epoch: 1 [26000/80000 (32%)]\tLoss: 0.481504\n"
          ]
        },
        {
          "output_type": "stream",
          "name": "stderr",
          "text": [
            "Epoch 1:  34%|███▍      | 271/800 [00:29<00:56,  9.31batch/s, loss=0.458]"
          ]
        },
        {
          "output_type": "stream",
          "name": "stdout",
          "text": [
            "Train Epoch: 1 [27000/80000 (34%)]\tLoss: 0.428223\n"
          ]
        },
        {
          "output_type": "stream",
          "name": "stderr",
          "text": [
            "Epoch 1:  35%|███▌      | 281/800 [00:30<00:55,  9.31batch/s, loss=0.568]"
          ]
        },
        {
          "output_type": "stream",
          "name": "stdout",
          "text": [
            "Train Epoch: 1 [28000/80000 (35%)]\tLoss: 0.495873\n"
          ]
        },
        {
          "output_type": "stream",
          "name": "stderr",
          "text": [
            "Epoch 1:  36%|███▋      | 291/800 [00:31<00:54,  9.29batch/s, loss=0.446]"
          ]
        },
        {
          "output_type": "stream",
          "name": "stdout",
          "text": [
            "Train Epoch: 1 [29000/80000 (36%)]\tLoss: 0.425268\n"
          ]
        },
        {
          "output_type": "stream",
          "name": "stderr",
          "text": [
            "Epoch 1:  38%|███▊      | 301/800 [00:32<00:53,  9.26batch/s, loss=0.414]"
          ]
        },
        {
          "output_type": "stream",
          "name": "stdout",
          "text": [
            "Train Epoch: 1 [30000/80000 (38%)]\tLoss: 0.409179\n"
          ]
        },
        {
          "output_type": "stream",
          "name": "stderr",
          "text": [
            "Epoch 1:  39%|███▉      | 311/800 [00:33<00:52,  9.26batch/s, loss=0.541]"
          ]
        },
        {
          "output_type": "stream",
          "name": "stdout",
          "text": [
            "Train Epoch: 1 [31000/80000 (39%)]\tLoss: 0.436164\n"
          ]
        },
        {
          "output_type": "stream",
          "name": "stderr",
          "text": [
            "Epoch 1:  40%|████      | 321/800 [00:34<00:51,  9.30batch/s, loss=0.621]"
          ]
        },
        {
          "output_type": "stream",
          "name": "stdout",
          "text": [
            "Train Epoch: 1 [32000/80000 (40%)]\tLoss: 0.485391\n"
          ]
        },
        {
          "output_type": "stream",
          "name": "stderr",
          "text": [
            "Epoch 1:  41%|████▏     | 331/800 [00:35<00:50,  9.27batch/s, loss=0.472]"
          ]
        },
        {
          "output_type": "stream",
          "name": "stdout",
          "text": [
            "Train Epoch: 1 [33000/80000 (41%)]\tLoss: 0.514698\n"
          ]
        },
        {
          "output_type": "stream",
          "name": "stderr",
          "text": [
            "Epoch 1:  43%|████▎     | 341/800 [00:36<00:49,  9.25batch/s, loss=0.48] "
          ]
        },
        {
          "output_type": "stream",
          "name": "stdout",
          "text": [
            "Train Epoch: 1 [34000/80000 (42%)]\tLoss: 0.505765\n"
          ]
        },
        {
          "output_type": "stream",
          "name": "stderr",
          "text": [
            "Epoch 1:  44%|████▍     | 351/800 [00:37<00:48,  9.30batch/s, loss=0.395]"
          ]
        },
        {
          "output_type": "stream",
          "name": "stdout",
          "text": [
            "Train Epoch: 1 [35000/80000 (44%)]\tLoss: 0.504492\n"
          ]
        },
        {
          "output_type": "stream",
          "name": "stderr",
          "text": [
            "Epoch 1:  45%|████▌     | 361/800 [00:39<00:47,  9.29batch/s, loss=0.392]"
          ]
        },
        {
          "output_type": "stream",
          "name": "stdout",
          "text": [
            "Train Epoch: 1 [36000/80000 (45%)]\tLoss: 0.642316\n"
          ]
        },
        {
          "output_type": "stream",
          "name": "stderr",
          "text": [
            "Epoch 1:  46%|████▋     | 371/800 [00:40<00:46,  9.29batch/s, loss=0.481]"
          ]
        },
        {
          "output_type": "stream",
          "name": "stdout",
          "text": [
            "Train Epoch: 1 [37000/80000 (46%)]\tLoss: 0.465264\n"
          ]
        },
        {
          "output_type": "stream",
          "name": "stderr",
          "text": [
            "Epoch 1:  48%|████▊     | 381/800 [00:41<00:45,  9.26batch/s, loss=0.484]"
          ]
        },
        {
          "output_type": "stream",
          "name": "stdout",
          "text": [
            "Train Epoch: 1 [38000/80000 (48%)]\tLoss: 0.404963\n"
          ]
        },
        {
          "output_type": "stream",
          "name": "stderr",
          "text": [
            "Epoch 1:  49%|████▉     | 391/800 [00:42<00:43,  9.31batch/s, loss=0.432]"
          ]
        },
        {
          "output_type": "stream",
          "name": "stdout",
          "text": [
            "Train Epoch: 1 [39000/80000 (49%)]\tLoss: 0.485976\n"
          ]
        },
        {
          "output_type": "stream",
          "name": "stderr",
          "text": [
            "Epoch 1:  50%|█████     | 401/800 [00:43<00:42,  9.29batch/s, loss=0.55] "
          ]
        },
        {
          "output_type": "stream",
          "name": "stdout",
          "text": [
            "Train Epoch: 1 [40000/80000 (50%)]\tLoss: 0.497229\n"
          ]
        },
        {
          "output_type": "stream",
          "name": "stderr",
          "text": [
            "Epoch 1:  51%|█████▏    | 411/800 [00:44<00:41,  9.30batch/s, loss=0.411]"
          ]
        },
        {
          "output_type": "stream",
          "name": "stdout",
          "text": [
            "Train Epoch: 1 [41000/80000 (51%)]\tLoss: 0.517172\n"
          ]
        },
        {
          "output_type": "stream",
          "name": "stderr",
          "text": [
            "Epoch 1:  53%|█████▎    | 421/800 [00:45<00:40,  9.24batch/s, loss=0.483]"
          ]
        },
        {
          "output_type": "stream",
          "name": "stdout",
          "text": [
            "Train Epoch: 1 [42000/80000 (52%)]\tLoss: 0.463395\n"
          ]
        },
        {
          "output_type": "stream",
          "name": "stderr",
          "text": [
            "Epoch 1:  54%|█████▍    | 431/800 [00:46<00:39,  9.27batch/s, loss=0.538]"
          ]
        },
        {
          "output_type": "stream",
          "name": "stdout",
          "text": [
            "Train Epoch: 1 [43000/80000 (54%)]\tLoss: 0.511927\n"
          ]
        },
        {
          "output_type": "stream",
          "name": "stderr",
          "text": [
            "Epoch 1:  55%|█████▌    | 441/800 [00:47<00:38,  9.29batch/s, loss=0.46] "
          ]
        },
        {
          "output_type": "stream",
          "name": "stdout",
          "text": [
            "Train Epoch: 1 [44000/80000 (55%)]\tLoss: 0.594948\n"
          ]
        },
        {
          "output_type": "stream",
          "name": "stderr",
          "text": [
            "Epoch 1:  56%|█████▋    | 451/800 [00:48<00:37,  9.30batch/s, loss=0.397]"
          ]
        },
        {
          "output_type": "stream",
          "name": "stdout",
          "text": [
            "Train Epoch: 1 [45000/80000 (56%)]\tLoss: 0.541279\n"
          ]
        },
        {
          "output_type": "stream",
          "name": "stderr",
          "text": [
            "Epoch 1:  58%|█████▊    | 461/800 [00:49<00:36,  9.30batch/s, loss=0.428]"
          ]
        },
        {
          "output_type": "stream",
          "name": "stdout",
          "text": [
            "Train Epoch: 1 [46000/80000 (58%)]\tLoss: 0.459197\n"
          ]
        },
        {
          "output_type": "stream",
          "name": "stderr",
          "text": [
            "Epoch 1:  59%|█████▉    | 471/800 [00:50<00:35,  9.20batch/s, loss=0.426]"
          ]
        },
        {
          "output_type": "stream",
          "name": "stdout",
          "text": [
            "Train Epoch: 1 [47000/80000 (59%)]\tLoss: 0.351348\n"
          ]
        },
        {
          "output_type": "stream",
          "name": "stderr",
          "text": [
            "Epoch 1:  60%|██████    | 481/800 [00:51<00:34,  9.26batch/s, loss=0.424]"
          ]
        },
        {
          "output_type": "stream",
          "name": "stdout",
          "text": [
            "Train Epoch: 1 [48000/80000 (60%)]\tLoss: 0.528151\n"
          ]
        },
        {
          "output_type": "stream",
          "name": "stderr",
          "text": [
            "Epoch 1:  61%|██████▏   | 491/800 [00:53<00:33,  9.28batch/s, loss=0.553]"
          ]
        },
        {
          "output_type": "stream",
          "name": "stdout",
          "text": [
            "Train Epoch: 1 [49000/80000 (61%)]\tLoss: 0.515042\n"
          ]
        },
        {
          "output_type": "stream",
          "name": "stderr",
          "text": [
            "Epoch 1:  63%|██████▎   | 501/800 [00:54<00:32,  9.29batch/s, loss=0.438]"
          ]
        },
        {
          "output_type": "stream",
          "name": "stdout",
          "text": [
            "Train Epoch: 1 [50000/80000 (62%)]\tLoss: 0.450032\n"
          ]
        },
        {
          "output_type": "stream",
          "name": "stderr",
          "text": [
            "Epoch 1:  64%|██████▍   | 511/800 [00:55<00:31,  9.31batch/s, loss=0.593]"
          ]
        },
        {
          "output_type": "stream",
          "name": "stdout",
          "text": [
            "Train Epoch: 1 [51000/80000 (64%)]\tLoss: 0.476084\n"
          ]
        },
        {
          "output_type": "stream",
          "name": "stderr",
          "text": [
            "Epoch 1:  65%|██████▌   | 521/800 [00:56<00:30,  9.21batch/s, loss=0.414]"
          ]
        },
        {
          "output_type": "stream",
          "name": "stdout",
          "text": [
            "Train Epoch: 1 [52000/80000 (65%)]\tLoss: 0.424349\n"
          ]
        },
        {
          "output_type": "stream",
          "name": "stderr",
          "text": [
            "Epoch 1:  66%|██████▋   | 531/800 [00:57<00:28,  9.29batch/s, loss=0.446]"
          ]
        },
        {
          "output_type": "stream",
          "name": "stdout",
          "text": [
            "Train Epoch: 1 [53000/80000 (66%)]\tLoss: 0.460354\n"
          ]
        },
        {
          "output_type": "stream",
          "name": "stderr",
          "text": [
            "Epoch 1:  68%|██████▊   | 541/800 [00:58<00:28,  9.24batch/s, loss=0.574]"
          ]
        },
        {
          "output_type": "stream",
          "name": "stdout",
          "text": [
            "Train Epoch: 1 [54000/80000 (68%)]\tLoss: 0.549952\n"
          ]
        },
        {
          "output_type": "stream",
          "name": "stderr",
          "text": [
            "Epoch 1:  69%|██████▉   | 551/800 [00:59<00:26,  9.26batch/s, loss=0.459]"
          ]
        },
        {
          "output_type": "stream",
          "name": "stdout",
          "text": [
            "Train Epoch: 1 [55000/80000 (69%)]\tLoss: 0.438042\n"
          ]
        },
        {
          "output_type": "stream",
          "name": "stderr",
          "text": [
            "Epoch 1:  70%|███████   | 561/800 [01:00<00:25,  9.30batch/s, loss=0.491]"
          ]
        },
        {
          "output_type": "stream",
          "name": "stdout",
          "text": [
            "Train Epoch: 1 [56000/80000 (70%)]\tLoss: 0.394889\n"
          ]
        },
        {
          "output_type": "stream",
          "name": "stderr",
          "text": [
            "Epoch 1:  71%|███████▏  | 571/800 [01:01<00:24,  9.29batch/s, loss=0.496]"
          ]
        },
        {
          "output_type": "stream",
          "name": "stdout",
          "text": [
            "Train Epoch: 1 [57000/80000 (71%)]\tLoss: 0.457434\n"
          ]
        },
        {
          "output_type": "stream",
          "name": "stderr",
          "text": [
            "Epoch 1:  73%|███████▎  | 581/800 [01:02<00:23,  9.28batch/s, loss=0.522]"
          ]
        },
        {
          "output_type": "stream",
          "name": "stdout",
          "text": [
            "Train Epoch: 1 [58000/80000 (72%)]\tLoss: 0.414643\n"
          ]
        },
        {
          "output_type": "stream",
          "name": "stderr",
          "text": [
            "Epoch 1:  74%|███████▍  | 591/800 [01:03<00:22,  9.31batch/s, loss=0.576]"
          ]
        },
        {
          "output_type": "stream",
          "name": "stdout",
          "text": [
            "Train Epoch: 1 [59000/80000 (74%)]\tLoss: 0.507251\n"
          ]
        },
        {
          "output_type": "stream",
          "name": "stderr",
          "text": [
            "Epoch 1:  75%|███████▌  | 601/800 [01:04<00:21,  9.31batch/s, loss=0.421]"
          ]
        },
        {
          "output_type": "stream",
          "name": "stdout",
          "text": [
            "Train Epoch: 1 [60000/80000 (75%)]\tLoss: 0.521891\n"
          ]
        },
        {
          "output_type": "stream",
          "name": "stderr",
          "text": [
            "Epoch 1:  76%|███████▋  | 611/800 [01:05<00:20,  9.31batch/s, loss=0.481]"
          ]
        },
        {
          "output_type": "stream",
          "name": "stdout",
          "text": [
            "Train Epoch: 1 [61000/80000 (76%)]\tLoss: 0.480636\n"
          ]
        },
        {
          "output_type": "stream",
          "name": "stderr",
          "text": [
            "Epoch 1:  78%|███████▊  | 621/800 [01:07<00:19,  9.23batch/s, loss=0.431]"
          ]
        },
        {
          "output_type": "stream",
          "name": "stdout",
          "text": [
            "Train Epoch: 1 [62000/80000 (78%)]\tLoss: 0.442173\n"
          ]
        },
        {
          "output_type": "stream",
          "name": "stderr",
          "text": [
            "Epoch 1:  79%|███████▉  | 631/800 [01:08<00:18,  9.28batch/s, loss=0.443]"
          ]
        },
        {
          "output_type": "stream",
          "name": "stdout",
          "text": [
            "Train Epoch: 1 [63000/80000 (79%)]\tLoss: 0.425038\n"
          ]
        },
        {
          "output_type": "stream",
          "name": "stderr",
          "text": [
            "Epoch 1:  80%|████████  | 641/800 [01:09<00:17,  9.30batch/s, loss=0.489]"
          ]
        },
        {
          "output_type": "stream",
          "name": "stdout",
          "text": [
            "Train Epoch: 1 [64000/80000 (80%)]\tLoss: 0.460000\n"
          ]
        },
        {
          "output_type": "stream",
          "name": "stderr",
          "text": [
            "Epoch 1:  81%|████████▏ | 651/800 [01:10<00:16,  9.20batch/s, loss=0.384]"
          ]
        },
        {
          "output_type": "stream",
          "name": "stdout",
          "text": [
            "Train Epoch: 1 [65000/80000 (81%)]\tLoss: 0.537868\n"
          ]
        },
        {
          "output_type": "stream",
          "name": "stderr",
          "text": [
            "Epoch 1:  83%|████████▎ | 661/800 [01:11<00:15,  9.24batch/s, loss=0.496]"
          ]
        },
        {
          "output_type": "stream",
          "name": "stdout",
          "text": [
            "Train Epoch: 1 [66000/80000 (82%)]\tLoss: 0.471552\n"
          ]
        },
        {
          "output_type": "stream",
          "name": "stderr",
          "text": [
            "Epoch 1:  84%|████████▍ | 671/800 [01:12<00:13,  9.26batch/s, loss=0.416]"
          ]
        },
        {
          "output_type": "stream",
          "name": "stdout",
          "text": [
            "Train Epoch: 1 [67000/80000 (84%)]\tLoss: 0.444018\n"
          ]
        },
        {
          "output_type": "stream",
          "name": "stderr",
          "text": [
            "Epoch 1:  85%|████████▌ | 681/800 [01:13<00:12,  9.27batch/s, loss=0.632]"
          ]
        },
        {
          "output_type": "stream",
          "name": "stdout",
          "text": [
            "Train Epoch: 1 [68000/80000 (85%)]\tLoss: 0.460665\n"
          ]
        },
        {
          "output_type": "stream",
          "name": "stderr",
          "text": [
            "Epoch 1:  86%|████████▋ | 691/800 [01:14<00:11,  9.23batch/s, loss=0.377]"
          ]
        },
        {
          "output_type": "stream",
          "name": "stdout",
          "text": [
            "Train Epoch: 1 [69000/80000 (86%)]\tLoss: 0.444786\n"
          ]
        },
        {
          "output_type": "stream",
          "name": "stderr",
          "text": [
            "Epoch 1:  88%|████████▊ | 701/800 [01:15<00:10,  9.28batch/s, loss=0.501]"
          ]
        },
        {
          "output_type": "stream",
          "name": "stdout",
          "text": [
            "Train Epoch: 1 [70000/80000 (88%)]\tLoss: 0.452040\n"
          ]
        },
        {
          "output_type": "stream",
          "name": "stderr",
          "text": [
            "Epoch 1:  89%|████████▉ | 711/800 [01:16<00:09,  9.30batch/s, loss=0.495]"
          ]
        },
        {
          "output_type": "stream",
          "name": "stdout",
          "text": [
            "Train Epoch: 1 [71000/80000 (89%)]\tLoss: 0.529605\n"
          ]
        },
        {
          "output_type": "stream",
          "name": "stderr",
          "text": [
            "Epoch 1:  90%|█████████ | 721/800 [01:17<00:08,  9.28batch/s, loss=0.528]"
          ]
        },
        {
          "output_type": "stream",
          "name": "stdout",
          "text": [
            "Train Epoch: 1 [72000/80000 (90%)]\tLoss: 0.356945\n"
          ]
        },
        {
          "output_type": "stream",
          "name": "stderr",
          "text": [
            "Epoch 1:  91%|█████████▏| 731/800 [01:18<00:07,  9.28batch/s, loss=0.398]"
          ]
        },
        {
          "output_type": "stream",
          "name": "stdout",
          "text": [
            "Train Epoch: 1 [73000/80000 (91%)]\tLoss: 0.587349\n"
          ]
        },
        {
          "output_type": "stream",
          "name": "stderr",
          "text": [
            "Epoch 1:  93%|█████████▎| 741/800 [01:20<00:06,  9.29batch/s, loss=0.484]"
          ]
        },
        {
          "output_type": "stream",
          "name": "stdout",
          "text": [
            "Train Epoch: 1 [74000/80000 (92%)]\tLoss: 0.465721\n"
          ]
        },
        {
          "output_type": "stream",
          "name": "stderr",
          "text": [
            "Epoch 1:  94%|█████████▍| 751/800 [01:21<00:05,  9.32batch/s, loss=0.421]"
          ]
        },
        {
          "output_type": "stream",
          "name": "stdout",
          "text": [
            "Train Epoch: 1 [75000/80000 (94%)]\tLoss: 0.425689\n"
          ]
        },
        {
          "output_type": "stream",
          "name": "stderr",
          "text": [
            "Epoch 1:  95%|█████████▌| 761/800 [01:22<00:04,  9.30batch/s, loss=0.453]"
          ]
        },
        {
          "output_type": "stream",
          "name": "stdout",
          "text": [
            "Train Epoch: 1 [76000/80000 (95%)]\tLoss: 0.454428\n"
          ]
        },
        {
          "output_type": "stream",
          "name": "stderr",
          "text": [
            "Epoch 1:  96%|█████████▋| 771/800 [01:23<00:03,  9.30batch/s, loss=0.491]"
          ]
        },
        {
          "output_type": "stream",
          "name": "stdout",
          "text": [
            "Train Epoch: 1 [77000/80000 (96%)]\tLoss: 0.319693\n"
          ]
        },
        {
          "output_type": "stream",
          "name": "stderr",
          "text": [
            "Epoch 1:  98%|█████████▊| 781/800 [01:24<00:02,  9.23batch/s, loss=0.414]"
          ]
        },
        {
          "output_type": "stream",
          "name": "stdout",
          "text": [
            "Train Epoch: 1 [78000/80000 (98%)]\tLoss: 0.423996\n"
          ]
        },
        {
          "output_type": "stream",
          "name": "stderr",
          "text": [
            "Epoch 1:  99%|█████████▉| 791/800 [01:25<00:00,  9.27batch/s, loss=0.394]"
          ]
        },
        {
          "output_type": "stream",
          "name": "stdout",
          "text": [
            "Train Epoch: 1 [79000/80000 (99%)]\tLoss: 0.527345\n"
          ]
        },
        {
          "output_type": "stream",
          "name": "stderr",
          "text": [
            "Epoch 1: 100%|██████████| 800/800 [01:26<00:00,  9.26batch/s, loss=0.455]\n",
            "/usr/local/lib/python3.7/dist-packages/torch/nn/_reduction.py:42: UserWarning: size_average and reduce args will be deprecated, please use reduction='sum' instead.\n",
            "  warnings.warn(warning.format(ret))\n"
          ]
        },
        {
          "output_type": "stream",
          "name": "stdout",
          "text": [
            "\n",
            "Test set: Average loss: 0.4542, Accuracy: 15807/20000 (79.035%)\n",
            "\n"
          ]
        },
        {
          "output_type": "stream",
          "name": "stderr",
          "text": [
            "Epoch 2:   0%|          | 1/800 [00:00<01:29,  8.93batch/s, loss=0.466]"
          ]
        },
        {
          "output_type": "stream",
          "name": "stdout",
          "text": [
            "Train Epoch: 2 [0/80000 (0%)]\tLoss: 0.441667\n"
          ]
        },
        {
          "output_type": "stream",
          "name": "stderr",
          "text": [
            "Epoch 2:   1%|▏         | 11/800 [00:01<01:24,  9.30batch/s, loss=0.496]"
          ]
        },
        {
          "output_type": "stream",
          "name": "stdout",
          "text": [
            "Train Epoch: 2 [1000/80000 (1%)]\tLoss: 0.355160\n"
          ]
        },
        {
          "output_type": "stream",
          "name": "stderr",
          "text": [
            "Epoch 2:   3%|▎         | 21/800 [00:02<01:23,  9.28batch/s, loss=0.419]"
          ]
        },
        {
          "output_type": "stream",
          "name": "stdout",
          "text": [
            "Train Epoch: 2 [2000/80000 (2%)]\tLoss: 0.372035\n"
          ]
        },
        {
          "output_type": "stream",
          "name": "stderr",
          "text": [
            "Epoch 2:   4%|▍         | 31/800 [00:03<01:22,  9.31batch/s, loss=0.478]"
          ]
        },
        {
          "output_type": "stream",
          "name": "stdout",
          "text": [
            "Train Epoch: 2 [3000/80000 (4%)]\tLoss: 0.433049\n"
          ]
        },
        {
          "output_type": "stream",
          "name": "stderr",
          "text": [
            "Epoch 2:   5%|▌         | 41/800 [00:04<01:21,  9.27batch/s, loss=0.42] "
          ]
        },
        {
          "output_type": "stream",
          "name": "stdout",
          "text": [
            "Train Epoch: 2 [4000/80000 (5%)]\tLoss: 0.486554\n"
          ]
        },
        {
          "output_type": "stream",
          "name": "stderr",
          "text": [
            "Epoch 2:   6%|▋         | 51/800 [00:05<01:20,  9.30batch/s, loss=0.506]"
          ]
        },
        {
          "output_type": "stream",
          "name": "stdout",
          "text": [
            "Train Epoch: 2 [5000/80000 (6%)]\tLoss: 0.399902\n"
          ]
        },
        {
          "output_type": "stream",
          "name": "stderr",
          "text": [
            "Epoch 2:   8%|▊         | 61/800 [00:06<01:19,  9.32batch/s, loss=0.424]"
          ]
        },
        {
          "output_type": "stream",
          "name": "stdout",
          "text": [
            "Train Epoch: 2 [6000/80000 (8%)]\tLoss: 0.416628\n"
          ]
        },
        {
          "output_type": "stream",
          "name": "stderr",
          "text": [
            "Epoch 2:   9%|▉         | 71/800 [00:07<01:18,  9.32batch/s, loss=0.498]"
          ]
        },
        {
          "output_type": "stream",
          "name": "stdout",
          "text": [
            "Train Epoch: 2 [7000/80000 (9%)]\tLoss: 0.349813\n"
          ]
        },
        {
          "output_type": "stream",
          "name": "stderr",
          "text": [
            "Epoch 2:  10%|█         | 81/800 [00:08<01:17,  9.30batch/s, loss=0.44] "
          ]
        },
        {
          "output_type": "stream",
          "name": "stdout",
          "text": [
            "Train Epoch: 2 [8000/80000 (10%)]\tLoss: 0.377284\n"
          ]
        },
        {
          "output_type": "stream",
          "name": "stderr",
          "text": [
            "Epoch 2:  11%|█▏        | 91/800 [00:09<01:16,  9.25batch/s, loss=0.387]"
          ]
        },
        {
          "output_type": "stream",
          "name": "stdout",
          "text": [
            "Train Epoch: 2 [9000/80000 (11%)]\tLoss: 0.470495\n"
          ]
        },
        {
          "output_type": "stream",
          "name": "stderr",
          "text": [
            "Epoch 2:  13%|█▎        | 101/800 [00:10<01:15,  9.25batch/s, loss=0.435]"
          ]
        },
        {
          "output_type": "stream",
          "name": "stdout",
          "text": [
            "Train Epoch: 2 [10000/80000 (12%)]\tLoss: 0.415995\n"
          ]
        },
        {
          "output_type": "stream",
          "name": "stderr",
          "text": [
            "Epoch 2:  14%|█▍        | 111/800 [00:11<01:14,  9.29batch/s, loss=0.484]"
          ]
        },
        {
          "output_type": "stream",
          "name": "stdout",
          "text": [
            "Train Epoch: 2 [11000/80000 (14%)]\tLoss: 0.474950\n"
          ]
        },
        {
          "output_type": "stream",
          "name": "stderr",
          "text": [
            "Epoch 2:  15%|█▌        | 121/800 [00:13<01:12,  9.33batch/s, loss=0.528]"
          ]
        },
        {
          "output_type": "stream",
          "name": "stdout",
          "text": [
            "Train Epoch: 2 [12000/80000 (15%)]\tLoss: 0.492939\n"
          ]
        },
        {
          "output_type": "stream",
          "name": "stderr",
          "text": [
            "Epoch 2:  16%|█▋        | 131/800 [00:14<01:12,  9.23batch/s, loss=0.529]"
          ]
        },
        {
          "output_type": "stream",
          "name": "stdout",
          "text": [
            "Train Epoch: 2 [13000/80000 (16%)]\tLoss: 0.473201\n"
          ]
        },
        {
          "output_type": "stream",
          "name": "stderr",
          "text": [
            "Epoch 2:  18%|█▊        | 141/800 [00:15<01:10,  9.32batch/s, loss=0.469]"
          ]
        },
        {
          "output_type": "stream",
          "name": "stdout",
          "text": [
            "Train Epoch: 2 [14000/80000 (18%)]\tLoss: 0.464999\n"
          ]
        },
        {
          "output_type": "stream",
          "name": "stderr",
          "text": [
            "Epoch 2:  19%|█▉        | 151/800 [00:16<01:09,  9.32batch/s, loss=0.487]"
          ]
        },
        {
          "output_type": "stream",
          "name": "stdout",
          "text": [
            "Train Epoch: 2 [15000/80000 (19%)]\tLoss: 0.469086\n"
          ]
        },
        {
          "output_type": "stream",
          "name": "stderr",
          "text": [
            "Epoch 2:  20%|██        | 161/800 [00:17<01:09,  9.22batch/s, loss=0.475]"
          ]
        },
        {
          "output_type": "stream",
          "name": "stdout",
          "text": [
            "Train Epoch: 2 [16000/80000 (20%)]\tLoss: 0.396496\n"
          ]
        },
        {
          "output_type": "stream",
          "name": "stderr",
          "text": [
            "Epoch 2:  21%|██▏       | 171/800 [00:18<01:07,  9.28batch/s, loss=0.402]"
          ]
        },
        {
          "output_type": "stream",
          "name": "stdout",
          "text": [
            "Train Epoch: 2 [17000/80000 (21%)]\tLoss: 0.464197\n"
          ]
        },
        {
          "output_type": "stream",
          "name": "stderr",
          "text": [
            "Epoch 2:  23%|██▎       | 181/800 [00:19<01:06,  9.30batch/s, loss=0.418]"
          ]
        },
        {
          "output_type": "stream",
          "name": "stdout",
          "text": [
            "Train Epoch: 2 [18000/80000 (22%)]\tLoss: 0.413292\n"
          ]
        },
        {
          "output_type": "stream",
          "name": "stderr",
          "text": [
            "Epoch 2:  24%|██▍       | 191/800 [00:20<01:05,  9.24batch/s, loss=0.521]"
          ]
        },
        {
          "output_type": "stream",
          "name": "stdout",
          "text": [
            "Train Epoch: 2 [19000/80000 (24%)]\tLoss: 0.436478\n"
          ]
        },
        {
          "output_type": "stream",
          "name": "stderr",
          "text": [
            "Epoch 2:  25%|██▌       | 201/800 [00:21<01:04,  9.25batch/s, loss=0.523]"
          ]
        },
        {
          "output_type": "stream",
          "name": "stdout",
          "text": [
            "Train Epoch: 2 [20000/80000 (25%)]\tLoss: 0.437732\n"
          ]
        },
        {
          "output_type": "stream",
          "name": "stderr",
          "text": [
            "Epoch 2:  26%|██▋       | 211/800 [00:22<01:03,  9.28batch/s, loss=0.503]"
          ]
        },
        {
          "output_type": "stream",
          "name": "stdout",
          "text": [
            "Train Epoch: 2 [21000/80000 (26%)]\tLoss: 0.468449\n"
          ]
        },
        {
          "output_type": "stream",
          "name": "stderr",
          "text": [
            "Epoch 2:  28%|██▊       | 221/800 [00:23<01:02,  9.23batch/s, loss=0.518]"
          ]
        },
        {
          "output_type": "stream",
          "name": "stdout",
          "text": [
            "Train Epoch: 2 [22000/80000 (28%)]\tLoss: 0.472048\n"
          ]
        },
        {
          "output_type": "stream",
          "name": "stderr",
          "text": [
            "Epoch 2:  29%|██▉       | 231/800 [00:24<01:01,  9.30batch/s, loss=0.364]"
          ]
        },
        {
          "output_type": "stream",
          "name": "stdout",
          "text": [
            "Train Epoch: 2 [23000/80000 (29%)]\tLoss: 0.356188\n"
          ]
        },
        {
          "output_type": "stream",
          "name": "stderr",
          "text": [
            "Epoch 2:  30%|███       | 241/800 [00:25<01:00,  9.23batch/s, loss=0.497]"
          ]
        },
        {
          "output_type": "stream",
          "name": "stdout",
          "text": [
            "Train Epoch: 2 [24000/80000 (30%)]\tLoss: 0.524103\n"
          ]
        },
        {
          "output_type": "stream",
          "name": "stderr",
          "text": [
            "Epoch 2:  31%|███▏      | 251/800 [00:27<00:59,  9.19batch/s, loss=0.47] "
          ]
        },
        {
          "output_type": "stream",
          "name": "stdout",
          "text": [
            "Train Epoch: 2 [25000/80000 (31%)]\tLoss: 0.465851\n"
          ]
        },
        {
          "output_type": "stream",
          "name": "stderr",
          "text": [
            "Epoch 2:  33%|███▎      | 261/800 [00:28<00:57,  9.30batch/s, loss=0.403]"
          ]
        },
        {
          "output_type": "stream",
          "name": "stdout",
          "text": [
            "Train Epoch: 2 [26000/80000 (32%)]\tLoss: 0.457414\n"
          ]
        },
        {
          "output_type": "stream",
          "name": "stderr",
          "text": [
            "Epoch 2:  34%|███▍      | 271/800 [00:29<00:56,  9.32batch/s, loss=0.536]"
          ]
        },
        {
          "output_type": "stream",
          "name": "stdout",
          "text": [
            "Train Epoch: 2 [27000/80000 (34%)]\tLoss: 0.445354\n"
          ]
        },
        {
          "output_type": "stream",
          "name": "stderr",
          "text": [
            "Epoch 2:  35%|███▌      | 281/800 [00:30<00:55,  9.29batch/s, loss=0.449]"
          ]
        },
        {
          "output_type": "stream",
          "name": "stdout",
          "text": [
            "Train Epoch: 2 [28000/80000 (35%)]\tLoss: 0.439651\n"
          ]
        },
        {
          "output_type": "stream",
          "name": "stderr",
          "text": [
            "Epoch 2:  36%|███▋      | 291/800 [00:31<00:54,  9.31batch/s, loss=0.532]"
          ]
        },
        {
          "output_type": "stream",
          "name": "stdout",
          "text": [
            "Train Epoch: 2 [29000/80000 (36%)]\tLoss: 0.404832\n"
          ]
        },
        {
          "output_type": "stream",
          "name": "stderr",
          "text": [
            "Epoch 2:  38%|███▊      | 301/800 [00:32<00:53,  9.29batch/s, loss=0.456]"
          ]
        },
        {
          "output_type": "stream",
          "name": "stdout",
          "text": [
            "Train Epoch: 2 [30000/80000 (38%)]\tLoss: 0.482278\n"
          ]
        },
        {
          "output_type": "stream",
          "name": "stderr",
          "text": [
            "Epoch 2:  39%|███▉      | 311/800 [00:33<00:52,  9.28batch/s, loss=0.552]"
          ]
        },
        {
          "output_type": "stream",
          "name": "stdout",
          "text": [
            "Train Epoch: 2 [31000/80000 (39%)]\tLoss: 0.403096\n"
          ]
        },
        {
          "output_type": "stream",
          "name": "stderr",
          "text": [
            "Epoch 2:  40%|████      | 321/800 [00:34<00:51,  9.27batch/s, loss=0.499]"
          ]
        },
        {
          "output_type": "stream",
          "name": "stdout",
          "text": [
            "Train Epoch: 2 [32000/80000 (40%)]\tLoss: 0.443047\n"
          ]
        },
        {
          "output_type": "stream",
          "name": "stderr",
          "text": [
            "Epoch 2:  41%|████▏     | 331/800 [00:35<00:50,  9.26batch/s, loss=0.504]"
          ]
        },
        {
          "output_type": "stream",
          "name": "stdout",
          "text": [
            "Train Epoch: 2 [33000/80000 (41%)]\tLoss: 0.544327\n"
          ]
        },
        {
          "output_type": "stream",
          "name": "stderr",
          "text": [
            "Epoch 2:  43%|████▎     | 341/800 [00:36<00:49,  9.30batch/s, loss=0.426]"
          ]
        },
        {
          "output_type": "stream",
          "name": "stdout",
          "text": [
            "Train Epoch: 2 [34000/80000 (42%)]\tLoss: 0.505062\n"
          ]
        },
        {
          "output_type": "stream",
          "name": "stderr",
          "text": [
            "Epoch 2:  44%|████▍     | 351/800 [00:37<00:48,  9.24batch/s, loss=0.587]"
          ]
        },
        {
          "output_type": "stream",
          "name": "stdout",
          "text": [
            "Train Epoch: 2 [35000/80000 (44%)]\tLoss: 0.621659\n"
          ]
        },
        {
          "output_type": "stream",
          "name": "stderr",
          "text": [
            "Epoch 2:  45%|████▌     | 361/800 [00:38<00:47,  9.29batch/s, loss=0.48] "
          ]
        },
        {
          "output_type": "stream",
          "name": "stdout",
          "text": [
            "Train Epoch: 2 [36000/80000 (45%)]\tLoss: 0.418611\n"
          ]
        },
        {
          "output_type": "stream",
          "name": "stderr",
          "text": [
            "Epoch 2:  46%|████▋     | 371/800 [00:39<00:46,  9.27batch/s, loss=0.429]"
          ]
        },
        {
          "output_type": "stream",
          "name": "stdout",
          "text": [
            "Train Epoch: 2 [37000/80000 (46%)]\tLoss: 0.503869\n"
          ]
        },
        {
          "output_type": "stream",
          "name": "stderr",
          "text": [
            "Epoch 2:  48%|████▊     | 381/800 [00:41<00:45,  9.27batch/s, loss=0.432]"
          ]
        },
        {
          "output_type": "stream",
          "name": "stdout",
          "text": [
            "Train Epoch: 2 [38000/80000 (48%)]\tLoss: 0.472939\n"
          ]
        },
        {
          "output_type": "stream",
          "name": "stderr",
          "text": [
            "Epoch 2:  49%|████▉     | 391/800 [00:42<00:43,  9.30batch/s, loss=0.528]"
          ]
        },
        {
          "output_type": "stream",
          "name": "stdout",
          "text": [
            "Train Epoch: 2 [39000/80000 (49%)]\tLoss: 0.474171\n"
          ]
        },
        {
          "output_type": "stream",
          "name": "stderr",
          "text": [
            "Epoch 2:  50%|█████     | 401/800 [00:43<00:43,  9.27batch/s, loss=0.365]"
          ]
        },
        {
          "output_type": "stream",
          "name": "stdout",
          "text": [
            "Train Epoch: 2 [40000/80000 (50%)]\tLoss: 0.434643\n"
          ]
        },
        {
          "output_type": "stream",
          "name": "stderr",
          "text": [
            "Epoch 2:  51%|█████▏    | 411/800 [00:44<00:41,  9.28batch/s, loss=0.472]"
          ]
        },
        {
          "output_type": "stream",
          "name": "stdout",
          "text": [
            "Train Epoch: 2 [41000/80000 (51%)]\tLoss: 0.478530\n"
          ]
        },
        {
          "output_type": "stream",
          "name": "stderr",
          "text": [
            "Epoch 2:  53%|█████▎    | 421/800 [00:45<00:40,  9.31batch/s, loss=0.492]"
          ]
        },
        {
          "output_type": "stream",
          "name": "stdout",
          "text": [
            "Train Epoch: 2 [42000/80000 (52%)]\tLoss: 0.516584\n"
          ]
        },
        {
          "output_type": "stream",
          "name": "stderr",
          "text": [
            "Epoch 2:  54%|█████▍    | 431/800 [00:46<00:39,  9.25batch/s, loss=0.447]"
          ]
        },
        {
          "output_type": "stream",
          "name": "stdout",
          "text": [
            "Train Epoch: 2 [43000/80000 (54%)]\tLoss: 0.407579\n"
          ]
        },
        {
          "output_type": "stream",
          "name": "stderr",
          "text": [
            "Epoch 2:  55%|█████▌    | 441/800 [00:47<00:38,  9.23batch/s, loss=0.459]"
          ]
        },
        {
          "output_type": "stream",
          "name": "stdout",
          "text": [
            "Train Epoch: 2 [44000/80000 (55%)]\tLoss: 0.444301\n"
          ]
        },
        {
          "output_type": "stream",
          "name": "stderr",
          "text": [
            "Epoch 2:  56%|█████▋    | 451/800 [00:48<00:37,  9.29batch/s, loss=0.427]"
          ]
        },
        {
          "output_type": "stream",
          "name": "stdout",
          "text": [
            "Train Epoch: 2 [45000/80000 (56%)]\tLoss: 0.462334\n"
          ]
        },
        {
          "output_type": "stream",
          "name": "stderr",
          "text": [
            "Epoch 2:  58%|█████▊    | 461/800 [00:49<00:36,  9.31batch/s, loss=0.523]"
          ]
        },
        {
          "output_type": "stream",
          "name": "stdout",
          "text": [
            "Train Epoch: 2 [46000/80000 (58%)]\tLoss: 0.493135\n"
          ]
        },
        {
          "output_type": "stream",
          "name": "stderr",
          "text": [
            "Epoch 2:  59%|█████▉    | 471/800 [00:50<00:35,  9.28batch/s, loss=0.436]"
          ]
        },
        {
          "output_type": "stream",
          "name": "stdout",
          "text": [
            "Train Epoch: 2 [47000/80000 (59%)]\tLoss: 0.401324\n"
          ]
        },
        {
          "output_type": "stream",
          "name": "stderr",
          "text": [
            "Epoch 2:  60%|██████    | 481/800 [00:51<00:34,  9.30batch/s, loss=0.514]"
          ]
        },
        {
          "output_type": "stream",
          "name": "stdout",
          "text": [
            "Train Epoch: 2 [48000/80000 (60%)]\tLoss: 0.507096\n"
          ]
        },
        {
          "output_type": "stream",
          "name": "stderr",
          "text": [
            "Epoch 2:  61%|██████▏   | 491/800 [00:52<00:33,  9.29batch/s, loss=0.628]"
          ]
        },
        {
          "output_type": "stream",
          "name": "stdout",
          "text": [
            "Train Epoch: 2 [49000/80000 (61%)]\tLoss: 0.443639\n"
          ]
        },
        {
          "output_type": "stream",
          "name": "stderr",
          "text": [
            "Epoch 2:  63%|██████▎   | 501/800 [00:53<00:32,  9.28batch/s, loss=0.38] "
          ]
        },
        {
          "output_type": "stream",
          "name": "stdout",
          "text": [
            "Train Epoch: 2 [50000/80000 (62%)]\tLoss: 0.466226\n"
          ]
        },
        {
          "output_type": "stream",
          "name": "stderr",
          "text": [
            "Epoch 2:  64%|██████▍   | 511/800 [00:55<00:31,  9.24batch/s, loss=0.382]"
          ]
        },
        {
          "output_type": "stream",
          "name": "stdout",
          "text": [
            "Train Epoch: 2 [51000/80000 (64%)]\tLoss: 0.442456\n"
          ]
        },
        {
          "output_type": "stream",
          "name": "stderr",
          "text": [
            "Epoch 2:  65%|██████▌   | 521/800 [00:56<00:30,  9.30batch/s, loss=0.426]"
          ]
        },
        {
          "output_type": "stream",
          "name": "stdout",
          "text": [
            "Train Epoch: 2 [52000/80000 (65%)]\tLoss: 0.446183\n"
          ]
        },
        {
          "output_type": "stream",
          "name": "stderr",
          "text": [
            "Epoch 2:  66%|██████▋   | 531/800 [00:57<00:29,  9.26batch/s, loss=0.488]"
          ]
        },
        {
          "output_type": "stream",
          "name": "stdout",
          "text": [
            "Train Epoch: 2 [53000/80000 (66%)]\tLoss: 0.456799\n"
          ]
        },
        {
          "output_type": "stream",
          "name": "stderr",
          "text": [
            "Epoch 2:  68%|██████▊   | 541/800 [00:58<00:27,  9.31batch/s, loss=0.519]"
          ]
        },
        {
          "output_type": "stream",
          "name": "stdout",
          "text": [
            "Train Epoch: 2 [54000/80000 (68%)]\tLoss: 0.555794\n"
          ]
        },
        {
          "output_type": "stream",
          "name": "stderr",
          "text": [
            "Epoch 2:  69%|██████▉   | 551/800 [00:59<00:26,  9.31batch/s, loss=0.357]"
          ]
        },
        {
          "output_type": "stream",
          "name": "stdout",
          "text": [
            "Train Epoch: 2 [55000/80000 (69%)]\tLoss: 0.481023\n"
          ]
        },
        {
          "output_type": "stream",
          "name": "stderr",
          "text": [
            "Epoch 2:  70%|███████   | 561/800 [01:00<00:25,  9.21batch/s, loss=0.539]"
          ]
        },
        {
          "output_type": "stream",
          "name": "stdout",
          "text": [
            "Train Epoch: 2 [56000/80000 (70%)]\tLoss: 0.532233\n"
          ]
        },
        {
          "output_type": "stream",
          "name": "stderr",
          "text": [
            "Epoch 2:  71%|███████▏  | 571/800 [01:01<00:24,  9.31batch/s, loss=0.442]"
          ]
        },
        {
          "output_type": "stream",
          "name": "stdout",
          "text": [
            "Train Epoch: 2 [57000/80000 (71%)]\tLoss: 0.428365\n"
          ]
        },
        {
          "output_type": "stream",
          "name": "stderr",
          "text": [
            "Epoch 2:  73%|███████▎  | 581/800 [01:02<00:23,  9.28batch/s, loss=0.445]"
          ]
        },
        {
          "output_type": "stream",
          "name": "stdout",
          "text": [
            "Train Epoch: 2 [58000/80000 (72%)]\tLoss: 0.511784\n"
          ]
        },
        {
          "output_type": "stream",
          "name": "stderr",
          "text": [
            "Epoch 2:  74%|███████▍  | 591/800 [01:03<00:22,  9.31batch/s, loss=0.533]"
          ]
        },
        {
          "output_type": "stream",
          "name": "stdout",
          "text": [
            "Train Epoch: 2 [59000/80000 (74%)]\tLoss: 0.532151\n"
          ]
        },
        {
          "output_type": "stream",
          "name": "stderr",
          "text": [
            "Epoch 2:  75%|███████▌  | 601/800 [01:04<00:21,  9.26batch/s, loss=0.399]"
          ]
        },
        {
          "output_type": "stream",
          "name": "stdout",
          "text": [
            "Train Epoch: 2 [60000/80000 (75%)]\tLoss: 0.452623\n"
          ]
        },
        {
          "output_type": "stream",
          "name": "stderr",
          "text": [
            "Epoch 2:  76%|███████▋  | 611/800 [01:05<00:20,  9.28batch/s, loss=0.483]"
          ]
        },
        {
          "output_type": "stream",
          "name": "stdout",
          "text": [
            "Train Epoch: 2 [61000/80000 (76%)]\tLoss: 0.441313\n"
          ]
        },
        {
          "output_type": "stream",
          "name": "stderr",
          "text": [
            "Epoch 2:  78%|███████▊  | 621/800 [01:06<00:19,  9.33batch/s, loss=0.383]"
          ]
        },
        {
          "output_type": "stream",
          "name": "stdout",
          "text": [
            "Train Epoch: 2 [62000/80000 (78%)]\tLoss: 0.473473\n"
          ]
        },
        {
          "output_type": "stream",
          "name": "stderr",
          "text": [
            "Epoch 2:  79%|███████▉  | 631/800 [01:07<00:18,  9.26batch/s, loss=0.47]"
          ]
        },
        {
          "output_type": "stream",
          "name": "stdout",
          "text": [
            "Train Epoch: 2 [63000/80000 (79%)]\tLoss: 0.409986\n"
          ]
        },
        {
          "output_type": "stream",
          "name": "stderr",
          "text": [
            "Epoch 2:  80%|████████  | 641/800 [01:09<00:17,  9.23batch/s, loss=0.532]"
          ]
        },
        {
          "output_type": "stream",
          "name": "stdout",
          "text": [
            "Train Epoch: 2 [64000/80000 (80%)]\tLoss: 0.427183\n"
          ]
        },
        {
          "output_type": "stream",
          "name": "stderr",
          "text": [
            "Epoch 2:  81%|████████▏ | 651/800 [01:10<00:15,  9.32batch/s, loss=0.457]"
          ]
        },
        {
          "output_type": "stream",
          "name": "stdout",
          "text": [
            "Train Epoch: 2 [65000/80000 (81%)]\tLoss: 0.514974\n"
          ]
        },
        {
          "output_type": "stream",
          "name": "stderr",
          "text": [
            "Epoch 2:  83%|████████▎ | 661/800 [01:11<00:14,  9.28batch/s, loss=0.452]"
          ]
        },
        {
          "output_type": "stream",
          "name": "stdout",
          "text": [
            "Train Epoch: 2 [66000/80000 (82%)]\tLoss: 0.386026\n"
          ]
        },
        {
          "output_type": "stream",
          "name": "stderr",
          "text": [
            "Epoch 2:  84%|████████▍ | 671/800 [01:12<00:13,  9.27batch/s, loss=0.477]"
          ]
        },
        {
          "output_type": "stream",
          "name": "stdout",
          "text": [
            "Train Epoch: 2 [67000/80000 (84%)]\tLoss: 0.541378\n"
          ]
        },
        {
          "output_type": "stream",
          "name": "stderr",
          "text": [
            "Epoch 2:  85%|████████▌ | 681/800 [01:13<00:12,  9.33batch/s, loss=0.401]"
          ]
        },
        {
          "output_type": "stream",
          "name": "stdout",
          "text": [
            "Train Epoch: 2 [68000/80000 (85%)]\tLoss: 0.469414\n"
          ]
        },
        {
          "output_type": "stream",
          "name": "stderr",
          "text": [
            "Epoch 2:  86%|████████▋ | 691/800 [01:14<00:11,  9.28batch/s, loss=0.37] "
          ]
        },
        {
          "output_type": "stream",
          "name": "stdout",
          "text": [
            "Train Epoch: 2 [69000/80000 (86%)]\tLoss: 0.451957\n"
          ]
        },
        {
          "output_type": "stream",
          "name": "stderr",
          "text": [
            "Epoch 2:  88%|████████▊ | 701/800 [01:15<00:10,  9.23batch/s, loss=0.356]"
          ]
        },
        {
          "output_type": "stream",
          "name": "stdout",
          "text": [
            "Train Epoch: 2 [70000/80000 (88%)]\tLoss: 0.398010\n"
          ]
        },
        {
          "output_type": "stream",
          "name": "stderr",
          "text": [
            "Epoch 2:  89%|████████▉ | 711/800 [01:16<00:09,  9.28batch/s, loss=0.431]"
          ]
        },
        {
          "output_type": "stream",
          "name": "stdout",
          "text": [
            "Train Epoch: 2 [71000/80000 (89%)]\tLoss: 0.380438\n"
          ]
        },
        {
          "output_type": "stream",
          "name": "stderr",
          "text": [
            "Epoch 2:  90%|█████████ | 721/800 [01:17<00:08,  9.29batch/s, loss=0.444]"
          ]
        },
        {
          "output_type": "stream",
          "name": "stdout",
          "text": [
            "Train Epoch: 2 [72000/80000 (90%)]\tLoss: 0.445483\n"
          ]
        },
        {
          "output_type": "stream",
          "name": "stderr",
          "text": [
            "Epoch 2:  91%|█████████▏| 731/800 [01:18<00:07,  9.26batch/s, loss=0.471]"
          ]
        },
        {
          "output_type": "stream",
          "name": "stdout",
          "text": [
            "Train Epoch: 2 [73000/80000 (91%)]\tLoss: 0.390122\n"
          ]
        },
        {
          "output_type": "stream",
          "name": "stderr",
          "text": [
            "Epoch 2:  93%|█████████▎| 741/800 [01:19<00:06,  9.13batch/s, loss=0.422]"
          ]
        },
        {
          "output_type": "stream",
          "name": "stdout",
          "text": [
            "Train Epoch: 2 [74000/80000 (92%)]\tLoss: 0.520067\n"
          ]
        },
        {
          "output_type": "stream",
          "name": "stderr",
          "text": [
            "Epoch 2:  94%|█████████▍| 751/800 [01:20<00:05,  9.24batch/s, loss=0.497]"
          ]
        },
        {
          "output_type": "stream",
          "name": "stdout",
          "text": [
            "Train Epoch: 2 [75000/80000 (94%)]\tLoss: 0.493039\n"
          ]
        },
        {
          "output_type": "stream",
          "name": "stderr",
          "text": [
            "Epoch 2:  95%|█████████▌| 761/800 [01:21<00:04,  9.26batch/s, loss=0.456]"
          ]
        },
        {
          "output_type": "stream",
          "name": "stdout",
          "text": [
            "Train Epoch: 2 [76000/80000 (95%)]\tLoss: 0.476491\n"
          ]
        },
        {
          "output_type": "stream",
          "name": "stderr",
          "text": [
            "Epoch 2:  96%|█████████▋| 771/800 [01:23<00:03,  9.32batch/s, loss=0.482]"
          ]
        },
        {
          "output_type": "stream",
          "name": "stdout",
          "text": [
            "Train Epoch: 2 [77000/80000 (96%)]\tLoss: 0.553165\n"
          ]
        },
        {
          "output_type": "stream",
          "name": "stderr",
          "text": [
            "Epoch 2:  98%|█████████▊| 781/800 [01:24<00:02,  9.30batch/s, loss=0.43] "
          ]
        },
        {
          "output_type": "stream",
          "name": "stdout",
          "text": [
            "Train Epoch: 2 [78000/80000 (98%)]\tLoss: 0.432997\n"
          ]
        },
        {
          "output_type": "stream",
          "name": "stderr",
          "text": [
            "Epoch 2:  99%|█████████▉| 791/800 [01:25<00:00,  9.25batch/s, loss=0.368]"
          ]
        },
        {
          "output_type": "stream",
          "name": "stdout",
          "text": [
            "Train Epoch: 2 [79000/80000 (99%)]\tLoss: 0.446606\n"
          ]
        },
        {
          "output_type": "stream",
          "name": "stderr",
          "text": [
            "Epoch 2: 100%|██████████| 800/800 [01:26<00:00,  9.29batch/s, loss=0.46]\n"
          ]
        },
        {
          "output_type": "stream",
          "name": "stdout",
          "text": [
            "\n",
            "Test set: Average loss: 0.4487, Accuracy: 15862/20000 (79.310%)\n",
            "\n"
          ]
        },
        {
          "output_type": "stream",
          "name": "stderr",
          "text": [
            "Epoch 3:   0%|          | 1/800 [00:00<01:30,  8.82batch/s, loss=0.552]"
          ]
        },
        {
          "output_type": "stream",
          "name": "stdout",
          "text": [
            "Train Epoch: 3 [0/80000 (0%)]\tLoss: 0.522240\n"
          ]
        },
        {
          "output_type": "stream",
          "name": "stderr",
          "text": [
            "Epoch 3:   1%|▏         | 11/800 [00:01<01:25,  9.20batch/s, loss=0.468]"
          ]
        },
        {
          "output_type": "stream",
          "name": "stdout",
          "text": [
            "Train Epoch: 3 [1000/80000 (1%)]\tLoss: 0.450197\n"
          ]
        },
        {
          "output_type": "stream",
          "name": "stderr",
          "text": [
            "Epoch 3:   3%|▎         | 21/800 [00:02<01:23,  9.30batch/s, loss=0.4] "
          ]
        },
        {
          "output_type": "stream",
          "name": "stdout",
          "text": [
            "Train Epoch: 3 [2000/80000 (2%)]\tLoss: 0.469721\n"
          ]
        },
        {
          "output_type": "stream",
          "name": "stderr",
          "text": [
            "Epoch 3:   4%|▍         | 31/800 [00:03<01:22,  9.31batch/s, loss=0.479]"
          ]
        },
        {
          "output_type": "stream",
          "name": "stdout",
          "text": [
            "Train Epoch: 3 [3000/80000 (4%)]\tLoss: 0.500076\n"
          ]
        },
        {
          "output_type": "stream",
          "name": "stderr",
          "text": [
            "Epoch 3:   5%|▌         | 41/800 [00:04<01:21,  9.28batch/s, loss=0.46] "
          ]
        },
        {
          "output_type": "stream",
          "name": "stdout",
          "text": [
            "Train Epoch: 3 [4000/80000 (5%)]\tLoss: 0.401623\n"
          ]
        },
        {
          "output_type": "stream",
          "name": "stderr",
          "text": [
            "Epoch 3:   6%|▋         | 51/800 [00:05<01:20,  9.32batch/s, loss=0.469]"
          ]
        },
        {
          "output_type": "stream",
          "name": "stdout",
          "text": [
            "Train Epoch: 3 [5000/80000 (6%)]\tLoss: 0.439631\n"
          ]
        },
        {
          "output_type": "stream",
          "name": "stderr",
          "text": [
            "Epoch 3:   8%|▊         | 61/800 [00:06<01:19,  9.32batch/s, loss=0.515]"
          ]
        },
        {
          "output_type": "stream",
          "name": "stdout",
          "text": [
            "Train Epoch: 3 [6000/80000 (8%)]\tLoss: 0.395690\n"
          ]
        },
        {
          "output_type": "stream",
          "name": "stderr",
          "text": [
            "Epoch 3:   9%|▉         | 71/800 [00:07<01:18,  9.29batch/s, loss=0.511]"
          ]
        },
        {
          "output_type": "stream",
          "name": "stdout",
          "text": [
            "Train Epoch: 3 [7000/80000 (9%)]\tLoss: 0.482229\n"
          ]
        },
        {
          "output_type": "stream",
          "name": "stderr",
          "text": [
            "Epoch 3:  10%|█         | 81/800 [00:08<01:17,  9.32batch/s, loss=0.479]"
          ]
        },
        {
          "output_type": "stream",
          "name": "stdout",
          "text": [
            "Train Epoch: 3 [8000/80000 (10%)]\tLoss: 0.452655\n"
          ]
        },
        {
          "output_type": "stream",
          "name": "stderr",
          "text": [
            "Epoch 3:  11%|█▏        | 91/800 [00:09<01:16,  9.27batch/s, loss=0.549]"
          ]
        },
        {
          "output_type": "stream",
          "name": "stdout",
          "text": [
            "Train Epoch: 3 [9000/80000 (11%)]\tLoss: 0.530404\n"
          ]
        },
        {
          "output_type": "stream",
          "name": "stderr",
          "text": [
            "Epoch 3:  13%|█▎        | 101/800 [00:10<01:15,  9.20batch/s, loss=0.429]"
          ]
        },
        {
          "output_type": "stream",
          "name": "stdout",
          "text": [
            "Train Epoch: 3 [10000/80000 (12%)]\tLoss: 0.481302\n"
          ]
        },
        {
          "output_type": "stream",
          "name": "stderr",
          "text": [
            "Epoch 3:  14%|█▍        | 111/800 [00:11<01:14,  9.26batch/s, loss=0.52] "
          ]
        },
        {
          "output_type": "stream",
          "name": "stdout",
          "text": [
            "Train Epoch: 3 [11000/80000 (14%)]\tLoss: 0.429102\n"
          ]
        },
        {
          "output_type": "stream",
          "name": "stderr",
          "text": [
            "Epoch 3:  15%|█▌        | 121/800 [00:13<01:13,  9.28batch/s, loss=0.485]"
          ]
        },
        {
          "output_type": "stream",
          "name": "stdout",
          "text": [
            "Train Epoch: 3 [12000/80000 (15%)]\tLoss: 0.396391\n"
          ]
        },
        {
          "output_type": "stream",
          "name": "stderr",
          "text": [
            "Epoch 3:  16%|█▋        | 131/800 [00:14<01:11,  9.33batch/s, loss=0.418]"
          ]
        },
        {
          "output_type": "stream",
          "name": "stdout",
          "text": [
            "Train Epoch: 3 [13000/80000 (16%)]\tLoss: 0.468018\n"
          ]
        },
        {
          "output_type": "stream",
          "name": "stderr",
          "text": [
            "Epoch 3:  18%|█▊        | 141/800 [00:15<01:10,  9.31batch/s, loss=0.304]"
          ]
        },
        {
          "output_type": "stream",
          "name": "stdout",
          "text": [
            "Train Epoch: 3 [14000/80000 (18%)]\tLoss: 0.426974\n"
          ]
        },
        {
          "output_type": "stream",
          "name": "stderr",
          "text": [
            "Epoch 3:  19%|█▉        | 151/800 [00:16<01:10,  9.26batch/s, loss=0.356]"
          ]
        },
        {
          "output_type": "stream",
          "name": "stdout",
          "text": [
            "Train Epoch: 3 [15000/80000 (19%)]\tLoss: 0.449683\n"
          ]
        },
        {
          "output_type": "stream",
          "name": "stderr",
          "text": [
            "Epoch 3:  20%|██        | 161/800 [00:17<01:08,  9.29batch/s, loss=0.471]"
          ]
        },
        {
          "output_type": "stream",
          "name": "stdout",
          "text": [
            "Train Epoch: 3 [16000/80000 (20%)]\tLoss: 0.422106\n"
          ]
        },
        {
          "output_type": "stream",
          "name": "stderr",
          "text": [
            "Epoch 3:  21%|██▏       | 171/800 [00:18<01:07,  9.29batch/s, loss=0.351]"
          ]
        },
        {
          "output_type": "stream",
          "name": "stdout",
          "text": [
            "Train Epoch: 3 [17000/80000 (21%)]\tLoss: 0.558023\n"
          ]
        },
        {
          "output_type": "stream",
          "name": "stderr",
          "text": [
            "Epoch 3:  23%|██▎       | 181/800 [00:19<01:06,  9.29batch/s, loss=0.42] "
          ]
        },
        {
          "output_type": "stream",
          "name": "stdout",
          "text": [
            "Train Epoch: 3 [18000/80000 (22%)]\tLoss: 0.487785\n"
          ]
        },
        {
          "output_type": "stream",
          "name": "stderr",
          "text": [
            "Epoch 3:  24%|██▍       | 191/800 [00:20<01:05,  9.28batch/s, loss=0.398]"
          ]
        },
        {
          "output_type": "stream",
          "name": "stdout",
          "text": [
            "Train Epoch: 3 [19000/80000 (24%)]\tLoss: 0.434752\n"
          ]
        },
        {
          "output_type": "stream",
          "name": "stderr",
          "text": [
            "Epoch 3:  25%|██▌       | 201/800 [00:21<01:04,  9.31batch/s, loss=0.459]"
          ]
        },
        {
          "output_type": "stream",
          "name": "stdout",
          "text": [
            "Train Epoch: 3 [20000/80000 (25%)]\tLoss: 0.348866\n"
          ]
        },
        {
          "output_type": "stream",
          "name": "stderr",
          "text": [
            "Epoch 3:  26%|██▋       | 211/800 [00:22<01:03,  9.24batch/s, loss=0.407]"
          ]
        },
        {
          "output_type": "stream",
          "name": "stdout",
          "text": [
            "Train Epoch: 3 [21000/80000 (26%)]\tLoss: 0.472856\n"
          ]
        },
        {
          "output_type": "stream",
          "name": "stderr",
          "text": [
            "Epoch 3:  28%|██▊       | 221/800 [00:23<01:02,  9.31batch/s, loss=0.514]"
          ]
        },
        {
          "output_type": "stream",
          "name": "stdout",
          "text": [
            "Train Epoch: 3 [22000/80000 (28%)]\tLoss: 0.448848\n"
          ]
        },
        {
          "output_type": "stream",
          "name": "stderr",
          "text": [
            "Epoch 3:  29%|██▉       | 231/800 [00:24<01:01,  9.32batch/s, loss=0.491]"
          ]
        },
        {
          "output_type": "stream",
          "name": "stdout",
          "text": [
            "Train Epoch: 3 [23000/80000 (29%)]\tLoss: 0.479529\n"
          ]
        },
        {
          "output_type": "stream",
          "name": "stderr",
          "text": [
            "Epoch 3:  30%|███       | 241/800 [00:25<01:00,  9.20batch/s, loss=0.398]"
          ]
        },
        {
          "output_type": "stream",
          "name": "stdout",
          "text": [
            "Train Epoch: 3 [24000/80000 (30%)]\tLoss: 0.459334\n"
          ]
        },
        {
          "output_type": "stream",
          "name": "stderr",
          "text": [
            "Epoch 3:  31%|███▏      | 251/800 [00:27<00:59,  9.28batch/s, loss=0.499]"
          ]
        },
        {
          "output_type": "stream",
          "name": "stdout",
          "text": [
            "Train Epoch: 3 [25000/80000 (31%)]\tLoss: 0.478689\n"
          ]
        },
        {
          "output_type": "stream",
          "name": "stderr",
          "text": [
            "Epoch 3:  33%|███▎      | 261/800 [00:28<00:57,  9.30batch/s, loss=0.406]"
          ]
        },
        {
          "output_type": "stream",
          "name": "stdout",
          "text": [
            "Train Epoch: 3 [26000/80000 (32%)]\tLoss: 0.416307\n"
          ]
        },
        {
          "output_type": "stream",
          "name": "stderr",
          "text": [
            "Epoch 3:  34%|███▍      | 271/800 [00:29<00:56,  9.30batch/s, loss=0.433]"
          ]
        },
        {
          "output_type": "stream",
          "name": "stdout",
          "text": [
            "Train Epoch: 3 [27000/80000 (34%)]\tLoss: 0.542497\n"
          ]
        },
        {
          "output_type": "stream",
          "name": "stderr",
          "text": [
            "Epoch 3:  35%|███▌      | 281/800 [00:30<00:56,  9.26batch/s, loss=0.428]"
          ]
        },
        {
          "output_type": "stream",
          "name": "stdout",
          "text": [
            "Train Epoch: 3 [28000/80000 (35%)]\tLoss: 0.450795\n"
          ]
        },
        {
          "output_type": "stream",
          "name": "stderr",
          "text": [
            "Epoch 3:  36%|███▋      | 291/800 [00:31<00:55,  9.21batch/s, loss=0.411]"
          ]
        },
        {
          "output_type": "stream",
          "name": "stdout",
          "text": [
            "Train Epoch: 3 [29000/80000 (36%)]\tLoss: 0.411497\n"
          ]
        },
        {
          "output_type": "stream",
          "name": "stderr",
          "text": [
            "Epoch 3:  38%|███▊      | 301/800 [00:32<00:54,  9.19batch/s, loss=0.423]"
          ]
        },
        {
          "output_type": "stream",
          "name": "stdout",
          "text": [
            "Train Epoch: 3 [30000/80000 (38%)]\tLoss: 0.422178\n"
          ]
        },
        {
          "output_type": "stream",
          "name": "stderr",
          "text": [
            "Epoch 3:  39%|███▉      | 311/800 [00:33<00:53,  9.20batch/s, loss=0.442]"
          ]
        },
        {
          "output_type": "stream",
          "name": "stdout",
          "text": [
            "Train Epoch: 3 [31000/80000 (39%)]\tLoss: 0.382719\n"
          ]
        },
        {
          "output_type": "stream",
          "name": "stderr",
          "text": [
            "Epoch 3:  40%|████      | 321/800 [00:34<00:52,  9.19batch/s, loss=0.456]"
          ]
        },
        {
          "output_type": "stream",
          "name": "stdout",
          "text": [
            "Train Epoch: 3 [32000/80000 (40%)]\tLoss: 0.396748\n"
          ]
        },
        {
          "output_type": "stream",
          "name": "stderr",
          "text": [
            "Epoch 3:  41%|████▏     | 331/800 [00:35<00:50,  9.27batch/s, loss=0.397]"
          ]
        },
        {
          "output_type": "stream",
          "name": "stdout",
          "text": [
            "Train Epoch: 3 [33000/80000 (41%)]\tLoss: 0.475260\n"
          ]
        },
        {
          "output_type": "stream",
          "name": "stderr",
          "text": [
            "Epoch 3:  43%|████▎     | 341/800 [00:36<00:49,  9.24batch/s, loss=0.458]"
          ]
        },
        {
          "output_type": "stream",
          "name": "stdout",
          "text": [
            "Train Epoch: 3 [34000/80000 (42%)]\tLoss: 0.475436\n"
          ]
        },
        {
          "output_type": "stream",
          "name": "stderr",
          "text": [
            "Epoch 3:  44%|████▍     | 351/800 [00:37<00:48,  9.29batch/s, loss=0.49]"
          ]
        },
        {
          "output_type": "stream",
          "name": "stdout",
          "text": [
            "Train Epoch: 3 [35000/80000 (44%)]\tLoss: 0.399615\n"
          ]
        },
        {
          "output_type": "stream",
          "name": "stderr",
          "text": [
            "Epoch 3:  45%|████▌     | 361/800 [00:38<00:47,  9.20batch/s, loss=0.47] "
          ]
        },
        {
          "output_type": "stream",
          "name": "stdout",
          "text": [
            "Train Epoch: 3 [36000/80000 (45%)]\tLoss: 0.386680\n"
          ]
        },
        {
          "output_type": "stream",
          "name": "stderr",
          "text": [
            "Epoch 3:  46%|████▋     | 371/800 [00:39<00:47,  9.04batch/s, loss=0.491]"
          ]
        },
        {
          "output_type": "stream",
          "name": "stdout",
          "text": [
            "Train Epoch: 3 [37000/80000 (46%)]\tLoss: 0.518339\n"
          ]
        },
        {
          "output_type": "stream",
          "name": "stderr",
          "text": [
            "Epoch 3:  48%|████▊     | 381/800 [00:41<00:45,  9.19batch/s, loss=0.474]"
          ]
        },
        {
          "output_type": "stream",
          "name": "stdout",
          "text": [
            "Train Epoch: 3 [38000/80000 (48%)]\tLoss: 0.519338\n"
          ]
        },
        {
          "output_type": "stream",
          "name": "stderr",
          "text": [
            "Epoch 3:  49%|████▉     | 391/800 [00:42<00:44,  9.15batch/s, loss=0.504]"
          ]
        },
        {
          "output_type": "stream",
          "name": "stdout",
          "text": [
            "Train Epoch: 3 [39000/80000 (49%)]\tLoss: 0.435640\n"
          ]
        },
        {
          "output_type": "stream",
          "name": "stderr",
          "text": [
            "Epoch 3:  50%|█████     | 401/800 [00:43<00:42,  9.30batch/s, loss=0.351]"
          ]
        },
        {
          "output_type": "stream",
          "name": "stdout",
          "text": [
            "Train Epoch: 3 [40000/80000 (50%)]\tLoss: 0.517850\n"
          ]
        },
        {
          "output_type": "stream",
          "name": "stderr",
          "text": [
            "Epoch 3:  51%|█████▏    | 411/800 [00:44<00:42,  9.25batch/s, loss=0.495]"
          ]
        },
        {
          "output_type": "stream",
          "name": "stdout",
          "text": [
            "Train Epoch: 3 [41000/80000 (51%)]\tLoss: 0.424048\n"
          ]
        },
        {
          "output_type": "stream",
          "name": "stderr",
          "text": [
            "Epoch 3:  53%|█████▎    | 421/800 [00:45<00:40,  9.31batch/s, loss=0.41] "
          ]
        },
        {
          "output_type": "stream",
          "name": "stdout",
          "text": [
            "Train Epoch: 3 [42000/80000 (52%)]\tLoss: 0.483297\n"
          ]
        },
        {
          "output_type": "stream",
          "name": "stderr",
          "text": [
            "Epoch 3:  54%|█████▍    | 431/800 [00:46<00:39,  9.29batch/s, loss=0.423]"
          ]
        },
        {
          "output_type": "stream",
          "name": "stdout",
          "text": [
            "Train Epoch: 3 [43000/80000 (54%)]\tLoss: 0.415300\n"
          ]
        },
        {
          "output_type": "stream",
          "name": "stderr",
          "text": [
            "Epoch 3:  55%|█████▌    | 441/800 [00:47<00:38,  9.28batch/s, loss=0.402]"
          ]
        },
        {
          "output_type": "stream",
          "name": "stdout",
          "text": [
            "Train Epoch: 3 [44000/80000 (55%)]\tLoss: 0.374491\n"
          ]
        },
        {
          "output_type": "stream",
          "name": "stderr",
          "text": [
            "Epoch 3:  56%|█████▋    | 451/800 [00:48<00:37,  9.32batch/s, loss=0.393]"
          ]
        },
        {
          "output_type": "stream",
          "name": "stdout",
          "text": [
            "Train Epoch: 3 [45000/80000 (56%)]\tLoss: 0.468087\n"
          ]
        },
        {
          "output_type": "stream",
          "name": "stderr",
          "text": [
            "Epoch 3:  58%|█████▊    | 461/800 [00:49<00:36,  9.32batch/s, loss=0.416]"
          ]
        },
        {
          "output_type": "stream",
          "name": "stdout",
          "text": [
            "Train Epoch: 3 [46000/80000 (58%)]\tLoss: 0.508072\n"
          ]
        },
        {
          "output_type": "stream",
          "name": "stderr",
          "text": [
            "Epoch 3:  59%|█████▉    | 471/800 [00:50<00:35,  9.32batch/s, loss=0.451]"
          ]
        },
        {
          "output_type": "stream",
          "name": "stdout",
          "text": [
            "Train Epoch: 3 [47000/80000 (59%)]\tLoss: 0.423211\n"
          ]
        },
        {
          "output_type": "stream",
          "name": "stderr",
          "text": [
            "Epoch 3:  60%|██████    | 481/800 [00:51<00:34,  9.27batch/s, loss=0.45] "
          ]
        },
        {
          "output_type": "stream",
          "name": "stdout",
          "text": [
            "Train Epoch: 3 [48000/80000 (60%)]\tLoss: 0.545731\n"
          ]
        },
        {
          "output_type": "stream",
          "name": "stderr",
          "text": [
            "Epoch 3:  61%|██████▏   | 491/800 [00:52<00:33,  9.30batch/s, loss=0.381]"
          ]
        },
        {
          "output_type": "stream",
          "name": "stdout",
          "text": [
            "Train Epoch: 3 [49000/80000 (61%)]\tLoss: 0.414714\n"
          ]
        },
        {
          "output_type": "stream",
          "name": "stderr",
          "text": [
            "Epoch 3:  63%|██████▎   | 501/800 [00:53<00:32,  9.24batch/s, loss=0.391]"
          ]
        },
        {
          "output_type": "stream",
          "name": "stdout",
          "text": [
            "Train Epoch: 3 [50000/80000 (62%)]\tLoss: 0.461481\n"
          ]
        },
        {
          "output_type": "stream",
          "name": "stderr",
          "text": [
            "Epoch 3:  64%|██████▍   | 511/800 [00:55<00:30,  9.34batch/s, loss=0.448]"
          ]
        },
        {
          "output_type": "stream",
          "name": "stdout",
          "text": [
            "Train Epoch: 3 [51000/80000 (64%)]\tLoss: 0.429687\n"
          ]
        },
        {
          "output_type": "stream",
          "name": "stderr",
          "text": [
            "Epoch 3:  65%|██████▌   | 521/800 [00:56<00:29,  9.31batch/s, loss=0.465]"
          ]
        },
        {
          "output_type": "stream",
          "name": "stdout",
          "text": [
            "Train Epoch: 3 [52000/80000 (65%)]\tLoss: 0.392543\n"
          ]
        },
        {
          "output_type": "stream",
          "name": "stderr",
          "text": [
            "Epoch 3:  66%|██████▋   | 531/800 [00:57<00:28,  9.30batch/s, loss=0.432]"
          ]
        },
        {
          "output_type": "stream",
          "name": "stdout",
          "text": [
            "Train Epoch: 3 [53000/80000 (66%)]\tLoss: 0.558748\n"
          ]
        },
        {
          "output_type": "stream",
          "name": "stderr",
          "text": [
            "Epoch 3:  68%|██████▊   | 541/800 [00:58<00:27,  9.29batch/s, loss=0.419]"
          ]
        },
        {
          "output_type": "stream",
          "name": "stdout",
          "text": [
            "Train Epoch: 3 [54000/80000 (68%)]\tLoss: 0.428778\n"
          ]
        },
        {
          "output_type": "stream",
          "name": "stderr",
          "text": [
            "Epoch 3:  69%|██████▉   | 551/800 [00:59<00:26,  9.22batch/s, loss=0.461]"
          ]
        },
        {
          "output_type": "stream",
          "name": "stdout",
          "text": [
            "Train Epoch: 3 [55000/80000 (69%)]\tLoss: 0.422308\n"
          ]
        },
        {
          "output_type": "stream",
          "name": "stderr",
          "text": [
            "Epoch 3:  70%|███████   | 561/800 [01:00<00:25,  9.29batch/s, loss=0.442]"
          ]
        },
        {
          "output_type": "stream",
          "name": "stdout",
          "text": [
            "Train Epoch: 3 [56000/80000 (70%)]\tLoss: 0.426662\n"
          ]
        },
        {
          "output_type": "stream",
          "name": "stderr",
          "text": [
            "Epoch 3:  71%|███████▏  | 571/800 [01:01<00:24,  9.19batch/s, loss=0.493]"
          ]
        },
        {
          "output_type": "stream",
          "name": "stdout",
          "text": [
            "Train Epoch: 3 [57000/80000 (71%)]\tLoss: 0.552915\n"
          ]
        },
        {
          "output_type": "stream",
          "name": "stderr",
          "text": [
            "Epoch 3:  73%|███████▎  | 581/800 [01:02<00:23,  9.26batch/s, loss=0.437]"
          ]
        },
        {
          "output_type": "stream",
          "name": "stdout",
          "text": [
            "Train Epoch: 3 [58000/80000 (72%)]\tLoss: 0.385629\n"
          ]
        },
        {
          "output_type": "stream",
          "name": "stderr",
          "text": [
            "Epoch 3:  74%|███████▍  | 591/800 [01:03<00:22,  9.23batch/s, loss=0.455]"
          ]
        },
        {
          "output_type": "stream",
          "name": "stdout",
          "text": [
            "Train Epoch: 3 [59000/80000 (74%)]\tLoss: 0.500357\n"
          ]
        },
        {
          "output_type": "stream",
          "name": "stderr",
          "text": [
            "Epoch 3:  75%|███████▌  | 601/800 [01:04<00:21,  9.26batch/s, loss=0.422]"
          ]
        },
        {
          "output_type": "stream",
          "name": "stdout",
          "text": [
            "Train Epoch: 3 [60000/80000 (75%)]\tLoss: 0.386564\n"
          ]
        },
        {
          "output_type": "stream",
          "name": "stderr",
          "text": [
            "Epoch 3:  76%|███████▋  | 611/800 [01:05<00:20,  9.27batch/s, loss=0.492]"
          ]
        },
        {
          "output_type": "stream",
          "name": "stdout",
          "text": [
            "Train Epoch: 3 [61000/80000 (76%)]\tLoss: 0.542329\n"
          ]
        },
        {
          "output_type": "stream",
          "name": "stderr",
          "text": [
            "Epoch 3:  78%|███████▊  | 621/800 [01:06<00:19,  9.30batch/s, loss=0.478]"
          ]
        },
        {
          "output_type": "stream",
          "name": "stdout",
          "text": [
            "Train Epoch: 3 [62000/80000 (78%)]\tLoss: 0.493412\n"
          ]
        },
        {
          "output_type": "stream",
          "name": "stderr",
          "text": [
            "Epoch 3:  79%|███████▉  | 631/800 [01:08<00:18,  9.30batch/s, loss=0.377]"
          ]
        },
        {
          "output_type": "stream",
          "name": "stdout",
          "text": [
            "Train Epoch: 3 [63000/80000 (79%)]\tLoss: 0.467467\n"
          ]
        },
        {
          "output_type": "stream",
          "name": "stderr",
          "text": [
            "Epoch 3:  80%|████████  | 641/800 [01:09<00:17,  9.23batch/s, loss=0.367]"
          ]
        },
        {
          "output_type": "stream",
          "name": "stdout",
          "text": [
            "Train Epoch: 3 [64000/80000 (80%)]\tLoss: 0.521864\n"
          ]
        },
        {
          "output_type": "stream",
          "name": "stderr",
          "text": [
            "Epoch 3:  81%|████████▏ | 651/800 [01:10<00:16,  9.25batch/s, loss=0.386]"
          ]
        },
        {
          "output_type": "stream",
          "name": "stdout",
          "text": [
            "Train Epoch: 3 [65000/80000 (81%)]\tLoss: 0.430493\n"
          ]
        },
        {
          "output_type": "stream",
          "name": "stderr",
          "text": [
            "Epoch 3:  83%|████████▎ | 661/800 [01:11<00:14,  9.30batch/s, loss=0.421]"
          ]
        },
        {
          "output_type": "stream",
          "name": "stdout",
          "text": [
            "Train Epoch: 3 [66000/80000 (82%)]\tLoss: 0.497979\n"
          ]
        },
        {
          "output_type": "stream",
          "name": "stderr",
          "text": [
            "Epoch 3:  84%|████████▍ | 671/800 [01:12<00:14,  9.20batch/s, loss=0.402]"
          ]
        },
        {
          "output_type": "stream",
          "name": "stdout",
          "text": [
            "Train Epoch: 3 [67000/80000 (84%)]\tLoss: 0.474687\n"
          ]
        },
        {
          "output_type": "stream",
          "name": "stderr",
          "text": [
            "Epoch 3:  85%|████████▌ | 681/800 [01:13<00:12,  9.27batch/s, loss=0.495]"
          ]
        },
        {
          "output_type": "stream",
          "name": "stdout",
          "text": [
            "Train Epoch: 3 [68000/80000 (85%)]\tLoss: 0.400229\n"
          ]
        },
        {
          "output_type": "stream",
          "name": "stderr",
          "text": [
            "Epoch 3:  86%|████████▋ | 691/800 [01:14<00:11,  9.24batch/s, loss=0.386]"
          ]
        },
        {
          "output_type": "stream",
          "name": "stdout",
          "text": [
            "Train Epoch: 3 [69000/80000 (86%)]\tLoss: 0.376520\n"
          ]
        },
        {
          "output_type": "stream",
          "name": "stderr",
          "text": [
            "Epoch 3:  88%|████████▊ | 701/800 [01:15<00:10,  9.30batch/s, loss=0.487]"
          ]
        },
        {
          "output_type": "stream",
          "name": "stdout",
          "text": [
            "Train Epoch: 3 [70000/80000 (88%)]\tLoss: 0.417564\n"
          ]
        },
        {
          "output_type": "stream",
          "name": "stderr",
          "text": [
            "Epoch 3:  89%|████████▉ | 711/800 [01:16<00:09,  9.26batch/s, loss=0.384]"
          ]
        },
        {
          "output_type": "stream",
          "name": "stdout",
          "text": [
            "Train Epoch: 3 [71000/80000 (89%)]\tLoss: 0.484130\n"
          ]
        },
        {
          "output_type": "stream",
          "name": "stderr",
          "text": [
            "Epoch 3:  90%|█████████ | 721/800 [01:17<00:08,  9.27batch/s, loss=0.443]"
          ]
        },
        {
          "output_type": "stream",
          "name": "stdout",
          "text": [
            "Train Epoch: 3 [72000/80000 (90%)]\tLoss: 0.511897\n"
          ]
        },
        {
          "output_type": "stream",
          "name": "stderr",
          "text": [
            "Epoch 3:  91%|█████████▏| 731/800 [01:18<00:07,  9.29batch/s, loss=0.482]"
          ]
        },
        {
          "output_type": "stream",
          "name": "stdout",
          "text": [
            "Train Epoch: 3 [73000/80000 (91%)]\tLoss: 0.402392\n"
          ]
        },
        {
          "output_type": "stream",
          "name": "stderr",
          "text": [
            "Epoch 3:  93%|█████████▎| 741/800 [01:19<00:06,  9.24batch/s, loss=0.415]"
          ]
        },
        {
          "output_type": "stream",
          "name": "stdout",
          "text": [
            "Train Epoch: 3 [74000/80000 (92%)]\tLoss: 0.470032\n"
          ]
        },
        {
          "output_type": "stream",
          "name": "stderr",
          "text": [
            "Epoch 3:  94%|█████████▍| 751/800 [01:20<00:05,  9.32batch/s, loss=0.406]"
          ]
        },
        {
          "output_type": "stream",
          "name": "stdout",
          "text": [
            "Train Epoch: 3 [75000/80000 (94%)]\tLoss: 0.435969\n"
          ]
        },
        {
          "output_type": "stream",
          "name": "stderr",
          "text": [
            "Epoch 3:  95%|█████████▌| 761/800 [01:22<00:04,  9.32batch/s, loss=0.39] "
          ]
        },
        {
          "output_type": "stream",
          "name": "stdout",
          "text": [
            "Train Epoch: 3 [76000/80000 (95%)]\tLoss: 0.505365\n"
          ]
        },
        {
          "output_type": "stream",
          "name": "stderr",
          "text": [
            "Epoch 3:  96%|█████████▋| 771/800 [01:23<00:03,  9.31batch/s, loss=0.451]"
          ]
        },
        {
          "output_type": "stream",
          "name": "stdout",
          "text": [
            "Train Epoch: 3 [77000/80000 (96%)]\tLoss: 0.447431\n"
          ]
        },
        {
          "output_type": "stream",
          "name": "stderr",
          "text": [
            "Epoch 3:  98%|█████████▊| 781/800 [01:24<00:02,  9.28batch/s, loss=0.442]"
          ]
        },
        {
          "output_type": "stream",
          "name": "stdout",
          "text": [
            "Train Epoch: 3 [78000/80000 (98%)]\tLoss: 0.460915\n"
          ]
        },
        {
          "output_type": "stream",
          "name": "stderr",
          "text": [
            "Epoch 3:  99%|█████████▉| 791/800 [01:25<00:00,  9.28batch/s, loss=0.5] "
          ]
        },
        {
          "output_type": "stream",
          "name": "stdout",
          "text": [
            "Train Epoch: 3 [79000/80000 (99%)]\tLoss: 0.430306\n"
          ]
        },
        {
          "output_type": "stream",
          "name": "stderr",
          "text": [
            "Epoch 3: 100%|██████████| 800/800 [01:26<00:00,  9.28batch/s, loss=0.489]\n"
          ]
        },
        {
          "output_type": "stream",
          "name": "stdout",
          "text": [
            "\n",
            "Test set: Average loss: 0.4448, Accuracy: 15908/20000 (79.540%)\n",
            "\n"
          ]
        },
        {
          "output_type": "stream",
          "name": "stderr",
          "text": [
            "Epoch 4:   0%|          | 1/800 [00:00<01:31,  8.71batch/s, loss=0.482]"
          ]
        },
        {
          "output_type": "stream",
          "name": "stdout",
          "text": [
            "Train Epoch: 4 [0/80000 (0%)]\tLoss: 0.460921\n"
          ]
        },
        {
          "output_type": "stream",
          "name": "stderr",
          "text": [
            "Epoch 4:   1%|▏         | 11/800 [00:01<01:24,  9.30batch/s, loss=0.494]"
          ]
        },
        {
          "output_type": "stream",
          "name": "stdout",
          "text": [
            "Train Epoch: 4 [1000/80000 (1%)]\tLoss: 0.496837\n"
          ]
        },
        {
          "output_type": "stream",
          "name": "stderr",
          "text": [
            "Epoch 4:   3%|▎         | 21/800 [00:02<01:24,  9.27batch/s, loss=0.46] "
          ]
        },
        {
          "output_type": "stream",
          "name": "stdout",
          "text": [
            "Train Epoch: 4 [2000/80000 (2%)]\tLoss: 0.436058\n"
          ]
        },
        {
          "output_type": "stream",
          "name": "stderr",
          "text": [
            "Epoch 4:   4%|▍         | 31/800 [00:03<01:22,  9.29batch/s, loss=0.422]"
          ]
        },
        {
          "output_type": "stream",
          "name": "stdout",
          "text": [
            "Train Epoch: 4 [3000/80000 (4%)]\tLoss: 0.468382\n"
          ]
        },
        {
          "output_type": "stream",
          "name": "stderr",
          "text": [
            "Epoch 4:   5%|▌         | 41/800 [00:04<01:21,  9.29batch/s, loss=0.477]"
          ]
        },
        {
          "output_type": "stream",
          "name": "stdout",
          "text": [
            "Train Epoch: 4 [4000/80000 (5%)]\tLoss: 0.519802\n"
          ]
        },
        {
          "output_type": "stream",
          "name": "stderr",
          "text": [
            "Epoch 4:   6%|▋         | 51/800 [00:05<01:20,  9.27batch/s, loss=0.469]"
          ]
        },
        {
          "output_type": "stream",
          "name": "stdout",
          "text": [
            "Train Epoch: 4 [5000/80000 (6%)]\tLoss: 0.541321\n"
          ]
        },
        {
          "output_type": "stream",
          "name": "stderr",
          "text": [
            "Epoch 4:   8%|▊         | 61/800 [00:06<01:20,  9.16batch/s, loss=0.484]"
          ]
        },
        {
          "output_type": "stream",
          "name": "stdout",
          "text": [
            "Train Epoch: 4 [6000/80000 (8%)]\tLoss: 0.542779\n"
          ]
        },
        {
          "output_type": "stream",
          "name": "stderr",
          "text": [
            "Epoch 4:   9%|▉         | 71/800 [00:07<01:18,  9.27batch/s, loss=0.496]"
          ]
        },
        {
          "output_type": "stream",
          "name": "stdout",
          "text": [
            "Train Epoch: 4 [7000/80000 (9%)]\tLoss: 0.414821\n"
          ]
        },
        {
          "output_type": "stream",
          "name": "stderr",
          "text": [
            "Epoch 4:  10%|█         | 81/800 [00:08<01:17,  9.29batch/s, loss=0.468]"
          ]
        },
        {
          "output_type": "stream",
          "name": "stdout",
          "text": [
            "Train Epoch: 4 [8000/80000 (10%)]\tLoss: 0.443125\n"
          ]
        },
        {
          "output_type": "stream",
          "name": "stderr",
          "text": [
            "Epoch 4:  11%|█▏        | 91/800 [00:09<01:16,  9.29batch/s, loss=0.466]"
          ]
        },
        {
          "output_type": "stream",
          "name": "stdout",
          "text": [
            "Train Epoch: 4 [9000/80000 (11%)]\tLoss: 0.362931\n"
          ]
        },
        {
          "output_type": "stream",
          "name": "stderr",
          "text": [
            "Epoch 4:  13%|█▎        | 101/800 [00:10<01:15,  9.23batch/s, loss=0.307]"
          ]
        },
        {
          "output_type": "stream",
          "name": "stdout",
          "text": [
            "Train Epoch: 4 [10000/80000 (12%)]\tLoss: 0.390984\n"
          ]
        },
        {
          "output_type": "stream",
          "name": "stderr",
          "text": [
            "Epoch 4:  14%|█▍        | 111/800 [00:11<01:14,  9.25batch/s, loss=0.458]"
          ]
        },
        {
          "output_type": "stream",
          "name": "stdout",
          "text": [
            "Train Epoch: 4 [11000/80000 (14%)]\tLoss: 0.348104\n"
          ]
        },
        {
          "output_type": "stream",
          "name": "stderr",
          "text": [
            "Epoch 4:  15%|█▌        | 121/800 [00:13<01:13,  9.29batch/s, loss=0.465]"
          ]
        },
        {
          "output_type": "stream",
          "name": "stdout",
          "text": [
            "Train Epoch: 4 [12000/80000 (15%)]\tLoss: 0.350872\n"
          ]
        },
        {
          "output_type": "stream",
          "name": "stderr",
          "text": [
            "Epoch 4:  16%|█▋        | 131/800 [00:14<01:12,  9.25batch/s, loss=0.55] "
          ]
        },
        {
          "output_type": "stream",
          "name": "stdout",
          "text": [
            "Train Epoch: 4 [13000/80000 (16%)]\tLoss: 0.511977\n"
          ]
        },
        {
          "output_type": "stream",
          "name": "stderr",
          "text": [
            "Epoch 4:  18%|█▊        | 141/800 [00:15<01:11,  9.25batch/s, loss=0.466]"
          ]
        },
        {
          "output_type": "stream",
          "name": "stdout",
          "text": [
            "Train Epoch: 4 [14000/80000 (18%)]\tLoss: 0.535467\n"
          ]
        },
        {
          "output_type": "stream",
          "name": "stderr",
          "text": [
            "Epoch 4:  19%|█▉        | 151/800 [00:16<01:09,  9.33batch/s, loss=0.399]"
          ]
        },
        {
          "output_type": "stream",
          "name": "stdout",
          "text": [
            "Train Epoch: 4 [15000/80000 (19%)]\tLoss: 0.360090\n"
          ]
        },
        {
          "output_type": "stream",
          "name": "stderr",
          "text": [
            "Epoch 4:  20%|██        | 161/800 [00:17<01:08,  9.27batch/s, loss=0.425]"
          ]
        },
        {
          "output_type": "stream",
          "name": "stdout",
          "text": [
            "Train Epoch: 4 [16000/80000 (20%)]\tLoss: 0.479956\n"
          ]
        },
        {
          "output_type": "stream",
          "name": "stderr",
          "text": [
            "Epoch 4:  21%|██▏       | 171/800 [00:18<01:08,  9.24batch/s, loss=0.469]"
          ]
        },
        {
          "output_type": "stream",
          "name": "stdout",
          "text": [
            "Train Epoch: 4 [17000/80000 (21%)]\tLoss: 0.385457\n"
          ]
        },
        {
          "output_type": "stream",
          "name": "stderr",
          "text": [
            "Epoch 4:  23%|██▎       | 181/800 [00:19<01:06,  9.32batch/s, loss=0.542]"
          ]
        },
        {
          "output_type": "stream",
          "name": "stdout",
          "text": [
            "Train Epoch: 4 [18000/80000 (22%)]\tLoss: 0.535964\n"
          ]
        },
        {
          "output_type": "stream",
          "name": "stderr",
          "text": [
            "Epoch 4:  24%|██▍       | 191/800 [00:20<01:05,  9.29batch/s, loss=0.482]"
          ]
        },
        {
          "output_type": "stream",
          "name": "stdout",
          "text": [
            "Train Epoch: 4 [19000/80000 (24%)]\tLoss: 0.492717\n"
          ]
        },
        {
          "output_type": "stream",
          "name": "stderr",
          "text": [
            "Epoch 4:  25%|██▌       | 201/800 [00:21<01:04,  9.25batch/s, loss=0.42] "
          ]
        },
        {
          "output_type": "stream",
          "name": "stdout",
          "text": [
            "Train Epoch: 4 [20000/80000 (25%)]\tLoss: 0.474767\n"
          ]
        },
        {
          "output_type": "stream",
          "name": "stderr",
          "text": [
            "Epoch 4:  26%|██▋       | 211/800 [00:22<01:03,  9.30batch/s, loss=0.472]"
          ]
        },
        {
          "output_type": "stream",
          "name": "stdout",
          "text": [
            "Train Epoch: 4 [21000/80000 (26%)]\tLoss: 0.360215\n"
          ]
        },
        {
          "output_type": "stream",
          "name": "stderr",
          "text": [
            "Epoch 4:  28%|██▊       | 221/800 [00:23<01:02,  9.24batch/s, loss=0.377]"
          ]
        },
        {
          "output_type": "stream",
          "name": "stdout",
          "text": [
            "Train Epoch: 4 [22000/80000 (28%)]\tLoss: 0.443765\n"
          ]
        },
        {
          "output_type": "stream",
          "name": "stderr",
          "text": [
            "Epoch 4:  29%|██▉       | 231/800 [00:24<01:01,  9.27batch/s, loss=0.471]"
          ]
        },
        {
          "output_type": "stream",
          "name": "stdout",
          "text": [
            "Train Epoch: 4 [23000/80000 (29%)]\tLoss: 0.478983\n"
          ]
        },
        {
          "output_type": "stream",
          "name": "stderr",
          "text": [
            "Epoch 4:  30%|███       | 241/800 [00:25<01:00,  9.29batch/s, loss=0.473]"
          ]
        },
        {
          "output_type": "stream",
          "name": "stdout",
          "text": [
            "Train Epoch: 4 [24000/80000 (30%)]\tLoss: 0.372439\n"
          ]
        },
        {
          "output_type": "stream",
          "name": "stderr",
          "text": [
            "Epoch 4:  31%|███▏      | 251/800 [00:27<00:59,  9.27batch/s, loss=0.384]"
          ]
        },
        {
          "output_type": "stream",
          "name": "stdout",
          "text": [
            "Train Epoch: 4 [25000/80000 (31%)]\tLoss: 0.425949\n"
          ]
        },
        {
          "output_type": "stream",
          "name": "stderr",
          "text": [
            "Epoch 4:  33%|███▎      | 261/800 [00:28<00:57,  9.30batch/s, loss=0.459]"
          ]
        },
        {
          "output_type": "stream",
          "name": "stdout",
          "text": [
            "Train Epoch: 4 [26000/80000 (32%)]\tLoss: 0.395989\n"
          ]
        },
        {
          "output_type": "stream",
          "name": "stderr",
          "text": [
            "Epoch 4:  34%|███▍      | 271/800 [00:29<00:56,  9.29batch/s, loss=0.395]"
          ]
        },
        {
          "output_type": "stream",
          "name": "stdout",
          "text": [
            "Train Epoch: 4 [27000/80000 (34%)]\tLoss: 0.471888\n"
          ]
        },
        {
          "output_type": "stream",
          "name": "stderr",
          "text": [
            "Epoch 4:  35%|███▌      | 281/800 [00:30<00:55,  9.30batch/s, loss=0.561]"
          ]
        },
        {
          "output_type": "stream",
          "name": "stdout",
          "text": [
            "Train Epoch: 4 [28000/80000 (35%)]\tLoss: 0.420553\n"
          ]
        },
        {
          "output_type": "stream",
          "name": "stderr",
          "text": [
            "Epoch 4:  36%|███▋      | 291/800 [00:31<00:54,  9.32batch/s, loss=0.517]"
          ]
        },
        {
          "output_type": "stream",
          "name": "stdout",
          "text": [
            "Train Epoch: 4 [29000/80000 (36%)]\tLoss: 0.401914\n"
          ]
        },
        {
          "output_type": "stream",
          "name": "stderr",
          "text": [
            "Epoch 4:  38%|███▊      | 301/800 [00:32<00:53,  9.31batch/s, loss=0.52] "
          ]
        },
        {
          "output_type": "stream",
          "name": "stdout",
          "text": [
            "Train Epoch: 4 [30000/80000 (38%)]\tLoss: 0.451584\n"
          ]
        },
        {
          "output_type": "stream",
          "name": "stderr",
          "text": [
            "Epoch 4:  39%|███▉      | 311/800 [00:33<00:52,  9.29batch/s, loss=0.46] "
          ]
        },
        {
          "output_type": "stream",
          "name": "stdout",
          "text": [
            "Train Epoch: 4 [31000/80000 (39%)]\tLoss: 0.391489\n"
          ]
        },
        {
          "output_type": "stream",
          "name": "stderr",
          "text": [
            "Epoch 4:  40%|████      | 321/800 [00:34<00:51,  9.29batch/s, loss=0.468]"
          ]
        },
        {
          "output_type": "stream",
          "name": "stdout",
          "text": [
            "Train Epoch: 4 [32000/80000 (40%)]\tLoss: 0.491228\n"
          ]
        },
        {
          "output_type": "stream",
          "name": "stderr",
          "text": [
            "Epoch 4:  41%|████▏     | 331/800 [00:35<00:50,  9.21batch/s, loss=0.55]"
          ]
        },
        {
          "output_type": "stream",
          "name": "stdout",
          "text": [
            "Train Epoch: 4 [33000/80000 (41%)]\tLoss: 0.519725\n"
          ]
        },
        {
          "output_type": "stream",
          "name": "stderr",
          "text": [
            "Epoch 4:  43%|████▎     | 341/800 [00:36<00:49,  9.26batch/s, loss=0.439]"
          ]
        },
        {
          "output_type": "stream",
          "name": "stdout",
          "text": [
            "Train Epoch: 4 [34000/80000 (42%)]\tLoss: 0.516698\n"
          ]
        },
        {
          "output_type": "stream",
          "name": "stderr",
          "text": [
            "Epoch 4:  44%|████▍     | 351/800 [00:37<00:48,  9.27batch/s, loss=0.49] "
          ]
        },
        {
          "output_type": "stream",
          "name": "stdout",
          "text": [
            "Train Epoch: 4 [35000/80000 (44%)]\tLoss: 0.520739\n"
          ]
        },
        {
          "output_type": "stream",
          "name": "stderr",
          "text": [
            "Epoch 4:  45%|████▌     | 361/800 [00:38<00:47,  9.19batch/s, loss=0.436]"
          ]
        },
        {
          "output_type": "stream",
          "name": "stdout",
          "text": [
            "Train Epoch: 4 [36000/80000 (45%)]\tLoss: 0.475255\n"
          ]
        },
        {
          "output_type": "stream",
          "name": "stderr",
          "text": [
            "Epoch 4:  46%|████▋     | 371/800 [00:39<00:46,  9.21batch/s, loss=0.412]"
          ]
        },
        {
          "output_type": "stream",
          "name": "stdout",
          "text": [
            "Train Epoch: 4 [37000/80000 (46%)]\tLoss: 0.495362\n"
          ]
        },
        {
          "output_type": "stream",
          "name": "stderr",
          "text": [
            "Epoch 4:  48%|████▊     | 381/800 [00:41<00:45,  9.27batch/s, loss=0.504]"
          ]
        },
        {
          "output_type": "stream",
          "name": "stdout",
          "text": [
            "Train Epoch: 4 [38000/80000 (48%)]\tLoss: 0.352279\n"
          ]
        },
        {
          "output_type": "stream",
          "name": "stderr",
          "text": [
            "Epoch 4:  49%|████▉     | 391/800 [00:42<00:43,  9.31batch/s, loss=0.382]"
          ]
        },
        {
          "output_type": "stream",
          "name": "stdout",
          "text": [
            "Train Epoch: 4 [39000/80000 (49%)]\tLoss: 0.494886\n"
          ]
        },
        {
          "output_type": "stream",
          "name": "stderr",
          "text": [
            "Epoch 4:  50%|█████     | 401/800 [00:43<00:42,  9.30batch/s, loss=0.341]"
          ]
        },
        {
          "output_type": "stream",
          "name": "stdout",
          "text": [
            "Train Epoch: 4 [40000/80000 (50%)]\tLoss: 0.401173\n"
          ]
        },
        {
          "output_type": "stream",
          "name": "stderr",
          "text": [
            "Epoch 4:  51%|█████▏    | 411/800 [00:44<00:41,  9.31batch/s, loss=0.447]"
          ]
        },
        {
          "output_type": "stream",
          "name": "stdout",
          "text": [
            "Train Epoch: 4 [41000/80000 (51%)]\tLoss: 0.501810\n"
          ]
        },
        {
          "output_type": "stream",
          "name": "stderr",
          "text": [
            "Epoch 4:  53%|█████▎    | 421/800 [00:45<00:41,  9.22batch/s, loss=0.523]"
          ]
        },
        {
          "output_type": "stream",
          "name": "stdout",
          "text": [
            "Train Epoch: 4 [42000/80000 (52%)]\tLoss: 0.452152\n"
          ]
        },
        {
          "output_type": "stream",
          "name": "stderr",
          "text": [
            "Epoch 4:  54%|█████▍    | 431/800 [00:46<00:39,  9.23batch/s, loss=0.448]"
          ]
        },
        {
          "output_type": "stream",
          "name": "stdout",
          "text": [
            "Train Epoch: 4 [43000/80000 (54%)]\tLoss: 0.435571\n"
          ]
        },
        {
          "output_type": "stream",
          "name": "stderr",
          "text": [
            "Epoch 4:  55%|█████▌    | 441/800 [00:47<00:38,  9.31batch/s, loss=0.423]"
          ]
        },
        {
          "output_type": "stream",
          "name": "stdout",
          "text": [
            "Train Epoch: 4 [44000/80000 (55%)]\tLoss: 0.432274\n"
          ]
        },
        {
          "output_type": "stream",
          "name": "stderr",
          "text": [
            "Epoch 4:  56%|█████▋    | 451/800 [00:48<00:37,  9.29batch/s, loss=0.373]"
          ]
        },
        {
          "output_type": "stream",
          "name": "stdout",
          "text": [
            "Train Epoch: 4 [45000/80000 (56%)]\tLoss: 0.442270\n"
          ]
        },
        {
          "output_type": "stream",
          "name": "stderr",
          "text": [
            "Epoch 4:  58%|█████▊    | 461/800 [00:49<00:36,  9.27batch/s, loss=0.353]"
          ]
        },
        {
          "output_type": "stream",
          "name": "stdout",
          "text": [
            "Train Epoch: 4 [46000/80000 (58%)]\tLoss: 0.485287\n"
          ]
        },
        {
          "output_type": "stream",
          "name": "stderr",
          "text": [
            "Epoch 4:  59%|█████▉    | 471/800 [00:50<00:35,  9.26batch/s, loss=0.414]"
          ]
        },
        {
          "output_type": "stream",
          "name": "stdout",
          "text": [
            "Train Epoch: 4 [47000/80000 (59%)]\tLoss: 0.556994\n"
          ]
        },
        {
          "output_type": "stream",
          "name": "stderr",
          "text": [
            "Epoch 4:  60%|██████    | 481/800 [00:51<00:34,  9.29batch/s, loss=0.485]"
          ]
        },
        {
          "output_type": "stream",
          "name": "stdout",
          "text": [
            "Train Epoch: 4 [48000/80000 (60%)]\tLoss: 0.448081\n"
          ]
        },
        {
          "output_type": "stream",
          "name": "stderr",
          "text": [
            "Epoch 4:  61%|██████▏   | 491/800 [00:52<00:33,  9.26batch/s, loss=0.432]"
          ]
        },
        {
          "output_type": "stream",
          "name": "stdout",
          "text": [
            "Train Epoch: 4 [49000/80000 (61%)]\tLoss: 0.469927\n"
          ]
        },
        {
          "output_type": "stream",
          "name": "stderr",
          "text": [
            "Epoch 4:  63%|██████▎   | 501/800 [00:53<00:32,  9.30batch/s, loss=0.4]  "
          ]
        },
        {
          "output_type": "stream",
          "name": "stdout",
          "text": [
            "Train Epoch: 4 [50000/80000 (62%)]\tLoss: 0.447046\n"
          ]
        },
        {
          "output_type": "stream",
          "name": "stderr",
          "text": [
            "Epoch 4:  64%|██████▍   | 511/800 [00:55<00:31,  9.28batch/s, loss=0.414]"
          ]
        },
        {
          "output_type": "stream",
          "name": "stdout",
          "text": [
            "Train Epoch: 4 [51000/80000 (64%)]\tLoss: 0.492589\n"
          ]
        },
        {
          "output_type": "stream",
          "name": "stderr",
          "text": [
            "Epoch 4:  65%|██████▌   | 521/800 [00:56<00:30,  9.26batch/s, loss=0.411]"
          ]
        },
        {
          "output_type": "stream",
          "name": "stdout",
          "text": [
            "Train Epoch: 4 [52000/80000 (65%)]\tLoss: 0.458582\n"
          ]
        },
        {
          "output_type": "stream",
          "name": "stderr",
          "text": [
            "Epoch 4:  66%|██████▋   | 531/800 [00:57<00:29,  9.25batch/s, loss=0.513]"
          ]
        },
        {
          "output_type": "stream",
          "name": "stdout",
          "text": [
            "Train Epoch: 4 [53000/80000 (66%)]\tLoss: 0.502333\n"
          ]
        },
        {
          "output_type": "stream",
          "name": "stderr",
          "text": [
            "Epoch 4:  68%|██████▊   | 541/800 [00:58<00:27,  9.26batch/s, loss=0.401]"
          ]
        },
        {
          "output_type": "stream",
          "name": "stdout",
          "text": [
            "Train Epoch: 4 [54000/80000 (68%)]\tLoss: 0.446781\n"
          ]
        },
        {
          "output_type": "stream",
          "name": "stderr",
          "text": [
            "Epoch 4:  69%|██████▉   | 551/800 [00:59<00:26,  9.27batch/s, loss=0.45] "
          ]
        },
        {
          "output_type": "stream",
          "name": "stdout",
          "text": [
            "Train Epoch: 4 [55000/80000 (69%)]\tLoss: 0.535814\n"
          ]
        },
        {
          "output_type": "stream",
          "name": "stderr",
          "text": [
            "Epoch 4:  70%|███████   | 561/800 [01:00<00:25,  9.29batch/s, loss=0.363]"
          ]
        },
        {
          "output_type": "stream",
          "name": "stdout",
          "text": [
            "Train Epoch: 4 [56000/80000 (70%)]\tLoss: 0.406327\n"
          ]
        },
        {
          "output_type": "stream",
          "name": "stderr",
          "text": [
            "Epoch 4:  71%|███████▏  | 571/800 [01:01<00:24,  9.33batch/s, loss=0.441]"
          ]
        },
        {
          "output_type": "stream",
          "name": "stdout",
          "text": [
            "Train Epoch: 4 [57000/80000 (71%)]\tLoss: 0.464125\n"
          ]
        },
        {
          "output_type": "stream",
          "name": "stderr",
          "text": [
            "Epoch 4:  73%|███████▎  | 581/800 [01:02<00:23,  9.27batch/s, loss=0.395]"
          ]
        },
        {
          "output_type": "stream",
          "name": "stdout",
          "text": [
            "Train Epoch: 4 [58000/80000 (72%)]\tLoss: 0.459177\n"
          ]
        },
        {
          "output_type": "stream",
          "name": "stderr",
          "text": [
            "Epoch 4:  74%|███████▍  | 591/800 [01:03<00:22,  9.27batch/s, loss=0.47] "
          ]
        },
        {
          "output_type": "stream",
          "name": "stdout",
          "text": [
            "Train Epoch: 4 [59000/80000 (74%)]\tLoss: 0.456955\n"
          ]
        },
        {
          "output_type": "stream",
          "name": "stderr",
          "text": [
            "Epoch 4:  75%|███████▌  | 601/800 [01:04<00:21,  9.27batch/s, loss=0.389]"
          ]
        },
        {
          "output_type": "stream",
          "name": "stdout",
          "text": [
            "Train Epoch: 4 [60000/80000 (75%)]\tLoss: 0.446741\n"
          ]
        },
        {
          "output_type": "stream",
          "name": "stderr",
          "text": [
            "Epoch 4:  76%|███████▋  | 611/800 [01:05<00:20,  9.29batch/s, loss=0.465]"
          ]
        },
        {
          "output_type": "stream",
          "name": "stdout",
          "text": [
            "Train Epoch: 4 [61000/80000 (76%)]\tLoss: 0.389423\n"
          ]
        },
        {
          "output_type": "stream",
          "name": "stderr",
          "text": [
            "Epoch 4:  78%|███████▊  | 621/800 [01:06<00:19,  9.29batch/s, loss=0.427]"
          ]
        },
        {
          "output_type": "stream",
          "name": "stdout",
          "text": [
            "Train Epoch: 4 [62000/80000 (78%)]\tLoss: 0.556630\n"
          ]
        },
        {
          "output_type": "stream",
          "name": "stderr",
          "text": [
            "Epoch 4:  79%|███████▉  | 631/800 [01:07<00:18,  9.30batch/s, loss=0.502]"
          ]
        },
        {
          "output_type": "stream",
          "name": "stdout",
          "text": [
            "Train Epoch: 4 [63000/80000 (79%)]\tLoss: 0.468498\n"
          ]
        },
        {
          "output_type": "stream",
          "name": "stderr",
          "text": [
            "Epoch 4:  80%|████████  | 641/800 [01:09<00:17,  9.27batch/s, loss=0.378]"
          ]
        },
        {
          "output_type": "stream",
          "name": "stdout",
          "text": [
            "Train Epoch: 4 [64000/80000 (80%)]\tLoss: 0.483874\n"
          ]
        },
        {
          "output_type": "stream",
          "name": "stderr",
          "text": [
            "Epoch 4:  81%|████████▏ | 651/800 [01:10<00:16,  9.26batch/s, loss=0.474]"
          ]
        },
        {
          "output_type": "stream",
          "name": "stdout",
          "text": [
            "Train Epoch: 4 [65000/80000 (81%)]\tLoss: 0.420478\n"
          ]
        },
        {
          "output_type": "stream",
          "name": "stderr",
          "text": [
            "Epoch 4:  83%|████████▎ | 661/800 [01:11<00:15,  9.25batch/s, loss=0.416]"
          ]
        },
        {
          "output_type": "stream",
          "name": "stdout",
          "text": [
            "Train Epoch: 4 [66000/80000 (82%)]\tLoss: 0.525826\n"
          ]
        },
        {
          "output_type": "stream",
          "name": "stderr",
          "text": [
            "Epoch 4:  84%|████████▍ | 671/800 [01:12<00:14,  9.18batch/s, loss=0.445]"
          ]
        },
        {
          "output_type": "stream",
          "name": "stdout",
          "text": [
            "Train Epoch: 4 [67000/80000 (84%)]\tLoss: 0.469396\n"
          ]
        },
        {
          "output_type": "stream",
          "name": "stderr",
          "text": [
            "Epoch 4:  85%|████████▌ | 681/800 [01:13<00:12,  9.27batch/s, loss=0.465]"
          ]
        },
        {
          "output_type": "stream",
          "name": "stdout",
          "text": [
            "Train Epoch: 4 [68000/80000 (85%)]\tLoss: 0.452513\n"
          ]
        },
        {
          "output_type": "stream",
          "name": "stderr",
          "text": [
            "Epoch 4:  86%|████████▋ | 691/800 [01:14<00:11,  9.22batch/s, loss=0.397]"
          ]
        },
        {
          "output_type": "stream",
          "name": "stdout",
          "text": [
            "Train Epoch: 4 [69000/80000 (86%)]\tLoss: 0.471964\n"
          ]
        },
        {
          "output_type": "stream",
          "name": "stderr",
          "text": [
            "Epoch 4:  88%|████████▊ | 701/800 [01:15<00:10,  9.31batch/s, loss=0.452]"
          ]
        },
        {
          "output_type": "stream",
          "name": "stdout",
          "text": [
            "Train Epoch: 4 [70000/80000 (88%)]\tLoss: 0.382239\n"
          ]
        },
        {
          "output_type": "stream",
          "name": "stderr",
          "text": [
            "Epoch 4:  89%|████████▉ | 711/800 [01:16<00:09,  9.26batch/s, loss=0.433]"
          ]
        },
        {
          "output_type": "stream",
          "name": "stdout",
          "text": [
            "Train Epoch: 4 [71000/80000 (89%)]\tLoss: 0.473164\n"
          ]
        },
        {
          "output_type": "stream",
          "name": "stderr",
          "text": [
            "Epoch 4:  90%|█████████ | 721/800 [01:17<00:08,  9.38batch/s, loss=0.495]"
          ]
        },
        {
          "output_type": "stream",
          "name": "stdout",
          "text": [
            "Train Epoch: 4 [72000/80000 (90%)]\tLoss: 0.455757\n"
          ]
        },
        {
          "output_type": "stream",
          "name": "stderr",
          "text": [
            "Epoch 4:  91%|█████████▏| 731/800 [01:18<00:07,  9.33batch/s, loss=0.478]"
          ]
        },
        {
          "output_type": "stream",
          "name": "stdout",
          "text": [
            "Train Epoch: 4 [73000/80000 (91%)]\tLoss: 0.428898\n"
          ]
        },
        {
          "output_type": "stream",
          "name": "stderr",
          "text": [
            "Epoch 4:  93%|█████████▎| 741/800 [01:19<00:06,  9.30batch/s, loss=0.529]"
          ]
        },
        {
          "output_type": "stream",
          "name": "stdout",
          "text": [
            "Train Epoch: 4 [74000/80000 (92%)]\tLoss: 0.439925\n"
          ]
        },
        {
          "output_type": "stream",
          "name": "stderr",
          "text": [
            "Epoch 4:  94%|█████████▍| 751/800 [01:20<00:05,  9.29batch/s, loss=0.416]"
          ]
        },
        {
          "output_type": "stream",
          "name": "stdout",
          "text": [
            "Train Epoch: 4 [75000/80000 (94%)]\tLoss: 0.453069\n"
          ]
        },
        {
          "output_type": "stream",
          "name": "stderr",
          "text": [
            "Epoch 4:  95%|█████████▌| 761/800 [01:21<00:04,  9.28batch/s, loss=0.471]"
          ]
        },
        {
          "output_type": "stream",
          "name": "stdout",
          "text": [
            "Train Epoch: 4 [76000/80000 (95%)]\tLoss: 0.504313\n"
          ]
        },
        {
          "output_type": "stream",
          "name": "stderr",
          "text": [
            "Epoch 4:  96%|█████████▋| 771/800 [01:23<00:03,  9.29batch/s, loss=0.48] "
          ]
        },
        {
          "output_type": "stream",
          "name": "stdout",
          "text": [
            "Train Epoch: 4 [77000/80000 (96%)]\tLoss: 0.458531\n"
          ]
        },
        {
          "output_type": "stream",
          "name": "stderr",
          "text": [
            "Epoch 4:  98%|█████████▊| 781/800 [01:24<00:02,  9.30batch/s, loss=0.55] "
          ]
        },
        {
          "output_type": "stream",
          "name": "stdout",
          "text": [
            "Train Epoch: 4 [78000/80000 (98%)]\tLoss: 0.388770\n"
          ]
        },
        {
          "output_type": "stream",
          "name": "stderr",
          "text": [
            "Epoch 4:  99%|█████████▉| 791/800 [01:25<00:00,  9.28batch/s, loss=0.534]"
          ]
        },
        {
          "output_type": "stream",
          "name": "stdout",
          "text": [
            "Train Epoch: 4 [79000/80000 (99%)]\tLoss: 0.423057\n"
          ]
        },
        {
          "output_type": "stream",
          "name": "stderr",
          "text": [
            "Epoch 4: 100%|██████████| 800/800 [01:26<00:00,  9.28batch/s, loss=0.412]\n"
          ]
        },
        {
          "output_type": "stream",
          "name": "stdout",
          "text": [
            "\n",
            "Test set: Average loss: 0.4496, Accuracy: 15879/20000 (79.395%)\n",
            "\n"
          ]
        },
        {
          "output_type": "stream",
          "name": "stderr",
          "text": [
            "Epoch 5:   0%|          | 1/800 [00:00<01:29,  8.94batch/s, loss=0.417]"
          ]
        },
        {
          "output_type": "stream",
          "name": "stdout",
          "text": [
            "Train Epoch: 5 [0/80000 (0%)]\tLoss: 0.478163\n"
          ]
        },
        {
          "output_type": "stream",
          "name": "stderr",
          "text": [
            "Epoch 5:   1%|▏         | 11/800 [00:01<01:25,  9.27batch/s, loss=0.468]"
          ]
        },
        {
          "output_type": "stream",
          "name": "stdout",
          "text": [
            "Train Epoch: 5 [1000/80000 (1%)]\tLoss: 0.344071\n"
          ]
        },
        {
          "output_type": "stream",
          "name": "stderr",
          "text": [
            "Epoch 5:   3%|▎         | 21/800 [00:02<01:23,  9.31batch/s, loss=0.343]"
          ]
        },
        {
          "output_type": "stream",
          "name": "stdout",
          "text": [
            "Train Epoch: 5 [2000/80000 (2%)]\tLoss: 0.440599\n"
          ]
        },
        {
          "output_type": "stream",
          "name": "stderr",
          "text": [
            "Epoch 5:   4%|▍         | 31/800 [00:03<01:22,  9.28batch/s, loss=0.474]"
          ]
        },
        {
          "output_type": "stream",
          "name": "stdout",
          "text": [
            "Train Epoch: 5 [3000/80000 (4%)]\tLoss: 0.530558\n"
          ]
        },
        {
          "output_type": "stream",
          "name": "stderr",
          "text": [
            "Epoch 5:   5%|▌         | 41/800 [00:04<01:21,  9.33batch/s, loss=0.372]"
          ]
        },
        {
          "output_type": "stream",
          "name": "stdout",
          "text": [
            "Train Epoch: 5 [4000/80000 (5%)]\tLoss: 0.459551\n"
          ]
        },
        {
          "output_type": "stream",
          "name": "stderr",
          "text": [
            "Epoch 5:   6%|▋         | 51/800 [00:05<01:20,  9.32batch/s, loss=0.393]"
          ]
        },
        {
          "output_type": "stream",
          "name": "stdout",
          "text": [
            "Train Epoch: 5 [5000/80000 (6%)]\tLoss: 0.477716\n"
          ]
        },
        {
          "output_type": "stream",
          "name": "stderr",
          "text": [
            "Epoch 5:   8%|▊         | 61/800 [00:06<01:19,  9.32batch/s, loss=0.446]"
          ]
        },
        {
          "output_type": "stream",
          "name": "stdout",
          "text": [
            "Train Epoch: 5 [6000/80000 (8%)]\tLoss: 0.506439\n"
          ]
        },
        {
          "output_type": "stream",
          "name": "stderr",
          "text": [
            "Epoch 5:   9%|▉         | 71/800 [00:07<01:18,  9.31batch/s, loss=0.39] "
          ]
        },
        {
          "output_type": "stream",
          "name": "stdout",
          "text": [
            "Train Epoch: 5 [7000/80000 (9%)]\tLoss: 0.503637\n"
          ]
        },
        {
          "output_type": "stream",
          "name": "stderr",
          "text": [
            "Epoch 5:  10%|█         | 81/800 [00:08<01:17,  9.29batch/s, loss=0.421]"
          ]
        },
        {
          "output_type": "stream",
          "name": "stdout",
          "text": [
            "Train Epoch: 5 [8000/80000 (10%)]\tLoss: 0.439247\n"
          ]
        },
        {
          "output_type": "stream",
          "name": "stderr",
          "text": [
            "Epoch 5:  11%|█▏        | 91/800 [00:09<01:16,  9.25batch/s, loss=0.469]"
          ]
        },
        {
          "output_type": "stream",
          "name": "stdout",
          "text": [
            "Train Epoch: 5 [9000/80000 (11%)]\tLoss: 0.499670\n"
          ]
        },
        {
          "output_type": "stream",
          "name": "stderr",
          "text": [
            "Epoch 5:  13%|█▎        | 101/800 [00:10<01:14,  9.33batch/s, loss=0.512]"
          ]
        },
        {
          "output_type": "stream",
          "name": "stdout",
          "text": [
            "Train Epoch: 5 [10000/80000 (12%)]\tLoss: 0.380674\n"
          ]
        },
        {
          "output_type": "stream",
          "name": "stderr",
          "text": [
            "Epoch 5:  14%|█▍        | 111/800 [00:11<01:14,  9.28batch/s, loss=0.474]"
          ]
        },
        {
          "output_type": "stream",
          "name": "stdout",
          "text": [
            "Train Epoch: 5 [11000/80000 (14%)]\tLoss: 0.518035\n"
          ]
        },
        {
          "output_type": "stream",
          "name": "stderr",
          "text": [
            "Epoch 5:  15%|█▌        | 121/800 [00:13<01:12,  9.30batch/s, loss=0.484]"
          ]
        },
        {
          "output_type": "stream",
          "name": "stdout",
          "text": [
            "Train Epoch: 5 [12000/80000 (15%)]\tLoss: 0.454279\n"
          ]
        },
        {
          "output_type": "stream",
          "name": "stderr",
          "text": [
            "Epoch 5:  16%|█▋        | 131/800 [00:14<01:12,  9.26batch/s, loss=0.366]"
          ]
        },
        {
          "output_type": "stream",
          "name": "stdout",
          "text": [
            "Train Epoch: 5 [13000/80000 (16%)]\tLoss: 0.441497\n"
          ]
        },
        {
          "output_type": "stream",
          "name": "stderr",
          "text": [
            "Epoch 5:  18%|█▊        | 141/800 [00:15<01:11,  9.27batch/s, loss=0.493]"
          ]
        },
        {
          "output_type": "stream",
          "name": "stdout",
          "text": [
            "Train Epoch: 5 [14000/80000 (18%)]\tLoss: 0.388087\n"
          ]
        },
        {
          "output_type": "stream",
          "name": "stderr",
          "text": [
            "Epoch 5:  19%|█▉        | 151/800 [00:16<01:09,  9.29batch/s, loss=0.398]"
          ]
        },
        {
          "output_type": "stream",
          "name": "stdout",
          "text": [
            "Train Epoch: 5 [15000/80000 (19%)]\tLoss: 0.467724\n"
          ]
        },
        {
          "output_type": "stream",
          "name": "stderr",
          "text": [
            "Epoch 5:  20%|██        | 161/800 [00:17<01:08,  9.31batch/s, loss=0.442]"
          ]
        },
        {
          "output_type": "stream",
          "name": "stdout",
          "text": [
            "Train Epoch: 5 [16000/80000 (20%)]\tLoss: 0.466908\n"
          ]
        },
        {
          "output_type": "stream",
          "name": "stderr",
          "text": [
            "Epoch 5:  21%|██▏       | 171/800 [00:18<01:07,  9.28batch/s, loss=0.427]"
          ]
        },
        {
          "output_type": "stream",
          "name": "stdout",
          "text": [
            "Train Epoch: 5 [17000/80000 (21%)]\tLoss: 0.395841\n"
          ]
        },
        {
          "output_type": "stream",
          "name": "stderr",
          "text": [
            "Epoch 5:  23%|██▎       | 181/800 [00:19<01:07,  9.22batch/s, loss=0.544]"
          ]
        },
        {
          "output_type": "stream",
          "name": "stdout",
          "text": [
            "Train Epoch: 5 [18000/80000 (22%)]\tLoss: 0.482027\n"
          ]
        },
        {
          "output_type": "stream",
          "name": "stderr",
          "text": [
            "Epoch 5:  24%|██▍       | 191/800 [00:20<01:05,  9.27batch/s, loss=0.368]"
          ]
        },
        {
          "output_type": "stream",
          "name": "stdout",
          "text": [
            "Train Epoch: 5 [19000/80000 (24%)]\tLoss: 0.493425\n"
          ]
        },
        {
          "output_type": "stream",
          "name": "stderr",
          "text": [
            "Epoch 5:  25%|██▌       | 201/800 [00:21<01:04,  9.25batch/s, loss=0.415]"
          ]
        },
        {
          "output_type": "stream",
          "name": "stdout",
          "text": [
            "Train Epoch: 5 [20000/80000 (25%)]\tLoss: 0.399343\n"
          ]
        },
        {
          "output_type": "stream",
          "name": "stderr",
          "text": [
            "Epoch 5:  26%|██▋       | 211/800 [00:22<01:03,  9.31batch/s, loss=0.451]"
          ]
        },
        {
          "output_type": "stream",
          "name": "stdout",
          "text": [
            "Train Epoch: 5 [21000/80000 (26%)]\tLoss: 0.421138\n"
          ]
        },
        {
          "output_type": "stream",
          "name": "stderr",
          "text": [
            "Epoch 5:  28%|██▊       | 221/800 [00:23<01:02,  9.31batch/s, loss=0.505]"
          ]
        },
        {
          "output_type": "stream",
          "name": "stdout",
          "text": [
            "Train Epoch: 5 [22000/80000 (28%)]\tLoss: 0.395324\n"
          ]
        },
        {
          "output_type": "stream",
          "name": "stderr",
          "text": [
            "Epoch 5:  29%|██▉       | 231/800 [00:24<01:01,  9.31batch/s, loss=0.536]"
          ]
        },
        {
          "output_type": "stream",
          "name": "stdout",
          "text": [
            "Train Epoch: 5 [23000/80000 (29%)]\tLoss: 0.473512\n"
          ]
        },
        {
          "output_type": "stream",
          "name": "stderr",
          "text": [
            "Epoch 5:  30%|███       | 241/800 [00:25<01:00,  9.28batch/s, loss=0.543]"
          ]
        },
        {
          "output_type": "stream",
          "name": "stdout",
          "text": [
            "Train Epoch: 5 [24000/80000 (30%)]\tLoss: 0.421510\n"
          ]
        },
        {
          "output_type": "stream",
          "name": "stderr",
          "text": [
            "Epoch 5:  31%|███▏      | 251/800 [00:27<00:58,  9.31batch/s, loss=0.493]"
          ]
        },
        {
          "output_type": "stream",
          "name": "stdout",
          "text": [
            "Train Epoch: 5 [25000/80000 (31%)]\tLoss: 0.393427\n"
          ]
        },
        {
          "output_type": "stream",
          "name": "stderr",
          "text": [
            "Epoch 5:  33%|███▎      | 261/800 [00:28<00:57,  9.32batch/s, loss=0.478]"
          ]
        },
        {
          "output_type": "stream",
          "name": "stdout",
          "text": [
            "Train Epoch: 5 [26000/80000 (32%)]\tLoss: 0.497314\n"
          ]
        },
        {
          "output_type": "stream",
          "name": "stderr",
          "text": [
            "Epoch 5:  34%|███▍      | 271/800 [00:29<00:56,  9.28batch/s, loss=0.507]"
          ]
        },
        {
          "output_type": "stream",
          "name": "stdout",
          "text": [
            "Train Epoch: 5 [27000/80000 (34%)]\tLoss: 0.396614\n"
          ]
        },
        {
          "output_type": "stream",
          "name": "stderr",
          "text": [
            "Epoch 5:  35%|███▌      | 281/800 [00:30<00:55,  9.29batch/s, loss=0.541]"
          ]
        },
        {
          "output_type": "stream",
          "name": "stdout",
          "text": [
            "Train Epoch: 5 [28000/80000 (35%)]\tLoss: 0.479648\n"
          ]
        },
        {
          "output_type": "stream",
          "name": "stderr",
          "text": [
            "Epoch 5:  36%|███▋      | 291/800 [00:31<00:54,  9.27batch/s, loss=0.535]"
          ]
        },
        {
          "output_type": "stream",
          "name": "stdout",
          "text": [
            "Train Epoch: 5 [29000/80000 (36%)]\tLoss: 0.425942\n"
          ]
        },
        {
          "output_type": "stream",
          "name": "stderr",
          "text": [
            "Epoch 5:  38%|███▊      | 301/800 [00:32<00:53,  9.36batch/s, loss=0.552]"
          ]
        },
        {
          "output_type": "stream",
          "name": "stdout",
          "text": [
            "Train Epoch: 5 [30000/80000 (38%)]\tLoss: 0.498888\n"
          ]
        },
        {
          "output_type": "stream",
          "name": "stderr",
          "text": [
            "Epoch 5:  39%|███▉      | 311/800 [00:33<00:52,  9.32batch/s, loss=0.415]"
          ]
        },
        {
          "output_type": "stream",
          "name": "stdout",
          "text": [
            "Train Epoch: 5 [31000/80000 (39%)]\tLoss: 0.408689\n"
          ]
        },
        {
          "output_type": "stream",
          "name": "stderr",
          "text": [
            "Epoch 5:  40%|████      | 321/800 [00:34<00:51,  9.32batch/s, loss=0.416]"
          ]
        },
        {
          "output_type": "stream",
          "name": "stdout",
          "text": [
            "Train Epoch: 5 [32000/80000 (40%)]\tLoss: 0.485020\n"
          ]
        },
        {
          "output_type": "stream",
          "name": "stderr",
          "text": [
            "Epoch 5:  41%|████▏     | 331/800 [00:35<00:50,  9.27batch/s, loss=0.362]"
          ]
        },
        {
          "output_type": "stream",
          "name": "stdout",
          "text": [
            "Train Epoch: 5 [33000/80000 (41%)]\tLoss: 0.415669\n"
          ]
        },
        {
          "output_type": "stream",
          "name": "stderr",
          "text": [
            "Epoch 5:  43%|████▎     | 341/800 [00:36<00:49,  9.31batch/s, loss=0.485]"
          ]
        },
        {
          "output_type": "stream",
          "name": "stdout",
          "text": [
            "Train Epoch: 5 [34000/80000 (42%)]\tLoss: 0.441505\n"
          ]
        },
        {
          "output_type": "stream",
          "name": "stderr",
          "text": [
            "Epoch 5:  44%|████▍     | 351/800 [00:37<00:48,  9.29batch/s, loss=0.417]"
          ]
        },
        {
          "output_type": "stream",
          "name": "stdout",
          "text": [
            "Train Epoch: 5 [35000/80000 (44%)]\tLoss: 0.378820\n"
          ]
        },
        {
          "output_type": "stream",
          "name": "stderr",
          "text": [
            "Epoch 5:  45%|████▌     | 361/800 [00:38<00:47,  9.28batch/s, loss=0.447]"
          ]
        },
        {
          "output_type": "stream",
          "name": "stdout",
          "text": [
            "Train Epoch: 5 [36000/80000 (45%)]\tLoss: 0.419408\n"
          ]
        },
        {
          "output_type": "stream",
          "name": "stderr",
          "text": [
            "Epoch 5:  46%|████▋     | 371/800 [00:39<00:46,  9.30batch/s, loss=0.46] "
          ]
        },
        {
          "output_type": "stream",
          "name": "stdout",
          "text": [
            "Train Epoch: 5 [37000/80000 (46%)]\tLoss: 0.482721\n"
          ]
        },
        {
          "output_type": "stream",
          "name": "stderr",
          "text": [
            "Epoch 5:  48%|████▊     | 381/800 [00:40<00:45,  9.30batch/s, loss=0.425]"
          ]
        },
        {
          "output_type": "stream",
          "name": "stdout",
          "text": [
            "Train Epoch: 5 [38000/80000 (48%)]\tLoss: 0.402593\n"
          ]
        },
        {
          "output_type": "stream",
          "name": "stderr",
          "text": [
            "Epoch 5:  49%|████▉     | 391/800 [00:42<00:44,  9.24batch/s, loss=0.443]"
          ]
        },
        {
          "output_type": "stream",
          "name": "stdout",
          "text": [
            "Train Epoch: 5 [39000/80000 (49%)]\tLoss: 0.544813\n"
          ]
        },
        {
          "output_type": "stream",
          "name": "stderr",
          "text": [
            "Epoch 5:  50%|█████     | 401/800 [00:43<00:42,  9.29batch/s, loss=0.433]"
          ]
        },
        {
          "output_type": "stream",
          "name": "stdout",
          "text": [
            "Train Epoch: 5 [40000/80000 (50%)]\tLoss: 0.421167\n"
          ]
        },
        {
          "output_type": "stream",
          "name": "stderr",
          "text": [
            "Epoch 5:  51%|█████▏    | 411/800 [00:44<00:41,  9.30batch/s, loss=0.437]"
          ]
        },
        {
          "output_type": "stream",
          "name": "stdout",
          "text": [
            "Train Epoch: 5 [41000/80000 (51%)]\tLoss: 0.472415\n"
          ]
        },
        {
          "output_type": "stream",
          "name": "stderr",
          "text": [
            "Epoch 5:  53%|█████▎    | 421/800 [00:45<00:40,  9.31batch/s, loss=0.464]"
          ]
        },
        {
          "output_type": "stream",
          "name": "stdout",
          "text": [
            "Train Epoch: 5 [42000/80000 (52%)]\tLoss: 0.361467\n"
          ]
        },
        {
          "output_type": "stream",
          "name": "stderr",
          "text": [
            "Epoch 5:  54%|█████▍    | 431/800 [00:46<00:39,  9.31batch/s, loss=0.468]"
          ]
        },
        {
          "output_type": "stream",
          "name": "stdout",
          "text": [
            "Train Epoch: 5 [43000/80000 (54%)]\tLoss: 0.448868\n"
          ]
        },
        {
          "output_type": "stream",
          "name": "stderr",
          "text": [
            "Epoch 5:  55%|█████▌    | 441/800 [00:47<00:38,  9.27batch/s, loss=0.447]"
          ]
        },
        {
          "output_type": "stream",
          "name": "stdout",
          "text": [
            "Train Epoch: 5 [44000/80000 (55%)]\tLoss: 0.477502\n"
          ]
        },
        {
          "output_type": "stream",
          "name": "stderr",
          "text": [
            "Epoch 5:  56%|█████▋    | 451/800 [00:48<00:37,  9.30batch/s, loss=0.465]"
          ]
        },
        {
          "output_type": "stream",
          "name": "stdout",
          "text": [
            "Train Epoch: 5 [45000/80000 (56%)]\tLoss: 0.309010\n"
          ]
        },
        {
          "output_type": "stream",
          "name": "stderr",
          "text": [
            "Epoch 5:  58%|█████▊    | 461/800 [00:49<00:36,  9.22batch/s, loss=0.348]"
          ]
        },
        {
          "output_type": "stream",
          "name": "stdout",
          "text": [
            "Train Epoch: 5 [46000/80000 (58%)]\tLoss: 0.462184\n"
          ]
        },
        {
          "output_type": "stream",
          "name": "stderr",
          "text": [
            "Epoch 5:  59%|█████▉    | 471/800 [00:50<00:35,  9.20batch/s, loss=0.598]"
          ]
        },
        {
          "output_type": "stream",
          "name": "stdout",
          "text": [
            "Train Epoch: 5 [47000/80000 (59%)]\tLoss: 0.579857\n"
          ]
        },
        {
          "output_type": "stream",
          "name": "stderr",
          "text": [
            "Epoch 5:  60%|██████    | 481/800 [00:51<00:34,  9.25batch/s, loss=0.432]"
          ]
        },
        {
          "output_type": "stream",
          "name": "stdout",
          "text": [
            "Train Epoch: 5 [48000/80000 (60%)]\tLoss: 0.432920\n"
          ]
        },
        {
          "output_type": "stream",
          "name": "stderr",
          "text": [
            "Epoch 5:  61%|██████▏   | 491/800 [00:52<00:33,  9.26batch/s, loss=0.46] "
          ]
        },
        {
          "output_type": "stream",
          "name": "stdout",
          "text": [
            "Train Epoch: 5 [49000/80000 (61%)]\tLoss: 0.406173\n"
          ]
        },
        {
          "output_type": "stream",
          "name": "stderr",
          "text": [
            "Epoch 5:  63%|██████▎   | 501/800 [00:53<00:32,  9.26batch/s, loss=0.421]"
          ]
        },
        {
          "output_type": "stream",
          "name": "stdout",
          "text": [
            "Train Epoch: 5 [50000/80000 (62%)]\tLoss: 0.404303\n"
          ]
        },
        {
          "output_type": "stream",
          "name": "stderr",
          "text": [
            "Epoch 5:  64%|██████▍   | 511/800 [00:54<00:31,  9.30batch/s, loss=0.444]"
          ]
        },
        {
          "output_type": "stream",
          "name": "stdout",
          "text": [
            "Train Epoch: 5 [51000/80000 (64%)]\tLoss: 0.498617\n"
          ]
        },
        {
          "output_type": "stream",
          "name": "stderr",
          "text": [
            "Epoch 5:  65%|██████▌   | 521/800 [00:56<00:29,  9.30batch/s, loss=0.536]"
          ]
        },
        {
          "output_type": "stream",
          "name": "stdout",
          "text": [
            "Train Epoch: 5 [52000/80000 (65%)]\tLoss: 0.330471\n"
          ]
        },
        {
          "output_type": "stream",
          "name": "stderr",
          "text": [
            "Epoch 5:  66%|██████▋   | 531/800 [00:57<00:29,  9.24batch/s, loss=0.44] "
          ]
        },
        {
          "output_type": "stream",
          "name": "stdout",
          "text": [
            "Train Epoch: 5 [53000/80000 (66%)]\tLoss: 0.416940\n"
          ]
        },
        {
          "output_type": "stream",
          "name": "stderr",
          "text": [
            "Epoch 5:  68%|██████▊   | 541/800 [00:58<00:27,  9.31batch/s, loss=0.388]"
          ]
        },
        {
          "output_type": "stream",
          "name": "stdout",
          "text": [
            "Train Epoch: 5 [54000/80000 (68%)]\tLoss: 0.469620\n"
          ]
        },
        {
          "output_type": "stream",
          "name": "stderr",
          "text": [
            "Epoch 5:  69%|██████▉   | 551/800 [00:59<00:26,  9.27batch/s, loss=0.499]"
          ]
        },
        {
          "output_type": "stream",
          "name": "stdout",
          "text": [
            "Train Epoch: 5 [55000/80000 (69%)]\tLoss: 0.424217\n"
          ]
        },
        {
          "output_type": "stream",
          "name": "stderr",
          "text": [
            "Epoch 5:  70%|███████   | 561/800 [01:00<00:25,  9.27batch/s, loss=0.415]"
          ]
        },
        {
          "output_type": "stream",
          "name": "stdout",
          "text": [
            "Train Epoch: 5 [56000/80000 (70%)]\tLoss: 0.416901\n"
          ]
        },
        {
          "output_type": "stream",
          "name": "stderr",
          "text": [
            "Epoch 5:  71%|███████▏  | 571/800 [01:01<00:24,  9.31batch/s, loss=0.504]"
          ]
        },
        {
          "output_type": "stream",
          "name": "stdout",
          "text": [
            "Train Epoch: 5 [57000/80000 (71%)]\tLoss: 0.381134\n"
          ]
        },
        {
          "output_type": "stream",
          "name": "stderr",
          "text": [
            "Epoch 5:  73%|███████▎  | 581/800 [01:02<00:23,  9.28batch/s, loss=0.48] "
          ]
        },
        {
          "output_type": "stream",
          "name": "stdout",
          "text": [
            "Train Epoch: 5 [58000/80000 (72%)]\tLoss: 0.464142\n"
          ]
        },
        {
          "output_type": "stream",
          "name": "stderr",
          "text": [
            "Epoch 5:  74%|███████▍  | 591/800 [01:03<00:22,  9.30batch/s, loss=0.533]"
          ]
        },
        {
          "output_type": "stream",
          "name": "stdout",
          "text": [
            "Train Epoch: 5 [59000/80000 (74%)]\tLoss: 0.493772\n"
          ]
        },
        {
          "output_type": "stream",
          "name": "stderr",
          "text": [
            "Epoch 5:  75%|███████▌  | 601/800 [01:04<00:21,  9.21batch/s, loss=0.426]"
          ]
        },
        {
          "output_type": "stream",
          "name": "stdout",
          "text": [
            "Train Epoch: 5 [60000/80000 (75%)]\tLoss: 0.388192\n"
          ]
        },
        {
          "output_type": "stream",
          "name": "stderr",
          "text": [
            "Epoch 5:  76%|███████▋  | 611/800 [01:05<00:20,  9.26batch/s, loss=0.422]"
          ]
        },
        {
          "output_type": "stream",
          "name": "stdout",
          "text": [
            "Train Epoch: 5 [61000/80000 (76%)]\tLoss: 0.419668\n"
          ]
        },
        {
          "output_type": "stream",
          "name": "stderr",
          "text": [
            "Epoch 5:  78%|███████▊  | 621/800 [01:06<00:19,  9.29batch/s, loss=0.462]"
          ]
        },
        {
          "output_type": "stream",
          "name": "stdout",
          "text": [
            "Train Epoch: 5 [62000/80000 (78%)]\tLoss: 0.417905\n"
          ]
        },
        {
          "output_type": "stream",
          "name": "stderr",
          "text": [
            "Epoch 5:  79%|███████▉  | 631/800 [01:07<00:18,  9.31batch/s, loss=0.46] "
          ]
        },
        {
          "output_type": "stream",
          "name": "stdout",
          "text": [
            "Train Epoch: 5 [63000/80000 (79%)]\tLoss: 0.464470\n"
          ]
        },
        {
          "output_type": "stream",
          "name": "stderr",
          "text": [
            "Epoch 5:  80%|████████  | 641/800 [01:08<00:17,  9.25batch/s, loss=0.417]"
          ]
        },
        {
          "output_type": "stream",
          "name": "stdout",
          "text": [
            "Train Epoch: 5 [64000/80000 (80%)]\tLoss: 0.517168\n"
          ]
        },
        {
          "output_type": "stream",
          "name": "stderr",
          "text": [
            "Epoch 5:  81%|████████▏ | 651/800 [01:10<00:16,  9.21batch/s, loss=0.477]"
          ]
        },
        {
          "output_type": "stream",
          "name": "stdout",
          "text": [
            "Train Epoch: 5 [65000/80000 (81%)]\tLoss: 0.394818\n"
          ]
        },
        {
          "output_type": "stream",
          "name": "stderr",
          "text": [
            "Epoch 5:  83%|████████▎ | 661/800 [01:11<00:14,  9.29batch/s, loss=0.482]"
          ]
        },
        {
          "output_type": "stream",
          "name": "stdout",
          "text": [
            "Train Epoch: 5 [66000/80000 (82%)]\tLoss: 0.414417\n"
          ]
        },
        {
          "output_type": "stream",
          "name": "stderr",
          "text": [
            "Epoch 5:  84%|████████▍ | 671/800 [01:12<00:13,  9.30batch/s, loss=0.398]"
          ]
        },
        {
          "output_type": "stream",
          "name": "stdout",
          "text": [
            "Train Epoch: 5 [67000/80000 (84%)]\tLoss: 0.596289\n"
          ]
        },
        {
          "output_type": "stream",
          "name": "stderr",
          "text": [
            "Epoch 5:  85%|████████▌ | 681/800 [01:13<00:12,  9.29batch/s, loss=0.455]"
          ]
        },
        {
          "output_type": "stream",
          "name": "stdout",
          "text": [
            "Train Epoch: 5 [68000/80000 (85%)]\tLoss: 0.517871\n"
          ]
        },
        {
          "output_type": "stream",
          "name": "stderr",
          "text": [
            "Epoch 5:  86%|████████▋ | 691/800 [01:14<00:11,  9.28batch/s, loss=0.475]"
          ]
        },
        {
          "output_type": "stream",
          "name": "stdout",
          "text": [
            "Train Epoch: 5 [69000/80000 (86%)]\tLoss: 0.417640\n"
          ]
        },
        {
          "output_type": "stream",
          "name": "stderr",
          "text": [
            "Epoch 5:  88%|████████▊ | 701/800 [01:15<00:10,  9.30batch/s, loss=0.457]"
          ]
        },
        {
          "output_type": "stream",
          "name": "stdout",
          "text": [
            "Train Epoch: 5 [70000/80000 (88%)]\tLoss: 0.478590\n"
          ]
        },
        {
          "output_type": "stream",
          "name": "stderr",
          "text": [
            "Epoch 5:  89%|████████▉ | 711/800 [01:16<00:09,  9.30batch/s, loss=0.421]"
          ]
        },
        {
          "output_type": "stream",
          "name": "stdout",
          "text": [
            "Train Epoch: 5 [71000/80000 (89%)]\tLoss: 0.440616\n"
          ]
        },
        {
          "output_type": "stream",
          "name": "stderr",
          "text": [
            "Epoch 5:  90%|█████████ | 721/800 [01:17<00:08,  9.31batch/s, loss=0.466]"
          ]
        },
        {
          "output_type": "stream",
          "name": "stdout",
          "text": [
            "Train Epoch: 5 [72000/80000 (90%)]\tLoss: 0.470784\n"
          ]
        },
        {
          "output_type": "stream",
          "name": "stderr",
          "text": [
            "Epoch 5:  91%|█████████▏| 731/800 [01:18<00:07,  9.24batch/s, loss=0.435]"
          ]
        },
        {
          "output_type": "stream",
          "name": "stdout",
          "text": [
            "Train Epoch: 5 [73000/80000 (91%)]\tLoss: 0.389876\n"
          ]
        },
        {
          "output_type": "stream",
          "name": "stderr",
          "text": [
            "Epoch 5:  93%|█████████▎| 741/800 [01:19<00:06,  9.29batch/s, loss=0.467]"
          ]
        },
        {
          "output_type": "stream",
          "name": "stdout",
          "text": [
            "Train Epoch: 5 [74000/80000 (92%)]\tLoss: 0.484296\n"
          ]
        },
        {
          "output_type": "stream",
          "name": "stderr",
          "text": [
            "Epoch 5:  94%|█████████▍| 751/800 [01:20<00:05,  9.23batch/s, loss=0.474]"
          ]
        },
        {
          "output_type": "stream",
          "name": "stdout",
          "text": [
            "Train Epoch: 5 [75000/80000 (94%)]\tLoss: 0.481384\n"
          ]
        },
        {
          "output_type": "stream",
          "name": "stderr",
          "text": [
            "Epoch 5:  95%|█████████▌| 761/800 [01:21<00:04,  9.18batch/s, loss=0.493]"
          ]
        },
        {
          "output_type": "stream",
          "name": "stdout",
          "text": [
            "Train Epoch: 5 [76000/80000 (95%)]\tLoss: 0.448970\n"
          ]
        },
        {
          "output_type": "stream",
          "name": "stderr",
          "text": [
            "Epoch 5:  96%|█████████▋| 771/800 [01:22<00:03,  9.23batch/s, loss=0.551]"
          ]
        },
        {
          "output_type": "stream",
          "name": "stdout",
          "text": [
            "Train Epoch: 5 [77000/80000 (96%)]\tLoss: 0.384959\n"
          ]
        },
        {
          "output_type": "stream",
          "name": "stderr",
          "text": [
            "Epoch 5:  98%|█████████▊| 781/800 [01:24<00:02,  9.27batch/s, loss=0.481]"
          ]
        },
        {
          "output_type": "stream",
          "name": "stdout",
          "text": [
            "Train Epoch: 5 [78000/80000 (98%)]\tLoss: 0.496392\n"
          ]
        },
        {
          "output_type": "stream",
          "name": "stderr",
          "text": [
            "Epoch 5:  99%|█████████▉| 791/800 [01:25<00:00,  9.19batch/s, loss=0.458]"
          ]
        },
        {
          "output_type": "stream",
          "name": "stdout",
          "text": [
            "Train Epoch: 5 [79000/80000 (99%)]\tLoss: 0.499898\n"
          ]
        },
        {
          "output_type": "stream",
          "name": "stderr",
          "text": [
            "Epoch 5: 100%|██████████| 800/800 [01:26<00:00,  9.29batch/s, loss=0.453]\n"
          ]
        },
        {
          "output_type": "stream",
          "name": "stdout",
          "text": [
            "\n",
            "Test set: Average loss: 0.4483, Accuracy: 15928/20000 (79.640%)\n",
            "\n"
          ]
        },
        {
          "output_type": "stream",
          "name": "stderr",
          "text": [
            "Epoch 6:   0%|          | 1/800 [00:00<01:34,  8.49batch/s, loss=0.412]"
          ]
        },
        {
          "output_type": "stream",
          "name": "stdout",
          "text": [
            "Train Epoch: 6 [0/80000 (0%)]\tLoss: 0.423182\n"
          ]
        },
        {
          "output_type": "stream",
          "name": "stderr",
          "text": [
            "Epoch 6:   1%|▏         | 11/800 [00:01<01:25,  9.27batch/s, loss=0.468]"
          ]
        },
        {
          "output_type": "stream",
          "name": "stdout",
          "text": [
            "Train Epoch: 6 [1000/80000 (1%)]\tLoss: 0.488049\n"
          ]
        },
        {
          "output_type": "stream",
          "name": "stderr",
          "text": [
            "Epoch 6:   3%|▎         | 21/800 [00:02<01:24,  9.23batch/s, loss=0.47] "
          ]
        },
        {
          "output_type": "stream",
          "name": "stdout",
          "text": [
            "Train Epoch: 6 [2000/80000 (2%)]\tLoss: 0.452880\n"
          ]
        },
        {
          "output_type": "stream",
          "name": "stderr",
          "text": [
            "Epoch 6:   4%|▍         | 31/800 [00:03<01:22,  9.27batch/s, loss=0.403]"
          ]
        },
        {
          "output_type": "stream",
          "name": "stdout",
          "text": [
            "Train Epoch: 6 [3000/80000 (4%)]\tLoss: 0.436099\n"
          ]
        },
        {
          "output_type": "stream",
          "name": "stderr",
          "text": [
            "Epoch 6:   5%|▌         | 41/800 [00:04<01:21,  9.28batch/s, loss=0.417]"
          ]
        },
        {
          "output_type": "stream",
          "name": "stdout",
          "text": [
            "Train Epoch: 6 [4000/80000 (5%)]\tLoss: 0.538407\n"
          ]
        },
        {
          "output_type": "stream",
          "name": "stderr",
          "text": [
            "Epoch 6:   6%|▋         | 51/800 [00:05<01:20,  9.31batch/s, loss=0.369]"
          ]
        },
        {
          "output_type": "stream",
          "name": "stdout",
          "text": [
            "Train Epoch: 6 [5000/80000 (6%)]\tLoss: 0.530868\n"
          ]
        },
        {
          "output_type": "stream",
          "name": "stderr",
          "text": [
            "Epoch 6:   8%|▊         | 61/800 [00:06<01:20,  9.19batch/s, loss=0.431]"
          ]
        },
        {
          "output_type": "stream",
          "name": "stdout",
          "text": [
            "Train Epoch: 6 [6000/80000 (8%)]\tLoss: 0.369550\n"
          ]
        },
        {
          "output_type": "stream",
          "name": "stderr",
          "text": [
            "Epoch 6:   9%|▉         | 71/800 [00:07<01:18,  9.25batch/s, loss=0.465]"
          ]
        },
        {
          "output_type": "stream",
          "name": "stdout",
          "text": [
            "Train Epoch: 6 [7000/80000 (9%)]\tLoss: 0.402319\n"
          ]
        },
        {
          "output_type": "stream",
          "name": "stderr",
          "text": [
            "Epoch 6:  10%|█         | 81/800 [00:08<01:17,  9.24batch/s, loss=0.42] "
          ]
        },
        {
          "output_type": "stream",
          "name": "stdout",
          "text": [
            "Train Epoch: 6 [8000/80000 (10%)]\tLoss: 0.517037\n"
          ]
        },
        {
          "output_type": "stream",
          "name": "stderr",
          "text": [
            "Epoch 6:  11%|█▏        | 91/800 [00:09<01:16,  9.29batch/s, loss=0.585]"
          ]
        },
        {
          "output_type": "stream",
          "name": "stdout",
          "text": [
            "Train Epoch: 6 [9000/80000 (11%)]\tLoss: 0.543744\n"
          ]
        },
        {
          "output_type": "stream",
          "name": "stderr",
          "text": [
            "Epoch 6:  13%|█▎        | 101/800 [00:10<01:15,  9.30batch/s, loss=0.454]"
          ]
        },
        {
          "output_type": "stream",
          "name": "stdout",
          "text": [
            "Train Epoch: 6 [10000/80000 (12%)]\tLoss: 0.487562\n"
          ]
        },
        {
          "output_type": "stream",
          "name": "stderr",
          "text": [
            "Epoch 6:  14%|█▍        | 111/800 [00:11<01:14,  9.29batch/s, loss=0.445]"
          ]
        },
        {
          "output_type": "stream",
          "name": "stdout",
          "text": [
            "Train Epoch: 6 [11000/80000 (14%)]\tLoss: 0.407285\n"
          ]
        },
        {
          "output_type": "stream",
          "name": "stderr",
          "text": [
            "Epoch 6:  15%|█▌        | 121/800 [00:13<01:12,  9.32batch/s, loss=0.446]"
          ]
        },
        {
          "output_type": "stream",
          "name": "stdout",
          "text": [
            "Train Epoch: 6 [12000/80000 (15%)]\tLoss: 0.426108\n"
          ]
        },
        {
          "output_type": "stream",
          "name": "stderr",
          "text": [
            "Epoch 6:  16%|█▋        | 131/800 [00:14<01:11,  9.30batch/s, loss=0.399]"
          ]
        },
        {
          "output_type": "stream",
          "name": "stdout",
          "text": [
            "Train Epoch: 6 [13000/80000 (16%)]\tLoss: 0.471983\n"
          ]
        },
        {
          "output_type": "stream",
          "name": "stderr",
          "text": [
            "Epoch 6:  18%|█▊        | 141/800 [00:15<01:11,  9.25batch/s, loss=0.493]"
          ]
        },
        {
          "output_type": "stream",
          "name": "stdout",
          "text": [
            "Train Epoch: 6 [14000/80000 (18%)]\tLoss: 0.462265\n"
          ]
        },
        {
          "output_type": "stream",
          "name": "stderr",
          "text": [
            "Epoch 6:  19%|█▉        | 151/800 [00:16<01:09,  9.29batch/s, loss=0.447]"
          ]
        },
        {
          "output_type": "stream",
          "name": "stdout",
          "text": [
            "Train Epoch: 6 [15000/80000 (19%)]\tLoss: 0.427479\n"
          ]
        },
        {
          "output_type": "stream",
          "name": "stderr",
          "text": [
            "Epoch 6:  20%|██        | 161/800 [00:17<01:08,  9.29batch/s, loss=0.448]"
          ]
        },
        {
          "output_type": "stream",
          "name": "stdout",
          "text": [
            "Train Epoch: 6 [16000/80000 (20%)]\tLoss: 0.406367\n"
          ]
        },
        {
          "output_type": "stream",
          "name": "stderr",
          "text": [
            "Epoch 6:  21%|██▏       | 171/800 [00:18<01:07,  9.34batch/s, loss=0.49] "
          ]
        },
        {
          "output_type": "stream",
          "name": "stdout",
          "text": [
            "Train Epoch: 6 [17000/80000 (21%)]\tLoss: 0.437906\n"
          ]
        },
        {
          "output_type": "stream",
          "name": "stderr",
          "text": [
            "Epoch 6:  23%|██▎       | 181/800 [00:19<01:06,  9.28batch/s, loss=0.488]"
          ]
        },
        {
          "output_type": "stream",
          "name": "stdout",
          "text": [
            "Train Epoch: 6 [18000/80000 (22%)]\tLoss: 0.433930\n"
          ]
        },
        {
          "output_type": "stream",
          "name": "stderr",
          "text": [
            "Epoch 6:  24%|██▍       | 191/800 [00:20<01:05,  9.29batch/s, loss=0.491]"
          ]
        },
        {
          "output_type": "stream",
          "name": "stdout",
          "text": [
            "Train Epoch: 6 [19000/80000 (24%)]\tLoss: 0.452701\n"
          ]
        },
        {
          "output_type": "stream",
          "name": "stderr",
          "text": [
            "Epoch 6:  25%|██▌       | 201/800 [00:21<01:04,  9.26batch/s, loss=0.417]"
          ]
        },
        {
          "output_type": "stream",
          "name": "stdout",
          "text": [
            "Train Epoch: 6 [20000/80000 (25%)]\tLoss: 0.402125\n"
          ]
        },
        {
          "output_type": "stream",
          "name": "stderr",
          "text": [
            "Epoch 6:  26%|██▋       | 211/800 [00:22<01:03,  9.31batch/s, loss=0.491]"
          ]
        },
        {
          "output_type": "stream",
          "name": "stdout",
          "text": [
            "Train Epoch: 6 [21000/80000 (26%)]\tLoss: 0.412956\n"
          ]
        },
        {
          "output_type": "stream",
          "name": "stderr",
          "text": [
            "Epoch 6:  28%|██▊       | 221/800 [00:23<01:02,  9.27batch/s, loss=0.381]"
          ]
        },
        {
          "output_type": "stream",
          "name": "stdout",
          "text": [
            "Train Epoch: 6 [22000/80000 (28%)]\tLoss: 0.465561\n"
          ]
        },
        {
          "output_type": "stream",
          "name": "stderr",
          "text": [
            "Epoch 6:  29%|██▉       | 231/800 [00:24<01:01,  9.28batch/s, loss=0.45] "
          ]
        },
        {
          "output_type": "stream",
          "name": "stdout",
          "text": [
            "Train Epoch: 6 [23000/80000 (29%)]\tLoss: 0.483838\n"
          ]
        },
        {
          "output_type": "stream",
          "name": "stderr",
          "text": [
            "Epoch 6:  30%|███       | 241/800 [00:25<01:00,  9.30batch/s, loss=0.367]"
          ]
        },
        {
          "output_type": "stream",
          "name": "stdout",
          "text": [
            "Train Epoch: 6 [24000/80000 (30%)]\tLoss: 0.401964\n"
          ]
        },
        {
          "output_type": "stream",
          "name": "stderr",
          "text": [
            "Epoch 6:  31%|███▏      | 251/800 [00:27<00:59,  9.30batch/s, loss=0.492]"
          ]
        },
        {
          "output_type": "stream",
          "name": "stdout",
          "text": [
            "Train Epoch: 6 [25000/80000 (31%)]\tLoss: 0.523737\n"
          ]
        },
        {
          "output_type": "stream",
          "name": "stderr",
          "text": [
            "Epoch 6:  33%|███▎      | 261/800 [00:28<00:58,  9.28batch/s, loss=0.476]"
          ]
        },
        {
          "output_type": "stream",
          "name": "stdout",
          "text": [
            "Train Epoch: 6 [26000/80000 (32%)]\tLoss: 0.400388\n"
          ]
        },
        {
          "output_type": "stream",
          "name": "stderr",
          "text": [
            "Epoch 6:  34%|███▍      | 271/800 [00:29<00:56,  9.28batch/s, loss=0.438]"
          ]
        },
        {
          "output_type": "stream",
          "name": "stdout",
          "text": [
            "Train Epoch: 6 [27000/80000 (34%)]\tLoss: 0.450911\n"
          ]
        },
        {
          "output_type": "stream",
          "name": "stderr",
          "text": [
            "Epoch 6:  35%|███▌      | 281/800 [00:30<00:55,  9.28batch/s, loss=0.449]"
          ]
        },
        {
          "output_type": "stream",
          "name": "stdout",
          "text": [
            "Train Epoch: 6 [28000/80000 (35%)]\tLoss: 0.437868\n"
          ]
        },
        {
          "output_type": "stream",
          "name": "stderr",
          "text": [
            "Epoch 6:  36%|███▋      | 291/800 [00:31<00:54,  9.30batch/s, loss=0.479]"
          ]
        },
        {
          "output_type": "stream",
          "name": "stdout",
          "text": [
            "Train Epoch: 6 [29000/80000 (36%)]\tLoss: 0.505101\n"
          ]
        },
        {
          "output_type": "stream",
          "name": "stderr",
          "text": [
            "Epoch 6:  38%|███▊      | 301/800 [00:32<00:53,  9.26batch/s, loss=0.477]"
          ]
        },
        {
          "output_type": "stream",
          "name": "stdout",
          "text": [
            "Train Epoch: 6 [30000/80000 (38%)]\tLoss: 0.544830\n"
          ]
        },
        {
          "output_type": "stream",
          "name": "stderr",
          "text": [
            "Epoch 6:  39%|███▉      | 311/800 [00:33<00:52,  9.29batch/s, loss=0.41] "
          ]
        },
        {
          "output_type": "stream",
          "name": "stdout",
          "text": [
            "Train Epoch: 6 [31000/80000 (39%)]\tLoss: 0.429475\n"
          ]
        },
        {
          "output_type": "stream",
          "name": "stderr",
          "text": [
            "Epoch 6:  40%|████      | 321/800 [00:34<00:51,  9.27batch/s, loss=0.542]"
          ]
        },
        {
          "output_type": "stream",
          "name": "stdout",
          "text": [
            "Train Epoch: 6 [32000/80000 (40%)]\tLoss: 0.458141\n"
          ]
        },
        {
          "output_type": "stream",
          "name": "stderr",
          "text": [
            "Epoch 6:  41%|████▏     | 331/800 [00:35<00:50,  9.28batch/s, loss=0.46] "
          ]
        },
        {
          "output_type": "stream",
          "name": "stdout",
          "text": [
            "Train Epoch: 6 [33000/80000 (41%)]\tLoss: 0.469402\n"
          ]
        },
        {
          "output_type": "stream",
          "name": "stderr",
          "text": [
            "Epoch 6:  43%|████▎     | 341/800 [00:36<00:49,  9.29batch/s, loss=0.423]"
          ]
        },
        {
          "output_type": "stream",
          "name": "stdout",
          "text": [
            "Train Epoch: 6 [34000/80000 (42%)]\tLoss: 0.428498\n"
          ]
        },
        {
          "output_type": "stream",
          "name": "stderr",
          "text": [
            "Epoch 6:  44%|████▍     | 351/800 [00:37<00:48,  9.32batch/s, loss=0.489]"
          ]
        },
        {
          "output_type": "stream",
          "name": "stdout",
          "text": [
            "Train Epoch: 6 [35000/80000 (44%)]\tLoss: 0.534972\n"
          ]
        },
        {
          "output_type": "stream",
          "name": "stderr",
          "text": [
            "Epoch 6:  45%|████▌     | 361/800 [00:38<00:47,  9.31batch/s, loss=0.453]"
          ]
        },
        {
          "output_type": "stream",
          "name": "stdout",
          "text": [
            "Train Epoch: 6 [36000/80000 (45%)]\tLoss: 0.409331\n"
          ]
        },
        {
          "output_type": "stream",
          "name": "stderr",
          "text": [
            "Epoch 6:  46%|████▋     | 371/800 [00:39<00:46,  9.28batch/s, loss=0.475]"
          ]
        },
        {
          "output_type": "stream",
          "name": "stdout",
          "text": [
            "Train Epoch: 6 [37000/80000 (46%)]\tLoss: 0.300119\n"
          ]
        },
        {
          "output_type": "stream",
          "name": "stderr",
          "text": [
            "Epoch 6:  48%|████▊     | 381/800 [00:41<00:45,  9.29batch/s, loss=0.456]"
          ]
        },
        {
          "output_type": "stream",
          "name": "stdout",
          "text": [
            "Train Epoch: 6 [38000/80000 (48%)]\tLoss: 0.448320\n"
          ]
        },
        {
          "output_type": "stream",
          "name": "stderr",
          "text": [
            "Epoch 6:  49%|████▉     | 391/800 [00:42<00:44,  9.27batch/s, loss=0.602]"
          ]
        },
        {
          "output_type": "stream",
          "name": "stdout",
          "text": [
            "Train Epoch: 6 [39000/80000 (49%)]\tLoss: 0.490150\n"
          ]
        },
        {
          "output_type": "stream",
          "name": "stderr",
          "text": [
            "Epoch 6:  50%|█████     | 401/800 [00:43<00:42,  9.29batch/s, loss=0.548]"
          ]
        },
        {
          "output_type": "stream",
          "name": "stdout",
          "text": [
            "Train Epoch: 6 [40000/80000 (50%)]\tLoss: 0.465722\n"
          ]
        },
        {
          "output_type": "stream",
          "name": "stderr",
          "text": [
            "Epoch 6:  51%|█████▏    | 411/800 [00:44<00:41,  9.26batch/s, loss=0.497]"
          ]
        },
        {
          "output_type": "stream",
          "name": "stdout",
          "text": [
            "Train Epoch: 6 [41000/80000 (51%)]\tLoss: 0.408430\n"
          ]
        },
        {
          "output_type": "stream",
          "name": "stderr",
          "text": [
            "Epoch 6:  53%|█████▎    | 421/800 [00:45<00:40,  9.28batch/s, loss=0.379]"
          ]
        },
        {
          "output_type": "stream",
          "name": "stdout",
          "text": [
            "Train Epoch: 6 [42000/80000 (52%)]\tLoss: 0.362293\n"
          ]
        },
        {
          "output_type": "stream",
          "name": "stderr",
          "text": [
            "Epoch 6:  54%|█████▍    | 431/800 [00:46<00:39,  9.25batch/s, loss=0.465]"
          ]
        },
        {
          "output_type": "stream",
          "name": "stdout",
          "text": [
            "Train Epoch: 6 [43000/80000 (54%)]\tLoss: 0.503714\n"
          ]
        },
        {
          "output_type": "stream",
          "name": "stderr",
          "text": [
            "Epoch 6:  55%|█████▌    | 441/800 [00:47<00:38,  9.31batch/s, loss=0.493]"
          ]
        },
        {
          "output_type": "stream",
          "name": "stdout",
          "text": [
            "Train Epoch: 6 [44000/80000 (55%)]\tLoss: 0.487174\n"
          ]
        },
        {
          "output_type": "stream",
          "name": "stderr",
          "text": [
            "Epoch 6:  56%|█████▋    | 451/800 [00:48<00:37,  9.29batch/s, loss=0.556]"
          ]
        },
        {
          "output_type": "stream",
          "name": "stdout",
          "text": [
            "Train Epoch: 6 [45000/80000 (56%)]\tLoss: 0.421169\n"
          ]
        },
        {
          "output_type": "stream",
          "name": "stderr",
          "text": [
            "Epoch 6:  58%|█████▊    | 461/800 [00:49<00:36,  9.33batch/s, loss=0.495]"
          ]
        },
        {
          "output_type": "stream",
          "name": "stdout",
          "text": [
            "Train Epoch: 6 [46000/80000 (58%)]\tLoss: 0.490851\n"
          ]
        },
        {
          "output_type": "stream",
          "name": "stderr",
          "text": [
            "Epoch 6:  59%|█████▉    | 471/800 [00:50<00:35,  9.30batch/s, loss=0.45] "
          ]
        },
        {
          "output_type": "stream",
          "name": "stdout",
          "text": [
            "Train Epoch: 6 [47000/80000 (59%)]\tLoss: 0.545229\n"
          ]
        },
        {
          "output_type": "stream",
          "name": "stderr",
          "text": [
            "Epoch 6:  60%|██████    | 481/800 [00:51<00:34,  9.30batch/s, loss=0.342]"
          ]
        },
        {
          "output_type": "stream",
          "name": "stdout",
          "text": [
            "Train Epoch: 6 [48000/80000 (60%)]\tLoss: 0.468052\n"
          ]
        },
        {
          "output_type": "stream",
          "name": "stderr",
          "text": [
            "Epoch 6:  61%|██████▏   | 491/800 [00:52<00:33,  9.31batch/s, loss=0.389]"
          ]
        },
        {
          "output_type": "stream",
          "name": "stdout",
          "text": [
            "Train Epoch: 6 [49000/80000 (61%)]\tLoss: 0.411035\n"
          ]
        },
        {
          "output_type": "stream",
          "name": "stderr",
          "text": [
            "Epoch 6:  63%|██████▎   | 501/800 [00:53<00:32,  9.30batch/s, loss=0.448]"
          ]
        },
        {
          "output_type": "stream",
          "name": "stdout",
          "text": [
            "Train Epoch: 6 [50000/80000 (62%)]\tLoss: 0.443864\n"
          ]
        },
        {
          "output_type": "stream",
          "name": "stderr",
          "text": [
            "Epoch 6:  64%|██████▍   | 511/800 [00:54<00:31,  9.28batch/s, loss=0.412]"
          ]
        },
        {
          "output_type": "stream",
          "name": "stdout",
          "text": [
            "Train Epoch: 6 [51000/80000 (64%)]\tLoss: 0.515266\n"
          ]
        },
        {
          "output_type": "stream",
          "name": "stderr",
          "text": [
            "Epoch 6:  65%|██████▌   | 521/800 [00:56<00:30,  9.27batch/s, loss=0.445]"
          ]
        },
        {
          "output_type": "stream",
          "name": "stdout",
          "text": [
            "Train Epoch: 6 [52000/80000 (65%)]\tLoss: 0.568506\n"
          ]
        },
        {
          "output_type": "stream",
          "name": "stderr",
          "text": [
            "Epoch 6:  66%|██████▋   | 531/800 [00:57<00:28,  9.28batch/s, loss=0.444]"
          ]
        },
        {
          "output_type": "stream",
          "name": "stdout",
          "text": [
            "Train Epoch: 6 [53000/80000 (66%)]\tLoss: 0.374827\n"
          ]
        },
        {
          "output_type": "stream",
          "name": "stderr",
          "text": [
            "Epoch 6:  68%|██████▊   | 541/800 [00:58<00:27,  9.30batch/s, loss=0.439]"
          ]
        },
        {
          "output_type": "stream",
          "name": "stdout",
          "text": [
            "Train Epoch: 6 [54000/80000 (68%)]\tLoss: 0.473629\n"
          ]
        },
        {
          "output_type": "stream",
          "name": "stderr",
          "text": [
            "Epoch 6:  69%|██████▉   | 551/800 [00:59<00:26,  9.27batch/s, loss=0.455]"
          ]
        },
        {
          "output_type": "stream",
          "name": "stdout",
          "text": [
            "Train Epoch: 6 [55000/80000 (69%)]\tLoss: 0.419530\n"
          ]
        },
        {
          "output_type": "stream",
          "name": "stderr",
          "text": [
            "Epoch 6:  70%|███████   | 561/800 [01:00<00:25,  9.28batch/s, loss=0.425]"
          ]
        },
        {
          "output_type": "stream",
          "name": "stdout",
          "text": [
            "Train Epoch: 6 [56000/80000 (70%)]\tLoss: 0.480659\n"
          ]
        },
        {
          "output_type": "stream",
          "name": "stderr",
          "text": [
            "Epoch 6:  71%|███████▏  | 571/800 [01:01<00:24,  9.28batch/s, loss=0.49] "
          ]
        },
        {
          "output_type": "stream",
          "name": "stdout",
          "text": [
            "Train Epoch: 6 [57000/80000 (71%)]\tLoss: 0.408296\n"
          ]
        },
        {
          "output_type": "stream",
          "name": "stderr",
          "text": [
            "Epoch 6:  73%|███████▎  | 581/800 [01:02<00:23,  9.36batch/s, loss=0.433]"
          ]
        },
        {
          "output_type": "stream",
          "name": "stdout",
          "text": [
            "Train Epoch: 6 [58000/80000 (72%)]\tLoss: 0.409669\n"
          ]
        },
        {
          "output_type": "stream",
          "name": "stderr",
          "text": [
            "Epoch 6:  74%|███████▍  | 591/800 [01:03<00:22,  9.29batch/s, loss=0.52]"
          ]
        },
        {
          "output_type": "stream",
          "name": "stdout",
          "text": [
            "Train Epoch: 6 [59000/80000 (74%)]\tLoss: 0.420353\n"
          ]
        },
        {
          "output_type": "stream",
          "name": "stderr",
          "text": [
            "Epoch 6:  75%|███████▌  | 601/800 [01:04<00:21,  9.27batch/s, loss=0.523]"
          ]
        },
        {
          "output_type": "stream",
          "name": "stdout",
          "text": [
            "Train Epoch: 6 [60000/80000 (75%)]\tLoss: 0.461060\n"
          ]
        },
        {
          "output_type": "stream",
          "name": "stderr",
          "text": [
            "Epoch 6:  76%|███████▋  | 611/800 [01:05<00:20,  9.28batch/s, loss=0.403]"
          ]
        },
        {
          "output_type": "stream",
          "name": "stdout",
          "text": [
            "Train Epoch: 6 [61000/80000 (76%)]\tLoss: 0.491314\n"
          ]
        },
        {
          "output_type": "stream",
          "name": "stderr",
          "text": [
            "Epoch 6:  78%|███████▊  | 621/800 [01:06<00:19,  9.26batch/s, loss=0.487]"
          ]
        },
        {
          "output_type": "stream",
          "name": "stdout",
          "text": [
            "Train Epoch: 6 [62000/80000 (78%)]\tLoss: 0.502172\n"
          ]
        },
        {
          "output_type": "stream",
          "name": "stderr",
          "text": [
            "Epoch 6:  79%|███████▉  | 631/800 [01:07<00:18,  9.29batch/s, loss=0.476]"
          ]
        },
        {
          "output_type": "stream",
          "name": "stdout",
          "text": [
            "Train Epoch: 6 [63000/80000 (79%)]\tLoss: 0.404820\n"
          ]
        },
        {
          "output_type": "stream",
          "name": "stderr",
          "text": [
            "Epoch 6:  80%|████████  | 641/800 [01:08<00:17,  9.29batch/s, loss=0.453]"
          ]
        },
        {
          "output_type": "stream",
          "name": "stdout",
          "text": [
            "Train Epoch: 6 [64000/80000 (80%)]\tLoss: 0.305782\n"
          ]
        },
        {
          "output_type": "stream",
          "name": "stderr",
          "text": [
            "Epoch 6:  81%|████████▏ | 651/800 [01:10<00:16,  9.31batch/s, loss=0.477]"
          ]
        },
        {
          "output_type": "stream",
          "name": "stdout",
          "text": [
            "Train Epoch: 6 [65000/80000 (81%)]\tLoss: 0.459934\n"
          ]
        },
        {
          "output_type": "stream",
          "name": "stderr",
          "text": [
            "Epoch 6:  83%|████████▎ | 661/800 [01:11<00:14,  9.29batch/s, loss=0.525]"
          ]
        },
        {
          "output_type": "stream",
          "name": "stdout",
          "text": [
            "Train Epoch: 6 [66000/80000 (82%)]\tLoss: 0.464333\n"
          ]
        },
        {
          "output_type": "stream",
          "name": "stderr",
          "text": [
            "Epoch 6:  84%|████████▍ | 671/800 [01:12<00:13,  9.32batch/s, loss=0.45] "
          ]
        },
        {
          "output_type": "stream",
          "name": "stdout",
          "text": [
            "Train Epoch: 6 [67000/80000 (84%)]\tLoss: 0.503706\n"
          ]
        },
        {
          "output_type": "stream",
          "name": "stderr",
          "text": [
            "Epoch 6:  85%|████████▌ | 681/800 [01:13<00:12,  9.28batch/s, loss=0.477]"
          ]
        },
        {
          "output_type": "stream",
          "name": "stdout",
          "text": [
            "Train Epoch: 6 [68000/80000 (85%)]\tLoss: 0.472666\n"
          ]
        },
        {
          "output_type": "stream",
          "name": "stderr",
          "text": [
            "Epoch 6:  86%|████████▋ | 691/800 [01:14<00:11,  9.31batch/s, loss=0.44] "
          ]
        },
        {
          "output_type": "stream",
          "name": "stdout",
          "text": [
            "Train Epoch: 6 [69000/80000 (86%)]\tLoss: 0.508150\n"
          ]
        },
        {
          "output_type": "stream",
          "name": "stderr",
          "text": [
            "Epoch 6:  88%|████████▊ | 701/800 [01:15<00:10,  9.29batch/s, loss=0.525]"
          ]
        },
        {
          "output_type": "stream",
          "name": "stdout",
          "text": [
            "Train Epoch: 6 [70000/80000 (88%)]\tLoss: 0.438878\n"
          ]
        },
        {
          "output_type": "stream",
          "name": "stderr",
          "text": [
            "Epoch 6:  89%|████████▉ | 711/800 [01:16<00:09,  9.25batch/s, loss=0.455]"
          ]
        },
        {
          "output_type": "stream",
          "name": "stdout",
          "text": [
            "Train Epoch: 6 [71000/80000 (89%)]\tLoss: 0.442697\n"
          ]
        },
        {
          "output_type": "stream",
          "name": "stderr",
          "text": [
            "Epoch 6:  90%|█████████ | 721/800 [01:17<00:08,  9.26batch/s, loss=0.449]"
          ]
        },
        {
          "output_type": "stream",
          "name": "stdout",
          "text": [
            "Train Epoch: 6 [72000/80000 (90%)]\tLoss: 0.376982\n"
          ]
        },
        {
          "output_type": "stream",
          "name": "stderr",
          "text": [
            "Epoch 6:  91%|█████████▏| 731/800 [01:18<00:07,  9.30batch/s, loss=0.49] "
          ]
        },
        {
          "output_type": "stream",
          "name": "stdout",
          "text": [
            "Train Epoch: 6 [73000/80000 (91%)]\tLoss: 0.491653\n"
          ]
        },
        {
          "output_type": "stream",
          "name": "stderr",
          "text": [
            "Epoch 6:  93%|█████████▎| 741/800 [01:19<00:06,  9.27batch/s, loss=0.443]"
          ]
        },
        {
          "output_type": "stream",
          "name": "stdout",
          "text": [
            "Train Epoch: 6 [74000/80000 (92%)]\tLoss: 0.396583\n"
          ]
        },
        {
          "output_type": "stream",
          "name": "stderr",
          "text": [
            "Epoch 6:  94%|█████████▍| 751/800 [01:20<00:05,  9.29batch/s, loss=0.5]  "
          ]
        },
        {
          "output_type": "stream",
          "name": "stdout",
          "text": [
            "Train Epoch: 6 [75000/80000 (94%)]\tLoss: 0.541249\n"
          ]
        },
        {
          "output_type": "stream",
          "name": "stderr",
          "text": [
            "Epoch 6:  95%|█████████▌| 761/800 [01:21<00:04,  9.26batch/s, loss=0.393]"
          ]
        },
        {
          "output_type": "stream",
          "name": "stdout",
          "text": [
            "Train Epoch: 6 [76000/80000 (95%)]\tLoss: 0.571516\n"
          ]
        },
        {
          "output_type": "stream",
          "name": "stderr",
          "text": [
            "Epoch 6:  96%|█████████▋| 771/800 [01:22<00:03,  9.30batch/s, loss=0.492]"
          ]
        },
        {
          "output_type": "stream",
          "name": "stdout",
          "text": [
            "Train Epoch: 6 [77000/80000 (96%)]\tLoss: 0.458821\n"
          ]
        },
        {
          "output_type": "stream",
          "name": "stderr",
          "text": [
            "Epoch 6:  98%|█████████▊| 781/800 [01:24<00:02,  9.27batch/s, loss=0.506]"
          ]
        },
        {
          "output_type": "stream",
          "name": "stdout",
          "text": [
            "Train Epoch: 6 [78000/80000 (98%)]\tLoss: 0.480930\n"
          ]
        },
        {
          "output_type": "stream",
          "name": "stderr",
          "text": [
            "Epoch 6:  99%|█████████▉| 791/800 [01:25<00:00,  9.30batch/s, loss=0.449]"
          ]
        },
        {
          "output_type": "stream",
          "name": "stdout",
          "text": [
            "Train Epoch: 6 [79000/80000 (99%)]\tLoss: 0.496242\n"
          ]
        },
        {
          "output_type": "stream",
          "name": "stderr",
          "text": [
            "Epoch 6: 100%|██████████| 800/800 [01:26<00:00,  9.29batch/s, loss=0.419]\n"
          ]
        },
        {
          "output_type": "stream",
          "name": "stdout",
          "text": [
            "\n",
            "Test set: Average loss: 0.4428, Accuracy: 15906/20000 (79.530%)\n",
            "\n"
          ]
        },
        {
          "output_type": "stream",
          "name": "stderr",
          "text": [
            "Epoch 7:   0%|          | 1/800 [00:00<01:33,  8.54batch/s, loss=0.559]"
          ]
        },
        {
          "output_type": "stream",
          "name": "stdout",
          "text": [
            "Train Epoch: 7 [0/80000 (0%)]\tLoss: 0.387020\n"
          ]
        },
        {
          "output_type": "stream",
          "name": "stderr",
          "text": [
            "Epoch 7:   1%|▏         | 11/800 [00:01<01:24,  9.28batch/s, loss=0.43] "
          ]
        },
        {
          "output_type": "stream",
          "name": "stdout",
          "text": [
            "Train Epoch: 7 [1000/80000 (1%)]\tLoss: 0.424265\n"
          ]
        },
        {
          "output_type": "stream",
          "name": "stderr",
          "text": [
            "Epoch 7:   3%|▎         | 21/800 [00:02<01:23,  9.29batch/s, loss=0.46] "
          ]
        },
        {
          "output_type": "stream",
          "name": "stdout",
          "text": [
            "Train Epoch: 7 [2000/80000 (2%)]\tLoss: 0.503641\n"
          ]
        },
        {
          "output_type": "stream",
          "name": "stderr",
          "text": [
            "Epoch 7:   4%|▍         | 31/800 [00:03<01:22,  9.32batch/s, loss=0.41] "
          ]
        },
        {
          "output_type": "stream",
          "name": "stdout",
          "text": [
            "Train Epoch: 7 [3000/80000 (4%)]\tLoss: 0.377231\n"
          ]
        },
        {
          "output_type": "stream",
          "name": "stderr",
          "text": [
            "Epoch 7:   5%|▌         | 41/800 [00:04<01:21,  9.28batch/s, loss=0.501]"
          ]
        },
        {
          "output_type": "stream",
          "name": "stdout",
          "text": [
            "Train Epoch: 7 [4000/80000 (5%)]\tLoss: 0.516225\n"
          ]
        },
        {
          "output_type": "stream",
          "name": "stderr",
          "text": [
            "Epoch 7:   6%|▋         | 51/800 [00:05<01:20,  9.29batch/s, loss=0.434]"
          ]
        },
        {
          "output_type": "stream",
          "name": "stdout",
          "text": [
            "Train Epoch: 7 [5000/80000 (6%)]\tLoss: 0.471151\n"
          ]
        },
        {
          "output_type": "stream",
          "name": "stderr",
          "text": [
            "Epoch 7:   8%|▊         | 61/800 [00:06<01:19,  9.32batch/s, loss=0.506]"
          ]
        },
        {
          "output_type": "stream",
          "name": "stdout",
          "text": [
            "Train Epoch: 7 [6000/80000 (8%)]\tLoss: 0.412303\n"
          ]
        },
        {
          "output_type": "stream",
          "name": "stderr",
          "text": [
            "Epoch 7:   9%|▉         | 71/800 [00:07<01:19,  9.21batch/s, loss=0.44] "
          ]
        },
        {
          "output_type": "stream",
          "name": "stdout",
          "text": [
            "Train Epoch: 7 [7000/80000 (9%)]\tLoss: 0.425921\n"
          ]
        },
        {
          "output_type": "stream",
          "name": "stderr",
          "text": [
            "Epoch 7:  10%|█         | 81/800 [00:08<01:17,  9.25batch/s, loss=0.463]"
          ]
        },
        {
          "output_type": "stream",
          "name": "stdout",
          "text": [
            "Train Epoch: 7 [8000/80000 (10%)]\tLoss: 0.445771\n"
          ]
        },
        {
          "output_type": "stream",
          "name": "stderr",
          "text": [
            "Epoch 7:  11%|█▏        | 91/800 [00:09<01:16,  9.28batch/s, loss=0.417]"
          ]
        },
        {
          "output_type": "stream",
          "name": "stdout",
          "text": [
            "Train Epoch: 7 [9000/80000 (11%)]\tLoss: 0.550651\n"
          ]
        },
        {
          "output_type": "stream",
          "name": "stderr",
          "text": [
            "Epoch 7:  13%|█▎        | 101/800 [00:10<01:15,  9.29batch/s, loss=0.477]"
          ]
        },
        {
          "output_type": "stream",
          "name": "stdout",
          "text": [
            "Train Epoch: 7 [10000/80000 (12%)]\tLoss: 0.454502\n"
          ]
        },
        {
          "output_type": "stream",
          "name": "stderr",
          "text": [
            "Epoch 7:  14%|█▍        | 111/800 [00:11<01:14,  9.25batch/s, loss=0.408]"
          ]
        },
        {
          "output_type": "stream",
          "name": "stdout",
          "text": [
            "Train Epoch: 7 [11000/80000 (14%)]\tLoss: 0.448433\n"
          ]
        },
        {
          "output_type": "stream",
          "name": "stderr",
          "text": [
            "Epoch 7:  15%|█▌        | 121/800 [00:13<01:13,  9.26batch/s, loss=0.39] "
          ]
        },
        {
          "output_type": "stream",
          "name": "stdout",
          "text": [
            "Train Epoch: 7 [12000/80000 (15%)]\tLoss: 0.487535\n"
          ]
        },
        {
          "output_type": "stream",
          "name": "stderr",
          "text": [
            "Epoch 7:  16%|█▋        | 131/800 [00:14<01:12,  9.28batch/s, loss=0.48]"
          ]
        },
        {
          "output_type": "stream",
          "name": "stdout",
          "text": [
            "Train Epoch: 7 [13000/80000 (16%)]\tLoss: 0.460430\n"
          ]
        },
        {
          "output_type": "stream",
          "name": "stderr",
          "text": [
            "Epoch 7:  18%|█▊        | 141/800 [00:15<01:10,  9.29batch/s, loss=0.565]"
          ]
        },
        {
          "output_type": "stream",
          "name": "stdout",
          "text": [
            "Train Epoch: 7 [14000/80000 (18%)]\tLoss: 0.496963\n"
          ]
        },
        {
          "output_type": "stream",
          "name": "stderr",
          "text": [
            "Epoch 7:  19%|█▉        | 151/800 [00:16<01:09,  9.28batch/s, loss=0.374]"
          ]
        },
        {
          "output_type": "stream",
          "name": "stdout",
          "text": [
            "Train Epoch: 7 [15000/80000 (19%)]\tLoss: 0.488682\n"
          ]
        },
        {
          "output_type": "stream",
          "name": "stderr",
          "text": [
            "Epoch 7:  20%|██        | 161/800 [00:17<01:08,  9.31batch/s, loss=0.458]"
          ]
        },
        {
          "output_type": "stream",
          "name": "stdout",
          "text": [
            "Train Epoch: 7 [16000/80000 (20%)]\tLoss: 0.405457\n"
          ]
        },
        {
          "output_type": "stream",
          "name": "stderr",
          "text": [
            "Epoch 7:  21%|██▏       | 171/800 [00:18<01:07,  9.28batch/s, loss=0.503]"
          ]
        },
        {
          "output_type": "stream",
          "name": "stdout",
          "text": [
            "Train Epoch: 7 [17000/80000 (21%)]\tLoss: 0.434924\n"
          ]
        },
        {
          "output_type": "stream",
          "name": "stderr",
          "text": [
            "Epoch 7:  23%|██▎       | 181/800 [00:19<01:06,  9.25batch/s, loss=0.458]"
          ]
        },
        {
          "output_type": "stream",
          "name": "stdout",
          "text": [
            "Train Epoch: 7 [18000/80000 (22%)]\tLoss: 0.328877\n"
          ]
        },
        {
          "output_type": "stream",
          "name": "stderr",
          "text": [
            "Epoch 7:  24%|██▍       | 191/800 [00:20<01:05,  9.29batch/s, loss=0.483]"
          ]
        },
        {
          "output_type": "stream",
          "name": "stdout",
          "text": [
            "Train Epoch: 7 [19000/80000 (24%)]\tLoss: 0.467009\n"
          ]
        },
        {
          "output_type": "stream",
          "name": "stderr",
          "text": [
            "Epoch 7:  25%|██▌       | 201/800 [00:21<01:04,  9.31batch/s, loss=0.459]"
          ]
        },
        {
          "output_type": "stream",
          "name": "stdout",
          "text": [
            "Train Epoch: 7 [20000/80000 (25%)]\tLoss: 0.419296\n"
          ]
        },
        {
          "output_type": "stream",
          "name": "stderr",
          "text": [
            "Epoch 7:  26%|██▋       | 211/800 [00:22<01:03,  9.29batch/s, loss=0.556]"
          ]
        },
        {
          "output_type": "stream",
          "name": "stdout",
          "text": [
            "Train Epoch: 7 [21000/80000 (26%)]\tLoss: 0.432770\n"
          ]
        },
        {
          "output_type": "stream",
          "name": "stderr",
          "text": [
            "Epoch 7:  28%|██▊       | 221/800 [00:23<01:02,  9.31batch/s, loss=0.403]"
          ]
        },
        {
          "output_type": "stream",
          "name": "stdout",
          "text": [
            "Train Epoch: 7 [22000/80000 (28%)]\tLoss: 0.426020\n"
          ]
        },
        {
          "output_type": "stream",
          "name": "stderr",
          "text": [
            "Epoch 7:  29%|██▉       | 231/800 [00:24<01:01,  9.31batch/s, loss=0.45] "
          ]
        },
        {
          "output_type": "stream",
          "name": "stdout",
          "text": [
            "Train Epoch: 7 [23000/80000 (29%)]\tLoss: 0.444932\n"
          ]
        },
        {
          "output_type": "stream",
          "name": "stderr",
          "text": [
            "Epoch 7:  30%|███       | 241/800 [00:25<00:59,  9.33batch/s, loss=0.453]"
          ]
        },
        {
          "output_type": "stream",
          "name": "stdout",
          "text": [
            "Train Epoch: 7 [24000/80000 (30%)]\tLoss: 0.416117\n"
          ]
        },
        {
          "output_type": "stream",
          "name": "stderr",
          "text": [
            "Epoch 7:  31%|███▏      | 251/800 [00:27<00:58,  9.34batch/s, loss=0.493]"
          ]
        },
        {
          "output_type": "stream",
          "name": "stdout",
          "text": [
            "Train Epoch: 7 [25000/80000 (31%)]\tLoss: 0.469162\n"
          ]
        },
        {
          "output_type": "stream",
          "name": "stderr",
          "text": [
            "Epoch 7:  33%|███▎      | 261/800 [00:28<00:57,  9.32batch/s, loss=0.525]"
          ]
        },
        {
          "output_type": "stream",
          "name": "stdout",
          "text": [
            "Train Epoch: 7 [26000/80000 (32%)]\tLoss: 0.377342\n"
          ]
        },
        {
          "output_type": "stream",
          "name": "stderr",
          "text": [
            "Epoch 7:  34%|███▍      | 271/800 [00:29<00:56,  9.31batch/s, loss=0.411]"
          ]
        },
        {
          "output_type": "stream",
          "name": "stdout",
          "text": [
            "Train Epoch: 7 [27000/80000 (34%)]\tLoss: 0.460682\n"
          ]
        },
        {
          "output_type": "stream",
          "name": "stderr",
          "text": [
            "Epoch 7:  35%|███▌      | 281/800 [00:30<00:55,  9.27batch/s, loss=0.458]"
          ]
        },
        {
          "output_type": "stream",
          "name": "stdout",
          "text": [
            "Train Epoch: 7 [28000/80000 (35%)]\tLoss: 0.494763\n"
          ]
        },
        {
          "output_type": "stream",
          "name": "stderr",
          "text": [
            "Epoch 7:  36%|███▋      | 291/800 [00:31<00:55,  9.25batch/s, loss=0.468]"
          ]
        },
        {
          "output_type": "stream",
          "name": "stdout",
          "text": [
            "Train Epoch: 7 [29000/80000 (36%)]\tLoss: 0.460495\n"
          ]
        },
        {
          "output_type": "stream",
          "name": "stderr",
          "text": [
            "Epoch 7:  38%|███▊      | 301/800 [00:32<00:53,  9.30batch/s, loss=0.434]"
          ]
        },
        {
          "output_type": "stream",
          "name": "stdout",
          "text": [
            "Train Epoch: 7 [30000/80000 (38%)]\tLoss: 0.419555\n"
          ]
        },
        {
          "output_type": "stream",
          "name": "stderr",
          "text": [
            "Epoch 7:  39%|███▉      | 311/800 [00:33<00:52,  9.30batch/s, loss=0.512]"
          ]
        },
        {
          "output_type": "stream",
          "name": "stdout",
          "text": [
            "Train Epoch: 7 [31000/80000 (39%)]\tLoss: 0.446114\n"
          ]
        },
        {
          "output_type": "stream",
          "name": "stderr",
          "text": [
            "Epoch 7:  40%|████      | 321/800 [00:34<00:51,  9.30batch/s, loss=0.488]"
          ]
        },
        {
          "output_type": "stream",
          "name": "stdout",
          "text": [
            "Train Epoch: 7 [32000/80000 (40%)]\tLoss: 0.406052\n"
          ]
        },
        {
          "output_type": "stream",
          "name": "stderr",
          "text": [
            "Epoch 7:  41%|████▏     | 331/800 [00:35<00:50,  9.29batch/s, loss=0.516]"
          ]
        },
        {
          "output_type": "stream",
          "name": "stdout",
          "text": [
            "Train Epoch: 7 [33000/80000 (41%)]\tLoss: 0.429789\n"
          ]
        },
        {
          "output_type": "stream",
          "name": "stderr",
          "text": [
            "Epoch 7:  43%|████▎     | 341/800 [00:36<00:49,  9.26batch/s, loss=0.537]"
          ]
        },
        {
          "output_type": "stream",
          "name": "stdout",
          "text": [
            "Train Epoch: 7 [34000/80000 (42%)]\tLoss: 0.424303\n"
          ]
        },
        {
          "output_type": "stream",
          "name": "stderr",
          "text": [
            "Epoch 7:  44%|████▍     | 351/800 [00:37<00:48,  9.23batch/s, loss=0.471]"
          ]
        },
        {
          "output_type": "stream",
          "name": "stdout",
          "text": [
            "Train Epoch: 7 [35000/80000 (44%)]\tLoss: 0.515944\n"
          ]
        },
        {
          "output_type": "stream",
          "name": "stderr",
          "text": [
            "Epoch 7:  45%|████▌     | 361/800 [00:38<00:47,  9.26batch/s, loss=0.526]"
          ]
        },
        {
          "output_type": "stream",
          "name": "stdout",
          "text": [
            "Train Epoch: 7 [36000/80000 (45%)]\tLoss: 0.388977\n"
          ]
        },
        {
          "output_type": "stream",
          "name": "stderr",
          "text": [
            "Epoch 7:  46%|████▋     | 371/800 [00:39<00:46,  9.22batch/s, loss=0.393]"
          ]
        },
        {
          "output_type": "stream",
          "name": "stdout",
          "text": [
            "Train Epoch: 7 [37000/80000 (46%)]\tLoss: 0.368824\n"
          ]
        },
        {
          "output_type": "stream",
          "name": "stderr",
          "text": [
            "Epoch 7:  48%|████▊     | 381/800 [00:41<00:45,  9.27batch/s, loss=0.497]"
          ]
        },
        {
          "output_type": "stream",
          "name": "stdout",
          "text": [
            "Train Epoch: 7 [38000/80000 (48%)]\tLoss: 0.345777\n"
          ]
        },
        {
          "output_type": "stream",
          "name": "stderr",
          "text": [
            "Epoch 7:  49%|████▉     | 391/800 [00:42<00:44,  9.27batch/s, loss=0.478]"
          ]
        },
        {
          "output_type": "stream",
          "name": "stdout",
          "text": [
            "Train Epoch: 7 [39000/80000 (49%)]\tLoss: 0.464871\n"
          ]
        },
        {
          "output_type": "stream",
          "name": "stderr",
          "text": [
            "Epoch 7:  50%|█████     | 401/800 [00:43<00:43,  9.26batch/s, loss=0.436]"
          ]
        },
        {
          "output_type": "stream",
          "name": "stdout",
          "text": [
            "Train Epoch: 7 [40000/80000 (50%)]\tLoss: 0.564288\n"
          ]
        },
        {
          "output_type": "stream",
          "name": "stderr",
          "text": [
            "Epoch 7:  51%|█████▏    | 411/800 [00:44<00:41,  9.30batch/s, loss=0.373]"
          ]
        },
        {
          "output_type": "stream",
          "name": "stdout",
          "text": [
            "Train Epoch: 7 [41000/80000 (51%)]\tLoss: 0.433869\n"
          ]
        },
        {
          "output_type": "stream",
          "name": "stderr",
          "text": [
            "Epoch 7:  53%|█████▎    | 421/800 [00:45<00:40,  9.25batch/s, loss=0.455]"
          ]
        },
        {
          "output_type": "stream",
          "name": "stdout",
          "text": [
            "Train Epoch: 7 [42000/80000 (52%)]\tLoss: 0.443941\n"
          ]
        },
        {
          "output_type": "stream",
          "name": "stderr",
          "text": [
            "Epoch 7:  54%|█████▍    | 431/800 [00:46<00:39,  9.30batch/s, loss=0.399]"
          ]
        },
        {
          "output_type": "stream",
          "name": "stdout",
          "text": [
            "Train Epoch: 7 [43000/80000 (54%)]\tLoss: 0.471377\n"
          ]
        },
        {
          "output_type": "stream",
          "name": "stderr",
          "text": [
            "Epoch 7:  55%|█████▌    | 441/800 [00:47<00:38,  9.27batch/s, loss=0.516]"
          ]
        },
        {
          "output_type": "stream",
          "name": "stdout",
          "text": [
            "Train Epoch: 7 [44000/80000 (55%)]\tLoss: 0.563131\n"
          ]
        },
        {
          "output_type": "stream",
          "name": "stderr",
          "text": [
            "Epoch 7:  56%|█████▋    | 451/800 [00:48<00:37,  9.29batch/s, loss=0.445]"
          ]
        },
        {
          "output_type": "stream",
          "name": "stdout",
          "text": [
            "Train Epoch: 7 [45000/80000 (56%)]\tLoss: 0.381126\n"
          ]
        },
        {
          "output_type": "stream",
          "name": "stderr",
          "text": [
            "Epoch 7:  58%|█████▊    | 461/800 [00:49<00:36,  9.29batch/s, loss=0.376]"
          ]
        },
        {
          "output_type": "stream",
          "name": "stdout",
          "text": [
            "Train Epoch: 7 [46000/80000 (58%)]\tLoss: 0.388944\n"
          ]
        },
        {
          "output_type": "stream",
          "name": "stderr",
          "text": [
            "Epoch 7:  59%|█████▉    | 471/800 [00:50<00:35,  9.28batch/s, loss=0.49] "
          ]
        },
        {
          "output_type": "stream",
          "name": "stdout",
          "text": [
            "Train Epoch: 7 [47000/80000 (59%)]\tLoss: 0.402647\n"
          ]
        },
        {
          "output_type": "stream",
          "name": "stderr",
          "text": [
            "Epoch 7:  60%|██████    | 481/800 [00:51<00:34,  9.27batch/s, loss=0.396]"
          ]
        },
        {
          "output_type": "stream",
          "name": "stdout",
          "text": [
            "Train Epoch: 7 [48000/80000 (60%)]\tLoss: 0.441059\n"
          ]
        },
        {
          "output_type": "stream",
          "name": "stderr",
          "text": [
            "Epoch 7:  61%|██████▏   | 491/800 [00:52<00:33,  9.22batch/s, loss=0.469]"
          ]
        },
        {
          "output_type": "stream",
          "name": "stdout",
          "text": [
            "Train Epoch: 7 [49000/80000 (61%)]\tLoss: 0.394872\n"
          ]
        },
        {
          "output_type": "stream",
          "name": "stderr",
          "text": [
            "Epoch 7:  63%|██████▎   | 501/800 [00:53<00:32,  9.33batch/s, loss=0.489]"
          ]
        },
        {
          "output_type": "stream",
          "name": "stdout",
          "text": [
            "Train Epoch: 7 [50000/80000 (62%)]\tLoss: 0.435222\n"
          ]
        },
        {
          "output_type": "stream",
          "name": "stderr",
          "text": [
            "Epoch 7:  64%|██████▍   | 511/800 [00:55<00:31,  9.29batch/s, loss=0.496]"
          ]
        },
        {
          "output_type": "stream",
          "name": "stdout",
          "text": [
            "Train Epoch: 7 [51000/80000 (64%)]\tLoss: 0.437928\n"
          ]
        },
        {
          "output_type": "stream",
          "name": "stderr",
          "text": [
            "Epoch 7:  65%|██████▌   | 521/800 [00:56<00:30,  9.27batch/s, loss=0.441]"
          ]
        },
        {
          "output_type": "stream",
          "name": "stdout",
          "text": [
            "Train Epoch: 7 [52000/80000 (65%)]\tLoss: 0.438826\n"
          ]
        },
        {
          "output_type": "stream",
          "name": "stderr",
          "text": [
            "Epoch 7:  66%|██████▋   | 531/800 [00:57<00:29,  9.26batch/s, loss=0.539]"
          ]
        },
        {
          "output_type": "stream",
          "name": "stdout",
          "text": [
            "Train Epoch: 7 [53000/80000 (66%)]\tLoss: 0.459880\n"
          ]
        },
        {
          "output_type": "stream",
          "name": "stderr",
          "text": [
            "Epoch 7:  68%|██████▊   | 541/800 [00:58<00:27,  9.32batch/s, loss=0.449]"
          ]
        },
        {
          "output_type": "stream",
          "name": "stdout",
          "text": [
            "Train Epoch: 7 [54000/80000 (68%)]\tLoss: 0.439576\n"
          ]
        },
        {
          "output_type": "stream",
          "name": "stderr",
          "text": [
            "Epoch 7:  69%|██████▉   | 551/800 [00:59<00:26,  9.28batch/s, loss=0.369]"
          ]
        },
        {
          "output_type": "stream",
          "name": "stdout",
          "text": [
            "Train Epoch: 7 [55000/80000 (69%)]\tLoss: 0.436410\n"
          ]
        },
        {
          "output_type": "stream",
          "name": "stderr",
          "text": [
            "Epoch 7:  70%|███████   | 561/800 [01:00<00:25,  9.33batch/s, loss=0.466]"
          ]
        },
        {
          "output_type": "stream",
          "name": "stdout",
          "text": [
            "Train Epoch: 7 [56000/80000 (70%)]\tLoss: 0.519938\n"
          ]
        },
        {
          "output_type": "stream",
          "name": "stderr",
          "text": [
            "Epoch 7:  71%|███████▏  | 571/800 [01:01<00:24,  9.33batch/s, loss=0.548]"
          ]
        },
        {
          "output_type": "stream",
          "name": "stdout",
          "text": [
            "Train Epoch: 7 [57000/80000 (71%)]\tLoss: 0.494811\n"
          ]
        },
        {
          "output_type": "stream",
          "name": "stderr",
          "text": [
            "Epoch 7:  73%|███████▎  | 581/800 [01:02<00:23,  9.27batch/s, loss=0.49] "
          ]
        },
        {
          "output_type": "stream",
          "name": "stdout",
          "text": [
            "Train Epoch: 7 [58000/80000 (72%)]\tLoss: 0.453138\n"
          ]
        },
        {
          "output_type": "stream",
          "name": "stderr",
          "text": [
            "Epoch 7:  74%|███████▍  | 591/800 [01:03<00:22,  9.27batch/s, loss=0.381]"
          ]
        },
        {
          "output_type": "stream",
          "name": "stdout",
          "text": [
            "Train Epoch: 7 [59000/80000 (74%)]\tLoss: 0.464989\n"
          ]
        },
        {
          "output_type": "stream",
          "name": "stderr",
          "text": [
            "Epoch 7:  75%|███████▌  | 601/800 [01:04<00:21,  9.30batch/s, loss=0.466]"
          ]
        },
        {
          "output_type": "stream",
          "name": "stdout",
          "text": [
            "Train Epoch: 7 [60000/80000 (75%)]\tLoss: 0.393594\n"
          ]
        },
        {
          "output_type": "stream",
          "name": "stderr",
          "text": [
            "Epoch 7:  76%|███████▋  | 611/800 [01:05<00:20,  9.32batch/s, loss=0.427]"
          ]
        },
        {
          "output_type": "stream",
          "name": "stdout",
          "text": [
            "Train Epoch: 7 [61000/80000 (76%)]\tLoss: 0.472292\n"
          ]
        },
        {
          "output_type": "stream",
          "name": "stderr",
          "text": [
            "Epoch 7:  78%|███████▊  | 621/800 [01:06<00:19,  9.31batch/s, loss=0.482]"
          ]
        },
        {
          "output_type": "stream",
          "name": "stdout",
          "text": [
            "Train Epoch: 7 [62000/80000 (78%)]\tLoss: 0.520569\n"
          ]
        },
        {
          "output_type": "stream",
          "name": "stderr",
          "text": [
            "Epoch 7:  79%|███████▉  | 631/800 [01:07<00:18,  9.31batch/s, loss=0.478]"
          ]
        },
        {
          "output_type": "stream",
          "name": "stdout",
          "text": [
            "Train Epoch: 7 [63000/80000 (79%)]\tLoss: 0.465040\n"
          ]
        },
        {
          "output_type": "stream",
          "name": "stderr",
          "text": [
            "Epoch 7:  80%|████████  | 641/800 [01:08<00:17,  9.30batch/s, loss=0.425]"
          ]
        },
        {
          "output_type": "stream",
          "name": "stdout",
          "text": [
            "Train Epoch: 7 [64000/80000 (80%)]\tLoss: 0.457687\n"
          ]
        },
        {
          "output_type": "stream",
          "name": "stderr",
          "text": [
            "Epoch 7:  81%|████████▏ | 651/800 [01:10<00:16,  9.24batch/s, loss=0.387]"
          ]
        },
        {
          "output_type": "stream",
          "name": "stdout",
          "text": [
            "Train Epoch: 7 [65000/80000 (81%)]\tLoss: 0.426181\n"
          ]
        },
        {
          "output_type": "stream",
          "name": "stderr",
          "text": [
            "Epoch 7:  83%|████████▎ | 661/800 [01:11<00:14,  9.32batch/s, loss=0.467]"
          ]
        },
        {
          "output_type": "stream",
          "name": "stdout",
          "text": [
            "Train Epoch: 7 [66000/80000 (82%)]\tLoss: 0.477997\n"
          ]
        },
        {
          "output_type": "stream",
          "name": "stderr",
          "text": [
            "Epoch 7:  84%|████████▍ | 671/800 [01:12<00:13,  9.23batch/s, loss=0.449]"
          ]
        },
        {
          "output_type": "stream",
          "name": "stdout",
          "text": [
            "Train Epoch: 7 [67000/80000 (84%)]\tLoss: 0.526254\n"
          ]
        },
        {
          "output_type": "stream",
          "name": "stderr",
          "text": [
            "Epoch 7:  85%|████████▌ | 681/800 [01:13<00:12,  9.28batch/s, loss=0.42] "
          ]
        },
        {
          "output_type": "stream",
          "name": "stdout",
          "text": [
            "Train Epoch: 7 [68000/80000 (85%)]\tLoss: 0.505540\n"
          ]
        },
        {
          "output_type": "stream",
          "name": "stderr",
          "text": [
            "Epoch 7:  86%|████████▋ | 691/800 [01:14<00:11,  9.26batch/s, loss=0.352]"
          ]
        },
        {
          "output_type": "stream",
          "name": "stdout",
          "text": [
            "Train Epoch: 7 [69000/80000 (86%)]\tLoss: 0.529541\n"
          ]
        },
        {
          "output_type": "stream",
          "name": "stderr",
          "text": [
            "Epoch 7:  88%|████████▊ | 701/800 [01:15<00:10,  9.26batch/s, loss=0.388]"
          ]
        },
        {
          "output_type": "stream",
          "name": "stdout",
          "text": [
            "Train Epoch: 7 [70000/80000 (88%)]\tLoss: 0.419246\n"
          ]
        },
        {
          "output_type": "stream",
          "name": "stderr",
          "text": [
            "Epoch 7:  89%|████████▉ | 711/800 [01:16<00:09,  9.29batch/s, loss=0.495]"
          ]
        },
        {
          "output_type": "stream",
          "name": "stdout",
          "text": [
            "Train Epoch: 7 [71000/80000 (89%)]\tLoss: 0.409040\n"
          ]
        },
        {
          "output_type": "stream",
          "name": "stderr",
          "text": [
            "Epoch 7:  90%|█████████ | 721/800 [01:17<00:08,  9.23batch/s, loss=0.481]"
          ]
        },
        {
          "output_type": "stream",
          "name": "stdout",
          "text": [
            "Train Epoch: 7 [72000/80000 (90%)]\tLoss: 0.417291\n"
          ]
        },
        {
          "output_type": "stream",
          "name": "stderr",
          "text": [
            "Epoch 7:  91%|█████████▏| 731/800 [01:18<00:07,  9.19batch/s, loss=0.466]"
          ]
        },
        {
          "output_type": "stream",
          "name": "stdout",
          "text": [
            "Train Epoch: 7 [73000/80000 (91%)]\tLoss: 0.391864\n"
          ]
        },
        {
          "output_type": "stream",
          "name": "stderr",
          "text": [
            "Epoch 7:  93%|█████████▎| 741/800 [01:19<00:06,  9.29batch/s, loss=0.404]"
          ]
        },
        {
          "output_type": "stream",
          "name": "stdout",
          "text": [
            "Train Epoch: 7 [74000/80000 (92%)]\tLoss: 0.487262\n"
          ]
        },
        {
          "output_type": "stream",
          "name": "stderr",
          "text": [
            "Epoch 7:  94%|█████████▍| 751/800 [01:20<00:05,  9.29batch/s, loss=0.527]"
          ]
        },
        {
          "output_type": "stream",
          "name": "stdout",
          "text": [
            "Train Epoch: 7 [75000/80000 (94%)]\tLoss: 0.450074\n"
          ]
        },
        {
          "output_type": "stream",
          "name": "stderr",
          "text": [
            "Epoch 7:  95%|█████████▌| 761/800 [01:21<00:04,  9.26batch/s, loss=0.401]"
          ]
        },
        {
          "output_type": "stream",
          "name": "stdout",
          "text": [
            "Train Epoch: 7 [76000/80000 (95%)]\tLoss: 0.399010\n"
          ]
        },
        {
          "output_type": "stream",
          "name": "stderr",
          "text": [
            "Epoch 7:  96%|█████████▋| 771/800 [01:22<00:03,  9.29batch/s, loss=0.422]"
          ]
        },
        {
          "output_type": "stream",
          "name": "stdout",
          "text": [
            "Train Epoch: 7 [77000/80000 (96%)]\tLoss: 0.576448\n"
          ]
        },
        {
          "output_type": "stream",
          "name": "stderr",
          "text": [
            "Epoch 7:  98%|█████████▊| 781/800 [01:24<00:02,  9.31batch/s, loss=0.421]"
          ]
        },
        {
          "output_type": "stream",
          "name": "stdout",
          "text": [
            "Train Epoch: 7 [78000/80000 (98%)]\tLoss: 0.452371\n"
          ]
        },
        {
          "output_type": "stream",
          "name": "stderr",
          "text": [
            "Epoch 7:  99%|█████████▉| 791/800 [01:25<00:00,  9.31batch/s, loss=0.472]"
          ]
        },
        {
          "output_type": "stream",
          "name": "stdout",
          "text": [
            "Train Epoch: 7 [79000/80000 (99%)]\tLoss: 0.455006\n"
          ]
        },
        {
          "output_type": "stream",
          "name": "stderr",
          "text": [
            "Epoch 7: 100%|██████████| 800/800 [01:26<00:00,  9.29batch/s, loss=0.436]\n"
          ]
        },
        {
          "output_type": "stream",
          "name": "stdout",
          "text": [
            "\n",
            "Test set: Average loss: 0.4423, Accuracy: 15941/20000 (79.705%)\n",
            "\n"
          ]
        },
        {
          "output_type": "stream",
          "name": "stderr",
          "text": [
            "Epoch 8:   0%|          | 1/800 [00:00<01:29,  8.90batch/s, loss=0.425]"
          ]
        },
        {
          "output_type": "stream",
          "name": "stdout",
          "text": [
            "Train Epoch: 8 [0/80000 (0%)]\tLoss: 0.410059\n"
          ]
        },
        {
          "output_type": "stream",
          "name": "stderr",
          "text": [
            "Epoch 8:   1%|▏         | 11/800 [00:01<01:24,  9.30batch/s, loss=0.43] "
          ]
        },
        {
          "output_type": "stream",
          "name": "stdout",
          "text": [
            "Train Epoch: 8 [1000/80000 (1%)]\tLoss: 0.429408\n"
          ]
        },
        {
          "output_type": "stream",
          "name": "stderr",
          "text": [
            "Epoch 8:   3%|▎         | 21/800 [00:02<01:23,  9.30batch/s, loss=0.427]"
          ]
        },
        {
          "output_type": "stream",
          "name": "stdout",
          "text": [
            "Train Epoch: 8 [2000/80000 (2%)]\tLoss: 0.431055\n"
          ]
        },
        {
          "output_type": "stream",
          "name": "stderr",
          "text": [
            "Epoch 8:   4%|▍         | 31/800 [00:03<01:22,  9.27batch/s, loss=0.416]"
          ]
        },
        {
          "output_type": "stream",
          "name": "stdout",
          "text": [
            "Train Epoch: 8 [3000/80000 (4%)]\tLoss: 0.470237\n"
          ]
        },
        {
          "output_type": "stream",
          "name": "stderr",
          "text": [
            "Epoch 8:   5%|▌         | 41/800 [00:04<01:21,  9.30batch/s, loss=0.401]"
          ]
        },
        {
          "output_type": "stream",
          "name": "stdout",
          "text": [
            "Train Epoch: 8 [4000/80000 (5%)]\tLoss: 0.390466\n"
          ]
        },
        {
          "output_type": "stream",
          "name": "stderr",
          "text": [
            "Epoch 8:   6%|▋         | 51/800 [00:05<01:20,  9.31batch/s, loss=0.429]"
          ]
        },
        {
          "output_type": "stream",
          "name": "stdout",
          "text": [
            "Train Epoch: 8 [5000/80000 (6%)]\tLoss: 0.466486\n"
          ]
        },
        {
          "output_type": "stream",
          "name": "stderr",
          "text": [
            "Epoch 8:   8%|▊         | 61/800 [00:06<01:19,  9.30batch/s, loss=0.472]"
          ]
        },
        {
          "output_type": "stream",
          "name": "stdout",
          "text": [
            "Train Epoch: 8 [6000/80000 (8%)]\tLoss: 0.457557\n"
          ]
        },
        {
          "output_type": "stream",
          "name": "stderr",
          "text": [
            "Epoch 8:   9%|▉         | 71/800 [00:07<01:18,  9.29batch/s, loss=0.385]"
          ]
        },
        {
          "output_type": "stream",
          "name": "stdout",
          "text": [
            "Train Epoch: 8 [7000/80000 (9%)]\tLoss: 0.448754\n"
          ]
        },
        {
          "output_type": "stream",
          "name": "stderr",
          "text": [
            "Epoch 8:  10%|█         | 81/800 [00:08<01:17,  9.27batch/s, loss=0.445]"
          ]
        },
        {
          "output_type": "stream",
          "name": "stdout",
          "text": [
            "Train Epoch: 8 [8000/80000 (10%)]\tLoss: 0.431922\n"
          ]
        },
        {
          "output_type": "stream",
          "name": "stderr",
          "text": [
            "Epoch 8:  11%|█▏        | 91/800 [00:09<01:16,  9.23batch/s, loss=0.42] "
          ]
        },
        {
          "output_type": "stream",
          "name": "stdout",
          "text": [
            "Train Epoch: 8 [9000/80000 (11%)]\tLoss: 0.566833\n"
          ]
        },
        {
          "output_type": "stream",
          "name": "stderr",
          "text": [
            "Epoch 8:  13%|█▎        | 101/800 [00:10<01:15,  9.30batch/s, loss=0.509]"
          ]
        },
        {
          "output_type": "stream",
          "name": "stdout",
          "text": [
            "Train Epoch: 8 [10000/80000 (12%)]\tLoss: 0.577450\n"
          ]
        },
        {
          "output_type": "stream",
          "name": "stderr",
          "text": [
            "Epoch 8:  14%|█▍        | 111/800 [00:11<01:13,  9.32batch/s, loss=0.375]"
          ]
        },
        {
          "output_type": "stream",
          "name": "stdout",
          "text": [
            "Train Epoch: 8 [11000/80000 (14%)]\tLoss: 0.407724\n"
          ]
        },
        {
          "output_type": "stream",
          "name": "stderr",
          "text": [
            "Epoch 8:  15%|█▌        | 121/800 [00:13<01:13,  9.29batch/s, loss=0.472]"
          ]
        },
        {
          "output_type": "stream",
          "name": "stdout",
          "text": [
            "Train Epoch: 8 [12000/80000 (15%)]\tLoss: 0.389756\n"
          ]
        },
        {
          "output_type": "stream",
          "name": "stderr",
          "text": [
            "Epoch 8:  16%|█▋        | 131/800 [00:14<01:12,  9.29batch/s, loss=0.496]"
          ]
        },
        {
          "output_type": "stream",
          "name": "stdout",
          "text": [
            "Train Epoch: 8 [13000/80000 (16%)]\tLoss: 0.353506\n"
          ]
        },
        {
          "output_type": "stream",
          "name": "stderr",
          "text": [
            "Epoch 8:  18%|█▊        | 141/800 [00:15<01:10,  9.31batch/s, loss=0.368]"
          ]
        },
        {
          "output_type": "stream",
          "name": "stdout",
          "text": [
            "Train Epoch: 8 [14000/80000 (18%)]\tLoss: 0.379930\n"
          ]
        },
        {
          "output_type": "stream",
          "name": "stderr",
          "text": [
            "Epoch 8:  19%|█▉        | 151/800 [00:16<01:09,  9.28batch/s, loss=0.543]"
          ]
        },
        {
          "output_type": "stream",
          "name": "stdout",
          "text": [
            "Train Epoch: 8 [15000/80000 (19%)]\tLoss: 0.470888\n"
          ]
        },
        {
          "output_type": "stream",
          "name": "stderr",
          "text": [
            "Epoch 8:  20%|██        | 161/800 [00:17<01:09,  9.25batch/s, loss=0.48] "
          ]
        },
        {
          "output_type": "stream",
          "name": "stdout",
          "text": [
            "Train Epoch: 8 [16000/80000 (20%)]\tLoss: 0.428318\n"
          ]
        },
        {
          "output_type": "stream",
          "name": "stderr",
          "text": [
            "Epoch 8:  21%|██▏       | 171/800 [00:18<01:07,  9.29batch/s, loss=0.492]"
          ]
        },
        {
          "output_type": "stream",
          "name": "stdout",
          "text": [
            "Train Epoch: 8 [17000/80000 (21%)]\tLoss: 0.390203\n"
          ]
        },
        {
          "output_type": "stream",
          "name": "stderr",
          "text": [
            "Epoch 8:  23%|██▎       | 181/800 [00:19<01:06,  9.28batch/s, loss=0.383]"
          ]
        },
        {
          "output_type": "stream",
          "name": "stdout",
          "text": [
            "Train Epoch: 8 [18000/80000 (22%)]\tLoss: 0.451542\n"
          ]
        },
        {
          "output_type": "stream",
          "name": "stderr",
          "text": [
            "Epoch 8:  24%|██▍       | 191/800 [00:20<01:05,  9.29batch/s, loss=0.445]"
          ]
        },
        {
          "output_type": "stream",
          "name": "stdout",
          "text": [
            "Train Epoch: 8 [19000/80000 (24%)]\tLoss: 0.448046\n"
          ]
        },
        {
          "output_type": "stream",
          "name": "stderr",
          "text": [
            "Epoch 8:  25%|██▌       | 201/800 [00:21<01:04,  9.27batch/s, loss=0.452]"
          ]
        },
        {
          "output_type": "stream",
          "name": "stdout",
          "text": [
            "Train Epoch: 8 [20000/80000 (25%)]\tLoss: 0.436002\n"
          ]
        },
        {
          "output_type": "stream",
          "name": "stderr",
          "text": [
            "Epoch 8:  26%|██▋       | 211/800 [00:22<01:03,  9.30batch/s, loss=0.415]"
          ]
        },
        {
          "output_type": "stream",
          "name": "stdout",
          "text": [
            "Train Epoch: 8 [21000/80000 (26%)]\tLoss: 0.454570\n"
          ]
        },
        {
          "output_type": "stream",
          "name": "stderr",
          "text": [
            "Epoch 8:  28%|██▊       | 221/800 [00:23<01:02,  9.29batch/s, loss=0.485]"
          ]
        },
        {
          "output_type": "stream",
          "name": "stdout",
          "text": [
            "Train Epoch: 8 [22000/80000 (28%)]\tLoss: 0.482163\n"
          ]
        },
        {
          "output_type": "stream",
          "name": "stderr",
          "text": [
            "Epoch 8:  29%|██▉       | 231/800 [00:24<01:01,  9.21batch/s, loss=0.493]"
          ]
        },
        {
          "output_type": "stream",
          "name": "stdout",
          "text": [
            "Train Epoch: 8 [23000/80000 (29%)]\tLoss: 0.479595\n"
          ]
        },
        {
          "output_type": "stream",
          "name": "stderr",
          "text": [
            "Epoch 8:  30%|███       | 241/800 [00:25<01:00,  9.32batch/s, loss=0.368]"
          ]
        },
        {
          "output_type": "stream",
          "name": "stdout",
          "text": [
            "Train Epoch: 8 [24000/80000 (30%)]\tLoss: 0.399984\n"
          ]
        },
        {
          "output_type": "stream",
          "name": "stderr",
          "text": [
            "Epoch 8:  31%|███▏      | 251/800 [00:27<00:58,  9.31batch/s, loss=0.529]"
          ]
        },
        {
          "output_type": "stream",
          "name": "stdout",
          "text": [
            "Train Epoch: 8 [25000/80000 (31%)]\tLoss: 0.423903\n"
          ]
        },
        {
          "output_type": "stream",
          "name": "stderr",
          "text": [
            "Epoch 8:  33%|███▎      | 261/800 [00:28<00:57,  9.30batch/s, loss=0.459]"
          ]
        },
        {
          "output_type": "stream",
          "name": "stdout",
          "text": [
            "Train Epoch: 8 [26000/80000 (32%)]\tLoss: 0.568675\n"
          ]
        },
        {
          "output_type": "stream",
          "name": "stderr",
          "text": [
            "Epoch 8:  34%|███▍      | 271/800 [00:29<00:56,  9.30batch/s, loss=0.511]"
          ]
        },
        {
          "output_type": "stream",
          "name": "stdout",
          "text": [
            "Train Epoch: 8 [27000/80000 (34%)]\tLoss: 0.485294\n"
          ]
        },
        {
          "output_type": "stream",
          "name": "stderr",
          "text": [
            "Epoch 8:  35%|███▌      | 281/800 [00:30<00:56,  9.24batch/s, loss=0.472]"
          ]
        },
        {
          "output_type": "stream",
          "name": "stdout",
          "text": [
            "Train Epoch: 8 [28000/80000 (35%)]\tLoss: 0.437992\n"
          ]
        },
        {
          "output_type": "stream",
          "name": "stderr",
          "text": [
            "Epoch 8:  36%|███▋      | 291/800 [00:31<00:54,  9.31batch/s, loss=0.428]"
          ]
        },
        {
          "output_type": "stream",
          "name": "stdout",
          "text": [
            "Train Epoch: 8 [29000/80000 (36%)]\tLoss: 0.518932\n"
          ]
        },
        {
          "output_type": "stream",
          "name": "stderr",
          "text": [
            "Epoch 8:  38%|███▊      | 301/800 [00:32<00:53,  9.29batch/s, loss=0.408]"
          ]
        },
        {
          "output_type": "stream",
          "name": "stdout",
          "text": [
            "Train Epoch: 8 [30000/80000 (38%)]\tLoss: 0.483836\n"
          ]
        },
        {
          "output_type": "stream",
          "name": "stderr",
          "text": [
            "Epoch 8:  39%|███▉      | 311/800 [00:33<00:53,  9.22batch/s, loss=0.438]"
          ]
        },
        {
          "output_type": "stream",
          "name": "stdout",
          "text": [
            "Train Epoch: 8 [31000/80000 (39%)]\tLoss: 0.463669\n"
          ]
        },
        {
          "output_type": "stream",
          "name": "stderr",
          "text": [
            "Epoch 8:  40%|████      | 321/800 [00:34<00:51,  9.28batch/s, loss=0.45] "
          ]
        },
        {
          "output_type": "stream",
          "name": "stdout",
          "text": [
            "Train Epoch: 8 [32000/80000 (40%)]\tLoss: 0.418816\n"
          ]
        },
        {
          "output_type": "stream",
          "name": "stderr",
          "text": [
            "Epoch 8:  41%|████▏     | 331/800 [00:35<00:51,  9.17batch/s, loss=0.55] "
          ]
        },
        {
          "output_type": "stream",
          "name": "stdout",
          "text": [
            "Train Epoch: 8 [33000/80000 (41%)]\tLoss: 0.421571\n"
          ]
        },
        {
          "output_type": "stream",
          "name": "stderr",
          "text": [
            "Epoch 8:  43%|████▎     | 341/800 [00:36<00:49,  9.25batch/s, loss=0.464]"
          ]
        },
        {
          "output_type": "stream",
          "name": "stdout",
          "text": [
            "Train Epoch: 8 [34000/80000 (42%)]\tLoss: 0.429275\n"
          ]
        },
        {
          "output_type": "stream",
          "name": "stderr",
          "text": [
            "Epoch 8:  44%|████▍     | 351/800 [00:37<00:48,  9.29batch/s, loss=0.428]"
          ]
        },
        {
          "output_type": "stream",
          "name": "stdout",
          "text": [
            "Train Epoch: 8 [35000/80000 (44%)]\tLoss: 0.530831\n"
          ]
        },
        {
          "output_type": "stream",
          "name": "stderr",
          "text": [
            "Epoch 8:  45%|████▌     | 361/800 [00:38<00:47,  9.27batch/s, loss=0.393]"
          ]
        },
        {
          "output_type": "stream",
          "name": "stdout",
          "text": [
            "Train Epoch: 8 [36000/80000 (45%)]\tLoss: 0.458584\n"
          ]
        },
        {
          "output_type": "stream",
          "name": "stderr",
          "text": [
            "Epoch 8:  46%|████▋     | 371/800 [00:39<00:46,  9.22batch/s, loss=0.451]"
          ]
        },
        {
          "output_type": "stream",
          "name": "stdout",
          "text": [
            "Train Epoch: 8 [37000/80000 (46%)]\tLoss: 0.439287\n"
          ]
        },
        {
          "output_type": "stream",
          "name": "stderr",
          "text": [
            "Epoch 8:  48%|████▊     | 381/800 [00:41<00:44,  9.31batch/s, loss=0.513]"
          ]
        },
        {
          "output_type": "stream",
          "name": "stdout",
          "text": [
            "Train Epoch: 8 [38000/80000 (48%)]\tLoss: 0.375269\n"
          ]
        },
        {
          "output_type": "stream",
          "name": "stderr",
          "text": [
            "Epoch 8:  49%|████▉     | 391/800 [00:42<00:44,  9.29batch/s, loss=0.48] "
          ]
        },
        {
          "output_type": "stream",
          "name": "stdout",
          "text": [
            "Train Epoch: 8 [39000/80000 (49%)]\tLoss: 0.422012\n"
          ]
        },
        {
          "output_type": "stream",
          "name": "stderr",
          "text": [
            "Epoch 8:  50%|█████     | 401/800 [00:43<00:42,  9.31batch/s, loss=0.427]"
          ]
        },
        {
          "output_type": "stream",
          "name": "stdout",
          "text": [
            "Train Epoch: 8 [40000/80000 (50%)]\tLoss: 0.434118\n"
          ]
        },
        {
          "output_type": "stream",
          "name": "stderr",
          "text": [
            "Epoch 8:  51%|█████▏    | 411/800 [00:44<00:41,  9.32batch/s, loss=0.391]"
          ]
        },
        {
          "output_type": "stream",
          "name": "stdout",
          "text": [
            "Train Epoch: 8 [41000/80000 (51%)]\tLoss: 0.485247\n"
          ]
        },
        {
          "output_type": "stream",
          "name": "stderr",
          "text": [
            "Epoch 8:  53%|█████▎    | 421/800 [00:45<00:40,  9.29batch/s, loss=0.417]"
          ]
        },
        {
          "output_type": "stream",
          "name": "stdout",
          "text": [
            "Train Epoch: 8 [42000/80000 (52%)]\tLoss: 0.509163\n"
          ]
        },
        {
          "output_type": "stream",
          "name": "stderr",
          "text": [
            "Epoch 8:  54%|█████▍    | 431/800 [00:46<00:39,  9.30batch/s, loss=0.386]"
          ]
        },
        {
          "output_type": "stream",
          "name": "stdout",
          "text": [
            "Train Epoch: 8 [43000/80000 (54%)]\tLoss: 0.550824\n"
          ]
        },
        {
          "output_type": "stream",
          "name": "stderr",
          "text": [
            "Epoch 8:  55%|█████▌    | 441/800 [00:47<00:38,  9.31batch/s, loss=0.366]"
          ]
        },
        {
          "output_type": "stream",
          "name": "stdout",
          "text": [
            "Train Epoch: 8 [44000/80000 (55%)]\tLoss: 0.397338\n"
          ]
        },
        {
          "output_type": "stream",
          "name": "stderr",
          "text": [
            "Epoch 8:  56%|█████▋    | 451/800 [00:48<00:37,  9.30batch/s, loss=0.441]"
          ]
        },
        {
          "output_type": "stream",
          "name": "stdout",
          "text": [
            "Train Epoch: 8 [45000/80000 (56%)]\tLoss: 0.583865\n"
          ]
        },
        {
          "output_type": "stream",
          "name": "stderr",
          "text": [
            "Epoch 8:  58%|█████▊    | 461/800 [00:49<00:36,  9.29batch/s, loss=0.443]"
          ]
        },
        {
          "output_type": "stream",
          "name": "stdout",
          "text": [
            "Train Epoch: 8 [46000/80000 (58%)]\tLoss: 0.455748\n"
          ]
        },
        {
          "output_type": "stream",
          "name": "stderr",
          "text": [
            "Epoch 8:  59%|█████▉    | 471/800 [00:50<00:35,  9.28batch/s, loss=0.551]"
          ]
        },
        {
          "output_type": "stream",
          "name": "stdout",
          "text": [
            "Train Epoch: 8 [47000/80000 (59%)]\tLoss: 0.500678\n"
          ]
        },
        {
          "output_type": "stream",
          "name": "stderr",
          "text": [
            "Epoch 8:  60%|██████    | 481/800 [00:51<00:34,  9.28batch/s, loss=0.386]"
          ]
        },
        {
          "output_type": "stream",
          "name": "stdout",
          "text": [
            "Train Epoch: 8 [48000/80000 (60%)]\tLoss: 0.402375\n"
          ]
        },
        {
          "output_type": "stream",
          "name": "stderr",
          "text": [
            "Epoch 8:  61%|██████▏   | 491/800 [00:52<00:33,  9.30batch/s, loss=0.373]"
          ]
        },
        {
          "output_type": "stream",
          "name": "stdout",
          "text": [
            "Train Epoch: 8 [49000/80000 (61%)]\tLoss: 0.476937\n"
          ]
        },
        {
          "output_type": "stream",
          "name": "stderr",
          "text": [
            "Epoch 8:  63%|██████▎   | 501/800 [00:53<00:32,  9.29batch/s, loss=0.489]"
          ]
        },
        {
          "output_type": "stream",
          "name": "stdout",
          "text": [
            "Train Epoch: 8 [50000/80000 (62%)]\tLoss: 0.405117\n"
          ]
        },
        {
          "output_type": "stream",
          "name": "stderr",
          "text": [
            "Epoch 8:  64%|██████▍   | 511/800 [00:54<00:31,  9.30batch/s, loss=0.43]"
          ]
        },
        {
          "output_type": "stream",
          "name": "stdout",
          "text": [
            "Train Epoch: 8 [51000/80000 (64%)]\tLoss: 0.510119\n"
          ]
        },
        {
          "output_type": "stream",
          "name": "stderr",
          "text": [
            "Epoch 8:  65%|██████▌   | 521/800 [00:56<00:30,  9.28batch/s, loss=0.46] "
          ]
        },
        {
          "output_type": "stream",
          "name": "stdout",
          "text": [
            "Train Epoch: 8 [52000/80000 (65%)]\tLoss: 0.522163\n"
          ]
        },
        {
          "output_type": "stream",
          "name": "stderr",
          "text": [
            "Epoch 8:  66%|██████▋   | 531/800 [00:57<00:28,  9.30batch/s, loss=0.434]"
          ]
        },
        {
          "output_type": "stream",
          "name": "stdout",
          "text": [
            "Train Epoch: 8 [53000/80000 (66%)]\tLoss: 0.480412\n"
          ]
        },
        {
          "output_type": "stream",
          "name": "stderr",
          "text": [
            "Epoch 8:  68%|██████▊   | 541/800 [00:58<00:27,  9.26batch/s, loss=0.487]"
          ]
        },
        {
          "output_type": "stream",
          "name": "stdout",
          "text": [
            "Train Epoch: 8 [54000/80000 (68%)]\tLoss: 0.504950\n"
          ]
        },
        {
          "output_type": "stream",
          "name": "stderr",
          "text": [
            "Epoch 8:  69%|██████▉   | 551/800 [00:59<00:26,  9.30batch/s, loss=0.438]"
          ]
        },
        {
          "output_type": "stream",
          "name": "stdout",
          "text": [
            "Train Epoch: 8 [55000/80000 (69%)]\tLoss: 0.371741\n"
          ]
        },
        {
          "output_type": "stream",
          "name": "stderr",
          "text": [
            "Epoch 8:  70%|███████   | 561/800 [01:00<00:25,  9.25batch/s, loss=0.475]"
          ]
        },
        {
          "output_type": "stream",
          "name": "stdout",
          "text": [
            "Train Epoch: 8 [56000/80000 (70%)]\tLoss: 0.433477\n"
          ]
        },
        {
          "output_type": "stream",
          "name": "stderr",
          "text": [
            "Epoch 8:  71%|███████▏  | 571/800 [01:01<00:24,  9.17batch/s, loss=0.435]"
          ]
        },
        {
          "output_type": "stream",
          "name": "stdout",
          "text": [
            "Train Epoch: 8 [57000/80000 (71%)]\tLoss: 0.552282\n"
          ]
        },
        {
          "output_type": "stream",
          "name": "stderr",
          "text": [
            "Epoch 8:  73%|███████▎  | 581/800 [01:02<00:23,  9.31batch/s, loss=0.482]"
          ]
        },
        {
          "output_type": "stream",
          "name": "stdout",
          "text": [
            "Train Epoch: 8 [58000/80000 (72%)]\tLoss: 0.449477\n"
          ]
        },
        {
          "output_type": "stream",
          "name": "stderr",
          "text": [
            "Epoch 8:  74%|███████▍  | 591/800 [01:03<00:22,  9.25batch/s, loss=0.438]"
          ]
        },
        {
          "output_type": "stream",
          "name": "stdout",
          "text": [
            "Train Epoch: 8 [59000/80000 (74%)]\tLoss: 0.384982\n"
          ]
        },
        {
          "output_type": "stream",
          "name": "stderr",
          "text": [
            "Epoch 8:  75%|███████▌  | 601/800 [01:04<00:21,  9.28batch/s, loss=0.426]"
          ]
        },
        {
          "output_type": "stream",
          "name": "stdout",
          "text": [
            "Train Epoch: 8 [60000/80000 (75%)]\tLoss: 0.449044\n"
          ]
        },
        {
          "output_type": "stream",
          "name": "stderr",
          "text": [
            "Epoch 8:  76%|███████▋  | 611/800 [01:05<00:20,  9.33batch/s, loss=0.496]"
          ]
        },
        {
          "output_type": "stream",
          "name": "stdout",
          "text": [
            "Train Epoch: 8 [61000/80000 (76%)]\tLoss: 0.445465\n"
          ]
        },
        {
          "output_type": "stream",
          "name": "stderr",
          "text": [
            "Epoch 8:  78%|███████▊  | 621/800 [01:06<00:19,  9.29batch/s, loss=0.372]"
          ]
        },
        {
          "output_type": "stream",
          "name": "stdout",
          "text": [
            "Train Epoch: 8 [62000/80000 (78%)]\tLoss: 0.446297\n"
          ]
        },
        {
          "output_type": "stream",
          "name": "stderr",
          "text": [
            "Epoch 8:  79%|███████▉  | 631/800 [01:07<00:18,  9.30batch/s, loss=0.452]"
          ]
        },
        {
          "output_type": "stream",
          "name": "stdout",
          "text": [
            "Train Epoch: 8 [63000/80000 (79%)]\tLoss: 0.497510\n"
          ]
        },
        {
          "output_type": "stream",
          "name": "stderr",
          "text": [
            "Epoch 8:  80%|████████  | 641/800 [01:08<00:17,  9.29batch/s, loss=0.473]"
          ]
        },
        {
          "output_type": "stream",
          "name": "stdout",
          "text": [
            "Train Epoch: 8 [64000/80000 (80%)]\tLoss: 0.421284\n"
          ]
        },
        {
          "output_type": "stream",
          "name": "stderr",
          "text": [
            "Epoch 8:  81%|████████▏ | 651/800 [01:10<00:16,  9.31batch/s, loss=0.439]"
          ]
        },
        {
          "output_type": "stream",
          "name": "stdout",
          "text": [
            "Train Epoch: 8 [65000/80000 (81%)]\tLoss: 0.484777\n"
          ]
        },
        {
          "output_type": "stream",
          "name": "stderr",
          "text": [
            "Epoch 8:  83%|████████▎ | 661/800 [01:11<00:15,  9.25batch/s, loss=0.394]"
          ]
        },
        {
          "output_type": "stream",
          "name": "stdout",
          "text": [
            "Train Epoch: 8 [66000/80000 (82%)]\tLoss: 0.409976\n"
          ]
        },
        {
          "output_type": "stream",
          "name": "stderr",
          "text": [
            "Epoch 8:  84%|████████▍ | 671/800 [01:12<00:13,  9.30batch/s, loss=0.489]"
          ]
        },
        {
          "output_type": "stream",
          "name": "stdout",
          "text": [
            "Train Epoch: 8 [67000/80000 (84%)]\tLoss: 0.469582\n"
          ]
        },
        {
          "output_type": "stream",
          "name": "stderr",
          "text": [
            "Epoch 8:  85%|████████▌ | 681/800 [01:13<00:12,  9.31batch/s, loss=0.432]"
          ]
        },
        {
          "output_type": "stream",
          "name": "stdout",
          "text": [
            "Train Epoch: 8 [68000/80000 (85%)]\tLoss: 0.480137\n"
          ]
        },
        {
          "output_type": "stream",
          "name": "stderr",
          "text": [
            "Epoch 8:  86%|████████▋ | 691/800 [01:14<00:11,  9.31batch/s, loss=0.378]"
          ]
        },
        {
          "output_type": "stream",
          "name": "stdout",
          "text": [
            "Train Epoch: 8 [69000/80000 (86%)]\tLoss: 0.343449\n"
          ]
        },
        {
          "output_type": "stream",
          "name": "stderr",
          "text": [
            "Epoch 8:  88%|████████▊ | 701/800 [01:15<00:10,  9.27batch/s, loss=0.499]"
          ]
        },
        {
          "output_type": "stream",
          "name": "stdout",
          "text": [
            "Train Epoch: 8 [70000/80000 (88%)]\tLoss: 0.429691\n"
          ]
        },
        {
          "output_type": "stream",
          "name": "stderr",
          "text": [
            "Epoch 8:  89%|████████▉ | 711/800 [01:16<00:09,  9.28batch/s, loss=0.377]"
          ]
        },
        {
          "output_type": "stream",
          "name": "stdout",
          "text": [
            "Train Epoch: 8 [71000/80000 (89%)]\tLoss: 0.383738\n"
          ]
        },
        {
          "output_type": "stream",
          "name": "stderr",
          "text": [
            "Epoch 8:  90%|█████████ | 721/800 [01:17<00:08,  9.31batch/s, loss=0.499]"
          ]
        },
        {
          "output_type": "stream",
          "name": "stdout",
          "text": [
            "Train Epoch: 8 [72000/80000 (90%)]\tLoss: 0.442969\n"
          ]
        },
        {
          "output_type": "stream",
          "name": "stderr",
          "text": [
            "Epoch 8:  91%|█████████▏| 731/800 [01:18<00:07,  9.32batch/s, loss=0.438]"
          ]
        },
        {
          "output_type": "stream",
          "name": "stdout",
          "text": [
            "Train Epoch: 8 [73000/80000 (91%)]\tLoss: 0.484248\n"
          ]
        },
        {
          "output_type": "stream",
          "name": "stderr",
          "text": [
            "Epoch 8:  93%|█████████▎| 741/800 [01:19<00:06,  9.31batch/s, loss=0.456]"
          ]
        },
        {
          "output_type": "stream",
          "name": "stdout",
          "text": [
            "Train Epoch: 8 [74000/80000 (92%)]\tLoss: 0.556574\n"
          ]
        },
        {
          "output_type": "stream",
          "name": "stderr",
          "text": [
            "Epoch 8:  94%|█████████▍| 751/800 [01:20<00:05,  9.30batch/s, loss=0.515]"
          ]
        },
        {
          "output_type": "stream",
          "name": "stdout",
          "text": [
            "Train Epoch: 8 [75000/80000 (94%)]\tLoss: 0.413355\n"
          ]
        },
        {
          "output_type": "stream",
          "name": "stderr",
          "text": [
            "Epoch 8:  95%|█████████▌| 761/800 [01:21<00:04,  9.28batch/s, loss=0.452]"
          ]
        },
        {
          "output_type": "stream",
          "name": "stdout",
          "text": [
            "Train Epoch: 8 [76000/80000 (95%)]\tLoss: 0.411910\n"
          ]
        },
        {
          "output_type": "stream",
          "name": "stderr",
          "text": [
            "Epoch 8:  96%|█████████▋| 771/800 [01:22<00:03,  9.27batch/s, loss=0.443]"
          ]
        },
        {
          "output_type": "stream",
          "name": "stdout",
          "text": [
            "Train Epoch: 8 [77000/80000 (96%)]\tLoss: 0.558290\n"
          ]
        },
        {
          "output_type": "stream",
          "name": "stderr",
          "text": [
            "Epoch 8:  98%|█████████▊| 781/800 [01:24<00:02,  9.26batch/s, loss=0.439]"
          ]
        },
        {
          "output_type": "stream",
          "name": "stdout",
          "text": [
            "Train Epoch: 8 [78000/80000 (98%)]\tLoss: 0.478632\n"
          ]
        },
        {
          "output_type": "stream",
          "name": "stderr",
          "text": [
            "Epoch 8:  99%|█████████▉| 791/800 [01:25<00:00,  9.28batch/s, loss=0.394]"
          ]
        },
        {
          "output_type": "stream",
          "name": "stdout",
          "text": [
            "Train Epoch: 8 [79000/80000 (99%)]\tLoss: 0.461493\n"
          ]
        },
        {
          "output_type": "stream",
          "name": "stderr",
          "text": [
            "Epoch 8: 100%|██████████| 800/800 [01:26<00:00,  9.29batch/s, loss=0.394]\n"
          ]
        },
        {
          "output_type": "stream",
          "name": "stdout",
          "text": [
            "\n",
            "Test set: Average loss: 0.4464, Accuracy: 15855/20000 (79.275%)\n",
            "\n"
          ]
        },
        {
          "output_type": "stream",
          "name": "stderr",
          "text": [
            "Epoch 9:   0%|          | 1/800 [00:00<01:30,  8.84batch/s, loss=0.477]"
          ]
        },
        {
          "output_type": "stream",
          "name": "stdout",
          "text": [
            "Train Epoch: 9 [0/80000 (0%)]\tLoss: 0.460020\n"
          ]
        },
        {
          "output_type": "stream",
          "name": "stderr",
          "text": [
            "Epoch 9:   1%|▏         | 11/800 [00:01<01:25,  9.26batch/s, loss=0.49] "
          ]
        },
        {
          "output_type": "stream",
          "name": "stdout",
          "text": [
            "Train Epoch: 9 [1000/80000 (1%)]\tLoss: 0.452363\n"
          ]
        },
        {
          "output_type": "stream",
          "name": "stderr",
          "text": [
            "Epoch 9:   3%|▎         | 21/800 [00:02<01:24,  9.23batch/s, loss=0.449]"
          ]
        },
        {
          "output_type": "stream",
          "name": "stdout",
          "text": [
            "Train Epoch: 9 [2000/80000 (2%)]\tLoss: 0.456761\n"
          ]
        },
        {
          "output_type": "stream",
          "name": "stderr",
          "text": [
            "Epoch 9:   4%|▍         | 31/800 [00:03<01:22,  9.31batch/s, loss=0.39] "
          ]
        },
        {
          "output_type": "stream",
          "name": "stdout",
          "text": [
            "Train Epoch: 9 [3000/80000 (4%)]\tLoss: 0.357872\n"
          ]
        },
        {
          "output_type": "stream",
          "name": "stderr",
          "text": [
            "Epoch 9:   5%|▌         | 41/800 [00:04<01:22,  9.25batch/s, loss=0.444]"
          ]
        },
        {
          "output_type": "stream",
          "name": "stdout",
          "text": [
            "Train Epoch: 9 [4000/80000 (5%)]\tLoss: 0.471163\n"
          ]
        },
        {
          "output_type": "stream",
          "name": "stderr",
          "text": [
            "Epoch 9:   6%|▋         | 51/800 [00:05<01:20,  9.28batch/s, loss=0.505]"
          ]
        },
        {
          "output_type": "stream",
          "name": "stdout",
          "text": [
            "Train Epoch: 9 [5000/80000 (6%)]\tLoss: 0.394036\n"
          ]
        },
        {
          "output_type": "stream",
          "name": "stderr",
          "text": [
            "Epoch 9:   8%|▊         | 61/800 [00:06<01:19,  9.28batch/s, loss=0.418]"
          ]
        },
        {
          "output_type": "stream",
          "name": "stdout",
          "text": [
            "Train Epoch: 9 [6000/80000 (8%)]\tLoss: 0.409148\n"
          ]
        },
        {
          "output_type": "stream",
          "name": "stderr",
          "text": [
            "Epoch 9:   9%|▉         | 71/800 [00:07<01:18,  9.31batch/s, loss=0.49] "
          ]
        },
        {
          "output_type": "stream",
          "name": "stdout",
          "text": [
            "Train Epoch: 9 [7000/80000 (9%)]\tLoss: 0.442198\n"
          ]
        },
        {
          "output_type": "stream",
          "name": "stderr",
          "text": [
            "Epoch 9:  10%|█         | 81/800 [00:08<01:17,  9.30batch/s, loss=0.501]"
          ]
        },
        {
          "output_type": "stream",
          "name": "stdout",
          "text": [
            "Train Epoch: 9 [8000/80000 (10%)]\tLoss: 0.457579\n"
          ]
        },
        {
          "output_type": "stream",
          "name": "stderr",
          "text": [
            "Epoch 9:  11%|█▏        | 91/800 [00:09<01:16,  9.26batch/s, loss=0.51] "
          ]
        },
        {
          "output_type": "stream",
          "name": "stdout",
          "text": [
            "Train Epoch: 9 [9000/80000 (11%)]\tLoss: 0.469346\n"
          ]
        },
        {
          "output_type": "stream",
          "name": "stderr",
          "text": [
            "Epoch 9:  13%|█▎        | 101/800 [00:10<01:14,  9.33batch/s, loss=0.497]"
          ]
        },
        {
          "output_type": "stream",
          "name": "stdout",
          "text": [
            "Train Epoch: 9 [10000/80000 (12%)]\tLoss: 0.415187\n"
          ]
        },
        {
          "output_type": "stream",
          "name": "stderr",
          "text": [
            "Epoch 9:  14%|█▍        | 111/800 [00:11<01:13,  9.32batch/s, loss=0.48] "
          ]
        },
        {
          "output_type": "stream",
          "name": "stdout",
          "text": [
            "Train Epoch: 9 [11000/80000 (14%)]\tLoss: 0.384126\n"
          ]
        },
        {
          "output_type": "stream",
          "name": "stderr",
          "text": [
            "Epoch 9:  15%|█▌        | 121/800 [00:13<01:12,  9.32batch/s, loss=0.496]"
          ]
        },
        {
          "output_type": "stream",
          "name": "stdout",
          "text": [
            "Train Epoch: 9 [12000/80000 (15%)]\tLoss: 0.477329\n"
          ]
        },
        {
          "output_type": "stream",
          "name": "stderr",
          "text": [
            "Epoch 9:  16%|█▋        | 131/800 [00:14<01:11,  9.32batch/s, loss=0.424]"
          ]
        },
        {
          "output_type": "stream",
          "name": "stdout",
          "text": [
            "Train Epoch: 9 [13000/80000 (16%)]\tLoss: 0.442754\n"
          ]
        },
        {
          "output_type": "stream",
          "name": "stderr",
          "text": [
            "Epoch 9:  18%|█▊        | 141/800 [00:15<01:11,  9.28batch/s, loss=0.505]"
          ]
        },
        {
          "output_type": "stream",
          "name": "stdout",
          "text": [
            "Train Epoch: 9 [14000/80000 (18%)]\tLoss: 0.384049\n"
          ]
        },
        {
          "output_type": "stream",
          "name": "stderr",
          "text": [
            "Epoch 9:  19%|█▉        | 151/800 [00:16<01:09,  9.28batch/s, loss=0.521]"
          ]
        },
        {
          "output_type": "stream",
          "name": "stdout",
          "text": [
            "Train Epoch: 9 [15000/80000 (19%)]\tLoss: 0.398868\n"
          ]
        },
        {
          "output_type": "stream",
          "name": "stderr",
          "text": [
            "Epoch 9:  20%|██        | 161/800 [00:17<01:08,  9.30batch/s, loss=0.37] "
          ]
        },
        {
          "output_type": "stream",
          "name": "stdout",
          "text": [
            "Train Epoch: 9 [16000/80000 (20%)]\tLoss: 0.481070\n"
          ]
        },
        {
          "output_type": "stream",
          "name": "stderr",
          "text": [
            "Epoch 9:  21%|██▏       | 171/800 [00:18<01:07,  9.33batch/s, loss=0.526]"
          ]
        },
        {
          "output_type": "stream",
          "name": "stdout",
          "text": [
            "Train Epoch: 9 [17000/80000 (21%)]\tLoss: 0.446029\n"
          ]
        },
        {
          "output_type": "stream",
          "name": "stderr",
          "text": [
            "Epoch 9:  23%|██▎       | 181/800 [00:19<01:06,  9.26batch/s, loss=0.501]"
          ]
        },
        {
          "output_type": "stream",
          "name": "stdout",
          "text": [
            "Train Epoch: 9 [18000/80000 (22%)]\tLoss: 0.382252\n"
          ]
        },
        {
          "output_type": "stream",
          "name": "stderr",
          "text": [
            "Epoch 9:  24%|██▍       | 191/800 [00:20<01:05,  9.28batch/s, loss=0.415]"
          ]
        },
        {
          "output_type": "stream",
          "name": "stdout",
          "text": [
            "Train Epoch: 9 [19000/80000 (24%)]\tLoss: 0.509868\n"
          ]
        },
        {
          "output_type": "stream",
          "name": "stderr",
          "text": [
            "Epoch 9:  25%|██▌       | 201/800 [00:21<01:04,  9.28batch/s, loss=0.363]"
          ]
        },
        {
          "output_type": "stream",
          "name": "stdout",
          "text": [
            "Train Epoch: 9 [20000/80000 (25%)]\tLoss: 0.452841\n"
          ]
        },
        {
          "output_type": "stream",
          "name": "stderr",
          "text": [
            "Epoch 9:  26%|██▋       | 211/800 [00:22<01:03,  9.23batch/s, loss=0.452]"
          ]
        },
        {
          "output_type": "stream",
          "name": "stdout",
          "text": [
            "Train Epoch: 9 [21000/80000 (26%)]\tLoss: 0.508766\n"
          ]
        },
        {
          "output_type": "stream",
          "name": "stderr",
          "text": [
            "Epoch 9:  28%|██▊       | 221/800 [00:23<01:02,  9.33batch/s, loss=0.441]"
          ]
        },
        {
          "output_type": "stream",
          "name": "stdout",
          "text": [
            "Train Epoch: 9 [22000/80000 (28%)]\tLoss: 0.426451\n"
          ]
        },
        {
          "output_type": "stream",
          "name": "stderr",
          "text": [
            "Epoch 9:  29%|██▉       | 231/800 [00:24<01:01,  9.29batch/s, loss=0.475]"
          ]
        },
        {
          "output_type": "stream",
          "name": "stdout",
          "text": [
            "Train Epoch: 9 [23000/80000 (29%)]\tLoss: 0.439110\n"
          ]
        },
        {
          "output_type": "stream",
          "name": "stderr",
          "text": [
            "Epoch 9:  30%|███       | 241/800 [00:25<01:00,  9.30batch/s, loss=0.451]"
          ]
        },
        {
          "output_type": "stream",
          "name": "stdout",
          "text": [
            "Train Epoch: 9 [24000/80000 (30%)]\tLoss: 0.432393\n"
          ]
        },
        {
          "output_type": "stream",
          "name": "stderr",
          "text": [
            "Epoch 9:  31%|███▏      | 251/800 [00:27<00:58,  9.31batch/s, loss=0.454]"
          ]
        },
        {
          "output_type": "stream",
          "name": "stdout",
          "text": [
            "Train Epoch: 9 [25000/80000 (31%)]\tLoss: 0.410820\n"
          ]
        },
        {
          "output_type": "stream",
          "name": "stderr",
          "text": [
            "Epoch 9:  33%|███▎      | 261/800 [00:28<00:58,  9.27batch/s, loss=0.404]"
          ]
        },
        {
          "output_type": "stream",
          "name": "stdout",
          "text": [
            "Train Epoch: 9 [26000/80000 (32%)]\tLoss: 0.424153\n"
          ]
        },
        {
          "output_type": "stream",
          "name": "stderr",
          "text": [
            "Epoch 9:  34%|███▍      | 271/800 [00:29<00:56,  9.30batch/s, loss=0.505]"
          ]
        },
        {
          "output_type": "stream",
          "name": "stdout",
          "text": [
            "Train Epoch: 9 [27000/80000 (34%)]\tLoss: 0.457023\n"
          ]
        },
        {
          "output_type": "stream",
          "name": "stderr",
          "text": [
            "Epoch 9:  35%|███▌      | 281/800 [00:30<00:55,  9.28batch/s, loss=0.495]"
          ]
        },
        {
          "output_type": "stream",
          "name": "stdout",
          "text": [
            "Train Epoch: 9 [28000/80000 (35%)]\tLoss: 0.486687\n"
          ]
        },
        {
          "output_type": "stream",
          "name": "stderr",
          "text": [
            "Epoch 9:  36%|███▋      | 291/800 [00:31<00:54,  9.34batch/s, loss=0.342]"
          ]
        },
        {
          "output_type": "stream",
          "name": "stdout",
          "text": [
            "Train Epoch: 9 [29000/80000 (36%)]\tLoss: 0.428157\n"
          ]
        },
        {
          "output_type": "stream",
          "name": "stderr",
          "text": [
            "Epoch 9:  38%|███▊      | 301/800 [00:32<00:53,  9.25batch/s, loss=0.443]"
          ]
        },
        {
          "output_type": "stream",
          "name": "stdout",
          "text": [
            "Train Epoch: 9 [30000/80000 (38%)]\tLoss: 0.472421\n"
          ]
        },
        {
          "output_type": "stream",
          "name": "stderr",
          "text": [
            "Epoch 9:  39%|███▉      | 311/800 [00:33<00:52,  9.26batch/s, loss=0.437]"
          ]
        },
        {
          "output_type": "stream",
          "name": "stdout",
          "text": [
            "Train Epoch: 9 [31000/80000 (39%)]\tLoss: 0.382391\n"
          ]
        },
        {
          "output_type": "stream",
          "name": "stderr",
          "text": [
            "Epoch 9:  40%|████      | 321/800 [00:34<00:51,  9.31batch/s, loss=0.412]"
          ]
        },
        {
          "output_type": "stream",
          "name": "stdout",
          "text": [
            "Train Epoch: 9 [32000/80000 (40%)]\tLoss: 0.493373\n"
          ]
        },
        {
          "output_type": "stream",
          "name": "stderr",
          "text": [
            "Epoch 9:  41%|████▏     | 331/800 [00:35<00:50,  9.21batch/s, loss=0.433]"
          ]
        },
        {
          "output_type": "stream",
          "name": "stdout",
          "text": [
            "Train Epoch: 9 [33000/80000 (41%)]\tLoss: 0.439862\n"
          ]
        },
        {
          "output_type": "stream",
          "name": "stderr",
          "text": [
            "Epoch 9:  43%|████▎     | 341/800 [00:36<00:49,  9.25batch/s, loss=0.441]"
          ]
        },
        {
          "output_type": "stream",
          "name": "stdout",
          "text": [
            "Train Epoch: 9 [34000/80000 (42%)]\tLoss: 0.418536\n"
          ]
        },
        {
          "output_type": "stream",
          "name": "stderr",
          "text": [
            "Epoch 9:  44%|████▍     | 351/800 [00:37<00:48,  9.20batch/s, loss=0.503]"
          ]
        },
        {
          "output_type": "stream",
          "name": "stdout",
          "text": [
            "Train Epoch: 9 [35000/80000 (44%)]\tLoss: 0.500726\n"
          ]
        },
        {
          "output_type": "stream",
          "name": "stderr",
          "text": [
            "Epoch 9:  45%|████▌     | 361/800 [00:38<00:47,  9.24batch/s, loss=0.45] "
          ]
        },
        {
          "output_type": "stream",
          "name": "stdout",
          "text": [
            "Train Epoch: 9 [36000/80000 (45%)]\tLoss: 0.440870\n"
          ]
        },
        {
          "output_type": "stream",
          "name": "stderr",
          "text": [
            "Epoch 9:  46%|████▋     | 371/800 [00:39<00:46,  9.27batch/s, loss=0.494]"
          ]
        },
        {
          "output_type": "stream",
          "name": "stdout",
          "text": [
            "Train Epoch: 9 [37000/80000 (46%)]\tLoss: 0.406016\n"
          ]
        },
        {
          "output_type": "stream",
          "name": "stderr",
          "text": [
            "Epoch 9:  48%|████▊     | 381/800 [00:40<00:45,  9.30batch/s, loss=0.411]"
          ]
        },
        {
          "output_type": "stream",
          "name": "stdout",
          "text": [
            "Train Epoch: 9 [38000/80000 (48%)]\tLoss: 0.434675\n"
          ]
        },
        {
          "output_type": "stream",
          "name": "stderr",
          "text": [
            "Epoch 9:  49%|████▉     | 391/800 [00:42<00:44,  9.25batch/s, loss=0.415]"
          ]
        },
        {
          "output_type": "stream",
          "name": "stdout",
          "text": [
            "Train Epoch: 9 [39000/80000 (49%)]\tLoss: 0.468492\n"
          ]
        },
        {
          "output_type": "stream",
          "name": "stderr",
          "text": [
            "Epoch 9:  50%|█████     | 401/800 [00:43<00:42,  9.29batch/s, loss=0.437]"
          ]
        },
        {
          "output_type": "stream",
          "name": "stdout",
          "text": [
            "Train Epoch: 9 [40000/80000 (50%)]\tLoss: 0.361097\n"
          ]
        },
        {
          "output_type": "stream",
          "name": "stderr",
          "text": [
            "Epoch 9:  51%|█████▏    | 411/800 [00:44<00:42,  9.26batch/s, loss=0.473]"
          ]
        },
        {
          "output_type": "stream",
          "name": "stdout",
          "text": [
            "Train Epoch: 9 [41000/80000 (51%)]\tLoss: 0.522057\n"
          ]
        },
        {
          "output_type": "stream",
          "name": "stderr",
          "text": [
            "Epoch 9:  53%|█████▎    | 421/800 [00:45<00:41,  9.23batch/s, loss=0.502]"
          ]
        },
        {
          "output_type": "stream",
          "name": "stdout",
          "text": [
            "Train Epoch: 9 [42000/80000 (52%)]\tLoss: 0.425892\n"
          ]
        },
        {
          "output_type": "stream",
          "name": "stderr",
          "text": [
            "Epoch 9:  54%|█████▍    | 431/800 [00:46<00:39,  9.28batch/s, loss=0.464]"
          ]
        },
        {
          "output_type": "stream",
          "name": "stdout",
          "text": [
            "Train Epoch: 9 [43000/80000 (54%)]\tLoss: 0.416435\n"
          ]
        },
        {
          "output_type": "stream",
          "name": "stderr",
          "text": [
            "Epoch 9:  55%|█████▌    | 441/800 [00:47<00:38,  9.34batch/s, loss=0.446]"
          ]
        },
        {
          "output_type": "stream",
          "name": "stdout",
          "text": [
            "Train Epoch: 9 [44000/80000 (55%)]\tLoss: 0.303855\n"
          ]
        },
        {
          "output_type": "stream",
          "name": "stderr",
          "text": [
            "Epoch 9:  56%|█████▋    | 451/800 [00:48<00:37,  9.19batch/s, loss=0.442]"
          ]
        },
        {
          "output_type": "stream",
          "name": "stdout",
          "text": [
            "Train Epoch: 9 [45000/80000 (56%)]\tLoss: 0.404752\n"
          ]
        },
        {
          "output_type": "stream",
          "name": "stderr",
          "text": [
            "Epoch 9:  58%|█████▊    | 461/800 [00:49<00:36,  9.30batch/s, loss=0.45] "
          ]
        },
        {
          "output_type": "stream",
          "name": "stdout",
          "text": [
            "Train Epoch: 9 [46000/80000 (58%)]\tLoss: 0.506582\n"
          ]
        },
        {
          "output_type": "stream",
          "name": "stderr",
          "text": [
            "Epoch 9:  59%|█████▉    | 471/800 [00:50<00:35,  9.24batch/s, loss=0.416]"
          ]
        },
        {
          "output_type": "stream",
          "name": "stdout",
          "text": [
            "Train Epoch: 9 [47000/80000 (59%)]\tLoss: 0.444171\n"
          ]
        },
        {
          "output_type": "stream",
          "name": "stderr",
          "text": [
            "Epoch 9:  60%|██████    | 481/800 [00:51<00:34,  9.29batch/s, loss=0.456]"
          ]
        },
        {
          "output_type": "stream",
          "name": "stdout",
          "text": [
            "Train Epoch: 9 [48000/80000 (60%)]\tLoss: 0.353151\n"
          ]
        },
        {
          "output_type": "stream",
          "name": "stderr",
          "text": [
            "Epoch 9:  61%|██████▏   | 491/800 [00:52<00:33,  9.27batch/s, loss=0.503]"
          ]
        },
        {
          "output_type": "stream",
          "name": "stdout",
          "text": [
            "Train Epoch: 9 [49000/80000 (61%)]\tLoss: 0.316402\n"
          ]
        },
        {
          "output_type": "stream",
          "name": "stderr",
          "text": [
            "Epoch 9:  63%|██████▎   | 501/800 [00:53<00:32,  9.29batch/s, loss=0.426]"
          ]
        },
        {
          "output_type": "stream",
          "name": "stdout",
          "text": [
            "Train Epoch: 9 [50000/80000 (62%)]\tLoss: 0.655022\n"
          ]
        },
        {
          "output_type": "stream",
          "name": "stderr",
          "text": [
            "Epoch 9:  64%|██████▍   | 511/800 [00:54<00:31,  9.28batch/s, loss=0.386]"
          ]
        },
        {
          "output_type": "stream",
          "name": "stdout",
          "text": [
            "Train Epoch: 9 [51000/80000 (64%)]\tLoss: 0.417239\n"
          ]
        },
        {
          "output_type": "stream",
          "name": "stderr",
          "text": [
            "Epoch 9:  65%|██████▌   | 521/800 [00:56<00:30,  9.23batch/s, loss=0.455]"
          ]
        },
        {
          "output_type": "stream",
          "name": "stdout",
          "text": [
            "Train Epoch: 9 [52000/80000 (65%)]\tLoss: 0.477805\n"
          ]
        },
        {
          "output_type": "stream",
          "name": "stderr",
          "text": [
            "Epoch 9:  66%|██████▋   | 531/800 [00:57<00:29,  9.27batch/s, loss=0.445]"
          ]
        },
        {
          "output_type": "stream",
          "name": "stdout",
          "text": [
            "Train Epoch: 9 [53000/80000 (66%)]\tLoss: 0.452213\n"
          ]
        },
        {
          "output_type": "stream",
          "name": "stderr",
          "text": [
            "Epoch 9:  68%|██████▊   | 541/800 [00:58<00:27,  9.29batch/s, loss=0.444]"
          ]
        },
        {
          "output_type": "stream",
          "name": "stdout",
          "text": [
            "Train Epoch: 9 [54000/80000 (68%)]\tLoss: 0.516539\n"
          ]
        },
        {
          "output_type": "stream",
          "name": "stderr",
          "text": [
            "Epoch 9:  69%|██████▉   | 551/800 [00:59<00:26,  9.24batch/s, loss=0.407]"
          ]
        },
        {
          "output_type": "stream",
          "name": "stdout",
          "text": [
            "Train Epoch: 9 [55000/80000 (69%)]\tLoss: 0.430369\n"
          ]
        },
        {
          "output_type": "stream",
          "name": "stderr",
          "text": [
            "Epoch 9:  70%|███████   | 561/800 [01:00<00:25,  9.25batch/s, loss=0.442]"
          ]
        },
        {
          "output_type": "stream",
          "name": "stdout",
          "text": [
            "Train Epoch: 9 [56000/80000 (70%)]\tLoss: 0.487569\n"
          ]
        },
        {
          "output_type": "stream",
          "name": "stderr",
          "text": [
            "Epoch 9:  71%|███████▏  | 571/800 [01:01<00:24,  9.29batch/s, loss=0.44] "
          ]
        },
        {
          "output_type": "stream",
          "name": "stdout",
          "text": [
            "Train Epoch: 9 [57000/80000 (71%)]\tLoss: 0.460812\n"
          ]
        },
        {
          "output_type": "stream",
          "name": "stderr",
          "text": [
            "Epoch 9:  73%|███████▎  | 581/800 [01:02<00:23,  9.29batch/s, loss=0.445]"
          ]
        },
        {
          "output_type": "stream",
          "name": "stdout",
          "text": [
            "Train Epoch: 9 [58000/80000 (72%)]\tLoss: 0.347321\n"
          ]
        },
        {
          "output_type": "stream",
          "name": "stderr",
          "text": [
            "Epoch 9:  74%|███████▍  | 591/800 [01:03<00:22,  9.31batch/s, loss=0.493]"
          ]
        },
        {
          "output_type": "stream",
          "name": "stdout",
          "text": [
            "Train Epoch: 9 [59000/80000 (74%)]\tLoss: 0.418830\n"
          ]
        },
        {
          "output_type": "stream",
          "name": "stderr",
          "text": [
            "Epoch 9:  75%|███████▌  | 601/800 [01:04<00:21,  9.31batch/s, loss=0.355]"
          ]
        },
        {
          "output_type": "stream",
          "name": "stdout",
          "text": [
            "Train Epoch: 9 [60000/80000 (75%)]\tLoss: 0.428978\n"
          ]
        },
        {
          "output_type": "stream",
          "name": "stderr",
          "text": [
            "Epoch 9:  76%|███████▋  | 611/800 [01:05<00:20,  9.28batch/s, loss=0.434]"
          ]
        },
        {
          "output_type": "stream",
          "name": "stdout",
          "text": [
            "Train Epoch: 9 [61000/80000 (76%)]\tLoss: 0.326661\n"
          ]
        },
        {
          "output_type": "stream",
          "name": "stderr",
          "text": [
            "Epoch 9:  78%|███████▊  | 621/800 [01:06<00:19,  9.28batch/s, loss=0.378]"
          ]
        },
        {
          "output_type": "stream",
          "name": "stdout",
          "text": [
            "Train Epoch: 9 [62000/80000 (78%)]\tLoss: 0.421076\n"
          ]
        },
        {
          "output_type": "stream",
          "name": "stderr",
          "text": [
            "Epoch 9:  79%|███████▉  | 631/800 [01:07<00:18,  9.27batch/s, loss=0.377]"
          ]
        },
        {
          "output_type": "stream",
          "name": "stdout",
          "text": [
            "Train Epoch: 9 [63000/80000 (79%)]\tLoss: 0.414556\n"
          ]
        },
        {
          "output_type": "stream",
          "name": "stderr",
          "text": [
            "Epoch 9:  80%|████████  | 641/800 [01:08<00:17,  9.28batch/s, loss=0.511]"
          ]
        },
        {
          "output_type": "stream",
          "name": "stdout",
          "text": [
            "Train Epoch: 9 [64000/80000 (80%)]\tLoss: 0.410245\n"
          ]
        },
        {
          "output_type": "stream",
          "name": "stderr",
          "text": [
            "Epoch 9:  81%|████████▏ | 651/800 [01:10<00:16,  9.25batch/s, loss=0.465]"
          ]
        },
        {
          "output_type": "stream",
          "name": "stdout",
          "text": [
            "Train Epoch: 9 [65000/80000 (81%)]\tLoss: 0.471986\n"
          ]
        },
        {
          "output_type": "stream",
          "name": "stderr",
          "text": [
            "Epoch 9:  83%|████████▎ | 661/800 [01:11<00:15,  9.20batch/s, loss=0.446]"
          ]
        },
        {
          "output_type": "stream",
          "name": "stdout",
          "text": [
            "Train Epoch: 9 [66000/80000 (82%)]\tLoss: 0.366790\n"
          ]
        },
        {
          "output_type": "stream",
          "name": "stderr",
          "text": [
            "Epoch 9:  84%|████████▍ | 671/800 [01:12<00:13,  9.25batch/s, loss=0.604]"
          ]
        },
        {
          "output_type": "stream",
          "name": "stdout",
          "text": [
            "Train Epoch: 9 [67000/80000 (84%)]\tLoss: 0.385909\n"
          ]
        },
        {
          "output_type": "stream",
          "name": "stderr",
          "text": [
            "Epoch 9:  85%|████████▌ | 681/800 [01:13<00:12,  9.18batch/s, loss=0.359]"
          ]
        },
        {
          "output_type": "stream",
          "name": "stdout",
          "text": [
            "Train Epoch: 9 [68000/80000 (85%)]\tLoss: 0.462072\n"
          ]
        },
        {
          "output_type": "stream",
          "name": "stderr",
          "text": [
            "Epoch 9:  86%|████████▋ | 691/800 [01:14<00:11,  9.20batch/s, loss=0.424]"
          ]
        },
        {
          "output_type": "stream",
          "name": "stdout",
          "text": [
            "Train Epoch: 9 [69000/80000 (86%)]\tLoss: 0.443482\n"
          ]
        },
        {
          "output_type": "stream",
          "name": "stderr",
          "text": [
            "Epoch 9:  88%|████████▊ | 701/800 [01:15<00:10,  9.19batch/s, loss=0.465]"
          ]
        },
        {
          "output_type": "stream",
          "name": "stdout",
          "text": [
            "Train Epoch: 9 [70000/80000 (88%)]\tLoss: 0.520431\n"
          ]
        },
        {
          "output_type": "stream",
          "name": "stderr",
          "text": [
            "Epoch 9:  89%|████████▉ | 711/800 [01:16<00:09,  9.20batch/s, loss=0.458]"
          ]
        },
        {
          "output_type": "stream",
          "name": "stdout",
          "text": [
            "Train Epoch: 9 [71000/80000 (89%)]\tLoss: 0.420927\n"
          ]
        },
        {
          "output_type": "stream",
          "name": "stderr",
          "text": [
            "Epoch 9:  90%|█████████ | 721/800 [01:17<00:08,  9.22batch/s, loss=0.506]"
          ]
        },
        {
          "output_type": "stream",
          "name": "stdout",
          "text": [
            "Train Epoch: 9 [72000/80000 (90%)]\tLoss: 0.369766\n"
          ]
        },
        {
          "output_type": "stream",
          "name": "stderr",
          "text": [
            "Epoch 9:  91%|█████████▏| 731/800 [01:18<00:07,  9.20batch/s, loss=0.403]"
          ]
        },
        {
          "output_type": "stream",
          "name": "stdout",
          "text": [
            "Train Epoch: 9 [73000/80000 (91%)]\tLoss: 0.404572\n"
          ]
        },
        {
          "output_type": "stream",
          "name": "stderr",
          "text": [
            "Epoch 9:  93%|█████████▎| 741/800 [01:19<00:06,  9.25batch/s, loss=0.453]"
          ]
        },
        {
          "output_type": "stream",
          "name": "stdout",
          "text": [
            "Train Epoch: 9 [74000/80000 (92%)]\tLoss: 0.409852\n"
          ]
        },
        {
          "output_type": "stream",
          "name": "stderr",
          "text": [
            "Epoch 9:  94%|█████████▍| 751/800 [01:20<00:05,  9.29batch/s, loss=0.448]"
          ]
        },
        {
          "output_type": "stream",
          "name": "stdout",
          "text": [
            "Train Epoch: 9 [75000/80000 (94%)]\tLoss: 0.425512\n"
          ]
        },
        {
          "output_type": "stream",
          "name": "stderr",
          "text": [
            "Epoch 9:  95%|█████████▌| 761/800 [01:21<00:04,  9.30batch/s, loss=0.449]"
          ]
        },
        {
          "output_type": "stream",
          "name": "stdout",
          "text": [
            "Train Epoch: 9 [76000/80000 (95%)]\tLoss: 0.457303\n"
          ]
        },
        {
          "output_type": "stream",
          "name": "stderr",
          "text": [
            "Epoch 9:  96%|█████████▋| 771/800 [01:23<00:03,  9.30batch/s, loss=0.383]"
          ]
        },
        {
          "output_type": "stream",
          "name": "stdout",
          "text": [
            "Train Epoch: 9 [77000/80000 (96%)]\tLoss: 0.466597\n"
          ]
        },
        {
          "output_type": "stream",
          "name": "stderr",
          "text": [
            "Epoch 9:  98%|█████████▊| 781/800 [01:24<00:02,  9.31batch/s, loss=0.302]"
          ]
        },
        {
          "output_type": "stream",
          "name": "stdout",
          "text": [
            "Train Epoch: 9 [78000/80000 (98%)]\tLoss: 0.506708\n"
          ]
        },
        {
          "output_type": "stream",
          "name": "stderr",
          "text": [
            "Epoch 9:  99%|█████████▉| 791/800 [01:25<00:00,  9.30batch/s, loss=0.473]"
          ]
        },
        {
          "output_type": "stream",
          "name": "stdout",
          "text": [
            "Train Epoch: 9 [79000/80000 (99%)]\tLoss: 0.448553\n"
          ]
        },
        {
          "output_type": "stream",
          "name": "stderr",
          "text": [
            "Epoch 9: 100%|██████████| 800/800 [01:26<00:00,  9.28batch/s, loss=0.423]\n"
          ]
        },
        {
          "output_type": "stream",
          "name": "stdout",
          "text": [
            "\n",
            "Test set: Average loss: 0.4482, Accuracy: 15858/20000 (79.290%)\n",
            "\n"
          ]
        },
        {
          "output_type": "stream",
          "name": "stderr",
          "text": [
            "Epoch 10:   0%|          | 1/800 [00:00<01:29,  8.90batch/s, loss=0.423]"
          ]
        },
        {
          "output_type": "stream",
          "name": "stdout",
          "text": [
            "Train Epoch: 10 [0/80000 (0%)]\tLoss: 0.478087\n"
          ]
        },
        {
          "output_type": "stream",
          "name": "stderr",
          "text": [
            "Epoch 10:   1%|▏         | 11/800 [00:01<01:25,  9.28batch/s, loss=0.465]"
          ]
        },
        {
          "output_type": "stream",
          "name": "stdout",
          "text": [
            "Train Epoch: 10 [1000/80000 (1%)]\tLoss: 0.400771\n"
          ]
        },
        {
          "output_type": "stream",
          "name": "stderr",
          "text": [
            "Epoch 10:   3%|▎         | 21/800 [00:02<01:23,  9.30batch/s, loss=0.381]"
          ]
        },
        {
          "output_type": "stream",
          "name": "stdout",
          "text": [
            "Train Epoch: 10 [2000/80000 (2%)]\tLoss: 0.387316\n"
          ]
        },
        {
          "output_type": "stream",
          "name": "stderr",
          "text": [
            "Epoch 10:   4%|▍         | 31/800 [00:03<01:22,  9.27batch/s, loss=0.443]"
          ]
        },
        {
          "output_type": "stream",
          "name": "stdout",
          "text": [
            "Train Epoch: 10 [3000/80000 (4%)]\tLoss: 0.441181\n"
          ]
        },
        {
          "output_type": "stream",
          "name": "stderr",
          "text": [
            "Epoch 10:   5%|▌         | 41/800 [00:04<01:21,  9.33batch/s, loss=0.411]"
          ]
        },
        {
          "output_type": "stream",
          "name": "stdout",
          "text": [
            "Train Epoch: 10 [4000/80000 (5%)]\tLoss: 0.434739\n"
          ]
        },
        {
          "output_type": "stream",
          "name": "stderr",
          "text": [
            "Epoch 10:   6%|▋         | 51/800 [00:05<01:20,  9.32batch/s, loss=0.442]"
          ]
        },
        {
          "output_type": "stream",
          "name": "stdout",
          "text": [
            "Train Epoch: 10 [5000/80000 (6%)]\tLoss: 0.444264\n"
          ]
        },
        {
          "output_type": "stream",
          "name": "stderr",
          "text": [
            "Epoch 10:   8%|▊         | 61/800 [00:06<01:19,  9.33batch/s, loss=0.482]"
          ]
        },
        {
          "output_type": "stream",
          "name": "stdout",
          "text": [
            "Train Epoch: 10 [6000/80000 (8%)]\tLoss: 0.408632\n"
          ]
        },
        {
          "output_type": "stream",
          "name": "stderr",
          "text": [
            "Epoch 10:   9%|▉         | 71/800 [00:07<01:18,  9.29batch/s, loss=0.409]"
          ]
        },
        {
          "output_type": "stream",
          "name": "stdout",
          "text": [
            "Train Epoch: 10 [7000/80000 (9%)]\tLoss: 0.366336\n"
          ]
        },
        {
          "output_type": "stream",
          "name": "stderr",
          "text": [
            "Epoch 10:  10%|█         | 81/800 [00:08<01:17,  9.31batch/s, loss=0.49] "
          ]
        },
        {
          "output_type": "stream",
          "name": "stdout",
          "text": [
            "Train Epoch: 10 [8000/80000 (10%)]\tLoss: 0.454227\n"
          ]
        },
        {
          "output_type": "stream",
          "name": "stderr",
          "text": [
            "Epoch 10:  11%|█▏        | 91/800 [00:09<01:15,  9.34batch/s, loss=0.493]"
          ]
        },
        {
          "output_type": "stream",
          "name": "stdout",
          "text": [
            "Train Epoch: 10 [9000/80000 (11%)]\tLoss: 0.486607\n"
          ]
        },
        {
          "output_type": "stream",
          "name": "stderr",
          "text": [
            "Epoch 10:  13%|█▎        | 101/800 [00:10<01:16,  9.17batch/s, loss=0.46] "
          ]
        },
        {
          "output_type": "stream",
          "name": "stdout",
          "text": [
            "Train Epoch: 10 [10000/80000 (12%)]\tLoss: 0.475590\n"
          ]
        },
        {
          "output_type": "stream",
          "name": "stderr",
          "text": [
            "Epoch 10:  14%|█▍        | 111/800 [00:11<01:13,  9.33batch/s, loss=0.407]"
          ]
        },
        {
          "output_type": "stream",
          "name": "stdout",
          "text": [
            "Train Epoch: 10 [11000/80000 (14%)]\tLoss: 0.508847\n"
          ]
        },
        {
          "output_type": "stream",
          "name": "stderr",
          "text": [
            "Epoch 10:  15%|█▌        | 121/800 [00:13<01:13,  9.24batch/s, loss=0.338]"
          ]
        },
        {
          "output_type": "stream",
          "name": "stdout",
          "text": [
            "Train Epoch: 10 [12000/80000 (15%)]\tLoss: 0.460584\n"
          ]
        },
        {
          "output_type": "stream",
          "name": "stderr",
          "text": [
            "Epoch 10:  16%|█▋        | 131/800 [00:14<01:12,  9.29batch/s, loss=0.468]"
          ]
        },
        {
          "output_type": "stream",
          "name": "stdout",
          "text": [
            "Train Epoch: 10 [13000/80000 (16%)]\tLoss: 0.433494\n"
          ]
        },
        {
          "output_type": "stream",
          "name": "stderr",
          "text": [
            "Epoch 10:  18%|█▊        | 141/800 [00:15<01:10,  9.32batch/s, loss=0.416]"
          ]
        },
        {
          "output_type": "stream",
          "name": "stdout",
          "text": [
            "Train Epoch: 10 [14000/80000 (18%)]\tLoss: 0.433255\n"
          ]
        },
        {
          "output_type": "stream",
          "name": "stderr",
          "text": [
            "Epoch 10:  19%|█▉        | 151/800 [00:16<01:09,  9.29batch/s, loss=0.44] "
          ]
        },
        {
          "output_type": "stream",
          "name": "stdout",
          "text": [
            "Train Epoch: 10 [15000/80000 (19%)]\tLoss: 0.461223\n"
          ]
        },
        {
          "output_type": "stream",
          "name": "stderr",
          "text": [
            "Epoch 10:  20%|██        | 161/800 [00:17<01:08,  9.29batch/s, loss=0.483]"
          ]
        },
        {
          "output_type": "stream",
          "name": "stdout",
          "text": [
            "Train Epoch: 10 [16000/80000 (20%)]\tLoss: 0.435434\n"
          ]
        },
        {
          "output_type": "stream",
          "name": "stderr",
          "text": [
            "Epoch 10:  21%|██▏       | 171/800 [00:18<01:07,  9.30batch/s, loss=0.437]"
          ]
        },
        {
          "output_type": "stream",
          "name": "stdout",
          "text": [
            "Train Epoch: 10 [17000/80000 (21%)]\tLoss: 0.418833\n"
          ]
        },
        {
          "output_type": "stream",
          "name": "stderr",
          "text": [
            "Epoch 10:  23%|██▎       | 181/800 [00:19<01:06,  9.32batch/s, loss=0.416]"
          ]
        },
        {
          "output_type": "stream",
          "name": "stdout",
          "text": [
            "Train Epoch: 10 [18000/80000 (22%)]\tLoss: 0.414973\n"
          ]
        },
        {
          "output_type": "stream",
          "name": "stderr",
          "text": [
            "Epoch 10:  24%|██▍       | 191/800 [00:20<01:05,  9.29batch/s, loss=0.459]"
          ]
        },
        {
          "output_type": "stream",
          "name": "stdout",
          "text": [
            "Train Epoch: 10 [19000/80000 (24%)]\tLoss: 0.422634\n"
          ]
        },
        {
          "output_type": "stream",
          "name": "stderr",
          "text": [
            "Epoch 10:  25%|██▌       | 201/800 [00:21<01:04,  9.32batch/s, loss=0.382]"
          ]
        },
        {
          "output_type": "stream",
          "name": "stdout",
          "text": [
            "Train Epoch: 10 [20000/80000 (25%)]\tLoss: 0.430453\n"
          ]
        },
        {
          "output_type": "stream",
          "name": "stderr",
          "text": [
            "Epoch 10:  26%|██▋       | 211/800 [00:22<01:03,  9.30batch/s, loss=0.38] "
          ]
        },
        {
          "output_type": "stream",
          "name": "stdout",
          "text": [
            "Train Epoch: 10 [21000/80000 (26%)]\tLoss: 0.451736\n"
          ]
        },
        {
          "output_type": "stream",
          "name": "stderr",
          "text": [
            "Epoch 10:  28%|██▊       | 221/800 [00:23<01:02,  9.30batch/s, loss=0.416]"
          ]
        },
        {
          "output_type": "stream",
          "name": "stdout",
          "text": [
            "Train Epoch: 10 [22000/80000 (28%)]\tLoss: 0.366221\n"
          ]
        },
        {
          "output_type": "stream",
          "name": "stderr",
          "text": [
            "Epoch 10:  29%|██▉       | 231/800 [00:24<01:01,  9.28batch/s, loss=0.408]"
          ]
        },
        {
          "output_type": "stream",
          "name": "stdout",
          "text": [
            "Train Epoch: 10 [23000/80000 (29%)]\tLoss: 0.545192\n"
          ]
        },
        {
          "output_type": "stream",
          "name": "stderr",
          "text": [
            "Epoch 10:  30%|███       | 241/800 [00:25<01:00,  9.25batch/s, loss=0.443]"
          ]
        },
        {
          "output_type": "stream",
          "name": "stdout",
          "text": [
            "Train Epoch: 10 [24000/80000 (30%)]\tLoss: 0.455389\n"
          ]
        },
        {
          "output_type": "stream",
          "name": "stderr",
          "text": [
            "Epoch 10:  31%|███▏      | 251/800 [00:26<00:58,  9.31batch/s, loss=0.415]"
          ]
        },
        {
          "output_type": "stream",
          "name": "stdout",
          "text": [
            "Train Epoch: 10 [25000/80000 (31%)]\tLoss: 0.394400\n"
          ]
        },
        {
          "output_type": "stream",
          "name": "stderr",
          "text": [
            "Epoch 10:  33%|███▎      | 261/800 [00:28<00:57,  9.29batch/s, loss=0.478]"
          ]
        },
        {
          "output_type": "stream",
          "name": "stdout",
          "text": [
            "Train Epoch: 10 [26000/80000 (32%)]\tLoss: 0.428222\n"
          ]
        },
        {
          "output_type": "stream",
          "name": "stderr",
          "text": [
            "Epoch 10:  34%|███▍      | 271/800 [00:29<00:56,  9.30batch/s, loss=0.441]"
          ]
        },
        {
          "output_type": "stream",
          "name": "stdout",
          "text": [
            "Train Epoch: 10 [27000/80000 (34%)]\tLoss: 0.486241\n"
          ]
        },
        {
          "output_type": "stream",
          "name": "stderr",
          "text": [
            "Epoch 10:  35%|███▌      | 281/800 [00:30<00:55,  9.31batch/s, loss=0.404]"
          ]
        },
        {
          "output_type": "stream",
          "name": "stdout",
          "text": [
            "Train Epoch: 10 [28000/80000 (35%)]\tLoss: 0.457910\n"
          ]
        },
        {
          "output_type": "stream",
          "name": "stderr",
          "text": [
            "Epoch 10:  36%|███▋      | 291/800 [00:31<00:54,  9.30batch/s, loss=0.427]"
          ]
        },
        {
          "output_type": "stream",
          "name": "stdout",
          "text": [
            "Train Epoch: 10 [29000/80000 (36%)]\tLoss: 0.468745\n"
          ]
        },
        {
          "output_type": "stream",
          "name": "stderr",
          "text": [
            "Epoch 10:  38%|███▊      | 301/800 [00:32<00:53,  9.28batch/s, loss=0.441]"
          ]
        },
        {
          "output_type": "stream",
          "name": "stdout",
          "text": [
            "Train Epoch: 10 [30000/80000 (38%)]\tLoss: 0.516627\n"
          ]
        },
        {
          "output_type": "stream",
          "name": "stderr",
          "text": [
            "Epoch 10:  39%|███▉      | 311/800 [00:33<00:52,  9.34batch/s, loss=0.411]"
          ]
        },
        {
          "output_type": "stream",
          "name": "stdout",
          "text": [
            "Train Epoch: 10 [31000/80000 (39%)]\tLoss: 0.369490\n"
          ]
        },
        {
          "output_type": "stream",
          "name": "stderr",
          "text": [
            "Epoch 10:  40%|████      | 321/800 [00:34<00:51,  9.30batch/s, loss=0.456]"
          ]
        },
        {
          "output_type": "stream",
          "name": "stdout",
          "text": [
            "Train Epoch: 10 [32000/80000 (40%)]\tLoss: 0.442770\n"
          ]
        },
        {
          "output_type": "stream",
          "name": "stderr",
          "text": [
            "Epoch 10:  41%|████▏     | 331/800 [00:35<00:50,  9.27batch/s, loss=0.432]"
          ]
        },
        {
          "output_type": "stream",
          "name": "stdout",
          "text": [
            "Train Epoch: 10 [33000/80000 (41%)]\tLoss: 0.473342\n"
          ]
        },
        {
          "output_type": "stream",
          "name": "stderr",
          "text": [
            "Epoch 10:  43%|████▎     | 341/800 [00:36<00:49,  9.29batch/s, loss=0.522]"
          ]
        },
        {
          "output_type": "stream",
          "name": "stdout",
          "text": [
            "Train Epoch: 10 [34000/80000 (42%)]\tLoss: 0.390442\n"
          ]
        },
        {
          "output_type": "stream",
          "name": "stderr",
          "text": [
            "Epoch 10:  44%|████▍     | 351/800 [00:37<00:48,  9.28batch/s, loss=0.406]"
          ]
        },
        {
          "output_type": "stream",
          "name": "stdout",
          "text": [
            "Train Epoch: 10 [35000/80000 (44%)]\tLoss: 0.431117\n"
          ]
        },
        {
          "output_type": "stream",
          "name": "stderr",
          "text": [
            "Epoch 10:  45%|████▌     | 361/800 [00:38<00:47,  9.33batch/s, loss=0.401]"
          ]
        },
        {
          "output_type": "stream",
          "name": "stdout",
          "text": [
            "Train Epoch: 10 [36000/80000 (45%)]\tLoss: 0.433325\n"
          ]
        },
        {
          "output_type": "stream",
          "name": "stderr",
          "text": [
            "Epoch 10:  46%|████▋     | 371/800 [00:39<00:46,  9.26batch/s, loss=0.457]"
          ]
        },
        {
          "output_type": "stream",
          "name": "stdout",
          "text": [
            "Train Epoch: 10 [37000/80000 (46%)]\tLoss: 0.363248\n"
          ]
        },
        {
          "output_type": "stream",
          "name": "stderr",
          "text": [
            "Epoch 10:  48%|████▊     | 381/800 [00:40<00:45,  9.28batch/s, loss=0.432]"
          ]
        },
        {
          "output_type": "stream",
          "name": "stdout",
          "text": [
            "Train Epoch: 10 [38000/80000 (48%)]\tLoss: 0.532196\n"
          ]
        },
        {
          "output_type": "stream",
          "name": "stderr",
          "text": [
            "Epoch 10:  49%|████▉     | 391/800 [00:42<00:43,  9.32batch/s, loss=0.4]  "
          ]
        },
        {
          "output_type": "stream",
          "name": "stdout",
          "text": [
            "Train Epoch: 10 [39000/80000 (49%)]\tLoss: 0.436912\n"
          ]
        },
        {
          "output_type": "stream",
          "name": "stderr",
          "text": [
            "Epoch 10:  50%|█████     | 401/800 [00:43<00:43,  9.28batch/s, loss=0.538]"
          ]
        },
        {
          "output_type": "stream",
          "name": "stdout",
          "text": [
            "Train Epoch: 10 [40000/80000 (50%)]\tLoss: 0.361966\n"
          ]
        },
        {
          "output_type": "stream",
          "name": "stderr",
          "text": [
            "Epoch 10:  51%|█████▏    | 411/800 [00:44<00:41,  9.33batch/s, loss=0.357]"
          ]
        },
        {
          "output_type": "stream",
          "name": "stdout",
          "text": [
            "Train Epoch: 10 [41000/80000 (51%)]\tLoss: 0.354232\n"
          ]
        },
        {
          "output_type": "stream",
          "name": "stderr",
          "text": [
            "Epoch 10:  53%|█████▎    | 421/800 [00:45<00:40,  9.29batch/s, loss=0.434]"
          ]
        },
        {
          "output_type": "stream",
          "name": "stdout",
          "text": [
            "Train Epoch: 10 [42000/80000 (52%)]\tLoss: 0.385804\n"
          ]
        },
        {
          "output_type": "stream",
          "name": "stderr",
          "text": [
            "Epoch 10:  54%|█████▍    | 431/800 [00:46<00:39,  9.30batch/s, loss=0.462]"
          ]
        },
        {
          "output_type": "stream",
          "name": "stdout",
          "text": [
            "Train Epoch: 10 [43000/80000 (54%)]\tLoss: 0.519449\n"
          ]
        },
        {
          "output_type": "stream",
          "name": "stderr",
          "text": [
            "Epoch 10:  55%|█████▌    | 441/800 [00:47<00:38,  9.31batch/s, loss=0.373]"
          ]
        },
        {
          "output_type": "stream",
          "name": "stdout",
          "text": [
            "Train Epoch: 10 [44000/80000 (55%)]\tLoss: 0.439568\n"
          ]
        },
        {
          "output_type": "stream",
          "name": "stderr",
          "text": [
            "Epoch 10:  56%|█████▋    | 451/800 [00:48<00:37,  9.32batch/s, loss=0.429]"
          ]
        },
        {
          "output_type": "stream",
          "name": "stdout",
          "text": [
            "Train Epoch: 10 [45000/80000 (56%)]\tLoss: 0.408331\n"
          ]
        },
        {
          "output_type": "stream",
          "name": "stderr",
          "text": [
            "Epoch 10:  58%|█████▊    | 461/800 [00:49<00:36,  9.29batch/s, loss=0.432]"
          ]
        },
        {
          "output_type": "stream",
          "name": "stdout",
          "text": [
            "Train Epoch: 10 [46000/80000 (58%)]\tLoss: 0.481969\n"
          ]
        },
        {
          "output_type": "stream",
          "name": "stderr",
          "text": [
            "Epoch 10:  59%|█████▉    | 471/800 [00:50<00:35,  9.25batch/s, loss=0.415]"
          ]
        },
        {
          "output_type": "stream",
          "name": "stdout",
          "text": [
            "Train Epoch: 10 [47000/80000 (59%)]\tLoss: 0.487878\n"
          ]
        },
        {
          "output_type": "stream",
          "name": "stderr",
          "text": [
            "Epoch 10:  60%|██████    | 481/800 [00:51<00:34,  9.30batch/s, loss=0.412]"
          ]
        },
        {
          "output_type": "stream",
          "name": "stdout",
          "text": [
            "Train Epoch: 10 [48000/80000 (60%)]\tLoss: 0.514957\n"
          ]
        },
        {
          "output_type": "stream",
          "name": "stderr",
          "text": [
            "Epoch 10:  61%|██████▏   | 491/800 [00:52<00:33,  9.35batch/s, loss=0.525]"
          ]
        },
        {
          "output_type": "stream",
          "name": "stdout",
          "text": [
            "Train Epoch: 10 [49000/80000 (61%)]\tLoss: 0.417290\n"
          ]
        },
        {
          "output_type": "stream",
          "name": "stderr",
          "text": [
            "Epoch 10:  63%|██████▎   | 501/800 [00:53<00:32,  9.31batch/s, loss=0.463]"
          ]
        },
        {
          "output_type": "stream",
          "name": "stdout",
          "text": [
            "Train Epoch: 10 [50000/80000 (62%)]\tLoss: 0.420318\n"
          ]
        },
        {
          "output_type": "stream",
          "name": "stderr",
          "text": [
            "Epoch 10:  64%|██████▍   | 511/800 [00:54<00:31,  9.29batch/s, loss=0.364]"
          ]
        },
        {
          "output_type": "stream",
          "name": "stdout",
          "text": [
            "Train Epoch: 10 [51000/80000 (64%)]\tLoss: 0.541732\n"
          ]
        },
        {
          "output_type": "stream",
          "name": "stderr",
          "text": [
            "Epoch 10:  65%|██████▌   | 521/800 [00:55<00:29,  9.31batch/s, loss=0.432]"
          ]
        },
        {
          "output_type": "stream",
          "name": "stdout",
          "text": [
            "Train Epoch: 10 [52000/80000 (65%)]\tLoss: 0.482310\n"
          ]
        },
        {
          "output_type": "stream",
          "name": "stderr",
          "text": [
            "Epoch 10:  66%|██████▋   | 531/800 [00:57<00:28,  9.30batch/s, loss=0.532]"
          ]
        },
        {
          "output_type": "stream",
          "name": "stdout",
          "text": [
            "Train Epoch: 10 [53000/80000 (66%)]\tLoss: 0.392436\n"
          ]
        },
        {
          "output_type": "stream",
          "name": "stderr",
          "text": [
            "Epoch 10:  68%|██████▊   | 541/800 [00:58<00:27,  9.33batch/s, loss=0.462]"
          ]
        },
        {
          "output_type": "stream",
          "name": "stdout",
          "text": [
            "Train Epoch: 10 [54000/80000 (68%)]\tLoss: 0.405189\n"
          ]
        },
        {
          "output_type": "stream",
          "name": "stderr",
          "text": [
            "Epoch 10:  69%|██████▉   | 551/800 [00:59<00:26,  9.29batch/s, loss=0.481]"
          ]
        },
        {
          "output_type": "stream",
          "name": "stdout",
          "text": [
            "Train Epoch: 10 [55000/80000 (69%)]\tLoss: 0.454434\n"
          ]
        },
        {
          "output_type": "stream",
          "name": "stderr",
          "text": [
            "Epoch 10:  70%|███████   | 561/800 [01:00<00:25,  9.28batch/s, loss=0.44] "
          ]
        },
        {
          "output_type": "stream",
          "name": "stdout",
          "text": [
            "Train Epoch: 10 [56000/80000 (70%)]\tLoss: 0.372942\n"
          ]
        },
        {
          "output_type": "stream",
          "name": "stderr",
          "text": [
            "Epoch 10:  71%|███████▏  | 571/800 [01:01<00:24,  9.29batch/s, loss=0.572]"
          ]
        },
        {
          "output_type": "stream",
          "name": "stdout",
          "text": [
            "Train Epoch: 10 [57000/80000 (71%)]\tLoss: 0.437546\n"
          ]
        },
        {
          "output_type": "stream",
          "name": "stderr",
          "text": [
            "Epoch 10:  73%|███████▎  | 581/800 [01:02<00:23,  9.27batch/s, loss=0.376]"
          ]
        },
        {
          "output_type": "stream",
          "name": "stdout",
          "text": [
            "Train Epoch: 10 [58000/80000 (72%)]\tLoss: 0.387277\n"
          ]
        },
        {
          "output_type": "stream",
          "name": "stderr",
          "text": [
            "Epoch 10:  74%|███████▍  | 591/800 [01:03<00:22,  9.33batch/s, loss=0.461]"
          ]
        },
        {
          "output_type": "stream",
          "name": "stdout",
          "text": [
            "Train Epoch: 10 [59000/80000 (74%)]\tLoss: 0.646032\n"
          ]
        },
        {
          "output_type": "stream",
          "name": "stderr",
          "text": [
            "Epoch 10:  75%|███████▌  | 601/800 [01:04<00:21,  9.28batch/s, loss=0.515]"
          ]
        },
        {
          "output_type": "stream",
          "name": "stdout",
          "text": [
            "Train Epoch: 10 [60000/80000 (75%)]\tLoss: 0.488281\n"
          ]
        },
        {
          "output_type": "stream",
          "name": "stderr",
          "text": [
            "Epoch 10:  76%|███████▋  | 611/800 [01:05<00:20,  9.23batch/s, loss=0.392]"
          ]
        },
        {
          "output_type": "stream",
          "name": "stdout",
          "text": [
            "Train Epoch: 10 [61000/80000 (76%)]\tLoss: 0.576771\n"
          ]
        },
        {
          "output_type": "stream",
          "name": "stderr",
          "text": [
            "Epoch 10:  78%|███████▊  | 621/800 [01:06<00:19,  9.27batch/s, loss=0.529]"
          ]
        },
        {
          "output_type": "stream",
          "name": "stdout",
          "text": [
            "Train Epoch: 10 [62000/80000 (78%)]\tLoss: 0.367380\n"
          ]
        },
        {
          "output_type": "stream",
          "name": "stderr",
          "text": [
            "Epoch 10:  79%|███████▉  | 631/800 [01:07<00:18,  9.30batch/s, loss=0.424]"
          ]
        },
        {
          "output_type": "stream",
          "name": "stdout",
          "text": [
            "Train Epoch: 10 [63000/80000 (79%)]\tLoss: 0.468663\n"
          ]
        },
        {
          "output_type": "stream",
          "name": "stderr",
          "text": [
            "Epoch 10:  80%|████████  | 641/800 [01:08<00:17,  9.29batch/s, loss=0.457]"
          ]
        },
        {
          "output_type": "stream",
          "name": "stdout",
          "text": [
            "Train Epoch: 10 [64000/80000 (80%)]\tLoss: 0.389367\n"
          ]
        },
        {
          "output_type": "stream",
          "name": "stderr",
          "text": [
            "Epoch 10:  81%|████████▏ | 651/800 [01:09<00:15,  9.31batch/s, loss=0.545]"
          ]
        },
        {
          "output_type": "stream",
          "name": "stdout",
          "text": [
            "Train Epoch: 10 [65000/80000 (81%)]\tLoss: 0.409179\n"
          ]
        },
        {
          "output_type": "stream",
          "name": "stderr",
          "text": [
            "Epoch 10:  83%|████████▎ | 661/800 [01:11<00:14,  9.30batch/s, loss=0.447]"
          ]
        },
        {
          "output_type": "stream",
          "name": "stdout",
          "text": [
            "Train Epoch: 10 [66000/80000 (82%)]\tLoss: 0.439762\n"
          ]
        },
        {
          "output_type": "stream",
          "name": "stderr",
          "text": [
            "Epoch 10:  84%|████████▍ | 671/800 [01:12<00:13,  9.31batch/s, loss=0.603]"
          ]
        },
        {
          "output_type": "stream",
          "name": "stdout",
          "text": [
            "Train Epoch: 10 [67000/80000 (84%)]\tLoss: 0.472811\n"
          ]
        },
        {
          "output_type": "stream",
          "name": "stderr",
          "text": [
            "Epoch 10:  85%|████████▌ | 681/800 [01:13<00:12,  9.38batch/s, loss=0.524]"
          ]
        },
        {
          "output_type": "stream",
          "name": "stdout",
          "text": [
            "Train Epoch: 10 [68000/80000 (85%)]\tLoss: 0.566577\n"
          ]
        },
        {
          "output_type": "stream",
          "name": "stderr",
          "text": [
            "Epoch 10:  86%|████████▋ | 691/800 [01:14<00:11,  9.35batch/s, loss=0.484]"
          ]
        },
        {
          "output_type": "stream",
          "name": "stdout",
          "text": [
            "Train Epoch: 10 [69000/80000 (86%)]\tLoss: 0.467274\n"
          ]
        },
        {
          "output_type": "stream",
          "name": "stderr",
          "text": [
            "Epoch 10:  88%|████████▊ | 701/800 [01:15<00:10,  9.31batch/s, loss=0.424]"
          ]
        },
        {
          "output_type": "stream",
          "name": "stdout",
          "text": [
            "Train Epoch: 10 [70000/80000 (88%)]\tLoss: 0.500250\n"
          ]
        },
        {
          "output_type": "stream",
          "name": "stderr",
          "text": [
            "Epoch 10:  89%|████████▉ | 711/800 [01:16<00:09,  9.32batch/s, loss=0.518]"
          ]
        },
        {
          "output_type": "stream",
          "name": "stdout",
          "text": [
            "Train Epoch: 10 [71000/80000 (89%)]\tLoss: 0.538176\n"
          ]
        },
        {
          "output_type": "stream",
          "name": "stderr",
          "text": [
            "Epoch 10:  90%|█████████ | 721/800 [01:17<00:08,  9.26batch/s, loss=0.45] "
          ]
        },
        {
          "output_type": "stream",
          "name": "stdout",
          "text": [
            "Train Epoch: 10 [72000/80000 (90%)]\tLoss: 0.496585\n"
          ]
        },
        {
          "output_type": "stream",
          "name": "stderr",
          "text": [
            "Epoch 10:  91%|█████████▏| 731/800 [01:18<00:07,  9.29batch/s, loss=0.418]"
          ]
        },
        {
          "output_type": "stream",
          "name": "stdout",
          "text": [
            "Train Epoch: 10 [73000/80000 (91%)]\tLoss: 0.487442\n"
          ]
        },
        {
          "output_type": "stream",
          "name": "stderr",
          "text": [
            "Epoch 10:  93%|█████████▎| 741/800 [01:19<00:06,  9.26batch/s, loss=0.339]"
          ]
        },
        {
          "output_type": "stream",
          "name": "stdout",
          "text": [
            "Train Epoch: 10 [74000/80000 (92%)]\tLoss: 0.489259\n"
          ]
        },
        {
          "output_type": "stream",
          "name": "stderr",
          "text": [
            "Epoch 10:  94%|█████████▍| 751/800 [01:20<00:05,  9.30batch/s, loss=0.43]"
          ]
        },
        {
          "output_type": "stream",
          "name": "stdout",
          "text": [
            "Train Epoch: 10 [75000/80000 (94%)]\tLoss: 0.410444\n"
          ]
        },
        {
          "output_type": "stream",
          "name": "stderr",
          "text": [
            "Epoch 10:  95%|█████████▌| 761/800 [01:21<00:04,  9.34batch/s, loss=0.404]"
          ]
        },
        {
          "output_type": "stream",
          "name": "stdout",
          "text": [
            "Train Epoch: 10 [76000/80000 (95%)]\tLoss: 0.469713\n"
          ]
        },
        {
          "output_type": "stream",
          "name": "stderr",
          "text": [
            "Epoch 10:  96%|█████████▋| 771/800 [01:22<00:03,  9.35batch/s, loss=0.464]"
          ]
        },
        {
          "output_type": "stream",
          "name": "stdout",
          "text": [
            "Train Epoch: 10 [77000/80000 (96%)]\tLoss: 0.458620\n"
          ]
        },
        {
          "output_type": "stream",
          "name": "stderr",
          "text": [
            "Epoch 10:  98%|█████████▊| 781/800 [01:23<00:02,  9.20batch/s, loss=0.441]"
          ]
        },
        {
          "output_type": "stream",
          "name": "stdout",
          "text": [
            "Train Epoch: 10 [78000/80000 (98%)]\tLoss: 0.401096\n"
          ]
        },
        {
          "output_type": "stream",
          "name": "stderr",
          "text": [
            "Epoch 10:  99%|█████████▉| 791/800 [01:24<00:00,  9.33batch/s, loss=0.631]"
          ]
        },
        {
          "output_type": "stream",
          "name": "stdout",
          "text": [
            "Train Epoch: 10 [79000/80000 (99%)]\tLoss: 0.430344\n"
          ]
        },
        {
          "output_type": "stream",
          "name": "stderr",
          "text": [
            "Epoch 10: 100%|██████████| 800/800 [01:25<00:00,  9.31batch/s, loss=0.461]\n"
          ]
        },
        {
          "output_type": "stream",
          "name": "stdout",
          "text": [
            "\n",
            "Test set: Average loss: 0.4543, Accuracy: 15924/20000 (79.620%)\n",
            "\n"
          ]
        }
      ],
      "source": [
        "import argparse # handles arguments\n",
        "import sys; sys.argv=['']; del sys # required to use parser in jupyter notebooks\n",
        "\n",
        "# Training settings\n",
        "parser = argparse.ArgumentParser(description='PyTorch SUSY Example')\n",
        "parser.add_argument('--dataset_size', type=int, default=100000, metavar='DS',\n",
        "                help='size of data set (default: 100000)')\n",
        "parser.add_argument('--high_level_feats', type=bool, default=None, metavar='HLF',\n",
        "                help='toggles high level features (default: None)')\n",
        "parser.add_argument('--batch-size', type=int, default=100, metavar='N',\n",
        "                help='input batch size for training (default: 64)')\n",
        "parser.add_argument('--test-batch-size', type=int, default=1000, metavar='N',\n",
        "                help='input batch size for testing (default: 1000)')\n",
        "parser.add_argument('--epochs', type=int, default=10, metavar='N',\n",
        "                help='number of epochs to train (default: 10)')\n",
        "parser.add_argument('--lr', type=float, default=0.05, metavar='LR',\n",
        "                help='learning rate (default: 0.02)')\n",
        "parser.add_argument('--momentum', type=float, default=0.8, metavar='M',\n",
        "                help='SGD momentum (default: 0.5)')\n",
        "parser.add_argument('--no-cuda', action='store_true', default=True,\n",
        "                help='disables CUDA training')\n",
        "parser.add_argument('--load_model', action='store_false', default=True,\n",
        "                help='load trained model')\n",
        "parser.add_argument('--seed', type=int, default=2, metavar='S',\n",
        "                help='random seed (default: 1)')\n",
        "parser.add_argument('--log-interval', type=int, default=10, metavar='N',\n",
        "                help='how many batches to wait before logging training status')\n",
        "args = parser.parse_args()\n",
        "\n",
        "\n",
        "\"\"\"\n",
        "# set seed of random number generator\n",
        "torch.manual_seed(args.seed)\n",
        "\n",
        "\n",
        "grid_search(args)\n",
        "\"\"\"\n",
        "\n",
        "#-------- run optimized\n",
        "\n",
        "args.lr = 0.1 \n",
        "args.dataset_size = 100000\n",
        "args.epochs = 10\n",
        "lres, loaded_testdata = run_optimal(args)"
      ]
    },
    {
      "cell_type": "code",
      "source": [
        "#---------- gathering predictions and truth label on test data -------------#\n",
        "\n",
        "#infDNN = lres[4]\n",
        "output_data = lres[4]\n",
        "#print(np.shape(output_data), output_data[3].shape)\n",
        "\n",
        "tmp_logsoft = output_data[0]\n",
        "for i in range(len(output_data)):\n",
        "  if i>0:\n",
        "    tmp_logsoft = torch.cat((tmp_logsoft,output_data[i]))\n",
        "\n",
        "print(tmp_logsoft.shape, tmp_logsoft.dtype)\n",
        "\n",
        "#-------- probabilities of test data \n",
        "prob = torch.exp(tmp_logsoft)\n",
        "print(\"predic prob: \", prob.dtype, prob.shape)\n",
        "\n",
        "#-------- true label of test data \n",
        "\n",
        "\n",
        "tr_label = torch.zeros((args.test_batch_size,1))\n",
        "\n",
        "\n",
        "#print(loaded_testdata) # get labels \n",
        "for i, (data, label) in enumerate(loaded_testdata):\n",
        "  tmpv = label.view((label.shape[0],1)) \n",
        "  if i==0:\n",
        "    tr_label = tmpv\n",
        "\n",
        "  else:\n",
        "    #continue\n",
        "    tr_label = torch.cat((tr_label, tmpv))\n",
        "\n",
        "  #print(tr_label)\n",
        "  #print(i, \"data: \", data.shape, data.dtype, \", labels: \", label.shape, label.dtype)\n",
        "\n",
        "print(\"true labels: \", tr_label.shape)\n",
        "\n"
      ],
      "metadata": {
        "colab": {
          "base_uri": "https://localhost:8080/"
        },
        "id": "ukfBtvaDadr7",
        "outputId": "02bfff26-feca-4576-b8fe-64a11bb74b2d"
      },
      "id": "ukfBtvaDadr7",
      "execution_count": null,
      "outputs": [
        {
          "output_type": "stream",
          "name": "stdout",
          "text": [
            "torch.Size([20000, 2]) torch.float32\n",
            "predic prob:  torch.float32 torch.Size([20000, 2])\n",
            "true labels:  torch.Size([20000, 1])\n"
          ]
        }
      ]
    },
    {
      "cell_type": "code",
      "source": [
        "from sklearn.metrics import roc_auc_score\n",
        "from sklearn import metrics\n",
        "\n",
        "def calculate_roc(pred_prob, true_labels, threshold):\n",
        "  nprob = pred_prob.cpu().numpy()\n",
        "  ntrue = true_labels.cpu().numpy()\n",
        "  ntrue = ntrue.reshape(len(ntrue),)\n",
        "  \n",
        "  nfalse = [not Elem for Elem in ntrue]\n",
        "  nfalse = np.array(nfalse)\n",
        "  nfalse = nfalse.astype(int)\n",
        "\n",
        "  probs = nprob[: ,1]  # index of signal  \n",
        "  #print(np.shape(probs), np.shape(ntrue))\n",
        "\n",
        "  #print(ntrue[: 10], nfalse[: 10], prob[: 10])\n",
        "\n",
        "\n",
        "  mask_true_sig  = [ntrue==1]\n",
        "  mask_true_sig  = mask_true_sig[0].astype(int)\n",
        "  mask_true_bkgd = [ntrue==0]\n",
        "  mask_true_bkgd = mask_true_bkgd[0].astype(int)\n",
        "\n",
        "  N_sig = mask_true_sig.sum()\n",
        "  N_bkgd = mask_true_bkgd.sum()\n",
        "\n",
        "  mask = [probs>threshold]\n",
        "  anti_mask = np.invert(mask)\n",
        "\n",
        "  mask = np.asarray(mask)\n",
        "  anti_mask = np.asarray(anti_mask)\n",
        "\n",
        "  mask = mask.reshape(len(ntrue),)\n",
        "  anti_mask = anti_mask.reshape(len(ntrue),)\n",
        "\n",
        "  \"\"\"\n",
        "  print(\"probs: \", probs)\n",
        "  print(\"mask: \", mask)\n",
        "  print(\"anti_mask:\", anti_mask)\n",
        "  print(\"ntrue: \", ntrue)\n",
        "  print(\"nfalse: \", nfalse)\n",
        "  \"\"\"\n",
        "  #print(\"np.shape(mask), np.shape(ntrue): \", np.shape(mask), np.shape(ntrue))\n",
        "\n",
        "\n",
        "  true_sig    = np.logical_and(mask,ntrue) #element wise\n",
        "  true_bkgd   = np.logical_and(anti_mask,nfalse)\n",
        "\n",
        "  tmp_S_eff = true_sig.sum()/N_sig\n",
        "  tmp_B_rej = true_bkgd.sum()/N_bkgd\n",
        "\n",
        "  #print(np.shape(true_sig), np.shape(true_bkgd))\n",
        "  #print(\"N_sig, N_bkg: \", N_sig, N_bkgd)\n",
        "\n",
        "  return tmp_S_eff, tmp_B_rej\n",
        "\n",
        "\n",
        "\n",
        "Seff, Brej = calculate_roc(prob, tr_label, 0.5)\n",
        "\n",
        "print((\"cut: 0.5 eff(S): {:.2f}, rej(B): {:.2f}: \").format(Seff, Brej))\n",
        "\n",
        "\n",
        "athresh = np.linspace(0.00,1.00,200)\n",
        "\n",
        "veffs = []\n",
        "vrejb = [] \n",
        "\n",
        "for i in range(len(athresh)):\n",
        "  cut = athresh[i]\n",
        "  ts, tb = calculate_roc(prob, tr_label, cut)\n",
        "  #print((\"cut: {:} eff(S): {:} rej(B): {:} \").format(cut, ts, tb))\n",
        "  veffs.append(ts)\n",
        "  vrejb.append(tb)\n",
        " \n",
        "vauc = metrics.auc(veffs, vrejb)\n",
        "\n",
        "\n",
        "plt.figure(figsize=(5,5))\n",
        "plt.plot(veffs, vrejb, label='Model (Area = %0.2f)' % vauc) \n",
        "plt.plot([0, 1], [0, 1],'r--')\n",
        "plt.xlim([0.0, 1.0])\n",
        "plt.ylim([0.0, 1.0])\n",
        "plt.xlabel('Background Rejection') # background rejection \n",
        "plt.ylabel('Signal Efficiency')  # signal efficiency \n",
        "plt.title('Receiver Operating Characteristic')\n",
        "plt.legend(loc=\"lower right\")\n",
        "plt.show()\n",
        "\n"
      ],
      "metadata": {
        "colab": {
          "base_uri": "https://localhost:8080/",
          "height": 367
        },
        "id": "nQkl1fjQlT6Q",
        "outputId": "87b79efc-7b3f-40b4-a4bd-7a985fc65f16"
      },
      "id": "nQkl1fjQlT6Q",
      "execution_count": null,
      "outputs": [
        {
          "output_type": "stream",
          "name": "stdout",
          "text": [
            "cut: 0.5 eff(S): 0.69, rej(B): 0.89: \n"
          ]
        },
        {
          "output_type": "display_data",
          "data": {
            "image/png": "[encoded data removed]",
            "text/plain": [
              "<Figure size 360x360 with 1 Axes>"
            ]
          },
          "metadata": {
            "needs_background": "light"
          }
        }
      ]
    },
    {
      "cell_type": "markdown",
      "source": [
        "### Plot learning curve"
      ],
      "metadata": {
        "id": "l1qbOKN2Lf4X"
      },
      "id": "l1qbOKN2Lf4X"
    },
    {
      "cell_type": "code",
      "source": [
        "def learning_curve(lres):\n",
        "\n",
        "  train_losses = lres[2] \n",
        "  test_losses  = lres[3] \n",
        "\n",
        "  print(np.shape(train_losses), np.shape(test_losses), type(train_losses)) \n",
        "\n",
        "  plt.figure(figsize=(10,5))\n",
        "  plt.title(\"Training and Test Loss\")\n",
        "  plt.plot(test_losses,label=\"test\")\n",
        "  plt.plot(train_losses,label=\"train\")\n",
        "  plt.xlabel(\"iterations\")\n",
        "  plt.ylabel(\"Loss\")\n",
        "  plt.legend()\n",
        "  plt.show()\n",
        "\n",
        "learning_curve(lres)"
      ],
      "metadata": {
        "id": "Rw2KHQo4dvWM",
        "colab": {
          "base_uri": "https://localhost:8080/",
          "height": 367
        },
        "outputId": "0dd901a5-9606-474c-d4a3-8ed07ee98f98"
      },
      "id": "Rw2KHQo4dvWM",
      "execution_count": null,
      "outputs": [
        {
          "output_type": "stream",
          "name": "stdout",
          "text": [
            "(10,) (10,) <class 'numpy.ndarray'>\n"
          ]
        },
        {
          "output_type": "display_data",
          "data": {
            "image/png": "[encoded data removed]",
            "text/plain": [
              "<Figure size 720x360 with 1 Axes>"
            ]
          },
          "metadata": {
            "needs_background": "light"
          }
        }
      ]
    },
    {
      "cell_type": "markdown",
      "source": [
        "### BO --- Tuning Hyperparameters"
      ],
      "metadata": {
        "id": "XDc_3JOgnDuw"
      },
      "id": "XDc_3JOgnDuw"
    },
    {
      "cell_type": "code",
      "source": [
        "!pip install scikit-optimize "
      ],
      "metadata": {
        "colab": {
          "base_uri": "https://localhost:8080/"
        },
        "id": "0XIqwV4YSoPv",
        "outputId": "411fe188-59af-4ad6-aa49-3a8bb21b1d76"
      },
      "id": "0XIqwV4YSoPv",
      "execution_count": null,
      "outputs": [
        {
          "output_type": "stream",
          "name": "stdout",
          "text": [
            "Collecting scikit-optimize\n",
            "  Downloading scikit_optimize-0.9.0-py2.py3-none-any.whl (100 kB)\n",
            "\u001b[?25l\r\u001b[K     |███▎                            | 10 kB 30.4 MB/s eta 0:00:01\r\u001b[K     |██████▌                         | 20 kB 32.2 MB/s eta 0:00:01\r\u001b[K     |█████████▉                      | 30 kB 37.0 MB/s eta 0:00:01\r\u001b[K     |█████████████                   | 40 kB 28.3 MB/s eta 0:00:01\r\u001b[K     |████████████████▍               | 51 kB 18.4 MB/s eta 0:00:01\r\u001b[K     |███████████████████▋            | 61 kB 15.1 MB/s eta 0:00:01\r\u001b[K     |██████████████████████▉         | 71 kB 14.3 MB/s eta 0:00:01\r\u001b[K     |██████████████████████████▏     | 81 kB 15.5 MB/s eta 0:00:01\r\u001b[K     |█████████████████████████████▍  | 92 kB 17.0 MB/s eta 0:00:01\r\u001b[K     |████████████████████████████████| 100 kB 8.1 MB/s \n",
            "\u001b[?25hRequirement already satisfied: scipy>=0.19.1 in /usr/local/lib/python3.7/dist-packages (from scikit-optimize) (1.4.1)\n",
            "Requirement already satisfied: numpy>=1.13.3 in /usr/local/lib/python3.7/dist-packages (from scikit-optimize) (1.19.5)\n",
            "Requirement already satisfied: joblib>=0.11 in /usr/local/lib/python3.7/dist-packages (from scikit-optimize) (1.1.0)\n",
            "Collecting pyaml>=16.9\n",
            "  Downloading pyaml-21.10.1-py2.py3-none-any.whl (24 kB)\n",
            "Requirement already satisfied: scikit-learn>=0.20.0 in /usr/local/lib/python3.7/dist-packages (from scikit-optimize) (1.0.1)\n",
            "Requirement already satisfied: PyYAML in /usr/local/lib/python3.7/dist-packages (from pyaml>=16.9->scikit-optimize) (3.13)\n",
            "Requirement already satisfied: threadpoolctl>=2.0.0 in /usr/local/lib/python3.7/dist-packages (from scikit-learn>=0.20.0->scikit-optimize) (3.0.0)\n",
            "Installing collected packages: pyaml, scikit-optimize\n",
            "Successfully installed pyaml-21.10.1 scikit-optimize-0.9.0\n"
          ]
        }
      ]
    },
    {
      "cell_type": "code",
      "source": [
        "# https://scikit-optimize.github.io/stable/auto_examples/hyperparameter-optimization.html \n",
        "\n",
        "\n",
        "\n",
        "from skopt.space import Real, Integer\n",
        "from skopt.utils import use_named_args\n",
        "from skopt import gp_minimize\n",
        "from sklearn.ensemble import GradientBoostingRegressor\n",
        "\n",
        "def run_BO(args):\n",
        "\n",
        "\n",
        "\n",
        "  train_loader, test_loader = load_data(args)\n",
        "\n",
        "\n",
        "  # The list of hyper-parameters we want to optimize. For each one we define the\n",
        "  # bounds, the corresponding scikit-learn parameter name, as well as how to\n",
        "  # sample values from that dimension (`'log-uniform'` for the learning rate)\n",
        "  # e.g.,\n",
        "  #space  = [#Integer(1, 5, name='max_depth'),\n",
        "            #Real(10**-5, 10**0, \"log-uniform\", name='learning_rate'),\n",
        "            #Integer(1, n_features, name='max_features'),\n",
        "            #Integer(2, 100, name='min_samples_split'),\n",
        "            #Integer(1, 100, name='min_samples_leaf')]\n",
        "\n",
        "\n",
        "  space  = [Real(10**-5, 10**-1, \"log-uniform\", name='learning_rate'),\n",
        "            Integer(100, 2000, \"log-uniform\", name='data_size')] #... change with some more meaningful hyperparameter \n",
        "\n",
        "  # this decorator allows your objective function to receive a the parameters as\n",
        "  # keyword arguments. This is particularly convenient when you want to set\n",
        "  # scikit-learn estimator parameters\n",
        "  @use_named_args(space)\n",
        "  def objective(**params):\n",
        "      #reg.set_params(**params)\n",
        "\n",
        "      print(params)\n",
        "      print(params['learning_rate'])\n",
        "\n",
        "      args.epochs = 2\n",
        "      args.lr = params['learning_rate']\n",
        "      args.dataset_size = params['data_size']\n",
        "      #print((\"lr: {:}, data_size: {:}\").format(params['learning_rate'], params['data_size']))\n",
        "\n",
        "      #test_loss,test_accuracy,ltrain_loss,ltest_loss = evaluate_model(args,train_loader,test_loader)\n",
        "      outl = evaluate_model(args,train_loader,test_loader) \n",
        "      #return test_loss\n",
        "      return outl[0]\n",
        "\n",
        "\n",
        "  res_gp = gp_minimize(objective, space, n_calls=10, random_state=0) \n",
        "\n",
        "  return res_gp \n"
      ],
      "metadata": {
        "id": "LELFefwSnMi6"
      },
      "id": "LELFefwSnMi6",
      "execution_count": null,
      "outputs": []
    },
    {
      "cell_type": "code",
      "source": [
        "resbo = run_BO(args)"
      ],
      "metadata": {
        "colab": {
          "base_uri": "https://localhost:8080/"
        },
        "id": "upNIM7NZSMJ0",
        "outputId": "cf72e2e3-311d-4d67-d6dd-17a521cd2488"
      },
      "id": "upNIM7NZSMJ0",
      "execution_count": null,
      "outputs": [
        {
          "output_type": "stream",
          "name": "stdout",
          "text": [
            "Drive already mounted at /content/gdrive; to attempt to forcibly remount, call drive.mount(\"/content/gdrive\", force_remount=True).\n",
            "Training on 1003 examples\n",
            "Using both high and low level features\n",
            "Testing on 251 examples\n",
            "Using both high and low level features\n",
            "{'learning_rate': 0.0023516813385771862, 'data_size': 1254}\n",
            "0.0023516813385771862\n"
          ]
        },
        {
          "output_type": "stream",
          "name": "stderr",
          "text": [
            "Epoch 1:   0%|          | 0/2 [00:00<?, ?batch/s, loss=0.697]"
          ]
        },
        {
          "output_type": "stream",
          "name": "stdout",
          "text": [
            "Train Epoch: 1 [0/1003 (0%)]\tLoss: 0.697450\n"
          ]
        },
        {
          "output_type": "stream",
          "name": "stderr",
          "text": [
            "Epoch 1: 100%|██████████| 2/2 [00:00<00:00,  8.63batch/s, loss=0.686]\n",
            "/usr/local/lib/python3.7/dist-packages/torch/nn/_reduction.py:42: UserWarning: size_average and reduce args will be deprecated, please use reduction='sum' instead.\n",
            "  warnings.warn(warning.format(ret))\n"
          ]
        },
        {
          "output_type": "stream",
          "name": "stdout",
          "text": [
            "\n",
            "Test set: Average loss: 0.6942, Accuracy: 117/251 (46.614%)\n",
            "\n"
          ]
        },
        {
          "output_type": "stream",
          "name": "stderr",
          "text": [
            "Epoch 2:  50%|█████     | 1/2 [00:00<00:00,  8.18batch/s, loss=0.448]"
          ]
        },
        {
          "output_type": "stream",
          "name": "stdout",
          "text": [
            "Train Epoch: 2 [0/1003 (0%)]\tLoss: 0.708418\n"
          ]
        },
        {
          "output_type": "stream",
          "name": "stderr",
          "text": [
            "Epoch 2: 100%|██████████| 2/2 [00:00<00:00,  8.25batch/s, loss=0.448]\n"
          ]
        },
        {
          "output_type": "stream",
          "name": "stdout",
          "text": [
            "\n",
            "Test set: Average loss: 0.6933, Accuracy: 116/251 (46.215%)\n",
            "\n",
            "{'learning_rate': 0.02702604344019315, 'data_size': 1266}\n",
            "0.02702604344019315\n"
          ]
        },
        {
          "output_type": "stream",
          "name": "stderr",
          "text": [
            "Epoch 1:  50%|█████     | 1/2 [00:00<00:00,  7.98batch/s, loss=0.625]"
          ]
        },
        {
          "output_type": "stream",
          "name": "stdout",
          "text": [
            "Train Epoch: 1 [0/1003 (0%)]\tLoss: 0.702302\n"
          ]
        },
        {
          "output_type": "stream",
          "name": "stderr",
          "text": [
            "Epoch 1: 100%|██████████| 2/2 [00:00<00:00,  8.23batch/s, loss=0.625]\n"
          ]
        },
        {
          "output_type": "stream",
          "name": "stdout",
          "text": [
            "\n",
            "Test set: Average loss: 0.7120, Accuracy: 127/251 (50.598%)\n",
            "\n"
          ]
        },
        {
          "output_type": "stream",
          "name": "stderr",
          "text": [
            "Epoch 2:  50%|█████     | 1/2 [00:00<00:00,  8.36batch/s, loss=0.629]"
          ]
        },
        {
          "output_type": "stream",
          "name": "stdout",
          "text": [
            "Train Epoch: 2 [0/1003 (0%)]\tLoss: 0.701103\n"
          ]
        },
        {
          "output_type": "stream",
          "name": "stderr",
          "text": [
            "Epoch 2: 100%|██████████| 2/2 [00:00<00:00,  8.42batch/s, loss=0.629]\n"
          ]
        },
        {
          "output_type": "stream",
          "name": "stdout",
          "text": [
            "\n",
            "Test set: Average loss: 0.7063, Accuracy: 128/251 (50.996%)\n",
            "\n",
            "{'learning_rate': 0.0031207198770106443, 'data_size': 316}\n",
            "0.0031207198770106443\n"
          ]
        },
        {
          "output_type": "stream",
          "name": "stderr",
          "text": [
            "Epoch 1:  50%|█████     | 1/2 [00:00<00:00,  7.90batch/s, loss=0.73] "
          ]
        },
        {
          "output_type": "stream",
          "name": "stdout",
          "text": [
            "Train Epoch: 1 [0/1003 (0%)]\tLoss: 0.705493\n"
          ]
        },
        {
          "output_type": "stream",
          "name": "stderr",
          "text": [
            "Epoch 1: 100%|██████████| 2/2 [00:00<00:00,  8.29batch/s, loss=0.73]\n"
          ]
        },
        {
          "output_type": "stream",
          "name": "stdout",
          "text": [
            "\n",
            "Test set: Average loss: 0.6925, Accuracy: 122/251 (48.606%)\n",
            "\n"
          ]
        },
        {
          "output_type": "stream",
          "name": "stderr",
          "text": [
            "Epoch 2:  50%|█████     | 1/2 [00:00<00:00,  8.33batch/s, loss=0.784]"
          ]
        },
        {
          "output_type": "stream",
          "name": "stdout",
          "text": [
            "Train Epoch: 2 [0/1003 (0%)]\tLoss: 0.699212\n"
          ]
        },
        {
          "output_type": "stream",
          "name": "stderr",
          "text": [
            "Epoch 2: 100%|██████████| 2/2 [00:00<00:00,  8.47batch/s, loss=0.784]\n"
          ]
        },
        {
          "output_type": "stream",
          "name": "stdout",
          "text": [
            "\n",
            "Test set: Average loss: 0.6916, Accuracy: 120/251 (47.809%)\n",
            "\n",
            "{'learning_rate': 0.00015493103643906704, 'data_size': 119}\n",
            "0.00015493103643906704\n"
          ]
        },
        {
          "output_type": "stream",
          "name": "stderr",
          "text": [
            "Epoch 1:  50%|█████     | 1/2 [00:00<00:00,  8.47batch/s, loss=0.746]"
          ]
        },
        {
          "output_type": "stream",
          "name": "stdout",
          "text": [
            "Train Epoch: 1 [0/1003 (0%)]\tLoss: 0.711355\n"
          ]
        },
        {
          "output_type": "stream",
          "name": "stderr",
          "text": [
            "Epoch 1: 100%|██████████| 2/2 [00:00<00:00,  8.43batch/s, loss=0.746]\n"
          ]
        },
        {
          "output_type": "stream",
          "name": "stdout",
          "text": [
            "\n",
            "Test set: Average loss: 0.6978, Accuracy: 124/251 (49.402%)\n",
            "\n"
          ]
        },
        {
          "output_type": "stream",
          "name": "stderr",
          "text": [
            "Epoch 2:  50%|█████     | 1/2 [00:00<00:00,  8.04batch/s, loss=0.862]"
          ]
        },
        {
          "output_type": "stream",
          "name": "stdout",
          "text": [
            "Train Epoch: 2 [0/1003 (0%)]\tLoss: 0.704777\n"
          ]
        },
        {
          "output_type": "stream",
          "name": "stderr",
          "text": [
            "Epoch 2: 100%|██████████| 2/2 [00:00<00:00,  8.37batch/s, loss=0.862]\n"
          ]
        },
        {
          "output_type": "stream",
          "name": "stdout",
          "text": [
            "\n",
            "Test set: Average loss: 0.6978, Accuracy: 124/251 (49.402%)\n",
            "\n",
            "{'learning_rate': 0.00012320410503562708, 'data_size': 418}\n",
            "0.00012320410503562708\n"
          ]
        },
        {
          "output_type": "stream",
          "name": "stderr",
          "text": [
            "Epoch 1:  50%|█████     | 1/2 [00:00<00:00,  8.16batch/s, loss=0.769]"
          ]
        },
        {
          "output_type": "stream",
          "name": "stdout",
          "text": [
            "Train Epoch: 1 [0/1003 (0%)]\tLoss: 0.706479\n"
          ]
        },
        {
          "output_type": "stream",
          "name": "stderr",
          "text": [
            "Epoch 1: 100%|██████████| 2/2 [00:00<00:00,  8.37batch/s, loss=0.769]\n"
          ]
        },
        {
          "output_type": "stream",
          "name": "stdout",
          "text": [
            "\n",
            "Test set: Average loss: 0.6822, Accuracy: 125/251 (49.801%)\n",
            "\n"
          ]
        },
        {
          "output_type": "stream",
          "name": "stderr",
          "text": [
            "Epoch 2:  50%|█████     | 1/2 [00:00<00:00,  8.19batch/s, loss=0.477]"
          ]
        },
        {
          "output_type": "stream",
          "name": "stdout",
          "text": [
            "Train Epoch: 2 [0/1003 (0%)]\tLoss: 0.696793\n"
          ]
        },
        {
          "output_type": "stream",
          "name": "stderr",
          "text": [
            "Epoch 2: 100%|██████████| 2/2 [00:00<00:00,  8.39batch/s, loss=0.477]\n"
          ]
        },
        {
          "output_type": "stream",
          "name": "stdout",
          "text": [
            "\n",
            "Test set: Average loss: 0.6821, Accuracy: 125/251 (49.801%)\n",
            "\n",
            "{'learning_rate': 0.017728619337514944, 'data_size': 421}\n",
            "0.017728619337514944\n"
          ]
        },
        {
          "output_type": "stream",
          "name": "stderr",
          "text": [
            "Epoch 1:  50%|█████     | 1/2 [00:00<00:00,  8.35batch/s, loss=0.713]"
          ]
        },
        {
          "output_type": "stream",
          "name": "stdout",
          "text": [
            "Train Epoch: 1 [0/1003 (0%)]\tLoss: 0.706036\n"
          ]
        },
        {
          "output_type": "stream",
          "name": "stderr",
          "text": [
            "Epoch 1: 100%|██████████| 2/2 [00:00<00:00,  8.50batch/s, loss=0.713]\n"
          ]
        },
        {
          "output_type": "stream",
          "name": "stdout",
          "text": [
            "\n",
            "Test set: Average loss: 0.6931, Accuracy: 116/251 (46.215%)\n",
            "\n"
          ]
        },
        {
          "output_type": "stream",
          "name": "stderr",
          "text": [
            "Epoch 2:  50%|█████     | 1/2 [00:00<00:00,  8.30batch/s, loss=0.693]"
          ]
        },
        {
          "output_type": "stream",
          "name": "stdout",
          "text": [
            "Train Epoch: 2 [0/1003 (0%)]\tLoss: 0.702767\n"
          ]
        },
        {
          "output_type": "stream",
          "name": "stderr",
          "text": [
            "Epoch 2: 100%|██████████| 2/2 [00:00<00:00,  8.48batch/s, loss=0.693]\n"
          ]
        },
        {
          "output_type": "stream",
          "name": "stdout",
          "text": [
            "\n",
            "Test set: Average loss: 0.7098, Accuracy: 128/251 (50.996%)\n",
            "\n",
            "{'learning_rate': 0.0003725110709391402, 'data_size': 1224}\n",
            "0.0003725110709391402\n"
          ]
        },
        {
          "output_type": "stream",
          "name": "stderr",
          "text": [
            "Epoch 1:  50%|█████     | 1/2 [00:00<00:00,  8.12batch/s, loss=0.693]"
          ]
        },
        {
          "output_type": "stream",
          "name": "stdout",
          "text": [
            "Train Epoch: 1 [0/1003 (0%)]\tLoss: 0.691911\n"
          ]
        },
        {
          "output_type": "stream",
          "name": "stderr",
          "text": [
            "Epoch 1: 100%|██████████| 2/2 [00:00<00:00,  8.33batch/s, loss=0.693]\n"
          ]
        },
        {
          "output_type": "stream",
          "name": "stdout",
          "text": [
            "\n",
            "Test set: Average loss: 0.6865, Accuracy: 142/251 (56.574%)\n",
            "\n"
          ]
        },
        {
          "output_type": "stream",
          "name": "stderr",
          "text": [
            "Epoch 2:  50%|█████     | 1/2 [00:00<00:00,  7.97batch/s, loss=0.593]"
          ]
        },
        {
          "output_type": "stream",
          "name": "stdout",
          "text": [
            "Train Epoch: 2 [0/1003 (0%)]\tLoss: 0.698491\n"
          ]
        },
        {
          "output_type": "stream",
          "name": "stderr",
          "text": [
            "Epoch 2: 100%|██████████| 2/2 [00:00<00:00,  8.25batch/s, loss=0.593]\n"
          ]
        },
        {
          "output_type": "stream",
          "name": "stdout",
          "text": [
            "\n",
            "Test set: Average loss: 0.6864, Accuracy: 141/251 (56.175%)\n",
            "\n",
            "{'learning_rate': 0.00022365810539197545, 'data_size': 697}\n",
            "0.00022365810539197545\n"
          ]
        },
        {
          "output_type": "stream",
          "name": "stderr",
          "text": [
            "Epoch 1:  50%|█████     | 1/2 [00:00<00:00,  8.45batch/s, loss=0.618]"
          ]
        },
        {
          "output_type": "stream",
          "name": "stdout",
          "text": [
            "Train Epoch: 1 [0/1003 (0%)]\tLoss: 0.701276\n"
          ]
        },
        {
          "output_type": "stream",
          "name": "stderr",
          "text": [
            "Epoch 1: 100%|██████████| 2/2 [00:00<00:00,  8.61batch/s, loss=0.618]\n"
          ]
        },
        {
          "output_type": "stream",
          "name": "stdout",
          "text": [
            "\n",
            "Test set: Average loss: 0.7011, Accuracy: 128/251 (50.996%)\n",
            "\n"
          ]
        },
        {
          "output_type": "stream",
          "name": "stderr",
          "text": [
            "Epoch 2:  50%|█████     | 1/2 [00:00<00:00,  7.59batch/s, loss=0.714]"
          ]
        },
        {
          "output_type": "stream",
          "name": "stdout",
          "text": [
            "Train Epoch: 2 [0/1003 (0%)]\tLoss: 0.695933\n"
          ]
        },
        {
          "output_type": "stream",
          "name": "stderr",
          "text": [
            "Epoch 2: 100%|██████████| 2/2 [00:00<00:00,  8.13batch/s, loss=0.714]\n"
          ]
        },
        {
          "output_type": "stream",
          "name": "stdout",
          "text": [
            "\n",
            "Test set: Average loss: 0.7010, Accuracy: 126/251 (50.199%)\n",
            "\n",
            "{'learning_rate': 0.0002971434485724498, 'data_size': 1759}\n",
            "0.0002971434485724498\n"
          ]
        },
        {
          "output_type": "stream",
          "name": "stderr",
          "text": [
            "Epoch 1:  50%|█████     | 1/2 [00:00<00:00,  8.47batch/s, loss=0.747]"
          ]
        },
        {
          "output_type": "stream",
          "name": "stdout",
          "text": [
            "Train Epoch: 1 [0/1003 (0%)]\tLoss: 0.698869\n"
          ]
        },
        {
          "output_type": "stream",
          "name": "stderr",
          "text": [
            "Epoch 1: 100%|██████████| 2/2 [00:00<00:00,  8.68batch/s, loss=0.747]\n"
          ]
        },
        {
          "output_type": "stream",
          "name": "stdout",
          "text": [
            "\n",
            "Test set: Average loss: 0.6950, Accuracy: 128/251 (50.996%)\n",
            "\n"
          ]
        },
        {
          "output_type": "stream",
          "name": "stderr",
          "text": [
            "Epoch 2:  50%|█████     | 1/2 [00:00<00:00,  7.81batch/s, loss=0.786]"
          ]
        },
        {
          "output_type": "stream",
          "name": "stdout",
          "text": [
            "Train Epoch: 2 [0/1003 (0%)]\tLoss: 0.701549\n"
          ]
        },
        {
          "output_type": "stream",
          "name": "stderr",
          "text": [
            "Epoch 2: 100%|██████████| 2/2 [00:00<00:00,  8.29batch/s, loss=0.786]\n"
          ]
        },
        {
          "output_type": "stream",
          "name": "stdout",
          "text": [
            "\n",
            "Test set: Average loss: 0.6949, Accuracy: 127/251 (50.598%)\n",
            "\n",
            "{'learning_rate': 3.642529868570471e-05, 'data_size': 1355}\n",
            "3.642529868570471e-05\n"
          ]
        },
        {
          "output_type": "stream",
          "name": "stderr",
          "text": [
            "Epoch 1:  50%|█████     | 1/2 [00:00<00:00,  7.95batch/s, loss=0.752]"
          ]
        },
        {
          "output_type": "stream",
          "name": "stdout",
          "text": [
            "Train Epoch: 1 [0/1003 (0%)]\tLoss: 0.705041\n"
          ]
        },
        {
          "output_type": "stream",
          "name": "stderr",
          "text": [
            "Epoch 1: 100%|██████████| 2/2 [00:00<00:00,  8.33batch/s, loss=0.752]\n"
          ]
        },
        {
          "output_type": "stream",
          "name": "stdout",
          "text": [
            "\n",
            "Test set: Average loss: 0.6933, Accuracy: 121/251 (48.207%)\n",
            "\n"
          ]
        },
        {
          "output_type": "stream",
          "name": "stderr",
          "text": [
            "Epoch 2:  50%|█████     | 1/2 [00:00<00:00,  8.01batch/s, loss=0.727]"
          ]
        },
        {
          "output_type": "stream",
          "name": "stdout",
          "text": [
            "Train Epoch: 2 [0/1003 (0%)]\tLoss: 0.700006\n"
          ]
        },
        {
          "output_type": "stream",
          "name": "stderr",
          "text": [
            "Epoch 2: 100%|██████████| 2/2 [00:00<00:00,  8.39batch/s, loss=0.727]\n"
          ]
        },
        {
          "output_type": "stream",
          "name": "stdout",
          "text": [
            "\n",
            "Test set: Average loss: 0.6933, Accuracy: 121/251 (48.207%)\n",
            "\n"
          ]
        }
      ]
    },
    {
      "cell_type": "code",
      "source": [
        "# https://scikit-optimize.github.io/stable/auto_examples/hyperparameter-optimization.html \n",
        "\n",
        "from skopt.plots import plot_convergence\n",
        "from skopt.plots import plot_objective\n",
        "from skopt.plots import plot_evaluations\n",
        "\n",
        "#--------------------------------------#\n",
        "#----------- visualization ------------#\n",
        "#--------------------------------------#\n",
        "\n",
        "plot_convergence(resbo)\n",
        "\n",
        "_ = plot_evaluations(resbo)\n",
        "_ = plot_objective(resbo)\n",
        "\n",
        "\n",
        "print((\"Best score= {:.4f}, optimal point: {:}\").format(resbo.fun, resbo.x))\n",
        "#print(resbo)"
      ],
      "metadata": {
        "colab": {
          "base_uri": "https://localhost:8080/",
          "height": 1000
        },
        "id": "926F80hSQXt2",
        "outputId": "49892c18-8b9f-4f23-d53b-bec4002c5aa5"
      },
      "id": "926F80hSQXt2",
      "execution_count": null,
      "outputs": [
        {
          "output_type": "stream",
          "name": "stdout",
          "text": [
            "Best score= 0.6821, optimal point: [0.00012320410503562708, 418]\n"
          ]
        },
        {
          "output_type": "display_data",
          "data": {
            "image/png": "[encoded data removed]",
            "text/plain": [
              "<Figure size 432x288 with 1 Axes>"
            ]
          },
          "metadata": {
            "needs_background": "light"
          }
        },
        {
          "output_type": "display_data",
          "data": {
            "image/png": "[encoded data removed]",
            "text/plain": [
              "<Figure size 288x288 with 4 Axes>"
            ]
          },
          "metadata": {
            "needs_background": "light"
          }
        },
        {
          "output_type": "display_data",
          "data": {
            "image/png": "[encoded data removed]",
            "text/plain": [
              "<Figure size 288x288 with 4 Axes>"
            ]
          },
          "metadata": {
            "needs_background": "light"
          }
        }
      ]
    },
    {
      "cell_type": "markdown",
      "source": [
        "### Inference phase with optimized parameters"
      ],
      "metadata": {
        "id": "TvjFp_i0eqcb"
      },
      "id": "TvjFp_i0eqcb"
    },
    {
      "cell_type": "code",
      "source": [
        "args.epochs = 2\n",
        "args.lr = resbo.x[0]\n",
        "args.dataset_size = resbo.x[1]\n",
        "\n",
        "print(args)\n",
        "\n",
        "#test_loss,test_accuracy,ltrain_loss,ltest_loss = evaluate_model(args,train_loader,test_loader)\n",
        "\n",
        "\n"
      ],
      "metadata": {
        "colab": {
          "base_uri": "https://localhost:8080/"
        },
        "id": "5Mg77PxXe1w_",
        "outputId": "68aa34d9-28d2-41c2-c13b-ddd2578a6afb"
      },
      "id": "5Mg77PxXe1w_",
      "execution_count": null,
      "outputs": [
        {
          "output_type": "stream",
          "name": "stdout",
          "text": [
            "Namespace(batch_size=1000, dataset_size=418, epochs=2, high_level_feats=None, log_interval=10, lr=0.00012320410503562708, momentum=0.8, no_cuda=True, seed=2, test_batch_size=1000)\n"
          ]
        }
      ]
    },
    {
      "cell_type": "markdown",
      "source": [
        "### ROC curve and data selection "
      ],
      "metadata": {
        "id": "2luNgowLp1ag"
      },
      "id": "2luNgowLp1ag"
    },
    {
      "cell_type": "code",
      "source": [
        "# load data \n",
        "\n",
        "#print(np.shape(test_loss))\n",
        "\"\"\"\n",
        "args.dataset_size=100000\n",
        "args.batch_size=int(dataset_size)\n",
        "\n",
        "# load data\n",
        "train_loader, test_loader = load_data(args)\n",
        "\n",
        "\n",
        "#tmpy_prob = DNN.predict_proba(X_test)[:,1] \n",
        "\"\"\""
      ],
      "metadata": {
        "id": "DvHc3dKMp4YW",
        "colab": {
          "base_uri": "https://localhost:8080/",
          "height": 37
        },
        "outputId": "967a742b-58c5-4b07-ae15-230691e79ba7"
      },
      "id": "DvHc3dKMp4YW",
      "execution_count": null,
      "outputs": [
        {
          "output_type": "execute_result",
          "data": {
            "application/vnd.google.colaboratory.intrinsic+json": {
              "type": "string"
            },
            "text/plain": [
              "'\\nargs.dataset_size=100000\\nargs.batch_size=int(dataset_size)\\n\\n# load data\\ntrain_loader, test_loader = load_data(args)\\n\\n\\n#tmpy_prob = DNN.predict_proba(X_test)[:,1] \\n'"
            ]
          },
          "metadata": {},
          "execution_count": 6
        }
      ]
    },
    {
      "cell_type": "code",
      "source": [
        ""
      ],
      "metadata": {
        "id": "nLGeabYaD-Ro"
      },
      "id": "nLGeabYaD-Ro",
      "execution_count": null,
      "outputs": []
    },
    {
      "cell_type": "markdown",
      "source": [
        "### Extract weights of your model"
      ],
      "metadata": {
        "id": "Q5tkrhirVuZE"
      },
      "id": "Q5tkrhirVuZE"
    },
    {
      "cell_type": "code",
      "source": [
        "# https://pytorch.org/tutorials/beginner/saving_loading_models.html\n",
        "\n",
        "# https://stackoverflow.com/questions/56435961/how-to-access-the-network-weights-while-using-pytorch-nn-sequential "
      ],
      "metadata": {
        "id": "Rg44E9ogVw77"
      },
      "id": "Rg44E9ogVw77",
      "execution_count": null,
      "outputs": []
    },
    {
      "cell_type": "code",
      "source": [
        ""
      ],
      "metadata": {
        "id": "KnBL6NV0YDLp"
      },
      "id": "KnBL6NV0YDLp",
      "execution_count": null,
      "outputs": []
    },
    {
      "cell_type": "markdown",
      "source": [
        "### Model Summary\n"
      ],
      "metadata": {
        "id": "zux7ck8T350w"
      },
      "id": "zux7ck8T350w"
    },
    {
      "cell_type": "code",
      "source": [
        "from torchsummary import summary\n",
        "\n",
        "\"\"\"\n",
        "your_model = \n",
        "channels = 1 \n",
        "H = 1\n",
        "W = 18\n",
        "summary(your_model, input_size=(channels, H, W))\n",
        "\"\"\""
      ],
      "metadata": {
        "colab": {
          "base_uri": "https://localhost:8080/",
          "height": 37
        },
        "id": "HmxvL1uk39Ha",
        "outputId": "01c29839-2ca8-4bec-c0a8-ca97bd1e85f9"
      },
      "id": "HmxvL1uk39Ha",
      "execution_count": null,
      "outputs": [
        {
          "output_type": "execute_result",
          "data": {
            "application/vnd.google.colaboratory.intrinsic+json": {
              "type": "string"
            },
            "text/plain": [
              "'\\nyour_model = \\nchannels = 1 \\nH = 1\\nW = 18\\nsummary(your_model, input_size=(channels, H, W))\\n'"
            ]
          },
          "metadata": {},
          "execution_count": 105
        }
      ]
    }
  ],
  "metadata": {
    "kernelspec": {
      "display_name": "Python 3",
      "name": "python3"
    },
    "language_info": {
      "name": "python"
    },
    "colab": {
      "name": "DNN_SUSY_gpu_part2.ipynb",
      "provenance": [],
      "collapsed_sections": []
    },
    "accelerator": "GPU"
  },
  "nbformat": 4,
  "nbformat_minor": 5
}