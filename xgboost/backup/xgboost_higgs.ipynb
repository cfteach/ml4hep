{
 "cells": [
  {
   "cell_type": "markdown",
   "id": "aefbe49d",
   "metadata": {},
   "source": [
    "# Utilizing xgboost on Higgs data"
   ]
  },
  {
   "cell_type": "markdown",
   "id": "33f98413",
   "metadata": {},
   "source": [
    "## Overview\n",
    "\n",
    "In this notebook, we will focus on using Gradient Boosted Trees (in particular XGBoost) to classify a theoretical model with new Higgs bosons, described by [Baldi et al. Nature Communication 2015 and Arxiv:1402.4735](https://arxiv.org/pdf/1402.4735.pdf]). \n",
    "The data set consists of 11M Monte-Carlo samples of signal (gluon fusion producing $gg \\rightarrow H^{0} \\rightarrow W^{\\pm} H^{\\mp} \\rightarrow W^{\\pm} W^{\\mp} h^{0} \\rightarrow W^{\\pm} W^{\\mp} b\\bar{b}$, with $M_{h^{0}} \\sim$ 125.3 GeV, $M_{W} \\sim$ 80.4 GeV) and background (top-quarks $gg \\rightarrow  t\\bar{t} \\rightarrow W^{+} W^{-} b\\bar{b}$) with 21 features. \n",
    "\n",
    "\n",
    "\n",
    "<!---\n",
    "![signal (a) VS background (b)](./images/higgs_dataset.png)\n",
    "--->\n",
    "\n",
    "<img src=\"./images/higgs_dataset.png\" alt=\"drawing\" width=\"400\"/>\n",
    "\n",
    "Simulated events are generated with MADGRAPH event generator assuming 8 TeV collisions of protons at LHC, with showering and hadronization performed by PYTHIA and detector response simulated by DELPHES. \n",
    "We assume as benchmark case $m_{H^{0}} =$ 425 GeV and $m_{H^{\\pm}} =$ 325 GeV. \n",
    "\n",
    "We focus on the semi-leptonic decay mode, in which **only one W boson decays to a lepton and neutrino ($l \\nu$), and the other decays to a pair of jets ($jj$)**, giving the decay product **$l\\nu jj b \\bar{b}$**.\n",
    "\n",
    "\n",
    "We consider data with:\n",
    "\n",
    "- Exactly one electron or muon, with $p_{T} >$ 20 GeV and $|\\eta| <$ 2.5;\n",
    "\n",
    "- at least four jets, each with $p_{T} >$ 20 GeV GeV and $|\\eta| <$ 2.5;\n",
    "\n",
    "- b-tags on at least two of the jets, indicating that they are likely due to b-quarks rather than gluons or lighter quarks\n",
    "\n",
    "\n",
    "In addition we reconstruct the missing transverse momentum in the event and have b-tagging information for each jet. Together, 21 features comprise our low-level feature set.\n",
    "\n",
    "The low-level features show some distinguishing characteristics, but our knowledge of the different interme- diate states of the two processes allows us to construct other features which better capture the differences.\n",
    "\n",
    "We can also check the reconstruction of the invariant mass of:\n",
    "\n",
    "- $W \\rightarrow l\\nu$ gives a peak in the $M_{l\\nu}$ distribution at the known $W$ boson mass, $M_{W}$ ,\n",
    "\n",
    "- $W \\rightarrow jj$ gives a peak in the $M_{jj}$ distribution at $M_{W}$,\n",
    "\n",
    "- $h^{0} \\rightarrow b\\bar{b}$ gives a peak in the $M_{b\\bar{b}}$ distribution at the known Higgs boson mass, $M_{h^{0}}$ ,\n",
    "\n",
    "- $H^{\\pm} \\rightarrow Wh^{0}$ gives a peak in the $M_{Wb\\bar{b}}$ distribution at the assumed $H^{\\pm}$ mass, $M_{H^{\\pm}}$ ,\n",
    "\n",
    "- $H^{0} \\rightarrow WH^{\\pm}$ gives a peak in the $M_{WW b \\bar{b}}$ distribution at the assumed $H^{0}$ mass,at $M_{H^{0}}$\n",
    "\n",
    "\n",
    "Note that the leptonic W boson is reconstructed by combining the lepton with neutrino, whose transverse momentum is deduced from the imbalance of momentum in the final state objects and whose rapidity is set to give $M_{l\\nu}$ closest to $M_{W} =$ 80.4 GeV.\n",
    "\n",
    "In the case of the $t\\bar{t}$ background, we expect:\n",
    "\n",
    "- $W \\rightarrow l \\nu$ gives a peak at $M_{W}$\n",
    "\n",
    "- $W \\rightarrow jj$ gives a peak at $M_{W}$ \n",
    "\n",
    "- $t \\rightarrow Wb$ gives a peak in $M_{l\\nu b}$ and $M_{jj b}$ at $M_{t}$"
   ]
  },
  {
   "cell_type": "code",
   "execution_count": 1,
   "id": "ea1c1c5b",
   "metadata": {},
   "outputs": [],
   "source": [
    "# Load the dataset using pandas and numpy \n",
    "\n",
    "import pandas as pd\n",
    "import numpy as np \n",
    "from sklearn.model_selection import train_test_split  \n"
   ]
  },
  {
   "cell_type": "code",
   "execution_count": null,
   "id": "bfd0a6d3",
   "metadata": {},
   "outputs": [],
   "source": []
  }
 ],
 "metadata": {
  "kernelspec": {
   "display_name": "Python 3 (ipykernel)",
   "language": "python",
   "name": "python3"
  },
  "language_info": {
   "codemirror_mode": {
    "name": "ipython",
    "version": 3
   },
   "file_extension": ".py",
   "mimetype": "text/x-python",
   "name": "python",
   "nbconvert_exporter": "python",
   "pygments_lexer": "ipython3",
   "version": "3.9.2"
  }
 },
 "nbformat": 4,
 "nbformat_minor": 5
}
